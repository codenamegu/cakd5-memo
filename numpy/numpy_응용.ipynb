{
 "cells": [
  {
   "cell_type": "code",
   "execution_count": 2,
   "id": "bb1e478e",
   "metadata": {},
   "outputs": [],
   "source": [
    "import numpy as np"
   ]
  },
  {
   "cell_type": "code",
   "execution_count": 2,
   "id": "246b1857",
   "metadata": {},
   "outputs": [
    {
     "name": "stdout",
     "output_type": "stream",
     "text": [
      "[[7 5 8 3 5]\n",
      " [7 6 8 2 2]\n",
      " [9 2 6 3 1]\n",
      " [2 2 6 6 9]\n",
      " [4 9 7 1 5]]\n"
     ]
    }
   ],
   "source": [
    "arr = np.random.randint(1, 10, size=(5, 5))\n",
    "\n",
    "print(arr)"
   ]
  },
  {
   "cell_type": "code",
   "execution_count": 3,
   "id": "dc7b8121",
   "metadata": {},
   "outputs": [
    {
     "name": "stdout",
     "output_type": "stream",
     "text": [
      "[[7 7 9 2 4]\n",
      " [5 6 2 2 9]\n",
      " [8 8 6 6 7]\n",
      " [3 2 3 6 1]\n",
      " [5 2 1 9 5]]\n",
      "\n",
      "[[7 7 9 2 4]\n",
      " [5 6 2 2 9]\n",
      " [8 8 6 6 7]\n",
      " [3 2 3 6 1]\n",
      " [5 2 1 9 5]]\n"
     ]
    }
   ],
   "source": [
    "# 전치\n",
    "\n",
    "print(arr.T)\n",
    "print()\n",
    "print(np.transpose(arr))"
   ]
  },
  {
   "cell_type": "code",
   "execution_count": 4,
   "id": "05eba6ce",
   "metadata": {},
   "outputs": [
    {
     "name": "stdout",
     "output_type": "stream",
     "text": [
      "[[199 135 206  78  96]\n",
      " [135 150 175  54 102]\n",
      " [206 175 249 101 151]\n",
      " [ 78  54 101  59  81]\n",
      " [ 96 102 151  81 136]]\n"
     ]
    }
   ],
   "source": [
    "# 행렬곱, 내적\n",
    "\n",
    "print(np.dot(arr.T, arr))"
   ]
  },
  {
   "cell_type": "code",
   "execution_count": 5,
   "id": "4fa85ea2",
   "metadata": {},
   "outputs": [
    {
     "name": "stdout",
     "output_type": "stream",
     "text": [
      "[[0 1 2]\n",
      " [3 4 5]] \n",
      "\n",
      "[[0 3]\n",
      " [1 4]\n",
      " [2 5]] \n",
      "\n",
      "[[0 3]\n",
      " [1 4]\n",
      " [2 5]]\n"
     ]
    }
   ],
   "source": [
    "a = np.arange(6).reshape(2, 3)\n",
    "print(a, '\\n')\n",
    "\n",
    "y = np.swapaxes(a, 0, 1) # 0은 2차원(열), 1은 1차원(행)\n",
    "print(y, '\\n')\n",
    "\n",
    "y = a.T\n",
    "y = np.transpose(a)\n",
    "print(y)"
   ]
  },
  {
   "cell_type": "code",
   "execution_count": 6,
   "id": "eec5c8b5",
   "metadata": {},
   "outputs": [
    {
     "name": "stdout",
     "output_type": "stream",
     "text": [
      "[[  1   2   3   4   5   6   7   8   9  10]\n",
      " [ 11  12  13  14  15  16  17  18  19  20]\n",
      " [ 21  22  23  24  25  26  27  28  29  30]\n",
      " [ 31  32  33  34  35  36  37  38  39  40]\n",
      " [ 41  42  43  44  45  46  47  48  49  50]\n",
      " [ 51  52  53  54  55  56  57  58  59  60]\n",
      " [ 61  62  63  64  65  66  67  68  69  70]\n",
      " [ 71  72  73  74  75  76  77  78  79  80]\n",
      " [ 81  82  83  84  85  86  87  88  89  90]\n",
      " [ 91  92  93  94  95  96  97  98  99 100]] <class 'numpy.ndarray'> \n",
      "\n",
      "[[  1   2   3   4   5   6   7   8   9  10]\n",
      " [ 20  19  18  17  16  15  14  13  12  11]\n",
      " [ 21  22  23  24  25  26  27  28  29  30]\n",
      " [ 40  39  38  37  36  35  34  33  32  31]\n",
      " [ 41  42  43  44  45  46  47  48  49  50]\n",
      " [ 60  59  58  57  56  55  54  53  52  51]\n",
      " [ 61  62  63  64  65  66  67  68  69  70]\n",
      " [ 80  79  78  77  76  75  74  73  72  71]\n",
      " [ 81  82  83  84  85  86  87  88  89  90]\n",
      " [100  99  98  97  96  95  94  93  92  91]] <class 'numpy.ndarray'>\n"
     ]
    }
   ],
   "source": [
    "# 1 ~ 100 아래와같이 출력 \n",
    "\n",
    "# [[  1   2   3   4   5   6   7   8   9  10]\n",
    "#  [ 20  19  18  17  16  15  14  13  12  11]\n",
    "#  [ 21  22  23  24  25  26  27  28  29  30]\n",
    "#  [ 40  39  38  37  36  35  34  33  32  31]\n",
    "#  [ 41  42  43  44  45  46  47  48  49  50]\n",
    "#  [ 60  59  58  57  56  55  54  53  52  51]\n",
    "#  [ 61  62  63  64  65  66  67  68  69  70]\n",
    "#  [ 80  79  78  77  76  75  74  73  72  71]\n",
    "#  [ 81  82  83  84  85  86  87  88  89  90]\n",
    "#  [100  99  98  97  96  95  94  93  92  91]] <class 'numpy.ndarray'>\n",
    "\n",
    "\n",
    "arr = np.arange(1, 101).reshape(10,10)\n",
    "arr\n",
    "print(arr, type(arr), '\\n')\n",
    "\n",
    "for i in range(10):\n",
    "    if(i%2!=0):\n",
    "        arr[i]=arr[i][::-1]\n",
    "        \n",
    "print(arr, type(arr))"
   ]
  },
  {
   "cell_type": "code",
   "execution_count": 7,
   "id": "bfa06c5b",
   "metadata": {},
   "outputs": [
    {
     "name": "stdout",
     "output_type": "stream",
     "text": [
      "[[[0 1 2]\n",
      "  [3 4 5]]] (1, 2, 3) \n",
      "\n",
      "[[[0 1 2]]\n",
      "\n",
      " [[3 4 5]]] (2, 1, 3) \n",
      "\n"
     ]
    }
   ],
   "source": [
    "# (0, 1, 2)\n",
    "# 3차원과 2차원을 바꾸는 경우 : (1, 2, 3) -> (2, 1, 3)\n",
    "\n",
    "arr = np.arange(6).reshape(1, 2, 3)\n",
    "print(arr, arr.shape, '\\n')\n",
    "\n",
    "y = np.transpose(arr, (1, 0, 2))\n",
    "print(y, y.shape, '\\n')"
   ]
  },
  {
   "cell_type": "code",
   "execution_count": 8,
   "id": "e6914ace",
   "metadata": {},
   "outputs": [
    {
     "name": "stdout",
     "output_type": "stream",
     "text": [
      "[[[0 1 2]\n",
      "  [3 4 5]]] (1, 2, 3) \n",
      "\n",
      "[[[0]\n",
      "  [1]\n",
      "  [2]]\n",
      "\n",
      " [[3]\n",
      "  [4]\n",
      "  [5]]] (2, 3, 1)\n"
     ]
    }
   ],
   "source": [
    "arr = np.arange(6).reshape(1, 2, 3)\n",
    "print(arr, arr.shape, '\\n')\n",
    "\n",
    "y = np.transpose(arr, (1, 2, 0))\n",
    "print(y, y.shape)"
   ]
  },
  {
   "cell_type": "code",
   "execution_count": 9,
   "id": "1db52c1d",
   "metadata": {},
   "outputs": [
    {
     "name": "stdout",
     "output_type": "stream",
     "text": [
      "[[[ 0  1  2  3]\n",
      "  [ 4  5  6  7]]\n",
      "\n",
      " [[ 8  9 10 11]\n",
      "  [12 13 14 15]]] (2, 2, 4) \n",
      "\n",
      "[[[ 0  1  2  3]\n",
      "  [ 8  9 10 11]]\n",
      "\n",
      " [[ 4  5  6  7]\n",
      "  [12 13 14 15]]] (2, 2, 4)\n"
     ]
    }
   ],
   "source": [
    "# [과제] 아래배열에서 3차원과 2차원을 변경하여 출력(shape 확인)\n",
    "\n",
    "arr = np.arange(16).reshape(2, 2, 4)\n",
    "print(arr, arr.shape, '\\n')\n",
    "\n",
    "y = np.transpose(arr, (1, 0, 2))\n",
    "print(y, y.shape)"
   ]
  },
  {
   "cell_type": "code",
   "execution_count": 17,
   "id": "437e4314",
   "metadata": {},
   "outputs": [
    {
     "name": "stdout",
     "output_type": "stream",
     "text": [
      "[[[ 0  1  2  3]\n",
      "  [ 4  5  6  7]]\n",
      "\n",
      " [[ 8  9 10 11]\n",
      "  [12 13 14 15]]] (2, 2, 4) \n",
      "\n",
      "[[[ 0  4]\n",
      "  [ 1  5]\n",
      "  [ 2  6]\n",
      "  [ 3  7]]\n",
      "\n",
      " [[ 8 12]\n",
      "  [ 9 13]\n",
      "  [10 14]\n",
      "  [11 15]]] (2, 4, 2)\n"
     ]
    }
   ],
   "source": [
    "# [과제] 상기 과제의 arr에서 2차원과 1차원을 변경하여 출력(shape 확인)\n",
    "\n",
    "arr = np.arange(16).reshape(2, 2, 4)\n",
    "print(arr, arr.shape, '\\n')\n",
    "\n",
    "y = np.transpose(arr, (0, 2, 1))\n",
    "print(y, y.shape)"
   ]
  },
  {
   "cell_type": "code",
   "execution_count": 29,
   "id": "d2bc9b4b",
   "metadata": {},
   "outputs": [
    {
     "name": "stdout",
     "output_type": "stream",
     "text": [
      "[[[ 0  1  2  3]\n",
      "  [ 4  5  6  7]]\n",
      "\n",
      " [[ 8  9 10 11]\n",
      "  [12 13 14 15]]] (2, 2, 4) \n",
      "\n",
      "[[[ 0  4]\n",
      "  [ 1  5]\n",
      "  [ 2  6]\n",
      "  [ 3  7]]\n",
      "\n",
      " [[ 8 12]\n",
      "  [ 9 13]\n",
      "  [10 14]\n",
      "  [11 15]]] (2, 4, 2) \n",
      "\n"
     ]
    }
   ],
   "source": [
    "arr = np.arange(16).reshape(2, 2, 4)\n",
    "print(arr, arr.shape, '\\n')\n",
    "arr2 = arr.swapaxes(1, 2) # 두 개의 수만 입력(1차원 2차원)\n",
    "print(arr2, arr2.shape, '\\n')"
   ]
  },
  {
   "cell_type": "code",
   "execution_count": 11,
   "id": "6638eecb",
   "metadata": {},
   "outputs": [
    {
     "name": "stdout",
     "output_type": "stream",
     "text": [
      "[1 2 0]\n",
      "[1 2 0]\n"
     ]
    }
   ],
   "source": [
    "# 나머지를 구할 경우 사용하는 함수\n",
    "\n",
    "value1 = np.array([15, 30, 45])\n",
    "value2 = np.array([2, 7, 9])\n",
    "\n",
    "print(np.mod(value1, value2))\n",
    "print(np.remainder(value1, value2))"
   ]
  },
  {
   "cell_type": "code",
   "execution_count": 12,
   "id": "84ff2b03",
   "metadata": {},
   "outputs": [
    {
     "name": "stdout",
     "output_type": "stream",
     "text": [
      "[1.17647059 0.54054054 1.         0.01      ] \n",
      "\n",
      "[100] \n",
      "\n",
      "[0.01]\n"
     ]
    }
   ],
   "source": [
    "# 각 수의 역수를 구해주는 함수\n",
    "\n",
    "value = np.array([0.85, 1.85, 1, 100])\n",
    "print(np.reciprocal(value), '\\n')\n",
    "\n",
    "value1 = np.array([100], dtype=int)\n",
    "print(value1, '\\n')\n",
    "print(np.reciprocal(value1, dtype=float))"
   ]
  },
  {
   "cell_type": "code",
   "execution_count": 13,
   "id": "c0c59cd0",
   "metadata": {},
   "outputs": [
    {
     "name": "stdout",
     "output_type": "stream",
     "text": [
      "[  4 100 225] \n",
      "\n",
      "[   2  100 3375]\n"
     ]
    }
   ],
   "source": [
    "# 승수의 결과 값을 표시해주는 함수\n",
    "\n",
    "value1 = np.array([2, 10, 15])\n",
    "value2 = np.array([1, 2, 3])\n",
    "\n",
    "print(np.power(value1, 2), '\\n')\n",
    "print(np.power(value1, value2))"
   ]
  },
  {
   "cell_type": "code",
   "execution_count": 14,
   "id": "c7e425b7",
   "metadata": {},
   "outputs": [
    {
     "data": {
      "text/plain": [
       "array([ 1.25978729,  0.23273387,  0.07388661, -0.62021611,  1.33866129,\n",
       "       -0.87010621, -1.63338998, -1.99629706,  1.34791998,  0.24778925])"
      ]
     },
     "execution_count": 14,
     "metadata": {},
     "output_type": "execute_result"
    }
   ],
   "source": [
    "arr = np.random.randn(10)\n",
    "# print(arr.mean(), '\\n')\n",
    "# print(arr.std())\n",
    "arr"
   ]
  },
  {
   "cell_type": "code",
   "execution_count": 15,
   "id": "84b2363b",
   "metadata": {},
   "outputs": [
    {
     "data": {
      "text/plain": [
       "6"
      ]
     },
     "execution_count": 15,
     "metadata": {},
     "output_type": "execute_result"
    }
   ],
   "source": [
    "# 양수인 원소의 개수\n",
    "\n",
    "(arr > 0).sum()"
   ]
  },
  {
   "cell_type": "code",
   "execution_count": 16,
   "id": "530aacb5",
   "metadata": {},
   "outputs": [
    {
     "data": {
      "text/plain": [
       "True"
      ]
     },
     "execution_count": 16,
     "metadata": {},
     "output_type": "execute_result"
    }
   ],
   "source": [
    "# 하나 이상의 값이 True 인지 검사\n",
    "\n",
    "bools = np.array([False, False, True, True])\n",
    "bools.any()"
   ]
  },
  {
   "cell_type": "code",
   "execution_count": 17,
   "id": "181c0a46",
   "metadata": {},
   "outputs": [
    {
     "data": {
      "text/plain": [
       "False"
      ]
     },
     "execution_count": 17,
     "metadata": {},
     "output_type": "execute_result"
    }
   ],
   "source": [
    "# 모든 원소가 True인지 검사\n",
    "bools.all()"
   ]
  },
  {
   "cell_type": "code",
   "execution_count": 18,
   "id": "6f3b57fa",
   "metadata": {},
   "outputs": [
    {
     "name": "stdout",
     "output_type": "stream",
     "text": [
      "[[-0.07968836 -1.5786466   0.59814246 -1.02663955]\n",
      " [-1.39730672  2.85079152 -0.9360571   0.06676773]\n",
      " [ 1.03342592 -0.55567351 -1.20790234 -1.35023439]\n",
      " [ 0.1444684   0.48299131  0.02655231 -0.1339494 ]] \n",
      "\n",
      "[[-2 -2  2 -2]\n",
      " [-2  2 -2  2]\n",
      " [ 2 -2 -2 -2]\n",
      " [ 2  2  2 -2]]\n"
     ]
    }
   ],
   "source": [
    "# 삼항식의 벡터화 버전\n",
    "\n",
    "arr = np.random.randn(4, 4)\n",
    "print(arr, '\\n')\n",
    "print(np.where(arr > 0, 2, -2)) # True면 앞, False면 뒤 적용"
   ]
  },
  {
   "cell_type": "code",
   "execution_count": 19,
   "id": "a362e0d1",
   "metadata": {},
   "outputs": [
    {
     "name": "stdout",
     "output_type": "stream",
     "text": [
      "[[-0.07968836 -1.5786466   2.         -1.02663955]\n",
      " [-1.39730672  2.         -0.9360571   2.        ]\n",
      " [ 2.         -0.55567351 -1.20790234 -1.35023439]\n",
      " [ 2.          2.          2.         -0.1339494 ]]\n"
     ]
    }
   ],
   "source": [
    "# arr의 모든 양수를 2로 바꿀 경우\n",
    "print(np.where(arr>0, 2, arr))"
   ]
  },
  {
   "cell_type": "code",
   "execution_count": 20,
   "id": "57628b63",
   "metadata": {},
   "outputs": [
    {
     "name": "stdout",
     "output_type": "stream",
     "text": [
      "[[1 2 3]\n",
      " [1 2 3]\n",
      " [1 2 3]] \n",
      "\n",
      "[[1 1 1]\n",
      " [2 2 2]\n",
      " [3 3 3]]\n"
     ]
    }
   ],
   "source": [
    "# 두 개의 1차원 배열을 받아서 가능한 모든 (x, y) 짝을 만들 수 있는 2차원 배열 2개 반환\n",
    "\n",
    "x = np.arange(1, 4)\n",
    "y = np.arange(1, 4)\n",
    "\n",
    "xs, ys = np.meshgrid(x, y)\n",
    "print(xs, '\\n')\n",
    "print(ys)"
   ]
  },
  {
   "cell_type": "code",
   "execution_count": 21,
   "id": "bce2d3b7",
   "metadata": {},
   "outputs": [
    {
     "name": "stdout",
     "output_type": "stream",
     "text": [
      "[45 48 65 68 68 10 84 22 37 88] \n",
      "\n",
      "[10 22 37 45 48 65 68 68 84 88] \n",
      "\n",
      "[45 48 65 68 68 10 84 22 37 88]\n"
     ]
    }
   ],
   "source": [
    "# np.sort()\n",
    "\n",
    "np.random.seed(0)\n",
    "arr = np.random.randint(1, 100, size=10)\n",
    "print(arr, '\\n')\n",
    "print(np.sort(arr), '\\n')\n",
    "print(arr) # 원본 값은 바뀌어있지 않음"
   ]
  },
  {
   "cell_type": "code",
   "execution_count": 22,
   "id": "2814567f",
   "metadata": {},
   "outputs": [
    {
     "name": "stdout",
     "output_type": "stream",
     "text": [
      "[10 22 37 45 48 65 68 68 84 88]\n"
     ]
    }
   ],
   "source": [
    "sorted = np.sort(arr) # sort는 기존 데이터를 바꾸진 않으므로 정렬된 데이터가 필요하다면 따로 저장 필요\n",
    "print(sorted)"
   ]
  },
  {
   "cell_type": "code",
   "execution_count": 23,
   "id": "2ce6ff0e",
   "metadata": {},
   "outputs": [
    {
     "name": "stdout",
     "output_type": "stream",
     "text": [
      "[[ 8 12]\n",
      " [ 7  1]] \n",
      "\n",
      "[[ 7  1]\n",
      " [ 8 12]] \n",
      "\n",
      "[[ 8 12]\n",
      " [ 1  7]]\n"
     ]
    }
   ],
   "source": [
    "# 행렬이 2차원 이상일 때 axis 축 값 설정을 통해  행, 열 방향으로 정렬 수행\n",
    "\n",
    "arr2d = np.array([[8, 12], [7, 1]])\n",
    "print(arr2d, '\\n')\n",
    "sort_ar2d_axis0 = np.sort(arr2d, axis=0)\n",
    "print(sort_ar2d_axis0, '\\n')\n",
    "sort_ar2d_axis1 = np.sort(arr2d, axis=1)\n",
    "print(sort_ar2d_axis1)"
   ]
  },
  {
   "cell_type": "code",
   "execution_count": 24,
   "id": "dca36b1e",
   "metadata": {},
   "outputs": [
    {
     "name": "stdout",
     "output_type": "stream",
     "text": [
      "[6 1 4 4 8 4 6 3 5 8] \n",
      "\n",
      "[1 3 4 4 4 5 6 6 8 8]\n"
     ]
    }
   ],
   "source": [
    "# ndarray.sort(): 원본 반영\n",
    "\n",
    "np.random.seed(0)\n",
    "arr = np.random.randint(1, 10, size=10)\n",
    "print(arr, '\\n')\n",
    "arr.sort() # 정렬 후 원본에 저장\n",
    "print(arr) # 정렬된 원본 출력"
   ]
  },
  {
   "cell_type": "code",
   "execution_count": 25,
   "id": "24097c3b",
   "metadata": {},
   "outputs": [
    {
     "name": "stdout",
     "output_type": "stream",
     "text": [
      "[[6 1 4]\n",
      " [4 8 4]\n",
      " [6 3 5]\n",
      " [8 7 9]\n",
      " [9 2 7]] \n",
      "\n",
      "[[1 4 6]\n",
      " [4 4 8]\n",
      " [3 5 6]\n",
      " [7 8 9]\n",
      " [2 7 9]]\n"
     ]
    }
   ],
   "source": [
    "# 다차원 배열의 정렬은 sort 메소드에 넘긴 축에 따라 1차원 부분을 정렬\n",
    "# 열방향 정렬, default\n",
    "\n",
    "np.random.seed(0)\n",
    "arr = np.random.randint(1, 10, size=(5, 3))\n",
    "print(arr, '\\n')\n",
    "arr.sort(1) # 1 값을 주지 않아도 정렬된 결과값 취득 가능\n",
    "print(arr)"
   ]
  },
  {
   "cell_type": "code",
   "execution_count": 26,
   "id": "b1e9169c",
   "metadata": {},
   "outputs": [
    {
     "name": "stdout",
     "output_type": "stream",
     "text": [
      "[[6 1 4]\n",
      " [4 8 4]\n",
      " [6 3 5]\n",
      " [8 7 9]\n",
      " [9 2 7]] \n",
      "\n",
      "[[4 1 4]\n",
      " [6 2 4]\n",
      " [6 3 5]\n",
      " [8 7 7]\n",
      " [9 8 9]]\n"
     ]
    }
   ],
   "source": [
    "# 행방향 정렬, default\n",
    "\n",
    "np.random.seed(0)\n",
    "arr = np.random.randint(1, 10, size=(5, 3))\n",
    "print(arr, '\\n')\n",
    "arr.sort(0)\n",
    "print(arr)"
   ]
  },
  {
   "cell_type": "code",
   "execution_count": 52,
   "id": "3ae73d6a",
   "metadata": {},
   "outputs": [
    {
     "name": "stdout",
     "output_type": "stream",
     "text": [
      "[3 1 9 5]\n",
      "<class 'numpy.ndarray'>\n"
     ]
    },
    {
     "data": {
      "text/plain": [
       "array([1, 0, 3, 2], dtype=int64)"
      ]
     },
     "execution_count": 52,
     "metadata": {},
     "output_type": "execute_result"
    }
   ],
   "source": [
    "# 정렬된 행렬의 인덱스 반환: 기존 원본 행렬의 원소에 대한 인덱스를 필요로 할 때\n",
    "\n",
    "org_array = np.array([3, 1, 9, 5])\n",
    "sort_indices = np.argsort(org_array)\n",
    "\n",
    "print(org_array)\n",
    "print(type(sort_indices))\n",
    "sort_indices"
   ]
  },
  {
   "cell_type": "code",
   "execution_count": 28,
   "id": "3617289a",
   "metadata": {},
   "outputs": [
    {
     "data": {
      "text/plain": [
       "0.0017985835409833097"
      ]
     },
     "execution_count": 28,
     "metadata": {},
     "output_type": "execute_result"
    }
   ],
   "source": [
    "# 배열에서 정렬한 후 50% 분위수에 해당하는 원소만 출력\n",
    "\n",
    "large_arr = np.random.randn(1000)\n",
    "large_arr.sort()\n",
    "large_arr[int(0.5*len(large_arr))]"
   ]
  },
  {
   "cell_type": "code",
   "execution_count": 53,
   "id": "2442b8db",
   "metadata": {},
   "outputs": [
    {
     "data": {
      "text/plain": [
       "array(['Bob', 'Joe', 'Will'], dtype='<U4')"
      ]
     },
     "execution_count": 53,
     "metadata": {},
     "output_type": "execute_result"
    }
   ],
   "source": [
    "# 배열 집합 연산\n",
    "\n",
    "names = np.array(['Bob', 'Joe', 'Will', 'Joe', 'Joe'])\n",
    "np.unique(names)"
   ]
  },
  {
   "cell_type": "code",
   "execution_count": 59,
   "id": "a797460a",
   "metadata": {},
   "outputs": [
    {
     "name": "stdout",
     "output_type": "stream",
     "text": [
      "['Bob' 'Joe' 'Will']\n"
     ]
    }
   ],
   "source": [
    "print(np.sort(np.unique(names)))"
   ]
  },
  {
   "cell_type": "code",
   "execution_count": 34,
   "id": "95ff19b7",
   "metadata": {},
   "outputs": [
    {
     "data": {
      "text/plain": [
       "array([ True, False, False,  True,  True, False,  True])"
      ]
     },
     "execution_count": 34,
     "metadata": {},
     "output_type": "execute_result"
    }
   ],
   "source": [
    "# 첫 번째 배열의 원소가 두 번째 배열의 원소를 포함하는지 알려ㅈ는 불리언 배열을 반환\n",
    "\n",
    "values = np.array([6, 0, 0, 3, 2, 5, 6])\n",
    "np.in1d(values, [2, 3, 6])"
   ]
  },
  {
   "cell_type": "code",
   "execution_count": 60,
   "id": "373c9a81",
   "metadata": {},
   "outputs": [],
   "source": [
    "# 배열 데이터의 입출력\n",
    "# np.save, np.load는 바이너리 형식 / .npy 파일로 저장\n",
    "\n",
    "arr = np.arange(10)\n",
    "np.save('some_array', arr)"
   ]
  },
  {
   "cell_type": "code",
   "execution_count": 61,
   "id": "a445e962",
   "metadata": {},
   "outputs": [
    {
     "data": {
      "text/plain": [
       "array([0, 1, 2, 3, 4, 5, 6, 7, 8, 9])"
      ]
     },
     "execution_count": 61,
     "metadata": {},
     "output_type": "execute_result"
    }
   ],
   "source": [
    "np.load('some_array.npy')"
   ]
  },
  {
   "cell_type": "code",
   "execution_count": 62,
   "id": "8b0af465",
   "metadata": {},
   "outputs": [],
   "source": [
    "# np.savez: 여러 개의 배열을 압축된 형식으로 저장\n",
    "\n",
    "np.savez('array_archive.npz', a=arr, b=arr)"
   ]
  },
  {
   "cell_type": "code",
   "execution_count": 65,
   "id": "11d7875d",
   "metadata": {},
   "outputs": [
    {
     "data": {
      "text/plain": [
       "array([0, 1, 2, 3, 4, 5, 6, 7, 8, 9])"
      ]
     },
     "execution_count": 65,
     "metadata": {},
     "output_type": "execute_result"
    }
   ],
   "source": [
    "arch = np.load('array_archive.npz')\n",
    "\n",
    "arch['a']"
   ]
  },
  {
   "cell_type": "code",
   "execution_count": 73,
   "id": "1d7bd085",
   "metadata": {},
   "outputs": [
    {
     "name": "stdout",
     "output_type": "stream",
     "text": [
      "[1 0 1 0 1 0 1 0 1 0]\n"
     ]
    }
   ],
   "source": [
    "# 연습문제 - 인덱싱을 사용하여 [1 0 1 0 1 0 1 0 1 0]을 출력\n",
    "\n",
    "a = np.ones(10, dtype=int)\n",
    "for i in range(len(a)):\n",
    "    if i%2!=0:\n",
    "        a[i]=0\n",
    "        \n",
    "print(a)"
   ]
  },
  {
   "cell_type": "code",
   "execution_count": 75,
   "id": "7c4afa4c",
   "metadata": {},
   "outputs": [
    {
     "name": "stdout",
     "output_type": "stream",
     "text": [
      "[6 7 8 9]\n"
     ]
    }
   ],
   "source": [
    "# 연습문제 - np.arange(10)에서 [6, 7, 8, 9] 출력\n",
    "\n",
    "a = np.arange(10)\n",
    "print(a[a>5])"
   ]
  },
  {
   "cell_type": "code",
   "execution_count": 86,
   "id": "f4e47db8",
   "metadata": {
    "scrolled": true
   },
   "outputs": [
    {
     "name": "stdout",
     "output_type": "stream",
     "text": [
      "[0 1 2 3 4 5 6 7 8 9]\n",
      "최댓값: 9\n",
      "최솟값: 0\n"
     ]
    }
   ],
   "source": [
    "# 연습문제 - a에서 최대값, 최소값 인덱스 출력\n",
    "\n",
    "a = np.arange(10)\n",
    "print(a)\n",
    "print(f'최댓값: {np.argmax(a)}\\n최솟값: {np.argmin(a)}')"
   ]
  },
  {
   "cell_type": "code",
   "execution_count": 87,
   "id": "51c1cd50",
   "metadata": {},
   "outputs": [
    {
     "name": "stdout",
     "output_type": "stream",
     "text": [
      "[9 8 7 6 5 4 3 2 1 0]\n"
     ]
    },
    {
     "data": {
      "text/plain": [
       "array([9, 8, 7, 6, 5, 4, 3, 2, 1, 0], dtype=int64)"
      ]
     },
     "execution_count": 87,
     "metadata": {},
     "output_type": "execute_result"
    }
   ],
   "source": [
    "# 연습문제 - a에서 인덱스 배열을 역순으로 출력\n",
    "\n",
    "np.argsort(a)[::-1]"
   ]
  },
  {
   "cell_type": "code",
   "execution_count": 92,
   "id": "2c5deac9",
   "metadata": {},
   "outputs": [
    {
     "name": "stdout",
     "output_type": "stream",
     "text": [
      "[[1. 1. 1. 1. 1. 1. 1. 1. 1. 1.]\n",
      " [1. 0. 0. 0. 0. 0. 0. 0. 0. 1.]\n",
      " [1. 0. 0. 0. 0. 0. 0. 0. 0. 1.]\n",
      " [1. 0. 0. 0. 0. 0. 0. 0. 0. 1.]\n",
      " [1. 0. 0. 0. 0. 0. 0. 0. 0. 1.]\n",
      " [1. 0. 0. 0. 0. 0. 0. 0. 0. 1.]\n",
      " [1. 0. 0. 0. 0. 0. 0. 0. 0. 1.]\n",
      " [1. 0. 0. 0. 0. 0. 0. 0. 0. 1.]\n",
      " [1. 0. 0. 0. 0. 0. 0. 0. 0. 1.]\n",
      " [1. 1. 1. 1. 1. 1. 1. 1. 1. 1.]]\n"
     ]
    }
   ],
   "source": [
    "# 연습문제 - np.ones((10, 10))를 아래와 같이 출력\n",
    "\n",
    "# array([[1., 1., 1., 1., 1., 1., 1., 1., 1., 1.],\n",
    "#        [1., 0., 0., 0., 0., 0., 0., 0., 0., 1.],\n",
    "#        [1., 0., 0., 0., 0., 0., 0., 0., 0., 1.],\n",
    "#        [1., 0., 0., 0., 0., 0., 0., 0., 0., 1.],\n",
    "#        [1., 0., 0., 0., 0., 0., 0., 0., 0., 1.],\n",
    "#        [1., 0., 0., 0., 0., 0., 0., 0., 0., 1.],\n",
    "#        [1., 0., 0., 0., 0., 0., 0., 0., 0., 1.],\n",
    "#        [1., 0., 0., 0., 0., 0., 0., 0., 0., 1.],\n",
    "#        [1., 0., 0., 0., 0., 0., 0., 0., 0., 1.],\n",
    "#        [1., 1., 1., 1., 1., 1., 1., 1., 1., 1.]])\n",
    "\n",
    "a = np.ones((10, 10))\n",
    "a[1:9, 1:9]=0\n",
    "print(a)"
   ]
  },
  {
   "cell_type": "code",
   "execution_count": 49,
   "id": "9e6abb7e",
   "metadata": {},
   "outputs": [
    {
     "name": "stdout",
     "output_type": "stream",
     "text": [
      "[1, 5, 3]\n"
     ]
    }
   ],
   "source": [
    "# [도전과제] np.arange(336).reshape(6, 7, 8)에서 100번째 요소의 인덱스\n",
    "\n",
    "arr = np.arange(336).reshape(6, 7, 8)\n",
    "# print(arr)\n",
    "index = []\n",
    "for i in range(3):\n",
    "    index.append(np.where(arr == 99)[i][0])\n",
    "# print(np.where(arr == 99)\n",
    "print(index)"
   ]
  },
  {
   "cell_type": "code",
   "execution_count": 48,
   "id": "993b926e",
   "metadata": {},
   "outputs": [
    {
     "name": "stdout",
     "output_type": "stream",
     "text": [
      "(1, 5, 3)\n"
     ]
    }
   ],
   "source": [
    "arr = np.arange(336).reshape(6,7,8)\n",
    "# print(arr)\n",
    "print(np.unravel_index(99,(6,7,8))) # 해당 요소의 인덱스 값을 튜플로 리턴"
   ]
  },
  {
   "cell_type": "code",
   "execution_count": 138,
   "id": "abb7b1d5",
   "metadata": {
    "scrolled": true
   },
   "outputs": [
    {
     "name": "stdout",
     "output_type": "stream",
     "text": [
      "[[0. 0. 0. 0. 0. 0. 0. 0. 0.]\n",
      " [0. 0. 0. 0. 0. 0. 0. 0. 0.]\n",
      " [0. 0. 1. 1. 1. 1. 1. 0. 0.]\n",
      " [0. 0. 1. 1. 1. 1. 1. 0. 0.]\n",
      " [0. 0. 1. 1. 1. 1. 1. 0. 0.]\n",
      " [0. 0. 1. 1. 1. 1. 1. 0. 0.]\n",
      " [0. 0. 1. 1. 1. 1. 1. 0. 0.]\n",
      " [0. 0. 0. 0. 0. 0. 0. 0. 0.]\n",
      " [0. 0. 0. 0. 0. 0. 0. 0. 0.]]\n"
     ]
    }
   ],
   "source": [
    "# [과제] np.ones((5, 5))를 아래와 같이 출력\n",
    "\n",
    "# array([[0., 0., 0., 0., 0., 0., 0., 0., 0.],\n",
    "#        [0., 0., 0., 0., 0., 0., 0., 0., 0.],\n",
    "#        [0., 0., 1., 1., 1., 1., 1., 0., 0.],\n",
    "#        [0., 0., 1., 1., 1., 1., 1., 0., 0.],\n",
    "#        [0., 0., 1., 1., 1., 1., 1., 0., 0.],\n",
    "#        [0., 0., 1., 1., 1., 1., 1., 0., 0.],\n",
    "#        [0., 0., 1., 1., 1., 1., 1., 0., 0.],\n",
    "#        [0., 0., 0., 0., 0., 0., 0., 0., 0.],\n",
    "#        [0., 0., 0., 0., 0., 0., 0., 0., 0.]])\n",
    "\n",
    "a = np.ones((5, 5))\n",
    "tmp = np.append(np.zeros((2, 5)), a, axis=0)\n",
    "tmp = np.append(tmp, np.zeros((2, 5)),axis=0)\n",
    "tmp = np.append(np.zeros((9, 2)), tmp, axis=1)\n",
    "ret = np.append(tmp, np.zeros((9, 2)), axis=1)\n",
    "\n",
    "print(ret)"
   ]
  },
  {
   "cell_type": "code",
   "execution_count": 33,
   "id": "72f986cd",
   "metadata": {
    "scrolled": true
   },
   "outputs": [
    {
     "name": "stdout",
     "output_type": "stream",
     "text": [
      "[[0. 0. 0. 0. 0. 0. 0. 0. 0.]\n",
      " [0. 0. 0. 0. 0. 0. 0. 0. 0.]\n",
      " [0. 0. 1. 1. 1. 1. 1. 0. 0.]\n",
      " [0. 0. 1. 1. 1. 1. 1. 0. 0.]\n",
      " [0. 0. 1. 1. 1. 1. 1. 0. 0.]\n",
      " [0. 0. 1. 1. 1. 1. 1. 0. 0.]\n",
      " [0. 0. 1. 1. 1. 1. 1. 0. 0.]\n",
      " [0. 0. 0. 0. 0. 0. 0. 0. 0.]\n",
      " [0. 0. 0. 0. 0. 0. 0. 0. 0.]]\n"
     ]
    }
   ],
   "source": [
    "a = np.ones((5, 5))\n",
    "print(np.pad(a, (2, 2)))"
   ]
  },
  {
   "cell_type": "code",
   "execution_count": 34,
   "id": "cba7c1b5",
   "metadata": {},
   "outputs": [
    {
     "name": "stdout",
     "output_type": "stream",
     "text": [
      "[[0. 0. 0. 0. 0. 0. 0. 0. 0.]\n",
      " [0. 0. 0. 0. 0. 0. 0. 0. 0.]\n",
      " [0. 0. 1. 1. 1. 1. 1. 0. 0.]\n",
      " [0. 0. 1. 1. 1. 1. 1. 0. 0.]\n",
      " [0. 0. 1. 1. 1. 1. 1. 0. 0.]\n",
      " [0. 0. 1. 1. 1. 1. 1. 0. 0.]\n",
      " [0. 0. 1. 1. 1. 1. 1. 0. 0.]\n",
      " [0. 0. 0. 0. 0. 0. 0. 0. 0.]\n",
      " [0. 0. 0. 0. 0. 0. 0. 0. 0.]]\n"
     ]
    }
   ],
   "source": [
    "a = np.ones((5, 5))\n",
    "b = np.zeros((9, 9))\n",
    "b[2:7, 2:7] = a\n",
    "print(b)"
   ]
  },
  {
   "cell_type": "code",
   "execution_count": 119,
   "id": "33a21b0e",
   "metadata": {},
   "outputs": [
    {
     "name": "stdout",
     "output_type": "stream",
     "text": [
      "[[0. 1. 0. 1. 0. 1. 0. 1.]\n",
      " [1. 0. 1. 0. 1. 0. 1. 0.]\n",
      " [0. 1. 0. 1. 0. 1. 0. 1.]\n",
      " [1. 0. 1. 0. 1. 0. 1. 0.]\n",
      " [0. 1. 0. 1. 0. 1. 0. 1.]\n",
      " [1. 0. 1. 0. 1. 0. 1. 0.]\n",
      " [0. 1. 0. 1. 0. 1. 0. 1.]\n",
      " [1. 0. 1. 0. 1. 0. 1. 0.]]\n"
     ]
    }
   ],
   "source": [
    "# [과제] np.zeros((8, 8))를 이용해서 아래와 같이 출력(두 가지 방식: 인덱싱, tile함수)\n",
    "\n",
    "# array([[0, 1, 0, 1, 0, 1, 0, 1],\n",
    "#        [1, 0, 1, 0, 1, 0, 1, 0],\n",
    "#        [0, 1, 0, 1, 0, 1, 0, 1],\n",
    "#        [1, 0, 1, 0, 1, 0, 1, 0],\n",
    "#        [0, 1, 0, 1, 0, 1, 0, 1],\n",
    "#        [1, 0, 1, 0, 1, 0, 1, 0],\n",
    "#        [0, 1, 0, 1, 0, 1, 0, 1],\n",
    "#        [1, 0, 1, 0, 1, 0, 1, 0]])\n",
    "\n",
    "a = np.zeros((8,8))\n",
    "for i in range(len(a)):\n",
    "    for j in range(len(a)):\n",
    "        if(i%2!=0):\n",
    "            if(j%2==0):\n",
    "                a[i][j]=1\n",
    "        elif(j%2!=0):\n",
    "            a[i][j]=1\n",
    "print(a)"
   ]
  },
  {
   "cell_type": "code",
   "execution_count": 38,
   "id": "9cc54bc9",
   "metadata": {
    "scrolled": false
   },
   "outputs": [
    {
     "name": "stdout",
     "output_type": "stream",
     "text": [
      "[[0. 1. 0. 1. 0. 1. 0. 1.]\n",
      " [1. 0. 1. 0. 1. 0. 1. 0.]\n",
      " [0. 1. 0. 1. 0. 1. 0. 1.]\n",
      " [1. 0. 1. 0. 1. 0. 1. 0.]\n",
      " [0. 1. 0. 1. 0. 1. 0. 1.]\n",
      " [1. 0. 1. 0. 1. 0. 1. 0.]\n",
      " [0. 1. 0. 1. 0. 1. 0. 1.]\n",
      " [1. 0. 1. 0. 1. 0. 1. 0.]]\n"
     ]
    }
   ],
   "source": [
    "a = np.zeros((8,8))\n",
    "a[[0,2,4,6]] = [0,1,0,1,0,1,0,1]\n",
    "a[[1,3,5,7]] = [1,0,1,0,1,0,1,0]\n",
    "print(a)"
   ]
  },
  {
   "cell_type": "code",
   "execution_count": 41,
   "id": "d42d5c24",
   "metadata": {},
   "outputs": [
    {
     "name": "stdout",
     "output_type": "stream",
     "text": [
      "[[0. 1. 0. 1. 0. 1. 0. 1.]\n",
      " [1. 0. 1. 0. 1. 0. 1. 0.]\n",
      " [0. 1. 0. 1. 0. 1. 0. 1.]\n",
      " [1. 0. 1. 0. 1. 0. 1. 0.]\n",
      " [0. 1. 0. 1. 0. 1. 0. 1.]\n",
      " [1. 0. 1. 0. 1. 0. 1. 0.]\n",
      " [0. 1. 0. 1. 0. 1. 0. 1.]\n",
      " [1. 0. 1. 0. 1. 0. 1. 0.]]\n"
     ]
    }
   ],
   "source": [
    "a = np.array([[0,1],[1,0]])\n",
    "b = np.tile(a,(4,4))\n",
    "# print(b)\n",
    "x = np.zeros((8,8))\n",
    "x[::2,1::2] = 1\n",
    "x[1::2,::2] = 1\n",
    "print(x)"
   ]
  },
  {
   "cell_type": "code",
   "execution_count": 56,
   "id": "c30bd7ba",
   "metadata": {
    "scrolled": false
   },
   "outputs": [
    {
     "name": "stdout",
     "output_type": "stream",
     "text": [
      "[[0 0 0 0 0]\n",
      " [1 0 0 0 0]\n",
      " [0 2 0 0 0]\n",
      " [0 0 3 0 0]\n",
      " [0 0 0 4 0]]\n"
     ]
    }
   ],
   "source": [
    "# [도전과제] np.arange(4)를 이용해서 아래와 같이 출력\n",
    "\n",
    "# array([[0, 0, 0, 0, 0],\n",
    "#        [1, 0, 0, 0, 0],\n",
    "#        [0, 2, 0, 0, 0],\n",
    "#        [0, 0, 3, 0, 0],\n",
    "#        [0, 0, 0, 4, 0]])\n",
    "\n",
    "arr = np.arange(4)\n",
    "ret = np.diag(arr, -1) # 뒤의 정수가 무엇이냐에 따라 크기가 달라짐(- > 위쪽으로 추가 / + > 왼쪽으로 추가)\n",
    "for i in range(1, 5):\n",
    "    for j in range(5):\n",
    "        if i-1==j:\n",
    "            ret[i][j]+=1\n",
    "print(ret)"
   ]
  },
  {
   "cell_type": "code",
   "execution_count": 50,
   "id": "fc67db22",
   "metadata": {},
   "outputs": [
    {
     "name": "stdout",
     "output_type": "stream",
     "text": [
      "[[0. 0. 0. 0. 0.]\n",
      " [1. 0. 0. 0. 0.]\n",
      " [0. 2. 0. 0. 0.]\n",
      " [0. 0. 3. 0. 0.]\n",
      " [0. 0. 0. 4. 0.]]\n"
     ]
    }
   ],
   "source": [
    "zero = np.zeros((5, 5))\n",
    "a = np.arange(4)\n",
    "\n",
    "for i in range(4):\n",
    "    zero[i + 1, i] = a[i] + 1\n",
    "    \n",
    "print(zero)"
   ]
  },
  {
   "cell_type": "markdown",
   "id": "6b08bc40",
   "metadata": {},
   "source": [
    "[ 파이썬 random 함수 ]"
   ]
  },
  {
   "cell_type": "code",
   "execution_count": 193,
   "id": "b37abb37",
   "metadata": {
    "scrolled": true
   },
   "outputs": [
    {
     "name": "stdout",
     "output_type": "stream",
     "text": [
      "0.48027052236111745 \n",
      "\n",
      "9 \n",
      "\n",
      "17.863335158369686 \n",
      "\n",
      "1 \n",
      "\n",
      "4 \n",
      "\n",
      "[4, 2, 5] \n",
      "\n",
      "[1, 4, 3, 5, 2]\n"
     ]
    }
   ],
   "source": [
    "import random\n",
    "\n",
    "print(random.random(), '\\n') # 0.0 <= x < 1.0\n",
    "print(random.randint(1, 10), '\\n') # 1에서 10 사이의 정수 중에서 난수 값\n",
    "print(random.uniform(10, 20), '\\n') # min max 사이 float\n",
    "print(random.randrange(10), '\\n') # 지정 범위 내 int\n",
    "print(random.choice([1, 2, 3, 4, 5]), '\\n') # 리스트 내부에 있는 요소를 랜덤하게 선택\n",
    "\n",
    "li = [1, 2, 3, 4, 5]\n",
    "print(random.sample(li, 3), '\\n') # 리스트 요소를 중복 없이 3개 리턴\n",
    "random.shuffle(li) # 리스트 요소를 랜덤하게 섞음\n",
    "print(li)"
   ]
  },
  {
   "cell_type": "markdown",
   "id": "664b20c4",
   "metadata": {},
   "source": [
    "[ numpy random 함수 ]\n",
    "\n",
    "- np.random.seed: seed를 통한 난수 생성\n",
    "- np.random.randint: 정수 난수 1개 생성\n",
    "- np.random.rand: 0부터 1사이의 균일분포에서 난수 매트릭스 배열 생성\n",
    "- np.random.randn: 가우시안 표준 정규분포에서 난수 매트릭스 배열 생성\n",
    "- np.random.shuffle: 기존 데이터의 순서 바꾸기\n",
    "- np.random.choice: 기존 데이터에서 sampling"
   ]
  },
  {
   "cell_type": "code",
   "execution_count": 194,
   "id": "0f84c869",
   "metadata": {},
   "outputs": [
    {
     "name": "stdout",
     "output_type": "stream",
     "text": [
      "2 \n",
      "\n",
      "5 \n",
      "\n",
      "[4 3 1 0 6 6 0 9 8 9] \n",
      "\n",
      "[15 12 19 18 14 14 10 12 15 17] \n",
      "\n",
      "[[17 11 13 12 10]\n",
      " [13 12 12 12 13]\n",
      " [15 11 17 15 13]]\n"
     ]
    }
   ],
   "source": [
    "print(np.random.randint(6), '\\n') # 0 ~ 5 정수인 난수 1개\n",
    "print(np.random.randint(1, 20), '\\n') # 1 ~ 19 정수인 난수 1개\n",
    "print(np.random.randint(10, size=10), '\\n') # 0 ~ 9 정수인 난수 10개\n",
    "print(np.random.randint(10, 20, size=10), '\\n') # 10 ~ 19 정수인 난수 10개\n",
    "print(np.random.randint(10, 20, size=(3, 5))) # 10 ~ 19 정수인 난수로 이루어진 3행 5열 배열"
   ]
  },
  {
   "cell_type": "code",
   "execution_count": 198,
   "id": "80472091",
   "metadata": {},
   "outputs": [
    {
     "name": "stdout",
     "output_type": "stream",
     "text": [
      "[0.9840303  0.86984807 0.20549913 0.42485264 0.65251435 0.55264587] \n",
      "\n"
     ]
    },
    {
     "data": {
      "text/plain": [
       "0.6148983924366724"
      ]
     },
     "execution_count": 198,
     "metadata": {},
     "output_type": "execute_result"
    }
   ],
   "source": [
    "r = np.random.rand(6) # 0 ~ 1 균일분포\n",
    "print(r, '\\n')\n",
    "r.mean()"
   ]
  },
  {
   "cell_type": "code",
   "execution_count": 200,
   "id": "1732f285",
   "metadata": {},
   "outputs": [
    {
     "data": {
      "text/plain": [
       "0.4332623471745383"
      ]
     },
     "execution_count": 200,
     "metadata": {},
     "output_type": "execute_result"
    }
   ],
   "source": [
    "# 표준 정규분포\n",
    "\n",
    "r= np.random.randn(6)\n",
    "r.mean()"
   ]
  },
  {
   "cell_type": "code",
   "execution_count": 202,
   "id": "edaa5cbc",
   "metadata": {},
   "outputs": [
    {
     "name": "stdout",
     "output_type": "stream",
     "text": [
      "[1 2 3 4 5]\n",
      "[2 1 4 3 5]\n"
     ]
    }
   ],
   "source": [
    "list = np.arange(1, 6)\n",
    "print(list)\n",
    "np.random.shuffle(list)\n",
    "print(list)"
   ]
  },
  {
   "cell_type": "code",
   "execution_count": 211,
   "id": "de063b9f",
   "metadata": {},
   "outputs": [
    {
     "data": {
      "text/plain": [
       "1"
      ]
     },
     "execution_count": 211,
     "metadata": {},
     "output_type": "execute_result"
    }
   ],
   "source": [
    "np.random.choice(list)"
   ]
  },
  {
   "cell_type": "code",
   "execution_count": 213,
   "id": "f127400f",
   "metadata": {},
   "outputs": [
    {
     "name": "stdout",
     "output_type": "stream",
     "text": [
      "[ 2  3  7 11]\n",
      "[3 2 1 2]\n"
     ]
    }
   ],
   "source": [
    "a = np.array([11, 11, 3, 3, 2, 2, 2, 7])\n",
    "index, count = np.unique(a, return_counts=True)\n",
    "print(index)\n",
    "print(count)"
   ]
  },
  {
   "cell_type": "code",
   "execution_count": 214,
   "id": "2688d5f5",
   "metadata": {},
   "outputs": [
    {
     "data": {
      "text/plain": [
       "array([1.60093369, 1.46916985, 1.72531623, 1.09765965, 1.11749159,\n",
       "       1.81322355, 1.10537251, 1.96451082, 1.71263946, 1.52399448])"
      ]
     },
     "execution_count": 214,
     "metadata": {},
     "output_type": "execute_result"
    }
   ],
   "source": [
    "np.random.uniform(1.0, 2.0, 10)"
   ]
  },
  {
   "cell_type": "code",
   "execution_count": 216,
   "id": "f28ec03c",
   "metadata": {},
   "outputs": [
    {
     "name": "stdout",
     "output_type": "stream",
     "text": [
      "[[0.72685103 0.45714962 0.80221578]\n",
      " [0.74353122 0.86629158 0.9274898 ]]\n"
     ]
    }
   ],
   "source": [
    "print(np.random.uniform(0, 1, (2, 3)))"
   ]
  },
  {
   "cell_type": "code",
   "execution_count": 215,
   "id": "4386a6f8",
   "metadata": {},
   "outputs": [
    {
     "data": {
      "text/plain": [
       "array([[0.88611802, 0.86333012, 0.77542685],\n",
       "       [0.79729286, 0.78149052, 0.56970604]])"
      ]
     },
     "execution_count": 215,
     "metadata": {},
     "output_type": "execute_result"
    }
   ],
   "source": [
    "# 0 ~ 1 난수 실수값으로 이루어진 행렬 생성\n",
    "# uniform 함수의 최소값, 최대값을 각각 0, 1로 지정한 것과 같음(범위 디폴트)\n",
    "\n",
    "np.random.random_sample((2, 3))"
   ]
  },
  {
   "cell_type": "code",
   "execution_count": 217,
   "id": "28e4f79b",
   "metadata": {},
   "outputs": [
    {
     "name": "stdout",
     "output_type": "stream",
     "text": [
      "Requirement already satisfied: pandas in c:\\sw\\anaconda3\\envs\\cakd5\\lib\\site-packages (1.3.4)\n",
      "Requirement already satisfied: numpy>=1.17.3 in c:\\sw\\anaconda3\\envs\\cakd5\\lib\\site-packages (from pandas) (1.21.2)\n",
      "Requirement already satisfied: pytz>=2017.3 in c:\\sw\\anaconda3\\envs\\cakd5\\lib\\site-packages (from pandas) (2021.3)\n",
      "Requirement already satisfied: python-dateutil>=2.7.3 in c:\\sw\\anaconda3\\envs\\cakd5\\lib\\site-packages (from pandas) (2.8.2)\n",
      "Requirement already satisfied: six>=1.5 in c:\\sw\\anaconda3\\envs\\cakd5\\lib\\site-packages (from python-dateutil>=2.7.3->pandas) (1.16.0)\n"
     ]
    }
   ],
   "source": [
    "!pip install pandas"
   ]
  },
  {
   "cell_type": "code",
   "execution_count": 219,
   "id": "fd80956c",
   "metadata": {},
   "outputs": [
    {
     "data": {
      "text/plain": [
       "array([[0.14897487, 0.12274482, 0.96391299, 0.30342126, 0.26668018,\n",
       "        0.7710919 , 0.52831999, 0.87299057],\n",
       "       [0.99985383, 0.08028484, 0.14307842, 0.94310305, 0.21130156,\n",
       "        0.04492978, 0.86036206, 0.07357394],\n",
       "       [0.96184126, 0.76027911, 0.40442232, 0.06511848, 0.7116145 ,\n",
       "        0.56983421, 0.15138565, 0.62734107],\n",
       "       [0.65730101, 0.94541895, 0.45783518, 0.51248838, 0.90853832,\n",
       "        0.24640232, 0.26334652, 0.93011077]])"
      ]
     },
     "execution_count": 219,
     "metadata": {},
     "output_type": "execute_result"
    }
   ],
   "source": [
    "ar = np.random.rand(4, 8)\n",
    "ar"
   ]
  },
  {
   "cell_type": "code",
   "execution_count": 4,
   "id": "128d84ab",
   "metadata": {},
   "outputs": [
    {
     "ename": "NameError",
     "evalue": "name 'ar' is not defined",
     "output_type": "error",
     "traceback": [
      "\u001b[1;31m---------------------------------------------------------------------------\u001b[0m",
      "\u001b[1;31mNameError\u001b[0m                                 Traceback (most recent call last)",
      "\u001b[1;32m~\\AppData\\Local\\Temp/ipykernel_9512/387088800.py\u001b[0m in \u001b[0;36m<module>\u001b[1;34m\u001b[0m\n\u001b[0;32m      3\u001b[0m \u001b[1;32mimport\u001b[0m \u001b[0mpandas\u001b[0m \u001b[1;32mas\u001b[0m \u001b[0mpd\u001b[0m\u001b[1;33m\u001b[0m\u001b[1;33m\u001b[0m\u001b[0m\n\u001b[0;32m      4\u001b[0m \u001b[1;33m\u001b[0m\u001b[0m\n\u001b[1;32m----> 5\u001b[1;33m \u001b[0mdf\u001b[0m \u001b[1;33m=\u001b[0m \u001b[0mpd\u001b[0m\u001b[1;33m.\u001b[0m\u001b[0mDataFrame\u001b[0m\u001b[1;33m(\u001b[0m\u001b[0mar\u001b[0m\u001b[1;33m)\u001b[0m\u001b[1;33m\u001b[0m\u001b[1;33m\u001b[0m\u001b[0m\n\u001b[0m\u001b[0;32m      6\u001b[0m \u001b[0mprint\u001b[0m\u001b[1;33m(\u001b[0m\u001b[0mdf\u001b[0m\u001b[1;33m,\u001b[0m \u001b[0mtype\u001b[0m\u001b[1;33m(\u001b[0m\u001b[0mdf\u001b[0m\u001b[1;33m)\u001b[0m\u001b[1;33m)\u001b[0m\u001b[1;33m\u001b[0m\u001b[1;33m\u001b[0m\u001b[0m\n",
      "\u001b[1;31mNameError\u001b[0m: name 'ar' is not defined"
     ]
    }
   ],
   "source": [
    "# 배열을 데이터프레임으로 변환\n",
    "\n",
    "import pandas as pd\n",
    "\n",
    "df = pd.DataFrame(ar)\n",
    "print(df, type(df))"
   ]
  },
  {
   "cell_type": "code",
   "execution_count": 228,
   "id": "96664de5",
   "metadata": {},
   "outputs": [
    {
     "name": "stdout",
     "output_type": "stream",
     "text": [
      "0    0.148975\n",
      "1    0.999854\n",
      "2    0.961841\n",
      "3    0.657301\n",
      "Name: 0, dtype: float64\n"
     ]
    },
    {
     "data": {
      "text/html": [
       "<div>\n",
       "<style scoped>\n",
       "    .dataframe tbody tr th:only-of-type {\n",
       "        vertical-align: middle;\n",
       "    }\n",
       "\n",
       "    .dataframe tbody tr th {\n",
       "        vertical-align: top;\n",
       "    }\n",
       "\n",
       "    .dataframe thead th {\n",
       "        text-align: right;\n",
       "    }\n",
       "</style>\n",
       "<table border=\"1\" class=\"dataframe\">\n",
       "  <thead>\n",
       "    <tr style=\"text-align: right;\">\n",
       "      <th></th>\n",
       "      <th>0</th>\n",
       "      <th>1</th>\n",
       "      <th>2</th>\n",
       "      <th>3</th>\n",
       "      <th>4</th>\n",
       "      <th>5</th>\n",
       "      <th>6</th>\n",
       "      <th>7</th>\n",
       "    </tr>\n",
       "  </thead>\n",
       "  <tbody>\n",
       "    <tr>\n",
       "      <th>0</th>\n",
       "      <td>0.148975</td>\n",
       "      <td>0.122745</td>\n",
       "      <td>0.963913</td>\n",
       "      <td>0.303421</td>\n",
       "      <td>0.266680</td>\n",
       "      <td>0.771092</td>\n",
       "      <td>0.528320</td>\n",
       "      <td>0.872991</td>\n",
       "    </tr>\n",
       "    <tr>\n",
       "      <th>1</th>\n",
       "      <td>0.999854</td>\n",
       "      <td>0.080285</td>\n",
       "      <td>0.143078</td>\n",
       "      <td>0.943103</td>\n",
       "      <td>0.211302</td>\n",
       "      <td>0.044930</td>\n",
       "      <td>0.860362</td>\n",
       "      <td>0.073574</td>\n",
       "    </tr>\n",
       "    <tr>\n",
       "      <th>2</th>\n",
       "      <td>0.961841</td>\n",
       "      <td>0.760279</td>\n",
       "      <td>0.404422</td>\n",
       "      <td>0.065118</td>\n",
       "      <td>0.711614</td>\n",
       "      <td>0.569834</td>\n",
       "      <td>0.151386</td>\n",
       "      <td>0.627341</td>\n",
       "    </tr>\n",
       "    <tr>\n",
       "      <th>3</th>\n",
       "      <td>0.657301</td>\n",
       "      <td>0.945419</td>\n",
       "      <td>0.457835</td>\n",
       "      <td>0.512488</td>\n",
       "      <td>0.908538</td>\n",
       "      <td>0.246402</td>\n",
       "      <td>0.263347</td>\n",
       "      <td>0.930111</td>\n",
       "    </tr>\n",
       "  </tbody>\n",
       "</table>\n",
       "</div>"
      ],
      "text/plain": [
       "          0         1         2         3         4         5         6  \\\n",
       "0  0.148975  0.122745  0.963913  0.303421  0.266680  0.771092  0.528320   \n",
       "1  0.999854  0.080285  0.143078  0.943103  0.211302  0.044930  0.860362   \n",
       "2  0.961841  0.760279  0.404422  0.065118  0.711614  0.569834  0.151386   \n",
       "3  0.657301  0.945419  0.457835  0.512488  0.908538  0.246402  0.263347   \n",
       "\n",
       "          7  \n",
       "0  0.872991  \n",
       "1  0.073574  \n",
       "2  0.627341  \n",
       "3  0.930111  "
      ]
     },
     "execution_count": 228,
     "metadata": {},
     "output_type": "execute_result"
    }
   ],
   "source": [
    "print(df[0])\n",
    "type(df[0])"
   ]
  },
  {
   "cell_type": "code",
   "execution_count": 226,
   "id": "707a6a6d",
   "metadata": {},
   "outputs": [
    {
     "data": {
      "text/html": [
       "<div>\n",
       "<style scoped>\n",
       "    .dataframe tbody tr th:only-of-type {\n",
       "        vertical-align: middle;\n",
       "    }\n",
       "\n",
       "    .dataframe tbody tr th {\n",
       "        vertical-align: top;\n",
       "    }\n",
       "\n",
       "    .dataframe thead th {\n",
       "        text-align: right;\n",
       "    }\n",
       "</style>\n",
       "<table border=\"1\" class=\"dataframe\">\n",
       "  <thead>\n",
       "    <tr style=\"text-align: right;\">\n",
       "      <th></th>\n",
       "      <th>id</th>\n",
       "      <th>gender</th>\n",
       "      <th>age</th>\n",
       "      <th>region</th>\n",
       "      <th>product</th>\n",
       "      <th>price</th>\n",
       "      <th>qty</th>\n",
       "      <th>time</th>\n",
       "    </tr>\n",
       "  </thead>\n",
       "  <tbody>\n",
       "    <tr>\n",
       "      <th>0</th>\n",
       "      <td>0.148975</td>\n",
       "      <td>0.122745</td>\n",
       "      <td>0.963913</td>\n",
       "      <td>0.303421</td>\n",
       "      <td>0.266680</td>\n",
       "      <td>0.771092</td>\n",
       "      <td>0.528320</td>\n",
       "      <td>0.872991</td>\n",
       "    </tr>\n",
       "    <tr>\n",
       "      <th>1</th>\n",
       "      <td>0.999854</td>\n",
       "      <td>0.080285</td>\n",
       "      <td>0.143078</td>\n",
       "      <td>0.943103</td>\n",
       "      <td>0.211302</td>\n",
       "      <td>0.044930</td>\n",
       "      <td>0.860362</td>\n",
       "      <td>0.073574</td>\n",
       "    </tr>\n",
       "    <tr>\n",
       "      <th>2</th>\n",
       "      <td>0.961841</td>\n",
       "      <td>0.760279</td>\n",
       "      <td>0.404422</td>\n",
       "      <td>0.065118</td>\n",
       "      <td>0.711614</td>\n",
       "      <td>0.569834</td>\n",
       "      <td>0.151386</td>\n",
       "      <td>0.627341</td>\n",
       "    </tr>\n",
       "    <tr>\n",
       "      <th>3</th>\n",
       "      <td>0.657301</td>\n",
       "      <td>0.945419</td>\n",
       "      <td>0.457835</td>\n",
       "      <td>0.512488</td>\n",
       "      <td>0.908538</td>\n",
       "      <td>0.246402</td>\n",
       "      <td>0.263347</td>\n",
       "      <td>0.930111</td>\n",
       "    </tr>\n",
       "  </tbody>\n",
       "</table>\n",
       "</div>"
      ],
      "text/plain": [
       "         id    gender       age    region   product     price       qty  \\\n",
       "0  0.148975  0.122745  0.963913  0.303421  0.266680  0.771092  0.528320   \n",
       "1  0.999854  0.080285  0.143078  0.943103  0.211302  0.044930  0.860362   \n",
       "2  0.961841  0.760279  0.404422  0.065118  0.711614  0.569834  0.151386   \n",
       "3  0.657301  0.945419  0.457835  0.512488  0.908538  0.246402  0.263347   \n",
       "\n",
       "       time  \n",
       "0  0.872991  \n",
       "1  0.073574  \n",
       "2  0.627341  \n",
       "3  0.930111  "
      ]
     },
     "execution_count": 226,
     "metadata": {},
     "output_type": "execute_result"
    }
   ],
   "source": [
    "columns = ['id', 'gender', 'age', 'region', 'product', 'price', 'qty', 'time']\n",
    "index = [np.arange(4)]\n",
    "df = pd.DataFrame(ar, index, columns=columns)\n",
    "df"
   ]
  },
  {
   "cell_type": "code",
   "execution_count": 268,
   "id": "50492b96",
   "metadata": {},
   "outputs": [
    {
     "data": {
      "text/html": [
       "<div>\n",
       "<style scoped>\n",
       "    .dataframe tbody tr th:only-of-type {\n",
       "        vertical-align: middle;\n",
       "    }\n",
       "\n",
       "    .dataframe tbody tr th {\n",
       "        vertical-align: top;\n",
       "    }\n",
       "\n",
       "    .dataframe thead th {\n",
       "        text-align: right;\n",
       "    }\n",
       "</style>\n",
       "<table border=\"1\" class=\"dataframe\">\n",
       "  <thead>\n",
       "    <tr style=\"text-align: right;\">\n",
       "      <th></th>\n",
       "      <th>ID</th>\n",
       "      <th>Gender</th>\n",
       "      <th>Age</th>\n",
       "    </tr>\n",
       "  </thead>\n",
       "  <tbody>\n",
       "    <tr>\n",
       "      <th>1</th>\n",
       "      <td>7668</td>\n",
       "      <td>여</td>\n",
       "      <td>27</td>\n",
       "    </tr>\n",
       "    <tr>\n",
       "      <th>2</th>\n",
       "      <td>3945</td>\n",
       "      <td>여</td>\n",
       "      <td>6</td>\n",
       "    </tr>\n",
       "    <tr>\n",
       "      <th>3</th>\n",
       "      <td>5618</td>\n",
       "      <td>남</td>\n",
       "      <td>0</td>\n",
       "    </tr>\n",
       "  </tbody>\n",
       "</table>\n",
       "</div>"
      ],
      "text/plain": [
       "     ID Gender Age\n",
       "1  7668      여  27\n",
       "2  3945      여   6\n",
       "3  5618      남   0"
      ]
     },
     "execution_count": 268,
     "metadata": {},
     "output_type": "execute_result"
    }
   ],
   "source": [
    "# 연습문제 - id, gender, age 컬럼에 대하여 의미있는 값으로 변환하여 3개의 컬럼으로 구성된 df를 출력\n",
    "\n",
    "columns = ['ID', 'Gender', 'Age']\n",
    "index = [np.arange(1, 4)]\n",
    "\n",
    "id = np.random.randint(1000, 10000, 3).reshape(3, 1)\n",
    "gender = np.random.choice(['남', '여'], size=(3, 1))\n",
    "age = np.random.randint(0, 100, size=(3, 1))\n",
    "\n",
    "data = np.append(id, gender, axis=1)\n",
    "data = np.append(data, age, axis=1)\n",
    "\n",
    "df = pd.DataFrame(data, index, columns=columns)\n",
    "df"
   ]
  },
  {
   "cell_type": "code",
   "execution_count": 265,
   "id": "aa85eeff",
   "metadata": {},
   "outputs": [
    {
     "data": {
      "text/html": [
       "<div>\n",
       "<style scoped>\n",
       "    .dataframe tbody tr th:only-of-type {\n",
       "        vertical-align: middle;\n",
       "    }\n",
       "\n",
       "    .dataframe tbody tr th {\n",
       "        vertical-align: top;\n",
       "    }\n",
       "\n",
       "    .dataframe thead th {\n",
       "        text-align: right;\n",
       "    }\n",
       "</style>\n",
       "<table border=\"1\" class=\"dataframe\">\n",
       "  <thead>\n",
       "    <tr style=\"text-align: right;\">\n",
       "      <th></th>\n",
       "      <th>id</th>\n",
       "      <th>gender</th>\n",
       "      <th>age</th>\n",
       "    </tr>\n",
       "  </thead>\n",
       "  <tbody>\n",
       "    <tr>\n",
       "      <th>1</th>\n",
       "      <td>646.0</td>\n",
       "      <td>1.0</td>\n",
       "      <td>39.0</td>\n",
       "    </tr>\n",
       "    <tr>\n",
       "      <th>2</th>\n",
       "      <td>60.0</td>\n",
       "      <td>1.0</td>\n",
       "      <td>79.0</td>\n",
       "    </tr>\n",
       "    <tr>\n",
       "      <th>3</th>\n",
       "      <td>977.0</td>\n",
       "      <td>0.0</td>\n",
       "      <td>13.0</td>\n",
       "    </tr>\n",
       "    <tr>\n",
       "      <th>4</th>\n",
       "      <td>475.0</td>\n",
       "      <td>0.0</td>\n",
       "      <td>35.0</td>\n",
       "    </tr>\n",
       "    <tr>\n",
       "      <th>5</th>\n",
       "      <td>446.0</td>\n",
       "      <td>1.0</td>\n",
       "      <td>102.0</td>\n",
       "    </tr>\n",
       "    <tr>\n",
       "      <th>6</th>\n",
       "      <td>800.0</td>\n",
       "      <td>1.0</td>\n",
       "      <td>11.0</td>\n",
       "    </tr>\n",
       "    <tr>\n",
       "      <th>7</th>\n",
       "      <td>967.0</td>\n",
       "      <td>0.0</td>\n",
       "      <td>103.0</td>\n",
       "    </tr>\n",
       "    <tr>\n",
       "      <th>8</th>\n",
       "      <td>346.0</td>\n",
       "      <td>0.0</td>\n",
       "      <td>75.0</td>\n",
       "    </tr>\n",
       "    <tr>\n",
       "      <th>9</th>\n",
       "      <td>204.0</td>\n",
       "      <td>0.0</td>\n",
       "      <td>112.0</td>\n",
       "    </tr>\n",
       "    <tr>\n",
       "      <th>10</th>\n",
       "      <td>658.0</td>\n",
       "      <td>0.0</td>\n",
       "      <td>54.0</td>\n",
       "    </tr>\n",
       "  </tbody>\n",
       "</table>\n",
       "</div>"
      ],
      "text/plain": [
       "       id  gender    age\n",
       "1   646.0     1.0   39.0\n",
       "2    60.0     1.0   79.0\n",
       "3   977.0     0.0   13.0\n",
       "4   475.0     0.0   35.0\n",
       "5   446.0     1.0  102.0\n",
       "6   800.0     1.0   11.0\n",
       "7   967.0     0.0  103.0\n",
       "8   346.0     0.0   75.0\n",
       "9   204.0     0.0  112.0\n",
       "10  658.0     0.0   54.0"
      ]
     },
     "execution_count": 265,
     "metadata": {},
     "output_type": "execute_result"
    }
   ],
   "source": [
    "h = np.zeros((3, 10))\n",
    "\n",
    "id = np.random.randint(1, 1000, size=(1, 10))\n",
    "gender = np.random.randint(2, size=(1, 10))\n",
    "age = np.random.randint(0, 120, size=(1, 10))\n",
    "\n",
    "h[0]=id\n",
    "h[1]=gender\n",
    "h[2]=age\n",
    "\n",
    "h=np.transpose(h)\n",
    "\n",
    "columns = ['id', 'gender', 'age']\n",
    "index = np.arange(1, 11)\n",
    "df = pd.DataFrame(h, index, columns = columns)\n",
    "\n",
    "df"
   ]
  },
  {
   "cell_type": "code",
   "execution_count": 278,
   "id": "2fe17e46",
   "metadata": {},
   "outputs": [
    {
     "data": {
      "text/html": [
       "<div>\n",
       "<style scoped>\n",
       "    .dataframe tbody tr th:only-of-type {\n",
       "        vertical-align: middle;\n",
       "    }\n",
       "\n",
       "    .dataframe tbody tr th {\n",
       "        vertical-align: top;\n",
       "    }\n",
       "\n",
       "    .dataframe thead th {\n",
       "        text-align: right;\n",
       "    }\n",
       "</style>\n",
       "<table border=\"1\" class=\"dataframe\">\n",
       "  <thead>\n",
       "    <tr style=\"text-align: right;\">\n",
       "      <th></th>\n",
       "      <th>ID</th>\n",
       "      <th>Gender</th>\n",
       "      <th>Age</th>\n",
       "    </tr>\n",
       "  </thead>\n",
       "  <tbody>\n",
       "    <tr>\n",
       "      <th>1</th>\n",
       "      <td>8152</td>\n",
       "      <td>F</td>\n",
       "      <td>32</td>\n",
       "    </tr>\n",
       "    <tr>\n",
       "      <th>2</th>\n",
       "      <td>7238</td>\n",
       "      <td>F</td>\n",
       "      <td>84</td>\n",
       "    </tr>\n",
       "    <tr>\n",
       "      <th>3</th>\n",
       "      <td>8632</td>\n",
       "      <td>M</td>\n",
       "      <td>67</td>\n",
       "    </tr>\n",
       "    <tr>\n",
       "      <th>4</th>\n",
       "      <td>8445</td>\n",
       "      <td>M</td>\n",
       "      <td>20</td>\n",
       "    </tr>\n",
       "  </tbody>\n",
       "</table>\n",
       "</div>"
      ],
      "text/plain": [
       "     ID Gender  Age\n",
       "1  8152      F   32\n",
       "2  7238      F   84\n",
       "3  8632      M   67\n",
       "4  8445      M   20"
      ]
     },
     "execution_count": 278,
     "metadata": {},
     "output_type": "execute_result"
    }
   ],
   "source": [
    "ar = np.zeros((4, 3))\n",
    "columns = ['ID', 'Gender', 'Age']\n",
    "index = [np.arange(1, 5)]\n",
    "\n",
    "df = pd.DataFrame(ar, index, columns=columns)\n",
    "df.ID = np.random.randint(1000, 10000, 4)\n",
    "df.Gender = np.random.choice(['M', 'F'], 4)\n",
    "df.Age = np.random.randint(1, 100, 4)\n",
    "df"
   ]
  },
  {
   "cell_type": "code",
   "execution_count": 318,
   "id": "8b9a894d",
   "metadata": {},
   "outputs": [
    {
     "data": {
      "text/html": [
       "<div>\n",
       "<style scoped>\n",
       "    .dataframe tbody tr th:only-of-type {\n",
       "        vertical-align: middle;\n",
       "    }\n",
       "\n",
       "    .dataframe tbody tr th {\n",
       "        vertical-align: top;\n",
       "    }\n",
       "\n",
       "    .dataframe thead th {\n",
       "        text-align: right;\n",
       "    }\n",
       "</style>\n",
       "<table border=\"1\" class=\"dataframe\">\n",
       "  <thead>\n",
       "    <tr style=\"text-align: right;\">\n",
       "      <th></th>\n",
       "      <th>ID</th>\n",
       "      <th>Gender</th>\n",
       "      <th>Age</th>\n",
       "      <th>Region</th>\n",
       "      <th>Product</th>\n",
       "      <th>Price</th>\n",
       "      <th>Time</th>\n",
       "    </tr>\n",
       "  </thead>\n",
       "  <tbody>\n",
       "    <tr>\n",
       "      <th>1</th>\n",
       "      <td>4362</td>\n",
       "      <td>F</td>\n",
       "      <td>93</td>\n",
       "      <td>울산</td>\n",
       "      <td>청소용품</td>\n",
       "      <td>57100</td>\n",
       "      <td>19</td>\n",
       "    </tr>\n",
       "    <tr>\n",
       "      <th>2</th>\n",
       "      <td>9797</td>\n",
       "      <td>M</td>\n",
       "      <td>86</td>\n",
       "      <td>울산</td>\n",
       "      <td>식료품</td>\n",
       "      <td>28300</td>\n",
       "      <td>18</td>\n",
       "    </tr>\n",
       "    <tr>\n",
       "      <th>3</th>\n",
       "      <td>6869</td>\n",
       "      <td>F</td>\n",
       "      <td>88</td>\n",
       "      <td>서울</td>\n",
       "      <td>사무용폼</td>\n",
       "      <td>31500</td>\n",
       "      <td>19</td>\n",
       "    </tr>\n",
       "    <tr>\n",
       "      <th>4</th>\n",
       "      <td>3018</td>\n",
       "      <td>M</td>\n",
       "      <td>38</td>\n",
       "      <td>대전</td>\n",
       "      <td>의류</td>\n",
       "      <td>9900</td>\n",
       "      <td>13</td>\n",
       "    </tr>\n",
       "    <tr>\n",
       "      <th>5</th>\n",
       "      <td>4867</td>\n",
       "      <td>M</td>\n",
       "      <td>21</td>\n",
       "      <td>인천</td>\n",
       "      <td>청소용품</td>\n",
       "      <td>48100</td>\n",
       "      <td>20</td>\n",
       "    </tr>\n",
       "  </tbody>\n",
       "</table>\n",
       "</div>"
      ],
      "text/plain": [
       "     ID Gender  Age Region Product  Price  Time\n",
       "1  4362      F   93     울산    청소용품  57100    19\n",
       "2  9797      M   86     울산     식료품  28300    18\n",
       "3  6869      F   88     서울    사무용폼  31500    19\n",
       "4  3018      M   38     대전      의류   9900    13\n",
       "5  4867      M   21     인천    청소용품  48100    20"
      ]
     },
     "execution_count": 318,
     "metadata": {},
     "output_type": "execute_result"
    }
   ],
   "source": [
    "# [과제] 고객 구매데이터 생성(id, 성별, 연령, 지역, 상품, 가격, 구매시간) 후 데이터프레임 변환\n",
    "\n",
    "arr = np.zeros((5, 7))\n",
    "columns = ['ID', 'Gender', 'Age', 'Region', 'Product', 'Price', 'Time']\n",
    "index = [np.arange(1, 6)]\n",
    "\n",
    "df = pd.DataFrame(arr, index, columns=columns)\n",
    "df.ID = np.random.randint(1000, 10000, 5)\n",
    "df.Gender = np.random.choice(['M', 'F'], 5)\n",
    "df.Age = np.random.randint(1, 100, 5)\n",
    "df.Region = np.random.choice(['서울', '인천', '대전', '대구', '부산', '울산'], 5)\n",
    "df.Product = np.random.choice(['식료품', '청소용품', '사무용폼', '생활용품', '의류'], 5)\n",
    "df.Price = np.random.randint(10, 1000, 5)*100\n",
    "df.Time = np.random.randint(10, 24, 5)\n",
    "df\n"
   ]
  },
  {
   "cell_type": "markdown",
   "id": "8b58822b",
   "metadata": {},
   "source": [
    "[과제] 아래 가이드에 따라 고객 구매데이터를 생성하고 데이터프레임으로 변환하여 출력(관측치 1000개)\n",
    "- id: 1~1000 일련번호\n",
    "- gender: 0, 1  정수 난수\n",
    "- age: 0~80 정수 난수\n",
    "- region: 1~10 정수 난수\n",
    "- product_19: 1000~50000 실수 난수\n",
    "- product_20: 1000~50000 실수 난수\n",
    "- quantity_19: 1~100 정수 난수\n",
    "- quantity_20: 1~100 정수 난수\n",
    "- time_19: 01~24 정수 난수\n",
    "- time_20: 01~24 정수 난수\n",
    "- amount_19: price_19 * quantity_19\n",
    "- amount_20: price_20 * quantity_20\n",
    "- sales: 19년 대비 구매 증가면 1, 감소면 0"
   ]
  },
  {
   "cell_type": "code",
   "execution_count": 90,
   "id": "dd75ca2b",
   "metadata": {
    "scrolled": true
   },
   "outputs": [
    {
     "data": {
      "text/html": [
       "<div>\n",
       "<style scoped>\n",
       "    .dataframe tbody tr th:only-of-type {\n",
       "        vertical-align: middle;\n",
       "    }\n",
       "\n",
       "    .dataframe tbody tr th {\n",
       "        vertical-align: top;\n",
       "    }\n",
       "\n",
       "    .dataframe thead th {\n",
       "        text-align: right;\n",
       "    }\n",
       "</style>\n",
       "<table border=\"1\" class=\"dataframe\">\n",
       "  <thead>\n",
       "    <tr style=\"text-align: right;\">\n",
       "      <th></th>\n",
       "      <th>ID</th>\n",
       "      <th>Gender</th>\n",
       "      <th>Age</th>\n",
       "      <th>Region</th>\n",
       "      <th>Product</th>\n",
       "      <th>Price</th>\n",
       "      <th>Quantity_19</th>\n",
       "      <th>Quantity_20</th>\n",
       "      <th>Time_19</th>\n",
       "      <th>Time_20</th>\n",
       "      <th>Amount_19</th>\n",
       "      <th>Amount_20</th>\n",
       "      <th>Sales</th>\n",
       "    </tr>\n",
       "  </thead>\n",
       "  <tbody>\n",
       "    <tr>\n",
       "      <th>1</th>\n",
       "      <td>803</td>\n",
       "      <td>M</td>\n",
       "      <td>80</td>\n",
       "      <td>대전</td>\n",
       "      <td>123</td>\n",
       "      <td>44100</td>\n",
       "      <td>85</td>\n",
       "      <td>61</td>\n",
       "      <td>4</td>\n",
       "      <td>23</td>\n",
       "      <td>3748500</td>\n",
       "      <td>2690100</td>\n",
       "      <td>구매 감소</td>\n",
       "    </tr>\n",
       "    <tr>\n",
       "      <th>2</th>\n",
       "      <td>571</td>\n",
       "      <td>M</td>\n",
       "      <td>71</td>\n",
       "      <td>서울</td>\n",
       "      <td>187</td>\n",
       "      <td>31300</td>\n",
       "      <td>4</td>\n",
       "      <td>92</td>\n",
       "      <td>21</td>\n",
       "      <td>24</td>\n",
       "      <td>125200</td>\n",
       "      <td>2879600</td>\n",
       "      <td>구매 증가</td>\n",
       "    </tr>\n",
       "    <tr>\n",
       "      <th>3</th>\n",
       "      <td>131</td>\n",
       "      <td>M</td>\n",
       "      <td>74</td>\n",
       "      <td>경기</td>\n",
       "      <td>128</td>\n",
       "      <td>10900</td>\n",
       "      <td>15</td>\n",
       "      <td>51</td>\n",
       "      <td>17</td>\n",
       "      <td>24</td>\n",
       "      <td>163500</td>\n",
       "      <td>555900</td>\n",
       "      <td>구매 증가</td>\n",
       "    </tr>\n",
       "    <tr>\n",
       "      <th>4</th>\n",
       "      <td>892</td>\n",
       "      <td>M</td>\n",
       "      <td>38</td>\n",
       "      <td>제주</td>\n",
       "      <td>188</td>\n",
       "      <td>49800</td>\n",
       "      <td>3</td>\n",
       "      <td>51</td>\n",
       "      <td>24</td>\n",
       "      <td>2</td>\n",
       "      <td>149400</td>\n",
       "      <td>2539800</td>\n",
       "      <td>구매 증가</td>\n",
       "    </tr>\n",
       "    <tr>\n",
       "      <th>5</th>\n",
       "      <td>402</td>\n",
       "      <td>M</td>\n",
       "      <td>21</td>\n",
       "      <td>부산</td>\n",
       "      <td>178</td>\n",
       "      <td>15900</td>\n",
       "      <td>94</td>\n",
       "      <td>37</td>\n",
       "      <td>11</td>\n",
       "      <td>17</td>\n",
       "      <td>1494600</td>\n",
       "      <td>588300</td>\n",
       "      <td>구매 감소</td>\n",
       "    </tr>\n",
       "    <tr>\n",
       "      <th>...</th>\n",
       "      <td>...</td>\n",
       "      <td>...</td>\n",
       "      <td>...</td>\n",
       "      <td>...</td>\n",
       "      <td>...</td>\n",
       "      <td>...</td>\n",
       "      <td>...</td>\n",
       "      <td>...</td>\n",
       "      <td>...</td>\n",
       "      <td>...</td>\n",
       "      <td>...</td>\n",
       "      <td>...</td>\n",
       "      <td>...</td>\n",
       "    </tr>\n",
       "    <tr>\n",
       "      <th>9996</th>\n",
       "      <td>769</td>\n",
       "      <td>F</td>\n",
       "      <td>43</td>\n",
       "      <td>광주</td>\n",
       "      <td>164</td>\n",
       "      <td>7700</td>\n",
       "      <td>100</td>\n",
       "      <td>51</td>\n",
       "      <td>6</td>\n",
       "      <td>9</td>\n",
       "      <td>770000</td>\n",
       "      <td>392700</td>\n",
       "      <td>구매 감소</td>\n",
       "    </tr>\n",
       "    <tr>\n",
       "      <th>9997</th>\n",
       "      <td>162</td>\n",
       "      <td>F</td>\n",
       "      <td>49</td>\n",
       "      <td>부산</td>\n",
       "      <td>210</td>\n",
       "      <td>20900</td>\n",
       "      <td>52</td>\n",
       "      <td>7</td>\n",
       "      <td>13</td>\n",
       "      <td>9</td>\n",
       "      <td>1086800</td>\n",
       "      <td>146300</td>\n",
       "      <td>구매 감소</td>\n",
       "    </tr>\n",
       "    <tr>\n",
       "      <th>9998</th>\n",
       "      <td>799</td>\n",
       "      <td>M</td>\n",
       "      <td>74</td>\n",
       "      <td>인천</td>\n",
       "      <td>151</td>\n",
       "      <td>29500</td>\n",
       "      <td>22</td>\n",
       "      <td>48</td>\n",
       "      <td>4</td>\n",
       "      <td>1</td>\n",
       "      <td>649000</td>\n",
       "      <td>1416000</td>\n",
       "      <td>구매 증가</td>\n",
       "    </tr>\n",
       "    <tr>\n",
       "      <th>9999</th>\n",
       "      <td>929</td>\n",
       "      <td>M</td>\n",
       "      <td>52</td>\n",
       "      <td>광주</td>\n",
       "      <td>198</td>\n",
       "      <td>42600</td>\n",
       "      <td>51</td>\n",
       "      <td>83</td>\n",
       "      <td>17</td>\n",
       "      <td>6</td>\n",
       "      <td>2172600</td>\n",
       "      <td>3535800</td>\n",
       "      <td>구매 증가</td>\n",
       "    </tr>\n",
       "    <tr>\n",
       "      <th>10000</th>\n",
       "      <td>627</td>\n",
       "      <td>M</td>\n",
       "      <td>66</td>\n",
       "      <td>경기</td>\n",
       "      <td>116</td>\n",
       "      <td>24600</td>\n",
       "      <td>73</td>\n",
       "      <td>77</td>\n",
       "      <td>15</td>\n",
       "      <td>15</td>\n",
       "      <td>1795800</td>\n",
       "      <td>1894200</td>\n",
       "      <td>구매 증가</td>\n",
       "    </tr>\n",
       "  </tbody>\n",
       "</table>\n",
       "<p>10000 rows × 13 columns</p>\n",
       "</div>"
      ],
      "text/plain": [
       "        ID Gender  Age Region  Product  Price  Quantity_19  Quantity_20  \\\n",
       "1      803      M   80     대전      123  44100           85           61   \n",
       "2      571      M   71     서울      187  31300            4           92   \n",
       "3      131      M   74     경기      128  10900           15           51   \n",
       "4      892      M   38     제주      188  49800            3           51   \n",
       "5      402      M   21     부산      178  15900           94           37   \n",
       "...    ...    ...  ...    ...      ...    ...          ...          ...   \n",
       "9996   769      F   43     광주      164   7700          100           51   \n",
       "9997   162      F   49     부산      210  20900           52            7   \n",
       "9998   799      M   74     인천      151  29500           22           48   \n",
       "9999   929      M   52     광주      198  42600           51           83   \n",
       "10000  627      M   66     경기      116  24600           73           77   \n",
       "\n",
       "       Time_19  Time_20  Amount_19  Amount_20  Sales  \n",
       "1            4       23    3748500    2690100  구매 감소  \n",
       "2           21       24     125200    2879600  구매 증가  \n",
       "3           17       24     163500     555900  구매 증가  \n",
       "4           24        2     149400    2539800  구매 증가  \n",
       "5           11       17    1494600     588300  구매 감소  \n",
       "...        ...      ...        ...        ...    ...  \n",
       "9996         6        9     770000     392700  구매 감소  \n",
       "9997        13        9    1086800     146300  구매 감소  \n",
       "9998         4        1     649000    1416000  구매 증가  \n",
       "9999        17        6    2172600    3535800  구매 증가  \n",
       "10000       15       15    1795800    1894200  구매 증가  \n",
       "\n",
       "[10000 rows x 13 columns]"
      ]
     },
     "execution_count": 90,
     "metadata": {},
     "output_type": "execute_result"
    }
   ],
   "source": [
    "import warnings\n",
    "\n",
    "warnings.filterwarnings('ignore')\n",
    "\n",
    "sample=10000\n",
    "\n",
    "col = ['ID', 'Gender', 'Age', 'Region', 'Product', 'Price', 'Quantity_19', 'Quantity_20',\n",
    "           'Time_19', 'Time_20', 'Amount_19', 'Amount_20', 'Sales']\n",
    "arr = np.zeros((sample, len(col)))\n",
    "index = [np.arange(1, sample+1)]\n",
    "\n",
    "df = pd.DataFrame(arr, index, columns=col)\n",
    "df.ID = np.random.randint(1, 1000, sample)\n",
    "df.Gender = np.random.choice(['M', 'F'], sample)\n",
    "df.Age = np.random.randint(10, 81, sample)\n",
    "df.Region = np.random.choice(['서울', '부산', '인천', '대구', '대전', '광주', '울산', '세종', '경기', '제주'], sample)\n",
    "df.Product = np.random.randint(111, 222, sample)\n",
    "\n",
    "pricearray= np.random.randint(10, 500, size = 100000)*100\n",
    "for i in range(1,customer+1):\n",
    "    df.Price[i] = pricearray[df.Product[i]]\n",
    "\n",
    "df.Price = np.random.randint(10,501,sample)*100\n",
    "df.Quantity_19 = np.random.randint(1, 101, sample)\n",
    "df.Quantity_20 = np.random.randint(1, 101, sample)\n",
    "\n",
    "df.Time_19 = np.random.randint(1, 25, sample)\n",
    "df.Time_20 = np.random.randint(1, 25, sample)\n",
    "df.Amount_19 = df.Price * df.Quantity_19\n",
    "df.Amount_20 = df.Price * df.Quantity_20\n",
    "\n",
    "df.Sales = np.where(df.Amount_20>df.Amount_19, '구매 증가', '구매 감소')\n",
    "# for i in range(1, sample+1):\n",
    "#     if df.Amount_20[i]>df.Amount_19[i]:\n",
    "#         df.Sales[i]='구매 증가'\n",
    "#     elif df.Amount_20[i]<df.Amount_19[i]:\n",
    "#         df.Sales[i]='구매 감소'\n",
    "#     else:\n",
    "#         df.Sales[i]='현상 유지'\n",
    "df\n"
   ]
  },
  {
   "cell_type": "code",
   "execution_count": 80,
   "id": "34ae9281",
   "metadata": {},
   "outputs": [
    {
     "data": {
      "text/html": [
       "<div>\n",
       "<style scoped>\n",
       "    .dataframe tbody tr th:only-of-type {\n",
       "        vertical-align: middle;\n",
       "    }\n",
       "\n",
       "    .dataframe tbody tr th {\n",
       "        vertical-align: top;\n",
       "    }\n",
       "\n",
       "    .dataframe thead th {\n",
       "        text-align: right;\n",
       "    }\n",
       "</style>\n",
       "<table border=\"1\" class=\"dataframe\">\n",
       "  <thead>\n",
       "    <tr style=\"text-align: right;\">\n",
       "      <th></th>\n",
       "      <th>id</th>\n",
       "      <th>gender</th>\n",
       "      <th>age</th>\n",
       "      <th>product_19</th>\n",
       "      <th>product_20</th>\n",
       "      <th>price_19</th>\n",
       "      <th>price_20</th>\n",
       "      <th>quantity_19</th>\n",
       "      <th>quantity_20</th>\n",
       "      <th>time_19</th>\n",
       "      <th>time_20</th>\n",
       "      <th>amount_19</th>\n",
       "      <th>amount_20</th>\n",
       "      <th>sales</th>\n",
       "    </tr>\n",
       "  </thead>\n",
       "  <tbody>\n",
       "    <tr>\n",
       "      <th>1</th>\n",
       "      <td>1</td>\n",
       "      <td>M</td>\n",
       "      <td>40</td>\n",
       "      <td>24227</td>\n",
       "      <td>55976</td>\n",
       "      <td>42900</td>\n",
       "      <td>17000</td>\n",
       "      <td>76</td>\n",
       "      <td>79</td>\n",
       "      <td>18</td>\n",
       "      <td>20</td>\n",
       "      <td>3260400</td>\n",
       "      <td>1343000</td>\n",
       "      <td>0</td>\n",
       "    </tr>\n",
       "    <tr>\n",
       "      <th>2</th>\n",
       "      <td>2</td>\n",
       "      <td>F</td>\n",
       "      <td>29</td>\n",
       "      <td>77462</td>\n",
       "      <td>78920</td>\n",
       "      <td>27400</td>\n",
       "      <td>38500</td>\n",
       "      <td>66</td>\n",
       "      <td>45</td>\n",
       "      <td>4</td>\n",
       "      <td>19</td>\n",
       "      <td>1808400</td>\n",
       "      <td>1732500</td>\n",
       "      <td>0</td>\n",
       "    </tr>\n",
       "    <tr>\n",
       "      <th>3</th>\n",
       "      <td>3</td>\n",
       "      <td>F</td>\n",
       "      <td>25</td>\n",
       "      <td>53750</td>\n",
       "      <td>46507</td>\n",
       "      <td>25600</td>\n",
       "      <td>49500</td>\n",
       "      <td>55</td>\n",
       "      <td>36</td>\n",
       "      <td>24</td>\n",
       "      <td>18</td>\n",
       "      <td>1408000</td>\n",
       "      <td>1782000</td>\n",
       "      <td>1</td>\n",
       "    </tr>\n",
       "    <tr>\n",
       "      <th>4</th>\n",
       "      <td>4</td>\n",
       "      <td>M</td>\n",
       "      <td>19</td>\n",
       "      <td>73611</td>\n",
       "      <td>29381</td>\n",
       "      <td>28000</td>\n",
       "      <td>19100</td>\n",
       "      <td>71</td>\n",
       "      <td>15</td>\n",
       "      <td>2</td>\n",
       "      <td>17</td>\n",
       "      <td>1988000</td>\n",
       "      <td>286500</td>\n",
       "      <td>0</td>\n",
       "    </tr>\n",
       "    <tr>\n",
       "      <th>5</th>\n",
       "      <td>5</td>\n",
       "      <td>F</td>\n",
       "      <td>68</td>\n",
       "      <td>82728</td>\n",
       "      <td>84075</td>\n",
       "      <td>1300</td>\n",
       "      <td>23200</td>\n",
       "      <td>20</td>\n",
       "      <td>90</td>\n",
       "      <td>3</td>\n",
       "      <td>20</td>\n",
       "      <td>26000</td>\n",
       "      <td>2088000</td>\n",
       "      <td>1</td>\n",
       "    </tr>\n",
       "    <tr>\n",
       "      <th>...</th>\n",
       "      <td>...</td>\n",
       "      <td>...</td>\n",
       "      <td>...</td>\n",
       "      <td>...</td>\n",
       "      <td>...</td>\n",
       "      <td>...</td>\n",
       "      <td>...</td>\n",
       "      <td>...</td>\n",
       "      <td>...</td>\n",
       "      <td>...</td>\n",
       "      <td>...</td>\n",
       "      <td>...</td>\n",
       "      <td>...</td>\n",
       "      <td>...</td>\n",
       "    </tr>\n",
       "    <tr>\n",
       "      <th>996</th>\n",
       "      <td>996</td>\n",
       "      <td>M</td>\n",
       "      <td>24</td>\n",
       "      <td>73435</td>\n",
       "      <td>97517</td>\n",
       "      <td>6400</td>\n",
       "      <td>21300</td>\n",
       "      <td>7</td>\n",
       "      <td>76</td>\n",
       "      <td>20</td>\n",
       "      <td>10</td>\n",
       "      <td>44800</td>\n",
       "      <td>1618800</td>\n",
       "      <td>1</td>\n",
       "    </tr>\n",
       "    <tr>\n",
       "      <th>997</th>\n",
       "      <td>997</td>\n",
       "      <td>M</td>\n",
       "      <td>53</td>\n",
       "      <td>36781</td>\n",
       "      <td>83820</td>\n",
       "      <td>34400</td>\n",
       "      <td>21600</td>\n",
       "      <td>28</td>\n",
       "      <td>53</td>\n",
       "      <td>10</td>\n",
       "      <td>24</td>\n",
       "      <td>963200</td>\n",
       "      <td>1144800</td>\n",
       "      <td>1</td>\n",
       "    </tr>\n",
       "    <tr>\n",
       "      <th>998</th>\n",
       "      <td>998</td>\n",
       "      <td>M</td>\n",
       "      <td>24</td>\n",
       "      <td>38495</td>\n",
       "      <td>96299</td>\n",
       "      <td>12700</td>\n",
       "      <td>7700</td>\n",
       "      <td>72</td>\n",
       "      <td>35</td>\n",
       "      <td>8</td>\n",
       "      <td>7</td>\n",
       "      <td>914400</td>\n",
       "      <td>269500</td>\n",
       "      <td>0</td>\n",
       "    </tr>\n",
       "    <tr>\n",
       "      <th>999</th>\n",
       "      <td>999</td>\n",
       "      <td>F</td>\n",
       "      <td>73</td>\n",
       "      <td>56675</td>\n",
       "      <td>61737</td>\n",
       "      <td>15700</td>\n",
       "      <td>21000</td>\n",
       "      <td>54</td>\n",
       "      <td>6</td>\n",
       "      <td>1</td>\n",
       "      <td>17</td>\n",
       "      <td>847800</td>\n",
       "      <td>126000</td>\n",
       "      <td>0</td>\n",
       "    </tr>\n",
       "    <tr>\n",
       "      <th>1000</th>\n",
       "      <td>1000</td>\n",
       "      <td>M</td>\n",
       "      <td>42</td>\n",
       "      <td>88153</td>\n",
       "      <td>76382</td>\n",
       "      <td>10100</td>\n",
       "      <td>32500</td>\n",
       "      <td>56</td>\n",
       "      <td>39</td>\n",
       "      <td>13</td>\n",
       "      <td>23</td>\n",
       "      <td>565600</td>\n",
       "      <td>1267500</td>\n",
       "      <td>1</td>\n",
       "    </tr>\n",
       "  </tbody>\n",
       "</table>\n",
       "<p>1000 rows × 14 columns</p>\n",
       "</div>"
      ],
      "text/plain": [
       "        id gender  age  product_19  product_20  price_19  price_20  \\\n",
       "1        1      M   40       24227       55976     42900     17000   \n",
       "2        2      F   29       77462       78920     27400     38500   \n",
       "3        3      F   25       53750       46507     25600     49500   \n",
       "4        4      M   19       73611       29381     28000     19100   \n",
       "5        5      F   68       82728       84075      1300     23200   \n",
       "...    ...    ...  ...         ...         ...       ...       ...   \n",
       "996    996      M   24       73435       97517      6400     21300   \n",
       "997    997      M   53       36781       83820     34400     21600   \n",
       "998    998      M   24       38495       96299     12700      7700   \n",
       "999    999      F   73       56675       61737     15700     21000   \n",
       "1000  1000      M   42       88153       76382     10100     32500   \n",
       "\n",
       "      quantity_19  quantity_20  time_19  time_20  amount_19  amount_20  sales  \n",
       "1              76           79       18       20    3260400    1343000      0  \n",
       "2              66           45        4       19    1808400    1732500      0  \n",
       "3              55           36       24       18    1408000    1782000      1  \n",
       "4              71           15        2       17    1988000     286500      0  \n",
       "5              20           90        3       20      26000    2088000      1  \n",
       "...           ...          ...      ...      ...        ...        ...    ...  \n",
       "996             7           76       20       10      44800    1618800      1  \n",
       "997            28           53       10       24     963200    1144800      1  \n",
       "998            72           35        8        7     914400     269500      0  \n",
       "999            54            6        1       17     847800     126000      0  \n",
       "1000           56           39       13       23     565600    1267500      1  \n",
       "\n",
       "[1000 rows x 14 columns]"
      ]
     },
     "execution_count": 80,
     "metadata": {},
     "output_type": "execute_result"
    }
   ],
   "source": [
    "import numpy as np\n",
    "import pandas as pd\n",
    "import warnings\n",
    "warnings.filterwarnings('ignore')\n",
    "\n",
    "customer = 1000\n",
    "\n",
    "array = np.zeros((customer,14),dtype = int)\n",
    "df = pd.DataFrame(array,(np.arange(1,customer+1)),columns = ['id','gender','age','product_19','product_20','price_19','price_20','quantity_19','quantity_20','time_19','time_20','amount_19','amount_20','sales'])\n",
    "np.random.seed(0)\n",
    "df.id = np.arange(1,customer+1)\n",
    "df.gender = np.random.choice(['M','F'],customer)\n",
    "df.age = np.random.randint(1,81,size=customer)\n",
    "df.product_19 = np.random.randint(11111,100000,size = customer)\n",
    "df.product_20 = np.random.randint(11111,100000,size = customer)\n",
    "\n",
    "pricearray= np.random.randint(10,500,size = 100000)*100\n",
    "\n",
    "for i in range(1,customer+1):\n",
    "    df.price_19[i] = pricearray[df.product_19[i]]\n",
    "    df.price_20[i] = pricearray[df.product_20[i]]\n",
    "\n",
    "df.quantity_19 = np.random.randint(1,101,size = customer)\n",
    "df.quantity_20 = np.random.randint(1,101,size = customer)\n",
    "\n",
    "df.time_19 = np.random.randint(1,25,size = customer)\n",
    "df.time_20 = np.random.randint(1,25,size = customer)\n",
    "\n",
    "df.amount_19 = df.price_19*df.quantity_19\n",
    "df.amount_20 = df.price_20*df.quantity_20\n",
    "\n",
    "for i in range(1,customer+1):\n",
    "    if df.amount_20[i]>df.amount_19[i]:\n",
    "        df.sales[i] = 1\n",
    "    else:\n",
    "        df.sales[i] = 0\n",
    "\n",
    "df"
   ]
  },
  {
   "cell_type": "code",
   "execution_count": 70,
   "id": "fc7b56ba",
   "metadata": {},
   "outputs": [
    {
     "data": {
      "text/html": [
       "<div>\n",
       "<style scoped>\n",
       "    .dataframe tbody tr th:only-of-type {\n",
       "        vertical-align: middle;\n",
       "    }\n",
       "\n",
       "    .dataframe tbody tr th {\n",
       "        vertical-align: top;\n",
       "    }\n",
       "\n",
       "    .dataframe thead th {\n",
       "        text-align: right;\n",
       "    }\n",
       "</style>\n",
       "<table border=\"1\" class=\"dataframe\">\n",
       "  <thead>\n",
       "    <tr style=\"text-align: right;\">\n",
       "      <th></th>\n",
       "      <th>ID</th>\n",
       "      <th>Gender</th>\n",
       "      <th>Age</th>\n",
       "      <th>Region</th>\n",
       "      <th>Product</th>\n",
       "      <th>Price</th>\n",
       "      <th>Quantity_19</th>\n",
       "      <th>Quantity_20</th>\n",
       "      <th>Time_19</th>\n",
       "      <th>Time_20</th>\n",
       "      <th>Amount_19</th>\n",
       "      <th>Amount_20</th>\n",
       "      <th>Sales</th>\n",
       "    </tr>\n",
       "  </thead>\n",
       "  <tbody>\n",
       "    <tr>\n",
       "      <th>1</th>\n",
       "      <td>784</td>\n",
       "      <td>F</td>\n",
       "      <td>72</td>\n",
       "      <td>제주</td>\n",
       "      <td>151</td>\n",
       "      <td>6700</td>\n",
       "      <td>84</td>\n",
       "      <td>89</td>\n",
       "      <td>18</td>\n",
       "      <td>13</td>\n",
       "      <td>562800</td>\n",
       "      <td>596300</td>\n",
       "      <td>구매 증가</td>\n",
       "    </tr>\n",
       "    <tr>\n",
       "      <th>34</th>\n",
       "      <td>929</td>\n",
       "      <td>M</td>\n",
       "      <td>31</td>\n",
       "      <td>울산</td>\n",
       "      <td>151</td>\n",
       "      <td>33800</td>\n",
       "      <td>5</td>\n",
       "      <td>51</td>\n",
       "      <td>2</td>\n",
       "      <td>23</td>\n",
       "      <td>169000</td>\n",
       "      <td>1723800</td>\n",
       "      <td>구매 증가</td>\n",
       "    </tr>\n",
       "    <tr>\n",
       "      <th>353</th>\n",
       "      <td>264</td>\n",
       "      <td>F</td>\n",
       "      <td>18</td>\n",
       "      <td>광주</td>\n",
       "      <td>151</td>\n",
       "      <td>47800</td>\n",
       "      <td>65</td>\n",
       "      <td>96</td>\n",
       "      <td>10</td>\n",
       "      <td>10</td>\n",
       "      <td>3107000</td>\n",
       "      <td>4588800</td>\n",
       "      <td>구매 증가</td>\n",
       "    </tr>\n",
       "    <tr>\n",
       "      <th>354</th>\n",
       "      <td>282</td>\n",
       "      <td>M</td>\n",
       "      <td>25</td>\n",
       "      <td>대구</td>\n",
       "      <td>151</td>\n",
       "      <td>47100</td>\n",
       "      <td>75</td>\n",
       "      <td>80</td>\n",
       "      <td>21</td>\n",
       "      <td>19</td>\n",
       "      <td>3532500</td>\n",
       "      <td>3768000</td>\n",
       "      <td>구매 증가</td>\n",
       "    </tr>\n",
       "    <tr>\n",
       "      <th>584</th>\n",
       "      <td>100</td>\n",
       "      <td>M</td>\n",
       "      <td>38</td>\n",
       "      <td>서울</td>\n",
       "      <td>151</td>\n",
       "      <td>41200</td>\n",
       "      <td>80</td>\n",
       "      <td>36</td>\n",
       "      <td>18</td>\n",
       "      <td>19</td>\n",
       "      <td>3296000</td>\n",
       "      <td>1483200</td>\n",
       "      <td>구매 감소</td>\n",
       "    </tr>\n",
       "    <tr>\n",
       "      <th>...</th>\n",
       "      <td>...</td>\n",
       "      <td>...</td>\n",
       "      <td>...</td>\n",
       "      <td>...</td>\n",
       "      <td>...</td>\n",
       "      <td>...</td>\n",
       "      <td>...</td>\n",
       "      <td>...</td>\n",
       "      <td>...</td>\n",
       "      <td>...</td>\n",
       "      <td>...</td>\n",
       "      <td>...</td>\n",
       "      <td>...</td>\n",
       "    </tr>\n",
       "    <tr>\n",
       "      <th>9355</th>\n",
       "      <td>617</td>\n",
       "      <td>M</td>\n",
       "      <td>53</td>\n",
       "      <td>인천</td>\n",
       "      <td>151</td>\n",
       "      <td>11100</td>\n",
       "      <td>84</td>\n",
       "      <td>35</td>\n",
       "      <td>12</td>\n",
       "      <td>17</td>\n",
       "      <td>932400</td>\n",
       "      <td>388500</td>\n",
       "      <td>구매 감소</td>\n",
       "    </tr>\n",
       "    <tr>\n",
       "      <th>9528</th>\n",
       "      <td>360</td>\n",
       "      <td>M</td>\n",
       "      <td>29</td>\n",
       "      <td>경기</td>\n",
       "      <td>151</td>\n",
       "      <td>27000</td>\n",
       "      <td>69</td>\n",
       "      <td>49</td>\n",
       "      <td>6</td>\n",
       "      <td>13</td>\n",
       "      <td>1863000</td>\n",
       "      <td>1323000</td>\n",
       "      <td>구매 감소</td>\n",
       "    </tr>\n",
       "    <tr>\n",
       "      <th>9897</th>\n",
       "      <td>26</td>\n",
       "      <td>M</td>\n",
       "      <td>48</td>\n",
       "      <td>세종</td>\n",
       "      <td>151</td>\n",
       "      <td>4100</td>\n",
       "      <td>95</td>\n",
       "      <td>73</td>\n",
       "      <td>14</td>\n",
       "      <td>23</td>\n",
       "      <td>389500</td>\n",
       "      <td>299300</td>\n",
       "      <td>구매 감소</td>\n",
       "    </tr>\n",
       "    <tr>\n",
       "      <th>9913</th>\n",
       "      <td>163</td>\n",
       "      <td>M</td>\n",
       "      <td>28</td>\n",
       "      <td>서울</td>\n",
       "      <td>151</td>\n",
       "      <td>42400</td>\n",
       "      <td>1</td>\n",
       "      <td>50</td>\n",
       "      <td>17</td>\n",
       "      <td>9</td>\n",
       "      <td>42400</td>\n",
       "      <td>2120000</td>\n",
       "      <td>구매 증가</td>\n",
       "    </tr>\n",
       "    <tr>\n",
       "      <th>9952</th>\n",
       "      <td>955</td>\n",
       "      <td>F</td>\n",
       "      <td>80</td>\n",
       "      <td>광주</td>\n",
       "      <td>151</td>\n",
       "      <td>10100</td>\n",
       "      <td>44</td>\n",
       "      <td>44</td>\n",
       "      <td>17</td>\n",
       "      <td>4</td>\n",
       "      <td>444400</td>\n",
       "      <td>444400</td>\n",
       "      <td>구매 감소</td>\n",
       "    </tr>\n",
       "  </tbody>\n",
       "</table>\n",
       "<p>103 rows × 13 columns</p>\n",
       "</div>"
      ],
      "text/plain": [
       "       ID Gender  Age Region  Product  Price  Quantity_19  Quantity_20  \\\n",
       "1     784      F   72     제주      151   6700           84           89   \n",
       "34    929      M   31     울산      151  33800            5           51   \n",
       "353   264      F   18     광주      151  47800           65           96   \n",
       "354   282      M   25     대구      151  47100           75           80   \n",
       "584   100      M   38     서울      151  41200           80           36   \n",
       "...   ...    ...  ...    ...      ...    ...          ...          ...   \n",
       "9355  617      M   53     인천      151  11100           84           35   \n",
       "9528  360      M   29     경기      151  27000           69           49   \n",
       "9897   26      M   48     세종      151   4100           95           73   \n",
       "9913  163      M   28     서울      151  42400            1           50   \n",
       "9952  955      F   80     광주      151  10100           44           44   \n",
       "\n",
       "      Time_19  Time_20  Amount_19  Amount_20  Sales  \n",
       "1          18       13     562800     596300  구매 증가  \n",
       "34          2       23     169000    1723800  구매 증가  \n",
       "353        10       10    3107000    4588800  구매 증가  \n",
       "354        21       19    3532500    3768000  구매 증가  \n",
       "584        18       19    3296000    1483200  구매 감소  \n",
       "...       ...      ...        ...        ...    ...  \n",
       "9355       12       17     932400     388500  구매 감소  \n",
       "9528        6       13    1863000    1323000  구매 감소  \n",
       "9897       14       23     389500     299300  구매 감소  \n",
       "9913       17        9      42400    2120000  구매 증가  \n",
       "9952       17        4     444400     444400  구매 감소  \n",
       "\n",
       "[103 rows x 13 columns]"
      ]
     },
     "execution_count": 70,
     "metadata": {},
     "output_type": "execute_result"
    }
   ],
   "source": [
    "df[df.Product==151]"
   ]
  },
  {
   "cell_type": "markdown",
   "id": "17c34709",
   "metadata": {},
   "source": [
    "[과제] 아래 가이드에 따라서 고객 구매데이터를 생성하고 데이터프레임으로 변환하여 출력하세요(관측치 1000개)\n",
    "\n",
    "- id : 1 ~ 1000번 일련번호\n",
    "- gender : 0,1 정수 난수 생성\n",
    "- age : 0 ~ 80사이 정수 난수 생성\n",
    "- region : 1 ~ 10 사이 정수 난수 생성\n",
    "- product_19 : 제품코드 11111 ~ 99999\n",
    "- product_20 : 제품코드 11111 ~ 99999\n",
    "- price_19 : 1000 ~ 50000 사이 실수 난수 생성\n",
    "- price_20 : 1000 ~ 50000 사이 실수 난수 생성\n",
    "- quantity_19 : 1 ~ 100 사이 정수 난수 생성\n",
    "- quantity_20 : 1 ~ 100 사이 정수 난수 생성\n",
    "- time_19 : 01 ~ 24 사이 정수 난수 생성\n",
    "- time_20 : 01 ~ 24 사이 정수 난수 생성\n",
    "- amount_19 : price_19 * quantity_19\n",
    "- amount_20 : price_20 * quantity_20\n",
    "- sales : 19년 대비 20년구매금액이 증가면 1, 감소면 0"
   ]
  },
  {
   "cell_type": "code",
   "execution_count": 6,
   "id": "e98d1eea",
   "metadata": {},
   "outputs": [
    {
     "data": {
      "text/html": [
       "<div>\n",
       "<style scoped>\n",
       "    .dataframe tbody tr th:only-of-type {\n",
       "        vertical-align: middle;\n",
       "    }\n",
       "\n",
       "    .dataframe tbody tr th {\n",
       "        vertical-align: top;\n",
       "    }\n",
       "\n",
       "    .dataframe thead th {\n",
       "        text-align: right;\n",
       "    }\n",
       "</style>\n",
       "<table border=\"1\" class=\"dataframe\">\n",
       "  <thead>\n",
       "    <tr style=\"text-align: right;\">\n",
       "      <th></th>\n",
       "      <th>ID</th>\n",
       "      <th>Gender</th>\n",
       "      <th>Age</th>\n",
       "      <th>Region</th>\n",
       "      <th>Product_19</th>\n",
       "      <th>Product_20</th>\n",
       "      <th>Price_19</th>\n",
       "      <th>Price_20</th>\n",
       "      <th>Quantity_19</th>\n",
       "      <th>Quantity_20</th>\n",
       "      <th>Time_19</th>\n",
       "      <th>Time_20</th>\n",
       "      <th>Amount_19</th>\n",
       "      <th>Amount_20</th>\n",
       "      <th>Sales</th>\n",
       "    </tr>\n",
       "  </thead>\n",
       "  <tbody>\n",
       "    <tr>\n",
       "      <th>1</th>\n",
       "      <td>489</td>\n",
       "      <td>M</td>\n",
       "      <td>14</td>\n",
       "      <td>인천</td>\n",
       "      <td>20356</td>\n",
       "      <td>4206</td>\n",
       "      <td>371000</td>\n",
       "      <td>243000</td>\n",
       "      <td>39</td>\n",
       "      <td>59</td>\n",
       "      <td>15</td>\n",
       "      <td>7</td>\n",
       "      <td>14469000</td>\n",
       "      <td>14337000</td>\n",
       "      <td>구매 감소</td>\n",
       "    </tr>\n",
       "    <tr>\n",
       "      <th>2</th>\n",
       "      <td>232</td>\n",
       "      <td>M</td>\n",
       "      <td>39</td>\n",
       "      <td>세종</td>\n",
       "      <td>12528</td>\n",
       "      <td>13915</td>\n",
       "      <td>441000</td>\n",
       "      <td>407000</td>\n",
       "      <td>1</td>\n",
       "      <td>38</td>\n",
       "      <td>17</td>\n",
       "      <td>11</td>\n",
       "      <td>441000</td>\n",
       "      <td>15466000</td>\n",
       "      <td>구매 증가</td>\n",
       "    </tr>\n",
       "    <tr>\n",
       "      <th>3</th>\n",
       "      <td>908</td>\n",
       "      <td>M</td>\n",
       "      <td>41</td>\n",
       "      <td>대전</td>\n",
       "      <td>38199</td>\n",
       "      <td>7715</td>\n",
       "      <td>11000</td>\n",
       "      <td>423000</td>\n",
       "      <td>66</td>\n",
       "      <td>32</td>\n",
       "      <td>15</td>\n",
       "      <td>15</td>\n",
       "      <td>726000</td>\n",
       "      <td>13536000</td>\n",
       "      <td>구매 증가</td>\n",
       "    </tr>\n",
       "    <tr>\n",
       "      <th>4</th>\n",
       "      <td>952</td>\n",
       "      <td>F</td>\n",
       "      <td>51</td>\n",
       "      <td>대전</td>\n",
       "      <td>34506</td>\n",
       "      <td>1855</td>\n",
       "      <td>118000</td>\n",
       "      <td>324000</td>\n",
       "      <td>48</td>\n",
       "      <td>57</td>\n",
       "      <td>7</td>\n",
       "      <td>7</td>\n",
       "      <td>5664000</td>\n",
       "      <td>18468000</td>\n",
       "      <td>구매 증가</td>\n",
       "    </tr>\n",
       "    <tr>\n",
       "      <th>5</th>\n",
       "      <td>447</td>\n",
       "      <td>M</td>\n",
       "      <td>73</td>\n",
       "      <td>제주</td>\n",
       "      <td>25017</td>\n",
       "      <td>38257</td>\n",
       "      <td>384000</td>\n",
       "      <td>130000</td>\n",
       "      <td>49</td>\n",
       "      <td>89</td>\n",
       "      <td>10</td>\n",
       "      <td>16</td>\n",
       "      <td>18816000</td>\n",
       "      <td>11570000</td>\n",
       "      <td>구매 감소</td>\n",
       "    </tr>\n",
       "    <tr>\n",
       "      <th>...</th>\n",
       "      <td>...</td>\n",
       "      <td>...</td>\n",
       "      <td>...</td>\n",
       "      <td>...</td>\n",
       "      <td>...</td>\n",
       "      <td>...</td>\n",
       "      <td>...</td>\n",
       "      <td>...</td>\n",
       "      <td>...</td>\n",
       "      <td>...</td>\n",
       "      <td>...</td>\n",
       "      <td>...</td>\n",
       "      <td>...</td>\n",
       "      <td>...</td>\n",
       "      <td>...</td>\n",
       "    </tr>\n",
       "    <tr>\n",
       "      <th>996</th>\n",
       "      <td>851</td>\n",
       "      <td>F</td>\n",
       "      <td>21</td>\n",
       "      <td>인천</td>\n",
       "      <td>36519</td>\n",
       "      <td>13161</td>\n",
       "      <td>329000</td>\n",
       "      <td>388000</td>\n",
       "      <td>99</td>\n",
       "      <td>9</td>\n",
       "      <td>13</td>\n",
       "      <td>17</td>\n",
       "      <td>32571000</td>\n",
       "      <td>3492000</td>\n",
       "      <td>구매 감소</td>\n",
       "    </tr>\n",
       "    <tr>\n",
       "      <th>997</th>\n",
       "      <td>457</td>\n",
       "      <td>F</td>\n",
       "      <td>48</td>\n",
       "      <td>인천</td>\n",
       "      <td>6862</td>\n",
       "      <td>18067</td>\n",
       "      <td>392000</td>\n",
       "      <td>8000</td>\n",
       "      <td>23</td>\n",
       "      <td>22</td>\n",
       "      <td>5</td>\n",
       "      <td>17</td>\n",
       "      <td>9016000</td>\n",
       "      <td>176000</td>\n",
       "      <td>구매 감소</td>\n",
       "    </tr>\n",
       "    <tr>\n",
       "      <th>998</th>\n",
       "      <td>336</td>\n",
       "      <td>M</td>\n",
       "      <td>72</td>\n",
       "      <td>광주</td>\n",
       "      <td>25846</td>\n",
       "      <td>46586</td>\n",
       "      <td>108000</td>\n",
       "      <td>71000</td>\n",
       "      <td>79</td>\n",
       "      <td>99</td>\n",
       "      <td>1</td>\n",
       "      <td>11</td>\n",
       "      <td>8532000</td>\n",
       "      <td>7029000</td>\n",
       "      <td>구매 감소</td>\n",
       "    </tr>\n",
       "    <tr>\n",
       "      <th>999</th>\n",
       "      <td>558</td>\n",
       "      <td>F</td>\n",
       "      <td>49</td>\n",
       "      <td>대구</td>\n",
       "      <td>37096</td>\n",
       "      <td>44151</td>\n",
       "      <td>21000</td>\n",
       "      <td>21000</td>\n",
       "      <td>82</td>\n",
       "      <td>32</td>\n",
       "      <td>5</td>\n",
       "      <td>5</td>\n",
       "      <td>1722000</td>\n",
       "      <td>672000</td>\n",
       "      <td>구매 감소</td>\n",
       "    </tr>\n",
       "    <tr>\n",
       "      <th>1000</th>\n",
       "      <td>344</td>\n",
       "      <td>M</td>\n",
       "      <td>36</td>\n",
       "      <td>대구</td>\n",
       "      <td>43883</td>\n",
       "      <td>47170</td>\n",
       "      <td>433000</td>\n",
       "      <td>16000</td>\n",
       "      <td>3</td>\n",
       "      <td>84</td>\n",
       "      <td>21</td>\n",
       "      <td>23</td>\n",
       "      <td>1299000</td>\n",
       "      <td>1344000</td>\n",
       "      <td>구매 증가</td>\n",
       "    </tr>\n",
       "  </tbody>\n",
       "</table>\n",
       "<p>1000 rows × 15 columns</p>\n",
       "</div>"
      ],
      "text/plain": [
       "       ID Gender  Age Region  Product_19  Product_20  Price_19  Price_20  \\\n",
       "1     489      M   14     인천       20356        4206    371000    243000   \n",
       "2     232      M   39     세종       12528       13915    441000    407000   \n",
       "3     908      M   41     대전       38199        7715     11000    423000   \n",
       "4     952      F   51     대전       34506        1855    118000    324000   \n",
       "5     447      M   73     제주       25017       38257    384000    130000   \n",
       "...   ...    ...  ...    ...         ...         ...       ...       ...   \n",
       "996   851      F   21     인천       36519       13161    329000    388000   \n",
       "997   457      F   48     인천        6862       18067    392000      8000   \n",
       "998   336      M   72     광주       25846       46586    108000     71000   \n",
       "999   558      F   49     대구       37096       44151     21000     21000   \n",
       "1000  344      M   36     대구       43883       47170    433000     16000   \n",
       "\n",
       "      Quantity_19  Quantity_20  Time_19  Time_20  Amount_19  Amount_20  Sales  \n",
       "1              39           59       15        7   14469000   14337000  구매 감소  \n",
       "2               1           38       17       11     441000   15466000  구매 증가  \n",
       "3              66           32       15       15     726000   13536000  구매 증가  \n",
       "4              48           57        7        7    5664000   18468000  구매 증가  \n",
       "5              49           89       10       16   18816000   11570000  구매 감소  \n",
       "...           ...          ...      ...      ...        ...        ...    ...  \n",
       "996            99            9       13       17   32571000    3492000  구매 감소  \n",
       "997            23           22        5       17    9016000     176000  구매 감소  \n",
       "998            79           99        1       11    8532000    7029000  구매 감소  \n",
       "999            82           32        5        5    1722000     672000  구매 감소  \n",
       "1000            3           84       21       23    1299000    1344000  구매 증가  \n",
       "\n",
       "[1000 rows x 15 columns]"
      ]
     },
     "execution_count": 6,
     "metadata": {},
     "output_type": "execute_result"
    }
   ],
   "source": [
    "sample=1000\n",
    "\n",
    "arr = np.zeros((sample, 15))\n",
    "columns = ['ID', 'Gender', 'Age', 'Region', 'Product_19', 'Product_20', 'Price_19', 'Price_20', 'Quantity_19', 'Quantity_20',\n",
    "           'Time_19', 'Time_20', 'Amount_19', 'Amount_20', 'Sales']\n",
    "index = [np.arange(1, sample+1)]\n",
    "# price= np.random.randint(1,1000,sample)*100\n",
    "\n",
    "df = pd.DataFrame(arr, index, columns=columns)\n",
    "df.ID = np.random.randint(1, 1000, sample)\n",
    "df.Gender = np.random.choice(['M', 'F'], sample)\n",
    "df.Age = np.random.randint(10, 81, sample)\n",
    "df.Region = np.random.choice(['서울', '부산', '인천', '대구', '대전', '광주', '울산', '세종', '경기', '제주'], sample)\n",
    "df.Product_19 = np.random.randint(1000, 50001, sample)\n",
    "df.Product_20 = np.random.randint(1000, 50001, sample)\n",
    "df.Price_19 = np.random.randint(10,501,sample)*100\n",
    "df.Price_20 = np.random.randint(10,501,sample)*100\n",
    "df.Quantity_19 = np.random.randint(1, 101, sample)\n",
    "df.Quantity_20 = np.random.randint(1, 101, sample)\n",
    "df.Time_19 = np.random.randint(1, 25, sample)\n",
    "df.Time_20 = np.random.randint(1, 25, sample)\n",
    "df.Amount_19 = df.Price_19 * df.Quantity_19\n",
    "df.Amount_20 = df.Price_20 * df.Quantity_20\n",
    "df.Sales = np.where(df.Amount_20>df.Amount_19, '구매 증가', '구매 감소')\n",
    "df"
   ]
  }
 ],
 "metadata": {
  "kernelspec": {
   "display_name": "Python 3 (ipykernel)",
   "language": "python",
   "name": "python3"
  },
  "language_info": {
   "codemirror_mode": {
    "name": "ipython",
    "version": 3
   },
   "file_extension": ".py",
   "mimetype": "text/x-python",
   "name": "python",
   "nbconvert_exporter": "python",
   "pygments_lexer": "ipython3",
   "version": "3.8.12"
  }
 },
 "nbformat": 4,
 "nbformat_minor": 5
}
