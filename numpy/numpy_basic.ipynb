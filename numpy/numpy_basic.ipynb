{
 "cells": [
  {
   "cell_type": "markdown",
   "id": "f8cd5ba2",
   "metadata": {},
   "source": [
    "Numpy는 \"Numerical Python\"의 약자로 대규모 다차원 배열과 행렬 연산에 필요한 다양한 함수를 제공\n",
    "- Numerical Python을 의미하는 Numpy는 파이썬에서 선형대수 기반의 프로그램을 쉽게 만들 수 있도록 지원하는 대표적인 패키지\n",
    "- 많은 머신러닝 알고리즘이 넘파이 기반으로 작성되어 있으며 알고리즘의 입출력 데이터를 넘파이 배열 타입으로 사용함\n",
    "- 넘파이의 기본 데이터 타입은 ndarray.ndarray를 이용해 넘파이에서 다차원 배열을 쉽게 생성하고 다양한 연산을 수행\n",
    "\n",
    "Numpy 특징\n",
    "- 강력한 N차원 배열 객체\n",
    "- 정교한 브로드캐스팅 기능\n",
    "- 유용한 선형 대수학, 푸리에 변환 및 난수 기능\n",
    "- 푸리에 변환은 시간이나 공간에 대한 함수를 시간 또는 공간 주파수 성분으로 부내하는 변환\n",
    "- 범용적 데이터 처리에 사용 가능한 다차원 컨테이너"
   ]
  },
  {
   "cell_type": "code",
   "execution_count": 1,
   "id": "e8b4f33c",
   "metadata": {},
   "outputs": [
    {
     "name": "stdout",
     "output_type": "stream",
     "text": [
      "Requirement already satisfied: numpy in c:\\sw\\anaconda3\\envs\\cakd5\\lib\\site-packages (1.21.2)\n"
     ]
    }
   ],
   "source": [
    "!pip install numpy"
   ]
  },
  {
   "cell_type": "code",
   "execution_count": 4,
   "id": "b32c58c8",
   "metadata": {},
   "outputs": [
    {
     "name": "stdout",
     "output_type": "stream",
     "text": [
      "[0 1 2 3 4 5 6 7 8 9] <class 'numpy.ndarray'>\n"
     ]
    }
   ],
   "source": [
    "import numpy as np\n",
    "\n",
    "z = np.arange(10)\n",
    "print(z, type(z))"
   ]
  },
  {
   "cell_type": "code",
   "execution_count": 6,
   "id": "7751cf57",
   "metadata": {},
   "outputs": [],
   "source": [
    "my_arr = np.arange(1000000)\n",
    "my_list = list(range(1000000))"
   ]
  },
  {
   "cell_type": "code",
   "execution_count": 7,
   "id": "6803fee2",
   "metadata": {},
   "outputs": [
    {
     "name": "stdout",
     "output_type": "stream",
     "text": [
      "Wall time: 12 ms\n"
     ]
    }
   ],
   "source": [
    "%time for _ in range(10): my_array2 = my_arr * 2"
   ]
  },
  {
   "cell_type": "code",
   "execution_count": 8,
   "id": "fba6456c",
   "metadata": {},
   "outputs": [
    {
     "name": "stdout",
     "output_type": "stream",
     "text": [
      "Wall time: 611 ms\n"
     ]
    }
   ],
   "source": [
    "%time for _ in range(10): my_list2 = [x*2 for x in my_list]"
   ]
  },
  {
   "cell_type": "code",
   "execution_count": 11,
   "id": "1c80f93a",
   "metadata": {},
   "outputs": [
    {
     "name": "stdout",
     "output_type": "stream",
     "text": [
      "[[-1.19807407  0.47631157  0.99963931]\n",
      " [ 1.25182928  0.28661973 -1.70994904]] \n",
      "\n",
      "[[-11.98074073   4.76311567   9.99639306]\n",
      " [ 12.51829284   2.86619727 -17.09949038]] \n",
      "\n",
      "[[-2.39614815  0.95262313  1.99927861]\n",
      " [ 2.50365857  0.57323945 -3.41989808]]\n"
     ]
    }
   ],
   "source": [
    "# 배열 연산\n",
    "# np.random.randn = 가우시안 표준 정규분포(어떤 집합에 있어서 평균이 0, 표준편차가 1인 집합)에서 난수 매트릭스 array 생성\n",
    "\n",
    "data = np.random.randn(2, 3) # 표준 정규분포로 구성되는 2행 3열 매트릭스\n",
    "print(data, '\\n')\n",
    "print(data * 10, '\\n')\n",
    "print(data + data)"
   ]
  },
  {
   "cell_type": "code",
   "execution_count": 13,
   "id": "2dd9ec0a",
   "metadata": {},
   "outputs": [
    {
     "name": "stdout",
     "output_type": "stream",
     "text": [
      "(2, 3)\n",
      "float64\n"
     ]
    }
   ],
   "source": [
    "print(data.shape) # 행렬의 크기 표현 (n행 n열)\n",
    "print(data.dtype) # 데이터의 타입 (int, float, str...)\n",
    "print(data.ndim) # 행렬의 차원"
   ]
  },
  {
   "cell_type": "markdown",
   "id": "dd735819",
   "metadata": {},
   "source": [
    "다차원 배열\n",
    "<img src = 'numpy차원.jpg' STYLE='width:300px'>"
   ]
  },
  {
   "cell_type": "code",
   "execution_count": 15,
   "id": "0d2f76d2",
   "metadata": {},
   "outputs": [
    {
     "name": "stdout",
     "output_type": "stream",
     "text": [
      "<class 'list'> \n",
      "\n",
      "[[1 2 3 4]\n",
      " [5 6 7 8]] <class 'numpy.ndarray'>\n"
     ]
    }
   ],
   "source": [
    "data2 = [[1, 2, 3, 4], [5, 6, 7, 8]]\n",
    "print(type(data2), '\\n')\n",
    "arr2 = np.array(data2)\n",
    "print(arr2, type(arr2))"
   ]
  },
  {
   "cell_type": "code",
   "execution_count": 16,
   "id": "03468b80",
   "metadata": {},
   "outputs": [
    {
     "name": "stdout",
     "output_type": "stream",
     "text": [
      "2 \n",
      "\n",
      "(2, 4)\n"
     ]
    }
   ],
   "source": [
    "print(arr2.ndim, '\\n')\n",
    "print(arr2.shape)"
   ]
  },
  {
   "cell_type": "code",
   "execution_count": 17,
   "id": "b49018c8",
   "metadata": {},
   "outputs": [
    {
     "name": "stdout",
     "output_type": "stream",
     "text": [
      "[1 2 3] <class 'numpy.ndarray'> (3,)\n"
     ]
    }
   ],
   "source": [
    "# 1차원 배열로 3개의 데이터\n",
    "\n",
    "array1 = np.array([1, 2, 3])\n",
    "print(array1, type(array1), array1.shape) # (,열)이 아닌 (열,) 형태로 출력 / 튜플 형태기 때문"
   ]
  },
  {
   "cell_type": "code",
   "execution_count": 19,
   "id": "a0a793b9",
   "metadata": {},
   "outputs": [
    {
     "name": "stdout",
     "output_type": "stream",
     "text": [
      "[[1 2 3]\n",
      " [4 5 6]] <class 'numpy.ndarray'> (2, 3)\n"
     ]
    }
   ],
   "source": [
    "# 2차원 배열로 2개의 row와 3개의 column으로 구성된 6개의 데이터\n",
    "\n",
    "array2 = np.array([[1, 2, 3], [4, 5, 6]])\n",
    "print(array2, type(array2), array2.shape)"
   ]
  },
  {
   "cell_type": "code",
   "execution_count": 20,
   "id": "9237f4d8",
   "metadata": {},
   "outputs": [
    {
     "name": "stdout",
     "output_type": "stream",
     "text": [
      "[[1 2 3]] <class 'numpy.ndarray'> (1, 3)\n"
     ]
    }
   ],
   "source": [
    "# 1개의 row와 3개의 column으로 구성된 2차원 배열\n",
    "\n",
    "array21 = np.array([[1, 2, 3]])\n",
    "print(array21, array21.shape)"
   ]
  },
  {
   "cell_type": "code",
   "execution_count": 22,
   "id": "a130503b",
   "metadata": {},
   "outputs": [
    {
     "name": "stdout",
     "output_type": "stream",
     "text": [
      "[[['1' '2' '3' '4' '5']\n",
      "  ['6' '7' '8' '9' '10']]\n",
      "\n",
      " [['a' 'b' 'c' 'd' 'e']\n",
      "  ['f' 'g' 'h' 'i' 'j']]\n",
      "\n",
      " [['ㄱ' 'ㄴ' 'ㄷ' 'ㄹ' 'ㅁ']\n",
      "  ['ㅂ' 'ㅅ' 'ㅇ' 'ㅈ' 'ㅊ']]] (3, 2, 5) <class 'numpy.ndarray'>\n"
     ]
    }
   ],
   "source": [
    "# 3차원\n",
    "\n",
    "array3 = np.array([[[1, 2, 3, 4, 5], [6, 7, 8, 9, 10]],\n",
    "                   [['a', 'b', 'c', 'd', 'e'], ['f', 'g', 'h', 'i', 'j']],\n",
    "                   [['ㄱ', 'ㄴ', 'ㄷ', 'ㄹ', 'ㅁ'], ['ㅂ', 'ㅅ', 'ㅇ', 'ㅈ', 'ㅊ']]])\n",
    "print(array3, array3.shape, type(array3))"
   ]
  },
  {
   "cell_type": "code",
   "execution_count": 23,
   "id": "b47181d2",
   "metadata": {},
   "outputs": [],
   "source": [
    "# 경고 메시지 제외 처리\n",
    "\n",
    "import warnings\n",
    "warnings.filterwarnings('ignore')"
   ]
  },
  {
   "cell_type": "markdown",
   "id": "3c03cb21",
   "metadata": {},
   "source": [
    "배열 생성 및 초기화\n",
    "- Numpy는 원하는 shape로 배열을 설정하고 각 요소를 특정 값으로 초기화하는 zeros, ones, full, eye 함수 제공\n",
    "- 파라미터로 입력한 배열과 같은 shape의 배열을 만드는 zeros_like, ones_like, full_like 함수도 제공"
   ]
  },
  {
   "cell_type": "code",
   "execution_count": 29,
   "id": "1656d8b5",
   "metadata": {},
   "outputs": [
    {
     "name": "stdout",
     "output_type": "stream",
     "text": [
      "[0. 0. 0. 0. 0. 0. 0. 0. 0. 0.] \n",
      "\n",
      "[[0. 0. 0. 0. 0. 0.]\n",
      " [0. 0. 0. 0. 0. 0.]\n",
      " [0. 0. 0. 0. 0. 0.]] \n",
      "\n",
      "[[[0. 0.]\n",
      "  [0. 0.]\n",
      "  [0. 0.]]\n",
      "\n",
      " [[0. 0.]\n",
      "  [0. 0.]\n",
      "  [0. 0.]]]\n"
     ]
    }
   ],
   "source": [
    "print(np.zeros(10), '\\n')\n",
    "print(np.zeros((3, 6)), '\\n')\n",
    "print(np.zeros((2, 3, 2)))"
   ]
  },
  {
   "cell_type": "code",
   "execution_count": 28,
   "id": "4d78de06",
   "metadata": {},
   "outputs": [
    {
     "name": "stdout",
     "output_type": "stream",
     "text": [
      "[[[1. 1.]\n",
      "  [1. 1.]\n",
      "  [1. 1.]]\n",
      "\n",
      " [[1. 1.]\n",
      "  [1. 1.]\n",
      "  [1. 1.]]]\n"
     ]
    }
   ],
   "source": [
    "print(np.ones((2, 3, 2)))"
   ]
  },
  {
   "cell_type": "code",
   "execution_count": 31,
   "id": "fe3a2e67",
   "metadata": {},
   "outputs": [
    {
     "name": "stdout",
     "output_type": "stream",
     "text": [
      "[[5 5]\n",
      " [5 5]]\n"
     ]
    }
   ],
   "source": [
    "# full: n행 n열 배열을 _로 채우는 것\n",
    "\n",
    "ar1 = np.full((2, 2), 5)\n",
    "print(ar1)"
   ]
  },
  {
   "cell_type": "code",
   "execution_count": 32,
   "id": "3a9146c4",
   "metadata": {},
   "outputs": [
    {
     "name": "stdout",
     "output_type": "stream",
     "text": [
      "[[1. 0. 0.]\n",
      " [0. 1. 0.]\n",
      " [0. 0. 1.]]\n"
     ]
    }
   ],
   "source": [
    "# 항등행렬, 단위행렬\n",
    "\n",
    "ar2 = np.eye(3)\n",
    "print(ar2)"
   ]
  },
  {
   "cell_type": "code",
   "execution_count": 4,
   "id": "573b3889",
   "metadata": {},
   "outputs": [
    {
     "name": "stdout",
     "output_type": "stream",
     "text": [
      "[[1 2 3]\n",
      " [4 5 6]\n",
      " [7 8 9]]\n",
      "\n",
      "[[0. 0. 0.]\n",
      " [0. 0. 0.]\n",
      " [0. 0. 0.]] float64\n",
      "\n",
      "[[1. 1. 1.]\n",
      " [1. 1. 1.]\n",
      " [1. 1. 1.]] float64\n",
      "\n",
      "[[6. 6. 6.]\n",
      " [6. 6. 6.]\n",
      " [6. 6. 6.]] float32\n",
      "\n"
     ]
    }
   ],
   "source": [
    "# [과제] zeros_like, ones_like, full_like 함수 사용 예 작성\n",
    "\n",
    "import numpy as np\n",
    "\n",
    "a = np.array([[1, 2, 3], [4, 5, 6], [7, 8, 9]])\n",
    "print(a)\n",
    "print()\n",
    "\n",
    "ar1 = np.zeros_like(a)\n",
    "ar2 = ar1.astype(float)\n",
    "print(ar2, ar2.dtype)\n",
    "print()\n",
    "\n",
    "ar3 = np.ones_like(a)\n",
    "ar4 = ar3.astype(float)\n",
    "print(ar4, ar4.dtype)\n",
    "print()\n",
    "\n",
    "ar5 = np.full_like(a, 6)\n",
    "ar6 = ar5.astype('float32')\n",
    "print(ar6, ar6.dtype)\n",
    "print()"
   ]
  },
  {
   "cell_type": "code",
   "execution_count": 34,
   "id": "06f00ddb",
   "metadata": {},
   "outputs": [
    {
     "data": {
      "text/plain": [
       "array([ 0,  1,  2,  3,  4,  5,  6,  7,  8,  9, 10, 11, 12, 13, 14])"
      ]
     },
     "execution_count": 34,
     "metadata": {},
     "output_type": "execute_result"
    }
   ],
   "source": [
    "# arange 함수 : python의 range 함수의 배열 버전\n",
    "\n",
    "arr1 = np.arange(15)\n",
    "# arr1 = range(15) # 배열 생성되지 않음 / (0, 15)의 범위튜플만 생성\n",
    "arr1"
   ]
  },
  {
   "cell_type": "code",
   "execution_count": 38,
   "id": "69cb2efa",
   "metadata": {},
   "outputs": [
    {
     "name": "stdout",
     "output_type": "stream",
     "text": [
      "[[ 0  1  2  3  4]\n",
      " [ 5  6  7  8  9]\n",
      " [10 11 12 13 14]] \n",
      "\n",
      "[[[ 0  1  2  3  4]\n",
      "  [ 5  6  7  8  9]\n",
      "  [10 11 12 13 14]]] (1, 3, 5)\n"
     ]
    }
   ],
   "source": [
    "arr2 = arr1.reshape(3, 5)\n",
    "print(arr2, '\\n')\n",
    "arr3 = arr1. reshape(1, 3, 5)\n",
    "print(arr3, arr3.shape)"
   ]
  },
  {
   "cell_type": "code",
   "execution_count": 42,
   "id": "1053f58a",
   "metadata": {},
   "outputs": [
    {
     "name": "stdout",
     "output_type": "stream",
     "text": [
      "[[0 1]\n",
      " [2 3]\n",
      " [4 5]\n",
      " [6 7]\n",
      " [8 9]] (5, 2)\n"
     ]
    }
   ],
   "source": [
    "# 연습문제 - array1에 reshape 함수를 이용, (5, 2) 배열을 생성하고 크기를 같이 출력\n",
    "\n",
    "array1 = np.arange(10)\n",
    "\n",
    "array2 = array1.reshape(5, 2)\n",
    "print(array2, array2.shape)"
   ]
  },
  {
   "cell_type": "code",
   "execution_count": 45,
   "id": "39252efd",
   "metadata": {},
   "outputs": [
    {
     "name": "stdout",
     "output_type": "stream",
     "text": [
      "[[ 0  1  2  3  4]\n",
      " [ 5  6  7  8  9]\n",
      " [10 11 12 13 14]\n",
      " [15 16 17 18 19]\n",
      " [20 21 22 23 24]\n",
      " [25 26 27 28 29]] \n",
      "\n",
      "[[[ 0  1  2  3  4]\n",
      "  [ 5  6  7  8  9]]\n",
      "\n",
      " [[10 11 12 13 14]\n",
      "  [15 16 17 18 19]]\n",
      "\n",
      " [[20 21 22 23 24]\n",
      "  [25 26 27 28 29]]]\n"
     ]
    }
   ],
   "source": [
    "# 연습문제 - 0~29 일차원 배열을 생성한 후 다시 2, 3차원 배열로 변혼하여 출력\n",
    "\n",
    "array1 = np.arange(30)\n",
    "\n",
    "print(array1.reshape(6, 5), '\\n')\n",
    "print(array1.reshape(3, 2, 5))"
   ]
  },
  {
   "cell_type": "code",
   "execution_count": 48,
   "id": "978defd7",
   "metadata": {},
   "outputs": [
    {
     "name": "stdout",
     "output_type": "stream",
     "text": [
      "[[ 0  1  2  3  4  5]\n",
      " [ 6  7  8  9 10 11]\n",
      " [12 13 14 15 16 17]\n",
      " [18 19 20 21 22 23]\n",
      " [24 25 26 27 28 29]] (5, 6) \n",
      "\n",
      "[[[ 0  1  2  3  4]\n",
      "  [ 5  6  7  8  9]]\n",
      "\n",
      " [[10 11 12 13 14]\n",
      "  [15 16 17 18 19]]\n",
      "\n",
      " [[20 21 22 23 24]\n",
      "  [25 26 27 28 29]]] (3, 2, 5)\n"
     ]
    }
   ],
   "source": [
    "# reshape(-1, -1) 이용, 차원 변경\n",
    "# -1: 임의로 조정\n",
    "\n",
    "array1 = np.arange(30)\n",
    "ar12 = array1.reshape(5, -1)\n",
    "print(ar12, ar12.shape, '\\n')\n",
    "ar13 = array1.reshape(-1, 2, 5)\n",
    "print(ar13, ar13.shape)"
   ]
  },
  {
   "cell_type": "code",
   "execution_count": 53,
   "id": "969d6130",
   "metadata": {},
   "outputs": [
    {
     "name": "stdout",
     "output_type": "stream",
     "text": [
      "[ 0  1  2  3  4  5  6  7  8  9 10 11 12 13 14 15 16 17 18 19 20 21 22 23\n",
      " 24 25 26 27 28 29] \n",
      "\n",
      "[[[ 0  1  2  3  4]\n",
      "  [ 5  6  7  8  9]]\n",
      "\n",
      " [[10 11 12 13 14]\n",
      "  [15 16 17 18 19]]\n",
      "\n",
      " [[20 21 22 23 24]\n",
      "  [25 26 27 28 29]]]\n"
     ]
    }
   ],
   "source": [
    "# 2 -> 1, 3차원으로 변환하여 출력\n",
    "\n",
    "ar12\n",
    "print(ar12.reshape(-1,), '\\n')\n",
    "print(ar12.reshape(-1, 2, 5))"
   ]
  },
  {
   "cell_type": "code",
   "execution_count": 56,
   "id": "a0225531",
   "metadata": {
    "scrolled": false
   },
   "outputs": [
    {
     "name": "stdout",
     "output_type": "stream",
     "text": [
      "[ 0  1  2  3  4  5  6  7  8  9 10 11 12 13 14 15 16 17 18 19 20 21 22 23\n",
      " 24 25 26 27 28 29] \n",
      "\n",
      "[[ 0  1  2  3  4]\n",
      " [ 5  6  7  8  9]\n",
      " [10 11 12 13 14]\n",
      " [15 16 17 18 19]\n",
      " [20 21 22 23 24]\n",
      " [25 26 27 28 29]]\n"
     ]
    }
   ],
   "source": [
    "# 3 -> 1, 2차원으로 변환하여 출력\n",
    "\n",
    "ar13\n",
    "print(ar13.reshape(-1,), '\\n')\n",
    "print(ar13.reshape(-1, 5))"
   ]
  },
  {
   "cell_type": "markdown",
   "id": "cce77909",
   "metadata": {},
   "source": [
    "행렬의 종류\n",
    "- 정방행렬은 행과 열의 수가 같은 행렬\n",
    "- 대각행렬은 주대각선 원소를 제외한 모든 원소들이 0인 정방행렬\n",
    "- 항등핼렬은 행렬 곱셈 연산에 항등원으로 작용하는 행렬\n",
    "- 영행렬은 모든 원소가 0인 행렬로 곱셈 연산에서 영원으로 작용하는 행렬\n",
    "- 전치행렬은 주대각선 원소를 기준으로 행과 열을 바꿔주는 행렬\n",
    "- 직교행렬은 행렬 A의 역행렬이 A의 전치행렬이고 A의 전치행렬과 A 행렬을 곱하였을 때 항등행렬이 나오는 행렬"
   ]
  },
  {
   "cell_type": "code",
   "execution_count": 59,
   "id": "d08dd07d",
   "metadata": {},
   "outputs": [
    {
     "name": "stdout",
     "output_type": "stream",
     "text": [
      "[[7 7 7 7 7]\n",
      " [7 7 7 7 7]\n",
      " [7 7 7 7 7]\n",
      " [7 7 7 7 7]\n",
      " [7 7 7 7 7]]\n"
     ]
    }
   ],
   "source": [
    "# 정방행렬\n",
    "\n",
    "arr = np.full((5, 5), 7)\n",
    "print(arr)"
   ]
  },
  {
   "cell_type": "code",
   "execution_count": 60,
   "id": "96615479",
   "metadata": {
    "scrolled": true
   },
   "outputs": [
    {
     "name": "stdout",
     "output_type": "stream",
     "text": [
      "[[1. 0. 0. 0. 0.]\n",
      " [0. 1. 0. 0. 0.]\n",
      " [0. 0. 1. 0. 0.]\n",
      " [0. 0. 0. 1. 0.]\n",
      " [0. 0. 0. 0. 1.]]\n"
     ]
    }
   ],
   "source": [
    "# 항등행렬, 단위행렬\n",
    "\n",
    "arr = np.eye(5)\n",
    "print(arr)"
   ]
  },
  {
   "cell_type": "code",
   "execution_count": 66,
   "id": "d646ebaa",
   "metadata": {},
   "outputs": [
    {
     "name": "stdout",
     "output_type": "stream",
     "text": [
      "[[0. 0. 0. 0. 0.]\n",
      " [0. 0. 0. 0. 0.]\n",
      " [0. 0. 0. 0. 0.]\n",
      " [0. 0. 0. 0. 0.]\n",
      " [0. 0. 0. 0. 0.]]\n"
     ]
    }
   ],
   "source": [
    "# 영행렬\n",
    "\n",
    "arr = np.zeros(25)\n",
    "print(arr.reshape(5, 5))"
   ]
  },
  {
   "cell_type": "markdown",
   "id": "f7f871ad",
   "metadata": {},
   "source": [
    "ndarray 데이터 형태 지정 및 변경\n",
    "<img src = '데이터형태.jpg' STYLE='width:300px;'>"
   ]
  },
  {
   "cell_type": "code",
   "execution_count": 67,
   "id": "8d38ad3e",
   "metadata": {},
   "outputs": [
    {
     "name": "stdout",
     "output_type": "stream",
     "text": [
      "[1. 2. 3.] float64 \n",
      "\n",
      "[1 2 3] int32\n"
     ]
    }
   ],
   "source": [
    "arr1 = np.array([1, 2, 3], dtype = np.float64)\n",
    "arr2 = np.array([1, 2, 3], dtype = np.int32)\n",
    "print(arr1, arr1.dtype, '\\n')\n",
    "print(arr2, arr2.dtype)"
   ]
  },
  {
   "cell_type": "code",
   "execution_count": 71,
   "id": "2bfba351",
   "metadata": {},
   "outputs": [
    {
     "name": "stdout",
     "output_type": "stream",
     "text": [
      "int32\n",
      "float64\n"
     ]
    }
   ],
   "source": [
    "# 타입 변경\n",
    "\n",
    "arr = np.array([1, 2, 3, 4, 5])\n",
    "print(arr.dtype)\n",
    "float_arr = arr.astype(np.float64)\n",
    "print(float_arr.dtype)"
   ]
  },
  {
   "cell_type": "code",
   "execution_count": 73,
   "id": "3b2ca65b",
   "metadata": {},
   "outputs": [
    {
     "data": {
      "text/plain": [
       "array([1., 1., 1., 1., 1., 1., 1., 1., 1., 1.])"
      ]
     },
     "execution_count": 73,
     "metadata": {},
     "output_type": "execute_result"
    }
   ],
   "source": [
    "np.ones(10)"
   ]
  },
  {
   "cell_type": "code",
   "execution_count": 86,
   "id": "6daf1db2",
   "metadata": {},
   "outputs": [
    {
     "name": "stdout",
     "output_type": "stream",
     "text": [
      "[0 0 0 0 0 0 0 0 0 0]\n",
      "[0 0 0 0 0 0 0 0 0 0]\n"
     ]
    }
   ],
   "source": [
    "# empty 함수: shape와 dtype을 입력 받아 초기화되지 않은 배열을 만들어준다. cf. zeros 함수\n",
    "# empty 함수를 실행할 때마다 값이 다른 것을 확인할 수 있다. 이는 해당 메모리 영역에 어떤 데이터가 남아있던지 상관없이\n",
    "# 그대로 영역의 주소만 알려줄 뿐 초기화는 사용자에게 맡기기 때문임.\n",
    "\n",
    "print(np.empty(shape=(10,), dtype=np.int8)) # 이미 메모리에 존재하는 데이터로 배열 생성\n",
    "print(np.zeros(shape=(10,), dtype=np.int8)) # 초기화하여 배열 생성"
   ]
  },
  {
   "cell_type": "code",
   "execution_count": 90,
   "id": "1abc6bfb",
   "metadata": {},
   "outputs": [
    {
     "name": "stdout",
     "output_type": "stream",
     "text": [
      "[b'1' b'2' b'3' b'4'] |S1\n"
     ]
    }
   ],
   "source": [
    "# 문자열 타입으로 배열 만들기\n",
    "\n",
    "# arr = np.array([1, 2, 3, 4], dtype='S')\n",
    "arr = np.array([1, 2, 3, 4], dtype = np.string_)\n",
    "print(arr, arr.dtype)"
   ]
  },
  {
   "cell_type": "code",
   "execution_count": 85,
   "id": "ca7312e9",
   "metadata": {
    "scrolled": true
   },
   "outputs": [
    {
     "name": "stdout",
     "output_type": "stream",
     "text": [
      "[1. 2. 3. 4.] float64\n"
     ]
    }
   ],
   "source": [
    "arr1 = arr.astype(float) # 기본이 float64기 때문\n",
    "# arr1 = arr.astype('float32')\n",
    "print(arr1, arr1.dtype)"
   ]
  },
  {
   "cell_type": "code",
   "execution_count": 91,
   "id": "7d1ec1fa",
   "metadata": {},
   "outputs": [
    {
     "name": "stdout",
     "output_type": "stream",
     "text": [
      "[1.2 2.3 3. ] float64 \n",
      "\n",
      "[1 2 3] int32\n"
     ]
    }
   ],
   "source": [
    "# 정수와 실수로 구성된 list_e = [1.2, 2.3, 3]을 numpy를 이용해서 실수형과 정수형으로 각각 출력\n",
    "\n",
    "list_e = [1.2, 2.3, 3]\n",
    "\n",
    "array_e1 = np.array(list_e)\n",
    "print(array_e1, array_e1.dtype, '\\n')\n",
    "\n",
    "array_e2 = array_e1.astype(int)\n",
    "print(array_e2, array_e2.dtype)"
   ]
  },
  {
   "cell_type": "code",
   "execution_count": 94,
   "id": "835b49c5",
   "metadata": {},
   "outputs": [
    {
     "name": "stdout",
     "output_type": "stream",
     "text": [
      "[[1 2 3]\n",
      " [4 5 6]] int32\n"
     ]
    }
   ],
   "source": [
    "# 배열의 산술 연산\n",
    "\n",
    "# arr = np.array([[1, 2, 3], [4, 5, 6]])\n",
    "arr = np.arange(1, 7).reshape(2, 3)\n",
    "print(arr, arr.dtype)"
   ]
  },
  {
   "cell_type": "code",
   "execution_count": 95,
   "id": "199730fd",
   "metadata": {},
   "outputs": [
    {
     "data": {
      "text/plain": [
       "array([[ 1,  4,  9],\n",
       "       [16, 25, 36]])"
      ]
     },
     "execution_count": 95,
     "metadata": {},
     "output_type": "execute_result"
    }
   ],
   "source": [
    "arr * arr # 같은 위치에 있는 것끼리 곱셈"
   ]
  },
  {
   "cell_type": "code",
   "execution_count": 96,
   "id": "be348919",
   "metadata": {},
   "outputs": [
    {
     "data": {
      "text/plain": [
       "array([[0, 0, 0],\n",
       "       [0, 0, 0]])"
      ]
     },
     "execution_count": 96,
     "metadata": {},
     "output_type": "execute_result"
    }
   ],
   "source": [
    "arr - arr # 같은 위치에 있는 것끼리 뺄셈"
   ]
  },
  {
   "cell_type": "code",
   "execution_count": 97,
   "id": "4953385f",
   "metadata": {},
   "outputs": [
    {
     "data": {
      "text/plain": [
       "array([[ 0.,  4.,  1.],\n",
       "       [ 7.,  2., 12.]])"
      ]
     },
     "execution_count": 97,
     "metadata": {},
     "output_type": "execute_result"
    }
   ],
   "source": [
    "arr2 = np.array([[0., 4., 1.], [7., 2., 12.]])\n",
    "arr2"
   ]
  },
  {
   "cell_type": "code",
   "execution_count": 98,
   "id": "cc361776",
   "metadata": {},
   "outputs": [
    {
     "data": {
      "text/plain": [
       "array([[False,  True, False],\n",
       "       [ True, False,  True]])"
      ]
     },
     "execution_count": 98,
     "metadata": {},
     "output_type": "execute_result"
    }
   ],
   "source": [
    "arr2 > arr"
   ]
  },
  {
   "cell_type": "code",
   "execution_count": 109,
   "id": "459474c1",
   "metadata": {},
   "outputs": [
    {
     "name": "stdout",
     "output_type": "stream",
     "text": [
      "[[12 14 16]\n",
      " [18 20 22]\n",
      " [24 26 28]] \n",
      "\n",
      "[[12 14 16]\n",
      " [18 20 22]\n",
      " [24 26 28]] \n",
      "\n",
      "\n",
      "[[10 10 10]\n",
      " [10 10 10]\n",
      " [10 10 10]] \n",
      "\n",
      "[[10 10 10]\n",
      " [10 10 10]\n",
      " [10 10 10]] \n",
      "\n",
      "\n",
      "[[ 11  24  39]\n",
      " [ 56  75  96]\n",
      " [119 144 171]] \n",
      "\n",
      "[[ 11  24  39]\n",
      " [ 56  75  96]\n",
      " [119 144 171]] \n",
      "\n",
      "\n",
      "[[11.          6.          4.33333333]\n",
      " [ 3.5         3.          2.66666667]\n",
      " [ 2.42857143  2.25        2.11111111]] \n",
      "\n",
      "[[11.          6.          4.33333333]\n",
      " [ 3.5         3.          2.66666667]\n",
      " [ 2.42857143  2.25        2.11111111]] \n",
      "\n",
      "\n"
     ]
    }
   ],
   "source": [
    "# 기본 사칙연산\n",
    "\n",
    "value1 = np.arange(1, 10).reshape(3, 3)\n",
    "value2 = np.arange(11, 20).reshape(3, 3)\n",
    "\n",
    "print(value2 + value1, '\\n')\n",
    "print(np.add(value2, value1), '\\n\\n')\n",
    "\n",
    "print(value2 - value1, '\\n')\n",
    "print(np.subtract(value2, value1), '\\n\\n')\n",
    "\n",
    "print(value2 * value1, '\\n')\n",
    "print(np.multiply(value2, value1), '\\n\\n')\n",
    "\n",
    "print(value2 / value1, '\\n')\n",
    "print(np.divide(value2, value1), '\\n\\n')"
   ]
  },
  {
   "cell_type": "code",
   "execution_count": 129,
   "id": "1f077385",
   "metadata": {},
   "outputs": [
    {
     "data": {
      "text/plain": [
       "array([[ 0.52739866, -0.82461019],\n",
       "       [ 0.53849778, -0.0836818 ]])"
      ]
     },
     "execution_count": 129,
     "metadata": {},
     "output_type": "execute_result"
    }
   ],
   "source": [
    "arr = np.random.randn(2, 2)\n",
    "arr"
   ]
  },
  {
   "cell_type": "code",
   "execution_count": 126,
   "id": "772a8387",
   "metadata": {},
   "outputs": [
    {
     "data": {
      "text/plain": [
       "-0.0681"
      ]
     },
     "execution_count": 126,
     "metadata": {},
     "output_type": "execute_result"
    }
   ],
   "source": [
    "arr.mean().round(4)"
   ]
  },
  {
   "cell_type": "code",
   "execution_count": 130,
   "id": "3231ece9",
   "metadata": {},
   "outputs": [
    {
     "data": {
      "text/plain": [
       "array([-0.14860577,  0.22740799])"
      ]
     },
     "execution_count": 130,
     "metadata": {},
     "output_type": "execute_result"
    }
   ],
   "source": [
    "arr.mean(axis=1) # 행 평균"
   ]
  },
  {
   "cell_type": "code",
   "execution_count": 131,
   "id": "41fc6bdd",
   "metadata": {},
   "outputs": [
    {
     "data": {
      "text/plain": [
       "array([ 0.53294822, -0.454146  ])"
      ]
     },
     "execution_count": 131,
     "metadata": {},
     "output_type": "execute_result"
    }
   ],
   "source": [
    "arr.mean(axis=0) # 열 평균"
   ]
  },
  {
   "cell_type": "code",
   "execution_count": 132,
   "id": "10f73544",
   "metadata": {},
   "outputs": [
    {
     "data": {
      "text/plain": [
       "0.1576"
      ]
     },
     "execution_count": 132,
     "metadata": {},
     "output_type": "execute_result"
    }
   ],
   "source": [
    "arr.sum().round(4)"
   ]
  },
  {
   "cell_type": "code",
   "execution_count": 133,
   "id": "0691b377",
   "metadata": {},
   "outputs": [
    {
     "data": {
      "text/plain": [
       "array([ 0.52739866, -0.43489831, -0.23419177,  0.01959759])"
      ]
     },
     "execution_count": 133,
     "metadata": {},
     "output_type": "execute_result"
    }
   ],
   "source": [
    "arr.cumprod()"
   ]
  },
  {
   "cell_type": "code",
   "execution_count": 135,
   "id": "00c83c59",
   "metadata": {},
   "outputs": [
    {
     "data": {
      "text/plain": [
       "array([[1, 2, 3],\n",
       "       [4, 5, 6],\n",
       "       [7, 8, 9]])"
      ]
     },
     "execution_count": 135,
     "metadata": {},
     "output_type": "execute_result"
    }
   ],
   "source": [
    "# 인덱싱, 슬라이싱\n",
    "\n",
    "arr2d = np.arange(1, 10).reshape(3, 3)\n",
    "arr2d"
   ]
  },
  {
   "cell_type": "code",
   "execution_count": 137,
   "id": "cf048404",
   "metadata": {},
   "outputs": [
    {
     "data": {
      "text/plain": [
       "9"
      ]
     },
     "execution_count": 137,
     "metadata": {},
     "output_type": "execute_result"
    }
   ],
   "source": [
    "arr2d[2][2]"
   ]
  },
  {
   "cell_type": "code",
   "execution_count": 141,
   "id": "6ebf439e",
   "metadata": {},
   "outputs": [
    {
     "data": {
      "text/plain": [
       "array([1, 4, 7])"
      ]
     },
     "execution_count": 141,
     "metadata": {},
     "output_type": "execute_result"
    }
   ],
   "source": [
    "arr2d[:, 0]"
   ]
  },
  {
   "cell_type": "code",
   "execution_count": 158,
   "id": "9b267bc4",
   "metadata": {},
   "outputs": [
    {
     "data": {
      "text/plain": [
       "array([[1, 2, 3],\n",
       "       [4, 5, 6]])"
      ]
     },
     "execution_count": 158,
     "metadata": {},
     "output_type": "execute_result"
    }
   ],
   "source": [
    "arr2d[:2, :]\n",
    "# arr2d[[0, 2], :] # 0, 2 행, 모든 열 출력"
   ]
  },
  {
   "cell_type": "code",
   "execution_count": 156,
   "id": "03d8eb82",
   "metadata": {},
   "outputs": [
    {
     "name": "stdout",
     "output_type": "stream",
     "text": [
      "[3 6]\n",
      "[[1 2]\n",
      " [4 5]]\n"
     ]
    }
   ],
   "source": [
    "# arr2d에서 [3, 6], [[1, 2], [4, 5]]을 출력\n",
    "\n",
    "print(arr2d[:2, 2])\n",
    "print(arr2d[:2, :2])"
   ]
  },
  {
   "cell_type": "code",
   "execution_count": 159,
   "id": "18b4f36f",
   "metadata": {},
   "outputs": [
    {
     "data": {
      "text/plain": [
       "array([[ 0,  1,  2,  3,  4,  5],\n",
       "       [ 6,  7,  8,  9, 10, 11],\n",
       "       [12, 13, 14, 15, 16, 17],\n",
       "       [18, 19, 20, 21, 22, 23],\n",
       "       [24, 25, 26, 27, 28, 29]])"
      ]
     },
     "execution_count": 159,
     "metadata": {},
     "output_type": "execute_result"
    }
   ],
   "source": [
    "arr = np.arange(30).reshape(5, 6)\n",
    "arr"
   ]
  },
  {
   "cell_type": "code",
   "execution_count": 178,
   "id": "2ff3f4b1",
   "metadata": {},
   "outputs": [
    {
     "name": "stdout",
     "output_type": "stream",
     "text": [
      "[14 15 16]\n",
      "[3 9]\n",
      "[ 1  7 13]\n"
     ]
    }
   ],
   "source": [
    "print(arr[2][2:5])\n",
    "print(arr[[0, 1],3])\n",
    "print(arr[:3, 1])"
   ]
  },
  {
   "cell_type": "code",
   "execution_count": 182,
   "id": "9f61e4fd",
   "metadata": {},
   "outputs": [
    {
     "name": "stdout",
     "output_type": "stream",
     "text": [
      "[[0, 1, 2, 3, 4, 5], [6, 7, 8, 9, 10, 11], [12, 13, 14, 15, 16, 17], [18, 19, 20, 21, 22, 23], [24, 25, 26, 27, 28, 29]] <class 'list'>\n"
     ]
    }
   ],
   "source": [
    "# 배열을 리스트로 변환\n",
    "\n",
    "li = arr.tolist()\n",
    "print(li, type(li))"
   ]
  },
  {
   "cell_type": "code",
   "execution_count": 186,
   "id": "bd7b1b22",
   "metadata": {},
   "outputs": [
    {
     "name": "stdout",
     "output_type": "stream",
     "text": [
      "[1 2 3 4 5 6 7 8 9]\n",
      "[6 7 8 9]\n",
      "[False False False False False  True  True  True  True]\n"
     ]
    }
   ],
   "source": [
    "# Boolean indexing\n",
    "\n",
    "arr1d = np.arange(1, 10)\n",
    "print(arr1d)\n",
    "arr3 = arr1d[arr1d>5] # 조건에 맞는 것은 true, 맞지 않는 것은 false로 true인 것만 저장\n",
    "print(arr3)\n",
    "print(arr1d>5)"
   ]
  },
  {
   "cell_type": "code",
   "execution_count": 187,
   "id": "9f3ec057",
   "metadata": {},
   "outputs": [
    {
     "name": "stdout",
     "output_type": "stream",
     "text": [
      "[6 7 8 9]\n"
     ]
    }
   ],
   "source": [
    "# arr1d에서 일반 인덱스를 이용해서 [6, 7, 8, 9] 출력\n",
    "\n",
    "print(arr1d[5:])"
   ]
  },
  {
   "cell_type": "code",
   "execution_count": 193,
   "id": "4dc51604",
   "metadata": {},
   "outputs": [
    {
     "name": "stdout",
     "output_type": "stream",
     "text": [
      "[11 12 13 14]\n"
     ]
    }
   ],
   "source": [
    "# 연습문제 - 1 ~ 14 ndarray를 만들어 array_e로 저장하고 (array_e / 2) > 5를 만족하는 값을 불린 인덱싱으로 출력\n",
    "\n",
    "array_e = np.arange(1, 15)\n",
    "# print(array_e / 2 > 5)\n",
    "\n",
    "array = array_e[(array_e / 2) > 5]\n",
    "print(array)"
   ]
  },
  {
   "cell_type": "code",
   "execution_count": 211,
   "id": "9eaecbc5",
   "metadata": {
    "scrolled": true
   },
   "outputs": [
    {
     "name": "stdout",
     "output_type": "stream",
     "text": [
      "['Bob' 'Joe' 'Will' 'Bob' 'Will' 'Joe' 'Joe'] \n",
      "\n",
      "[[-0.4763729   0.98183395  0.33654586 -0.01370388]\n",
      " [-0.28843328  0.1497836   0.03520114  0.60740693]\n",
      " [-0.82389244 -0.40819936 -1.02699469  0.79460177]\n",
      " [ 0.84284764  0.63482795 -0.99760364  0.78075436]\n",
      " [ 0.79813896 -0.87565696  1.27412287  1.23993281]\n",
      " [-0.68083747 -1.18121484 -0.09390995 -0.29950933]\n",
      " [-0.3919429  -0.81010007  0.2775935  -0.91293963]]\n"
     ]
    }
   ],
   "source": [
    "names = np.array(['Bob', 'Joe', 'Will', 'Bob', 'Will', 'Joe', 'Joe'])\n",
    "data = np.random.randn(7, 4)\n",
    "\n",
    "print(names, '\\n')\n",
    "print(data)"
   ]
  },
  {
   "cell_type": "code",
   "execution_count": 212,
   "id": "718e94f9",
   "metadata": {},
   "outputs": [
    {
     "data": {
      "text/plain": [
       "array([ True, False, False,  True, False, False, False])"
      ]
     },
     "execution_count": 212,
     "metadata": {},
     "output_type": "execute_result"
    }
   ],
   "source": [
    "names == 'Bob' # 0 번째, 3 번째 인덱스가 True"
   ]
  },
  {
   "cell_type": "code",
   "execution_count": 213,
   "id": "ade2c392",
   "metadata": {},
   "outputs": [
    {
     "data": {
      "text/plain": [
       "array([[-0.4763729 ,  0.98183395,  0.33654586, -0.01370388],\n",
       "       [ 0.84284764,  0.63482795, -0.99760364,  0.78075436]])"
      ]
     },
     "execution_count": 213,
     "metadata": {},
     "output_type": "execute_result"
    }
   ],
   "source": [
    "data[names == 'Bob'] # 0 번째 3 번째 인덱스(True 인덱스) 출력"
   ]
  },
  {
   "cell_type": "code",
   "execution_count": 214,
   "id": "57da5af0",
   "metadata": {},
   "outputs": [
    {
     "data": {
      "text/plain": [
       "array([[ 0.33654586, -0.01370388],\n",
       "       [-0.99760364,  0.78075436]])"
      ]
     },
     "execution_count": 214,
     "metadata": {},
     "output_type": "execute_result"
    }
   ],
   "source": [
    "data[names == 'Bob', 2:] # 0, 3번째 행 / 2: 번째 열"
   ]
  },
  {
   "cell_type": "code",
   "execution_count": 215,
   "id": "a5b61fd4",
   "metadata": {},
   "outputs": [
    {
     "data": {
      "text/plain": [
       "array([[-0.28843328,  0.1497836 ,  0.03520114,  0.60740693],\n",
       "       [-0.82389244, -0.40819936, -1.02699469,  0.79460177],\n",
       "       [ 0.79813896, -0.87565696,  1.27412287,  1.23993281],\n",
       "       [-0.68083747, -1.18121484, -0.09390995, -0.29950933],\n",
       "       [-0.3919429 , -0.81010007,  0.2775935 , -0.91293963]])"
      ]
     },
     "execution_count": 215,
     "metadata": {},
     "output_type": "execute_result"
    }
   ],
   "source": [
    "# !=: 부정\n",
    "\n",
    "data[names != 'Bob']"
   ]
  },
  {
   "cell_type": "code",
   "execution_count": 216,
   "id": "1d88f243",
   "metadata": {
    "scrolled": true
   },
   "outputs": [
    {
     "data": {
      "text/plain": [
       "array([[-0.4763729 ,  0.98183395,  0.33654586, -0.01370388],\n",
       "       [-0.82389244, -0.40819936, -1.02699469,  0.79460177],\n",
       "       [ 0.84284764,  0.63482795, -0.99760364,  0.78075436],\n",
       "       [ 0.79813896, -0.87565696,  1.27412287,  1.23993281]])"
      ]
     },
     "execution_count": 216,
     "metadata": {},
     "output_type": "execute_result"
    }
   ],
   "source": [
    "# Bob이거나 Will인 것 출력\n",
    "\n",
    "mask = (names == 'Bob') | (names == 'Will')\n",
    "data[mask]"
   ]
  },
  {
   "cell_type": "code",
   "execution_count": 220,
   "id": "a21151c3",
   "metadata": {},
   "outputs": [
    {
     "name": "stdout",
     "output_type": "stream",
     "text": [
      "[[0.         0.98183395 0.33654586 0.        ]\n",
      " [0.         0.1497836  0.03520114 0.60740693]\n",
      " [0.         0.         0.         0.79460177]\n",
      " [0.84284764 0.63482795 0.         0.78075436]\n",
      " [0.79813896 0.         1.27412287 1.23993281]\n",
      " [0.         0.         0.         0.        ]\n",
      " [0.         0.         0.2775935  0.        ]]\n"
     ]
    }
   ],
   "source": [
    "# 음수를 모두 0으로 처리하여 출력\n",
    "\n",
    "data[data<0]=0\n",
    "print(data)"
   ]
  },
  {
   "cell_type": "code",
   "execution_count": 228,
   "id": "05bd1eae",
   "metadata": {},
   "outputs": [
    {
     "name": "stdout",
     "output_type": "stream",
     "text": [
      "[3, 6, 9, 12, 15, 18, 21, 24, 27, 30, 33, 36, 39, 42, 45, 48, 51, 54, 57, 60, 63, 66, 69, 72, 75, 78, 81, 84, 87, 90, 93, 96, 99]\n",
      "\n",
      "[ 3  6  9 12 15 18 21 24 27 30 33 36 39 42 45 48 51 54 57 60 63 66 69 72\n",
      " 75 78 81 84 87 90 93 96 99]\n"
     ]
    }
   ],
   "source": [
    "# [과제] 1 ~ 100 정수에서 3의 배수인 것만 출력 (for문과 배열 두 가지 방식)\n",
    "\n",
    "# for문\n",
    "ret = []\n",
    "for i in range(1, 101):\n",
    "    if(i%3 == 0):\n",
    "        ret.append(i)\n",
    "print(ret)\n",
    "\n",
    "print()\n",
    "\n",
    "# 배열\n",
    "arr = np.arange(1, 101)\n",
    "print(arr[arr%3==0])"
   ]
  },
  {
   "cell_type": "code",
   "execution_count": 233,
   "id": "99766b06",
   "metadata": {},
   "outputs": [
    {
     "name": "stdout",
     "output_type": "stream",
     "text": [
      "[10, 20, 30, 40, 50, 60, 70, 80, 90, 100]\n",
      "\n",
      "[ 10  20  30  40  50  60  70  80  90 100]\n"
     ]
    }
   ],
   "source": [
    "# [과제] 1 ~ 100 정수에서 5의 배수이면서 2의 배수인 것만을 출력(for문과 배열 두 가지 방식)\n",
    "\n",
    "# for문\n",
    "ret = []\n",
    "for i in range(1, 101):\n",
    "    if(i%5==0 and i%2==0):\n",
    "        ret.append(i)\n",
    "print(ret)\n",
    "\n",
    "print()\n",
    "\n",
    "# 배열\n",
    "arr = np.arange(1, 101)\n",
    "print(arr[(arr%5==0) & (arr%2==0)])"
   ]
  },
  {
   "cell_type": "code",
   "execution_count": 7,
   "id": "4e8863af",
   "metadata": {},
   "outputs": [
    {
     "name": "stdout",
     "output_type": "stream",
     "text": [
      "[[ 0.39844089  0.63892057  1.13691882  0.53992135  0.37668649]\n",
      " [ 0.79816553 -0.56097408  1.61993119 -1.42349187 -0.25235849]\n",
      " [ 1.38273851 -0.36029778  0.03894657  1.12284366 -0.20080339]\n",
      " [-0.01167598  0.26903037 -1.27019615 -0.43106201 -0.77649341]\n",
      " [-0.67845263  0.64532618  0.2238584  -0.43116984 -0.23756755]] \n",
      "\n",
      "0.10228741511247184\n",
      "0.7664363681793741\n"
     ]
    }
   ],
   "source": [
    "# [과제] 표준정규분포로 구성된 5행 5열 다차원 배열을 생성하고 함수를 이용하여 평균과 표준편차\n",
    "\n",
    "data = np.random.randn(5, 5)\n",
    "print(data, '\\n')\n",
    "\n",
    "# 평균\n",
    "print(data.mean())\n",
    "# 표준편차\n",
    "print(data.std())"
   ]
  },
  {
   "cell_type": "code",
   "execution_count": 240,
   "id": "f219a2c2",
   "metadata": {},
   "outputs": [
    {
     "name": "stdout",
     "output_type": "stream",
     "text": [
      "1.21.2\n"
     ]
    }
   ],
   "source": [
    "# [과제] 현재 사용하고 있는 numpy의 버전 출력\n",
    "\n",
    "import numpy\n",
    "\n",
    "print(numpy.__version__)"
   ]
  },
  {
   "cell_type": "code",
   "execution_count": 9,
   "id": "c3856747",
   "metadata": {},
   "outputs": [
    {
     "name": "stdout",
     "output_type": "stream",
     "text": [
      "add(x1, x2, /, out=None, *, where=True, casting='same_kind', order='K', dtype=None, subok=True[, signature, extobj])\n",
      "\n",
      "Add arguments element-wise.\n",
      "\n",
      "Parameters\n",
      "----------\n",
      "x1, x2 : array_like\n",
      "    The arrays to be added.\n",
      "    If ``x1.shape != x2.shape``, they must be broadcastable to a common\n",
      "    shape (which becomes the shape of the output).\n",
      "out : ndarray, None, or tuple of ndarray and None, optional\n",
      "    A location into which the result is stored. If provided, it must have\n",
      "    a shape that the inputs broadcast to. If not provided or None,\n",
      "    a freshly-allocated array is returned. A tuple (possible only as a\n",
      "    keyword argument) must have length equal to the number of outputs.\n",
      "where : array_like, optional\n",
      "    This condition is broadcast over the input. At locations where the\n",
      "    condition is True, the `out` array will be set to the ufunc result.\n",
      "    Elsewhere, the `out` array will retain its original value.\n",
      "    Note that if an uninitialized `out` array is created via the default\n",
      "    ``out=None``, locations within it where the condition is False will\n",
      "    remain uninitialized.\n",
      "**kwargs\n",
      "    For other keyword-only arguments, see the\n",
      "    :ref:`ufunc docs <ufuncs.kwargs>`.\n",
      "\n",
      "Returns\n",
      "-------\n",
      "add : ndarray or scalar\n",
      "    The sum of `x1` and `x2`, element-wise.\n",
      "    This is a scalar if both `x1` and `x2` are scalars.\n",
      "\n",
      "Notes\n",
      "-----\n",
      "Equivalent to `x1` + `x2` in terms of array broadcasting.\n",
      "\n",
      "Examples\n",
      "--------\n",
      ">>> np.add(1.0, 4.0)\n",
      "5.0\n",
      ">>> x1 = np.arange(9.0).reshape((3, 3))\n",
      ">>> x2 = np.arange(3.0)\n",
      ">>> np.add(x1, x2)\n",
      "array([[  0.,   2.,   4.],\n",
      "       [  3.,   5.,   7.],\n",
      "       [  6.,   8.,  10.]])\n",
      "\n",
      "The ``+`` operator can be used as a shorthand for ``np.add`` on ndarrays.\n",
      "\n",
      ">>> x1 = np.arange(9.0).reshape((3, 3))\n",
      ">>> x2 = np.arange(3.0)\n",
      ">>> x1 + x2\n",
      "array([[ 0.,  2.,  4.],\n",
      "       [ 3.,  5.,  7.],\n",
      "       [ 6.,  8., 10.]])\n"
     ]
    }
   ],
   "source": [
    "# [과제] numpy 함수의 도움말 기능을 볼 수 있는 방법을 수행하여 add 함수의 가이드 출력\n",
    "\n",
    "# help(numpy.add)\n",
    "np.info(np.add)"
   ]
  },
  {
   "cell_type": "code",
   "execution_count": 11,
   "id": "90bdb637",
   "metadata": {},
   "outputs": [
    {
     "name": "stdout",
     "output_type": "stream",
     "text": [
      "[0. 0. 0. 0. 1. 0. 0. 0. 0. 0.]\n"
     ]
    }
   ],
   "source": [
    "# [과제] zeros 함수를 이용해서 아래와 같이 출력\n",
    "# array([0., 0., 0., 0., 1., 0., 0., 0., 0., 0.])\n",
    "\n",
    "arr = np.zeros(10)\n",
    "arr[4] = 1\n",
    "print(arr)"
   ]
  },
  {
   "cell_type": "code",
   "execution_count": 13,
   "id": "b0e79b58",
   "metadata": {},
   "outputs": [
    {
     "name": "stdout",
     "output_type": "stream",
     "text": [
      "[9, 8, 7, 6, 5, 4, 3, 2, 1, 0]\n"
     ]
    }
   ],
   "source": [
    "# [과제] 인덱싱을 이용하여 아래 배열을 내림차순으로 정렬\n",
    "# [0, 1, 2, 3, 4, 5, 6, 7, 8, 9]\n",
    "\n",
    "lt = [0, 1, 2, 3, 4, 5, 6, 7, 8, 9]\n",
    "print(lt[::-1])"
   ]
  },
  {
   "cell_type": "code",
   "execution_count": 15,
   "id": "ab1bdd77",
   "metadata": {},
   "outputs": [
    {
     "name": "stdout",
     "output_type": "stream",
     "text": [
      "(array([0, 1, 4], dtype=int64),)\n"
     ]
    }
   ],
   "source": [
    "# [과제] [1, 2, 0, 0, 4, 0]에서 zero가 아닌 인덱스를 배열 형태로 출력하세요.\n",
    "\n",
    "arr = np.array([1, 2, 0, 0, 4, 0])\n",
    "print(np.nonzero(arr)) # 값이 0가 아닌 '인덱스'를 반환"
   ]
  },
  {
   "cell_type": "code",
   "execution_count": 17,
   "id": "53f8b618",
   "metadata": {},
   "outputs": [
    {
     "name": "stdout",
     "output_type": "stream",
     "text": [
      "[[6.23042070e-307 1.69118108e-306 1.33511018e-306 1.33511969e-306]\n",
      " [6.23037996e-307 1.69121639e-306 1.20160575e-306 1.24610383e-306]\n",
      " [1.69118108e-306 8.06632139e-308 1.20160711e-306 1.69119330e-306]\n",
      " [8.01095173e-307 2.22522597e-306 9.34611148e-307 1.60220393e-306]\n",
      " [1.42417221e-306 1.95820216e-306 1.42417629e-306 1.95820216e-306]\n",
      " [1.86919513e-306 9.34604358e-307 9.34598925e-307 6.89807867e-307]\n",
      " [1.42417901e-306 6.23059386e-307 9.34598926e-307 8.01091099e-307]\n",
      " [6.89807188e-307 9.34601642e-307 1.42410974e-306 6.14415156e-144]]\n",
      "[[0. 0. 0. 0.]\n",
      " [1. 1. 1. 1.]\n",
      " [2. 2. 2. 2.]\n",
      " [3. 3. 3. 3.]\n",
      " [4. 4. 4. 4.]\n",
      " [5. 5. 5. 5.]\n",
      " [6. 6. 6. 6.]\n",
      " [7. 7. 7. 7.]]\n"
     ]
    }
   ],
   "source": [
    "# Fancy Indexing\n",
    "\n",
    "arr = np.empty((8, 4))\n",
    "print(arr)\n",
    "for i in range(8):\n",
    "    arr[i]=i\n",
    "print(arr)"
   ]
  },
  {
   "cell_type": "code",
   "execution_count": 18,
   "id": "60907059",
   "metadata": {},
   "outputs": [
    {
     "data": {
      "text/plain": [
       "array([[4., 4., 4., 4.],\n",
       "       [3., 3., 3., 3.],\n",
       "       [0., 0., 0., 0.],\n",
       "       [6., 6., 6., 6.]])"
      ]
     },
     "execution_count": 18,
     "metadata": {},
     "output_type": "execute_result"
    }
   ],
   "source": [
    "arr[[4, 3, 0, 6]]"
   ]
  },
  {
   "cell_type": "code",
   "execution_count": 19,
   "id": "242538f9",
   "metadata": {},
   "outputs": [
    {
     "data": {
      "text/plain": [
       "array([[5., 5., 5., 5.],\n",
       "       [3., 3., 3., 3.],\n",
       "       [1., 1., 1., 1.]])"
      ]
     },
     "execution_count": 19,
     "metadata": {},
     "output_type": "execute_result"
    }
   ],
   "source": [
    "arr[[-3, -5, -7]]"
   ]
  },
  {
   "cell_type": "code",
   "execution_count": 21,
   "id": "21c434f9",
   "metadata": {},
   "outputs": [
    {
     "name": "stdout",
     "output_type": "stream",
     "text": [
      "[[ 0  1  2  3]\n",
      " [ 4  5  6  7]\n",
      " [ 8  9 10 11]\n",
      " [12 13 14 15]\n",
      " [16 17 18 19]\n",
      " [20 21 22 23]\n",
      " [24 25 26 27]\n",
      " [28 29 30 31]] \n",
      "\n"
     ]
    },
    {
     "data": {
      "text/plain": [
       "array([ 4, 23, 29, 10])"
      ]
     },
     "execution_count": 21,
     "metadata": {},
     "output_type": "execute_result"
    }
   ],
   "source": [
    "arr = np.arange(32).reshape((8, 4))\n",
    "\n",
    "print(arr, '\\n')\n",
    "\n",
    "arr[[1, 5, 7, 2], [0, 3, 1, 2]]"
   ]
  },
  {
   "cell_type": "code",
   "execution_count": 22,
   "id": "c72dc438",
   "metadata": {},
   "outputs": [
    {
     "name": "stdout",
     "output_type": "stream",
     "text": [
      "[[ 4  5  6  7]\n",
      " [20 21 22 23]\n",
      " [28 29 30 31]\n",
      " [ 8  9 10 11]] \n",
      "\n",
      "[[ 4  7  5  6]\n",
      " [20 23 21 22]\n",
      " [28 31 29 30]\n",
      " [ 8 11  9 10]]\n"
     ]
    }
   ],
   "source": [
    "print(arr[[1, 5, 7, 2]],'\\n')\n",
    "print(arr[[1, 5,7, 2]][:, [0, 3, 1, 2]])"
   ]
  },
  {
   "cell_type": "code",
   "execution_count": 23,
   "id": "314ae315",
   "metadata": {},
   "outputs": [
    {
     "name": "stdout",
     "output_type": "stream",
     "text": [
      "[[ 0  1  2  3  4]\n",
      " [ 5  6  7  8  9]\n",
      " [10 11 12 13 14]] \n",
      "\n",
      "[[ 0  5 10]\n",
      " [ 1  6 11]\n",
      " [ 2  7 12]\n",
      " [ 3  8 13]\n",
      " [ 4  9 14]]\n"
     ]
    }
   ],
   "source": [
    "# 배열 전치와 축 바꾸기\n",
    "\n",
    "arr = np.arange(15).reshape(3, 5)\n",
    "print(arr, '\\n')\n",
    "print(arr.T)"
   ]
  }
 ],
 "metadata": {
  "kernelspec": {
   "display_name": "Python 3 (ipykernel)",
   "language": "python",
   "name": "python3"
  },
  "language_info": {
   "codemirror_mode": {
    "name": "ipython",
    "version": 3
   },
   "file_extension": ".py",
   "mimetype": "text/x-python",
   "name": "python",
   "nbconvert_exporter": "python",
   "pygments_lexer": "ipython3",
   "version": "3.8.12"
  }
 },
 "nbformat": 4,
 "nbformat_minor": 5
}
