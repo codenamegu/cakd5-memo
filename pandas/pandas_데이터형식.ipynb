{
 "cells": [
  {
   "cell_type": "markdown",
   "id": "a02ea391",
   "metadata": {},
   "source": [
    "## 판다스\n",
    "- 판다스는 구조화된 데이터 형식을 제공. 시리즈는 1차원 배열, 데이터프레임은 2차원 배열\n",
    "- 라이브러리는 여러 종류의 class와 다양한 내장 함수로 구성. 시리즈와 데이터프레임은 대표적인 클래스 객체.\n",
    "- 시리즈 인덱스는 데이터값과 일대일 대응. 파이썬 딕셔너리와 비슷한 구조. pandas.Series(딕셔너리)\n",
    "- Contents\n",
    " * Series(변환, 인덱스 구조, 원소 선택)\n",
    " * DataFrame(변환, 인덱스, 삭제, 선택, 추가, 변경. 전치 등)"
   ]
  },
  {
   "cell_type": "code",
   "execution_count": 46,
   "id": "eaf943d6",
   "metadata": {},
   "outputs": [
    {
     "data": {
      "text/plain": [
       "a    1\n",
       "b    2\n",
       "c    3\n",
       "dtype: int64"
      ]
     },
     "execution_count": 46,
     "metadata": {},
     "output_type": "execute_result"
    }
   ],
   "source": [
    "# 딕셔너리를 시리즈로 변환\n",
    "\n",
    "import pandas as pd\n",
    "\n",
    "dic_data = {'a':1, 'b':2, 'c':3}\n",
    "sr = pd.Series(dic_data)\n",
    "print(sr, type(sr))"
   ]
  },
  {
   "cell_type": "code",
   "execution_count": 2,
   "id": "62d05a2b",
   "metadata": {},
   "outputs": [
    {
     "name": "stdout",
     "output_type": "stream",
     "text": [
      "a    2019-10-02\n",
      "b          3.14\n",
      "c           ABC\n",
      "d           100\n",
      "e          True\n",
      "dtype: object <class 'pandas.core.series.Series'>\n"
     ]
    }
   ],
   "source": [
    "# 리스트를 시리즈로 변환\n",
    "\n",
    "list_data = ['2019-10-02', 3.14, 'ABC', 100, True]\n",
    "sr = pd.Series(list_data, index=['a', 'b', 'c', 'd', 'e'])\n",
    "print(sr, type(sr))"
   ]
  },
  {
   "cell_type": "code",
   "execution_count": 3,
   "id": "3df23c00",
   "metadata": {},
   "outputs": [
    {
     "name": "stdout",
     "output_type": "stream",
     "text": [
      "Index(['a', 'b', 'c', 'd', 'e'], dtype='object') \n",
      "\n",
      "['2019-10-02' 3.14 'ABC' 100 True]\n"
     ]
    }
   ],
   "source": [
    "idx = sr.index\n",
    "print(idx, '\\n')\n",
    "val = sr.values\n",
    "print(val)"
   ]
  },
  {
   "cell_type": "code",
   "execution_count": 4,
   "id": "1b2bff19",
   "metadata": {},
   "outputs": [
    {
     "name": "stdout",
     "output_type": "stream",
     "text": [
      "이름              영인\n",
      "생년월일    2015-05-01\n",
      "성별               여\n",
      "학생여부          True\n",
      "dtype: object <class 'pandas.core.series.Series'>\n"
     ]
    }
   ],
   "source": [
    "# 튜플을 시리즈로 변환\n",
    "\n",
    "tup_data = ('영인', '2015-05-01', '여', True)\n",
    "sr = pd.Series(tup_data, index=['이름', '생년월일', '성별', '학생여부'])\n",
    "print(sr, type(sr))"
   ]
  },
  {
   "cell_type": "code",
   "execution_count": 5,
   "id": "bc121784",
   "metadata": {},
   "outputs": [
    {
     "name": "stdout",
     "output_type": "stream",
     "text": [
      "영인\n",
      "영인 \n",
      "\n",
      "생년월일    2015-05-01\n",
      "성별               여\n",
      "dtype: object\n",
      "생년월일    2015-05-01\n",
      "성별               여\n",
      "dtype: object \n",
      "\n",
      "생년월일    2015-05-01\n",
      "학생여부          True\n",
      "dtype: object\n",
      "생년월일    2015-05-01\n",
      "학생여부          True\n",
      "dtype: object\n"
     ]
    }
   ],
   "source": [
    "print(sr['이름'])\n",
    "print(sr[0], '\\n')\n",
    "\n",
    "print(sr['생년월일':'성별'])\n",
    "print(sr[1:3], '\\n')\n",
    "\n",
    "print(sr[['생년월일', '학생여부']]) # 인덱싱하려면 대괄호를 두 번 사용해야 함\n",
    "print(sr[[1, 3]])"
   ]
  },
  {
   "cell_type": "code",
   "execution_count": 6,
   "id": "35b70fae",
   "metadata": {},
   "outputs": [
    {
     "name": "stdout",
     "output_type": "stream",
     "text": [
      "[11 12 13 14 15] <class 'numpy.ndarray'> \n",
      "\n",
      "ED1    11\n",
      "ED2    12\n",
      "ED3    13\n",
      "ED4    14\n",
      "ED5    15\n",
      "dtype: int32 <class 'pandas.core.series.Series'>\n"
     ]
    }
   ],
   "source": [
    "# 배열을 시리즈로 변환\n",
    "\n",
    "import numpy as np\n",
    "\n",
    "s1 = np.arange(start=11, stop=16)\n",
    "s2 = pd.Series(s1, index=['ED1', 'ED2', 'ED3', 'ED4', 'ED5'])\n",
    "print(s1, type(s1), '\\n')\n",
    "print(s2, type(s2))"
   ]
  },
  {
   "cell_type": "code",
   "execution_count": 7,
   "id": "d8d4a65c",
   "metadata": {},
   "outputs": [
    {
     "name": "stdout",
     "output_type": "stream",
     "text": [
      "ED2    12\n",
      "ED3    13\n",
      "dtype: int32 \n",
      "\n",
      "ED2    12\n",
      "ED4    14\n",
      "dtype: int32\n"
     ]
    }
   ],
   "source": [
    "print(s2[1:3], '\\n')\n",
    "print(s2[[1, 3]])"
   ]
  },
  {
   "cell_type": "code",
   "execution_count": 8,
   "id": "ea66b002",
   "metadata": {},
   "outputs": [
    {
     "name": "stdout",
     "output_type": "stream",
     "text": [
      "<class 'pandas.core.series.Series'>\n",
      "[11 12 13 14 15] <class 'numpy.ndarray'>\n"
     ]
    }
   ],
   "source": [
    "# 시리즈 -> 배열\n",
    "\n",
    "print(type(s2))\n",
    "ar = np.array(s2)\n",
    "print(ar, type(ar))"
   ]
  },
  {
   "cell_type": "code",
   "execution_count": 9,
   "id": "d9ef7b64",
   "metadata": {},
   "outputs": [
    {
     "name": "stdout",
     "output_type": "stream",
     "text": [
      "1    l1\n",
      "2    l2\n",
      "3    l3\n",
      "4    l4\n",
      "5    l5\n",
      "dtype: object \n",
      "\n",
      "1    t1\n",
      "2    t2\n",
      "3    t3\n",
      "4    t4\n",
      "5    t5\n",
      "dtype: object \n",
      "\n",
      "d1    가\n",
      "d2    나\n",
      "d3    다\n",
      "d4    라\n",
      "d5    마\n",
      "dtype: object \n",
      "\n",
      "1    a1\n",
      "2    a2\n",
      "3    a3\n",
      "4    a4\n",
      "5    a5\n",
      "dtype: object \n",
      "\n"
     ]
    }
   ],
   "source": [
    "# 연습문제 - 4가지 자료형 데이터를 생성하고 각각 Series로 변환하여 출력\n",
    "\n",
    "list_data = ['l1', 'l2', 'l3', 'l4', 'l5']\n",
    "tuple_data = ('t1', 't2', 't3', 't4', 't5')\n",
    "dict_data = {'d1':'가', 'd2':'나', 'd3':'다', 'd4':'라', 'd5':'마'}\n",
    "arr_data = np.array(['a1', 'a2', 'a3', 'a4', 'a5'])\n",
    "index = np.arange(5)+1\n",
    "# print(list_data)\n",
    "# print(tuple_data)\n",
    "# print(dict_data)\n",
    "# print(arr_data)\n",
    "\n",
    "s1 = pd.Series(list_data, index)\n",
    "print(s1, '\\n')\n",
    "s2 = pd.Series(tuple_data, index)\n",
    "print(s2, '\\n')\n",
    "s3 = pd.Series(dict_data)\n",
    "print(s3, '\\n')\n",
    "s4 = pd.Series(arr_data, index)\n",
    "print(s4, '\\n')"
   ]
  },
  {
   "cell_type": "code",
   "execution_count": 10,
   "id": "337acbfe",
   "metadata": {},
   "outputs": [
    {
     "data": {
      "text/plain": [
       "State\n",
       "California    1000\n",
       "Ohio          2000\n",
       "Oregon        3000\n",
       "Texas         4000\n",
       "Name: population, dtype: int32"
      ]
     },
     "execution_count": 10,
     "metadata": {},
     "output_type": "execute_result"
    }
   ],
   "source": [
    "data = np.arange(1000, 5000, 1000)\n",
    "obj = pd.Series(data)\n",
    "state = ['California', 'Ohio', 'Oregon', 'Texas']\n",
    "obj.name = 'population'\n",
    "obj.index = state\n",
    "obj.index.name = 'State'\n",
    "obj"
   ]
  },
  {
   "cell_type": "code",
   "execution_count": 11,
   "id": "392bbc15",
   "metadata": {},
   "outputs": [
    {
     "data": {
      "text/plain": [
       "State\n",
       "California       NaN\n",
       "Ohio          2000.0\n",
       "Oregon        3000.0\n",
       "Texas         4000.0\n",
       "Name: population, dtype: float64"
      ]
     },
     "execution_count": 11,
     "metadata": {},
     "output_type": "execute_result"
    }
   ],
   "source": [
    "obj.California = np.nan\n",
    "obj"
   ]
  },
  {
   "cell_type": "code",
   "execution_count": 12,
   "id": "edf60e80",
   "metadata": {},
   "outputs": [
    {
     "name": "stdout",
     "output_type": "stream",
     "text": [
      "State\n",
      "California       NaN\n",
      "Ohio          2000.0\n",
      "Oregon        3000.0\n",
      "Texas         4000.0\n",
      "Name: population, dtype: float64 \n",
      "\n",
      "State\n",
      "California       NaN\n",
      "Ohio          2000.0\n",
      "Oregon        3000.0\n",
      "Texas         4000.0\n",
      "Newyork       3000.0\n",
      "Name: population, dtype: float64\n"
     ]
    }
   ],
   "source": [
    "obj.Newyork = 3000 # 생성할 때 없었던 값은 값을 새로 넣는다 해도 반영이 안 됨\n",
    "print(obj, '\\n')\n",
    "\n",
    "obj['Newyork'] = 3000 # 인덱스로 접근하는 방식은 어떤 경우에든 다 OK(값을 새로 생성하는 것도 가능)\n",
    "print(obj)"
   ]
  },
  {
   "cell_type": "code",
   "execution_count": 13,
   "id": "356df197",
   "metadata": {},
   "outputs": [
    {
     "data": {
      "text/plain": [
       "State\n",
       "California     True\n",
       "Ohio          False\n",
       "Oregon        False\n",
       "Texas         False\n",
       "Newyork       False\n",
       "Name: population, dtype: bool"
      ]
     },
     "execution_count": 13,
     "metadata": {},
     "output_type": "execute_result"
    }
   ],
   "source": [
    "obj.isnull()"
   ]
  },
  {
   "cell_type": "markdown",
   "id": "97610103",
   "metadata": {},
   "source": [
    "## 데이터프레임\n",
    "- 데이터프레임은 2차원 배열, R의 데이터프레임에서 유래\n",
    "- 데이터프레임의 열은 각각 시리즈 개체\n",
    "- 시리즈를 열벡터하면 데이터프레임은 여러개의 열벡터들이 같은 행 인덱스를 기준으로 줄지어 결합된 2차원 벡터 또는 행렬이 된다. \n",
    "- 선형대수학에서 열 벡터(mx1 행렬)는 m 원소들의 단일 열 행렬 \n",
    "- 행 벡터(1xm 행렬)는 m 원소들의 단일 행 행렬\n",
    "- 리스트, 딕셔너리, 배열 등 다양한 데이터로부터 생성\n",
    "- 반대로 리스트, 딕셔너리, 배열 등으로 변환될 수 있음"
   ]
  },
  {
   "cell_type": "code",
   "execution_count": 14,
   "id": "a2b059b7",
   "metadata": {
    "scrolled": true
   },
   "outputs": [
    {
     "name": "stdout",
     "output_type": "stream",
     "text": [
      "[[101 106 111]\n",
      " [110 113 100]\n",
      " [108 104 103]] <class 'numpy.ndarray'> \n",
      "\n",
      "     pd  sales  int\n",
      "d1  101    106  111\n",
      "d2  110    113  100\n",
      "d3  108    104  103 <class 'pandas.core.frame.DataFrame'>\n"
     ]
    }
   ],
   "source": [
    "# 배열 -> 데이터프레임\n",
    "\n",
    "ar = np.random.randint(100, 120, size=(3, 3))\n",
    "print(ar, type(ar), '\\n')\n",
    "df = pd.DataFrame(ar, index=['d1', 'd2', 'd3'], columns=['pd', 'sales', 'int'])\n",
    "print(df, type(df))"
   ]
  },
  {
   "cell_type": "markdown",
   "id": "e8693516",
   "metadata": {},
   "source": [
    "pandas indexing\n",
    "- iloc: integer localtion의 약어, 데이터프레임의 행이나 칼럼의 순서를 나타내는 정수로 특정 값을 추출해오는 방법\n",
    "- loc: 컬럼명을 직접 적거나 특정 조건식을 써줌으로써 사람이 읽기 좋은 방향으로 데이터에 접근하는 방법 "
   ]
  },
  {
   "cell_type": "code",
   "execution_count": 15,
   "id": "31cf97c6",
   "metadata": {},
   "outputs": [
    {
     "name": "stdout",
     "output_type": "stream",
     "text": [
      "pd       110\n",
      "sales    113\n",
      "int      100\n",
      "Name: d2, dtype: int32 \n",
      "\n",
      "pd       110\n",
      "sales    113\n",
      "int      100\n",
      "Name: d2, dtype: int32\n"
     ]
    }
   ],
   "source": [
    "# 행 선택\n",
    "\n",
    "print(df.iloc[1], '\\n') # 인덱스 1번 행 모두 리턴\n",
    "print(df.loc['d2'])"
   ]
  },
  {
   "cell_type": "code",
   "execution_count": 16,
   "id": "8910c9f2",
   "metadata": {},
   "outputs": [
    {
     "name": "stdout",
     "output_type": "stream",
     "text": [
      "113 \n",
      "\n",
      "113\n"
     ]
    }
   ],
   "source": [
    "# 특정 행, 열 선택\n",
    "\n",
    "print(df.iloc[1, 1], '\\n')\n",
    "print(df.loc['d2', 'sales'])"
   ]
  },
  {
   "cell_type": "code",
   "execution_count": 17,
   "id": "57562723",
   "metadata": {},
   "outputs": [
    {
     "data": {
      "text/html": [
       "<div>\n",
       "<style scoped>\n",
       "    .dataframe tbody tr th:only-of-type {\n",
       "        vertical-align: middle;\n",
       "    }\n",
       "\n",
       "    .dataframe tbody tr th {\n",
       "        vertical-align: top;\n",
       "    }\n",
       "\n",
       "    .dataframe thead th {\n",
       "        text-align: right;\n",
       "    }\n",
       "</style>\n",
       "<table border=\"1\" class=\"dataframe\">\n",
       "  <thead>\n",
       "    <tr style=\"text-align: right;\">\n",
       "      <th></th>\n",
       "      <th>pd</th>\n",
       "      <th>sales</th>\n",
       "      <th>int</th>\n",
       "    </tr>\n",
       "  </thead>\n",
       "  <tbody>\n",
       "    <tr>\n",
       "      <th>d1</th>\n",
       "      <td>101</td>\n",
       "      <td>106</td>\n",
       "      <td>111</td>\n",
       "    </tr>\n",
       "    <tr>\n",
       "      <th>d2</th>\n",
       "      <td>110</td>\n",
       "      <td>113</td>\n",
       "      <td>100</td>\n",
       "    </tr>\n",
       "    <tr>\n",
       "      <th>d3</th>\n",
       "      <td>108</td>\n",
       "      <td>104</td>\n",
       "      <td>103</td>\n",
       "    </tr>\n",
       "    <tr>\n",
       "      <th>d5</th>\n",
       "      <td>0</td>\n",
       "      <td>0</td>\n",
       "      <td>0</td>\n",
       "    </tr>\n",
       "  </tbody>\n",
       "</table>\n",
       "</div>"
      ],
      "text/plain": [
       "     pd  sales  int\n",
       "d1  101    106  111\n",
       "d2  110    113  100\n",
       "d3  108    104  103\n",
       "d5    0      0    0"
      ]
     },
     "execution_count": 17,
     "metadata": {},
     "output_type": "execute_result"
    }
   ],
   "source": [
    "# 행, 열 추가\n",
    "\n",
    "df1 = df.copy()\n",
    "df1.loc['d5']=0 # 모든 값이 0으로 적용\n",
    "df1"
   ]
  },
  {
   "cell_type": "code",
   "execution_count": 18,
   "id": "53cc259f",
   "metadata": {},
   "outputs": [
    {
     "data": {
      "text/html": [
       "<div>\n",
       "<style scoped>\n",
       "    .dataframe tbody tr th:only-of-type {\n",
       "        vertical-align: middle;\n",
       "    }\n",
       "\n",
       "    .dataframe tbody tr th {\n",
       "        vertical-align: top;\n",
       "    }\n",
       "\n",
       "    .dataframe thead th {\n",
       "        text-align: right;\n",
       "    }\n",
       "</style>\n",
       "<table border=\"1\" class=\"dataframe\">\n",
       "  <thead>\n",
       "    <tr style=\"text-align: right;\">\n",
       "      <th></th>\n",
       "      <th>pd</th>\n",
       "      <th>sales</th>\n",
       "      <th>int</th>\n",
       "      <th>pf</th>\n",
       "    </tr>\n",
       "  </thead>\n",
       "  <tbody>\n",
       "    <tr>\n",
       "      <th>d1</th>\n",
       "      <td>101</td>\n",
       "      <td>106</td>\n",
       "      <td>111</td>\n",
       "      <td>100</td>\n",
       "    </tr>\n",
       "    <tr>\n",
       "      <th>d2</th>\n",
       "      <td>110</td>\n",
       "      <td>113</td>\n",
       "      <td>100</td>\n",
       "      <td>100</td>\n",
       "    </tr>\n",
       "    <tr>\n",
       "      <th>d3</th>\n",
       "      <td>108</td>\n",
       "      <td>104</td>\n",
       "      <td>103</td>\n",
       "      <td>100</td>\n",
       "    </tr>\n",
       "    <tr>\n",
       "      <th>d5</th>\n",
       "      <td>0</td>\n",
       "      <td>0</td>\n",
       "      <td>0</td>\n",
       "      <td>0</td>\n",
       "    </tr>\n",
       "  </tbody>\n",
       "</table>\n",
       "</div>"
      ],
      "text/plain": [
       "     pd  sales  int   pf\n",
       "d1  101    106  111  100\n",
       "d2  110    113  100  100\n",
       "d3  108    104  103  100\n",
       "d5    0      0    0    0"
      ]
     },
     "execution_count": 18,
     "metadata": {},
     "output_type": "execute_result"
    }
   ],
   "source": [
    "# 열 추가 시 유의\n",
    "# 열을 추가할 때에는 loc, iloc를 사용하지 않고 그대로 대괄호를 이용해 값 대입\n",
    "\n",
    "df1['pf'] = [100, 100, 100, 0]\n",
    "df1"
   ]
  },
  {
   "cell_type": "code",
   "execution_count": 19,
   "id": "9ea25313",
   "metadata": {},
   "outputs": [
    {
     "data": {
      "text/html": [
       "<div>\n",
       "<style scoped>\n",
       "    .dataframe tbody tr th:only-of-type {\n",
       "        vertical-align: middle;\n",
       "    }\n",
       "\n",
       "    .dataframe tbody tr th {\n",
       "        vertical-align: top;\n",
       "    }\n",
       "\n",
       "    .dataframe thead th {\n",
       "        text-align: right;\n",
       "    }\n",
       "</style>\n",
       "<table border=\"1\" class=\"dataframe\">\n",
       "  <thead>\n",
       "    <tr style=\"text-align: right;\">\n",
       "      <th></th>\n",
       "      <th>pd</th>\n",
       "      <th>sales</th>\n",
       "      <th>int</th>\n",
       "      <th>pf</th>\n",
       "    </tr>\n",
       "  </thead>\n",
       "  <tbody>\n",
       "    <tr>\n",
       "      <th>d1</th>\n",
       "      <td>101</td>\n",
       "      <td>106.0</td>\n",
       "      <td>111</td>\n",
       "      <td>100</td>\n",
       "    </tr>\n",
       "    <tr>\n",
       "      <th>d2</th>\n",
       "      <td>110</td>\n",
       "      <td>NaN</td>\n",
       "      <td>100</td>\n",
       "      <td>100</td>\n",
       "    </tr>\n",
       "    <tr>\n",
       "      <th>d3</th>\n",
       "      <td>108</td>\n",
       "      <td>104.0</td>\n",
       "      <td>103</td>\n",
       "      <td>100</td>\n",
       "    </tr>\n",
       "    <tr>\n",
       "      <th>d5</th>\n",
       "      <td>0</td>\n",
       "      <td>0.0</td>\n",
       "      <td>0</td>\n",
       "      <td>0</td>\n",
       "    </tr>\n",
       "  </tbody>\n",
       "</table>\n",
       "</div>"
      ],
      "text/plain": [
       "     pd  sales  int   pf\n",
       "d1  101  106.0  111  100\n",
       "d2  110    NaN  100  100\n",
       "d3  108  104.0  103  100\n",
       "d5    0    0.0    0    0"
      ]
     },
     "execution_count": 19,
     "metadata": {},
     "output_type": "execute_result"
    }
   ],
   "source": [
    "# 원소 값 변경\n",
    "\n",
    "df1.iloc[1, 1] = np.nan\n",
    "df1"
   ]
  },
  {
   "cell_type": "code",
   "execution_count": 20,
   "id": "a5951f3c",
   "metadata": {},
   "outputs": [
    {
     "data": {
      "text/html": [
       "<div>\n",
       "<style scoped>\n",
       "    .dataframe tbody tr th:only-of-type {\n",
       "        vertical-align: middle;\n",
       "    }\n",
       "\n",
       "    .dataframe tbody tr th {\n",
       "        vertical-align: top;\n",
       "    }\n",
       "\n",
       "    .dataframe thead th {\n",
       "        text-align: right;\n",
       "    }\n",
       "</style>\n",
       "<table border=\"1\" class=\"dataframe\">\n",
       "  <thead>\n",
       "    <tr style=\"text-align: right;\">\n",
       "      <th></th>\n",
       "      <th>col1</th>\n",
       "      <th>col2</th>\n",
       "      <th>col3</th>\n",
       "    </tr>\n",
       "  </thead>\n",
       "  <tbody>\n",
       "    <tr>\n",
       "      <th>0</th>\n",
       "      <td>1</td>\n",
       "      <td>2</td>\n",
       "      <td>A</td>\n",
       "    </tr>\n",
       "    <tr>\n",
       "      <th>1</th>\n",
       "      <td>2</td>\n",
       "      <td>4</td>\n",
       "      <td>B</td>\n",
       "    </tr>\n",
       "    <tr>\n",
       "      <th>2</th>\n",
       "      <td>3</td>\n",
       "      <td>6</td>\n",
       "      <td>C</td>\n",
       "    </tr>\n",
       "    <tr>\n",
       "      <th>3</th>\n",
       "      <td>4</td>\n",
       "      <td>8</td>\n",
       "      <td>D</td>\n",
       "    </tr>\n",
       "    <tr>\n",
       "      <th>4</th>\n",
       "      <td>5</td>\n",
       "      <td>10</td>\n",
       "      <td>E</td>\n",
       "    </tr>\n",
       "  </tbody>\n",
       "</table>\n",
       "</div>"
      ],
      "text/plain": [
       "   col1  col2 col3\n",
       "0     1     2    A\n",
       "1     2     4    B\n",
       "2     3     6    C\n",
       "3     4     8    D\n",
       "4     5    10    E"
      ]
     },
     "execution_count": 20,
     "metadata": {},
     "output_type": "execute_result"
    }
   ],
   "source": [
    "# 사전 -> 데이터프레임\n",
    "# 키 > column name\n",
    "# 값 > value(키/열에 맞춰 들어감)\n",
    "\n",
    "sp1 = np.arange(1, 6)\n",
    "df = pd.DataFrame({\n",
    "    'col1':sp1,\n",
    "    'col2':sp1*2,\n",
    "    'col3':['A', 'B', 'C', 'D', 'E']\n",
    "})\n",
    "df"
   ]
  },
  {
   "cell_type": "code",
   "execution_count": 44,
   "id": "bd6b8c01",
   "metadata": {},
   "outputs": [
    {
     "data": {
      "text/html": [
       "<div>\n",
       "<style scoped>\n",
       "    .dataframe tbody tr th:only-of-type {\n",
       "        vertical-align: middle;\n",
       "    }\n",
       "\n",
       "    .dataframe tbody tr th {\n",
       "        vertical-align: top;\n",
       "    }\n",
       "\n",
       "    .dataframe thead th {\n",
       "        text-align: right;\n",
       "    }\n",
       "</style>\n",
       "<table border=\"1\" class=\"dataframe\">\n",
       "  <thead>\n",
       "    <tr style=\"text-align: right;\">\n",
       "      <th></th>\n",
       "      <th>A</th>\n",
       "      <th>B</th>\n",
       "      <th>C</th>\n",
       "      <th>D</th>\n",
       "    </tr>\n",
       "  </thead>\n",
       "  <tbody>\n",
       "    <tr>\n",
       "      <th>1</th>\n",
       "      <td>1</td>\n",
       "      <td>2</td>\n",
       "      <td>3</td>\n",
       "      <td>4</td>\n",
       "    </tr>\n",
       "    <tr>\n",
       "      <th>2</th>\n",
       "      <td>1</td>\n",
       "      <td>2</td>\n",
       "      <td>3</td>\n",
       "      <td>4</td>\n",
       "    </tr>\n",
       "    <tr>\n",
       "      <th>3</th>\n",
       "      <td>1</td>\n",
       "      <td>2</td>\n",
       "      <td>3</td>\n",
       "      <td>4</td>\n",
       "    </tr>\n",
       "    <tr>\n",
       "      <th>4</th>\n",
       "      <td>1</td>\n",
       "      <td>2</td>\n",
       "      <td>3</td>\n",
       "      <td>4</td>\n",
       "    </tr>\n",
       "  </tbody>\n",
       "</table>\n",
       "</div>"
      ],
      "text/plain": [
       "   A  B  C  D\n",
       "1  1  2  3  4\n",
       "2  1  2  3  4\n",
       "3  1  2  3  4\n",
       "4  1  2  3  4"
      ]
     },
     "execution_count": 44,
     "metadata": {},
     "output_type": "execute_result"
    }
   ],
   "source": [
    "# 딕셔너리에서 값이 스칼라이면 인덱스 필요\n",
    "\n",
    "dic = {'A':1, 'B':2, 'C':3, 'D':4} # index가 없으면 오류(ValueError)\n",
    "# dic = {'A':[1], 'B':[2], 'C':[3], 'D':[4]} # 오류는 발생하지 않으나 1행만 생성됨\n",
    "columns = ['a', 'b', 'c', 'd', 'e']\n",
    "index = [1, 2, 3, 4]\n",
    "\n",
    "df_dic = pd.DataFrame(dic, index) \n",
    "# df_dic = pd.DataFrame(dic)\n",
    "df_dic"
   ]
  },
  {
   "cell_type": "code",
   "execution_count": 21,
   "id": "7393c749",
   "metadata": {},
   "outputs": [
    {
     "data": {
      "text/html": [
       "<div>\n",
       "<style scoped>\n",
       "    .dataframe tbody tr th:only-of-type {\n",
       "        vertical-align: middle;\n",
       "    }\n",
       "\n",
       "    .dataframe tbody tr th {\n",
       "        vertical-align: top;\n",
       "    }\n",
       "\n",
       "    .dataframe thead th {\n",
       "        text-align: right;\n",
       "    }\n",
       "</style>\n",
       "<table border=\"1\" class=\"dataframe\">\n",
       "  <thead>\n",
       "    <tr style=\"text-align: right;\">\n",
       "      <th></th>\n",
       "      <th>c1</th>\n",
       "      <th>c2</th>\n",
       "      <th>c3</th>\n",
       "      <th>c4</th>\n",
       "      <th>c5</th>\n",
       "    </tr>\n",
       "  </thead>\n",
       "  <tbody>\n",
       "    <tr>\n",
       "      <th>1</th>\n",
       "      <td>2</td>\n",
       "      <td>2</td>\n",
       "      <td>2</td>\n",
       "      <td>1</td>\n",
       "      <td>1</td>\n",
       "    </tr>\n",
       "    <tr>\n",
       "      <th>2</th>\n",
       "      <td>1</td>\n",
       "      <td>1</td>\n",
       "      <td>4</td>\n",
       "      <td>4</td>\n",
       "      <td>2</td>\n",
       "    </tr>\n",
       "    <tr>\n",
       "      <th>3</th>\n",
       "      <td>3</td>\n",
       "      <td>4</td>\n",
       "      <td>1</td>\n",
       "      <td>4</td>\n",
       "      <td>2</td>\n",
       "    </tr>\n",
       "    <tr>\n",
       "      <th>4</th>\n",
       "      <td>3</td>\n",
       "      <td>3</td>\n",
       "      <td>4</td>\n",
       "      <td>4</td>\n",
       "      <td>1</td>\n",
       "    </tr>\n",
       "    <tr>\n",
       "      <th>5</th>\n",
       "      <td>2</td>\n",
       "      <td>1</td>\n",
       "      <td>2</td>\n",
       "      <td>4</td>\n",
       "      <td>4</td>\n",
       "    </tr>\n",
       "    <tr>\n",
       "      <th>6</th>\n",
       "      <td>4</td>\n",
       "      <td>4</td>\n",
       "      <td>4</td>\n",
       "      <td>1</td>\n",
       "      <td>4</td>\n",
       "    </tr>\n",
       "    <tr>\n",
       "      <th>7</th>\n",
       "      <td>2</td>\n",
       "      <td>1</td>\n",
       "      <td>3</td>\n",
       "      <td>4</td>\n",
       "      <td>2</td>\n",
       "    </tr>\n",
       "    <tr>\n",
       "      <th>8</th>\n",
       "      <td>3</td>\n",
       "      <td>4</td>\n",
       "      <td>2</td>\n",
       "      <td>1</td>\n",
       "      <td>1</td>\n",
       "    </tr>\n",
       "    <tr>\n",
       "      <th>9</th>\n",
       "      <td>4</td>\n",
       "      <td>1</td>\n",
       "      <td>1</td>\n",
       "      <td>1</td>\n",
       "      <td>4</td>\n",
       "    </tr>\n",
       "    <tr>\n",
       "      <th>10</th>\n",
       "      <td>2</td>\n",
       "      <td>1</td>\n",
       "      <td>4</td>\n",
       "      <td>3</td>\n",
       "      <td>4</td>\n",
       "    </tr>\n",
       "  </tbody>\n",
       "</table>\n",
       "</div>"
      ],
      "text/plain": [
       "    c1  c2  c3  c4  c5\n",
       "1    2   2   2   1   1\n",
       "2    1   1   4   4   2\n",
       "3    3   4   1   4   2\n",
       "4    3   3   4   4   1\n",
       "5    2   1   2   4   4\n",
       "6    4   4   4   1   4\n",
       "7    2   1   3   4   2\n",
       "8    3   4   2   1   1\n",
       "9    4   1   1   1   4\n",
       "10   2   1   4   3   4"
      ]
     },
     "execution_count": 21,
     "metadata": {},
     "output_type": "execute_result"
    }
   ],
   "source": [
    "# 리스트 -> 데이터프레임\n",
    "\n",
    "a = np.random.randint(1, 5, size=(10, 5))\n",
    "list1 = a.tolist()\n",
    "\n",
    "index = np.arange(1, 11)\n",
    "df = pd.DataFrame(list1, index, columns=['c1', 'c2' ,'c3', 'c4', 'c5'])\n",
    "df"
   ]
  },
  {
   "cell_type": "code",
   "execution_count": 22,
   "id": "0a1aba8b",
   "metadata": {},
   "outputs": [
    {
     "name": "stdout",
     "output_type": "stream",
     "text": [
      "[[2 2 2 1 1]\n",
      " [1 1 4 4 2]\n",
      " [3 4 1 4 2]\n",
      " [3 3 4 4 1]\n",
      " [2 1 2 4 4]\n",
      " [4 4 4 1 4]\n",
      " [2 1 3 4 2]\n",
      " [3 4 2 1 1]\n",
      " [4 1 1 1 4]\n",
      " [2 1 4 3 4]] <class 'numpy.ndarray'> \n",
      "\n",
      "[[2, 2, 2, 1, 1], [1, 1, 4, 4, 2], [3, 4, 1, 4, 2], [3, 3, 4, 4, 1], [2, 1, 2, 4, 4], [4, 4, 4, 1, 4], [2, 1, 3, 4, 2], [3, 4, 2, 1, 1], [4, 1, 1, 1, 4], [2, 1, 4, 3, 4]] <class 'list'> \n",
      "\n",
      "{'c1': [2, 1, 3, 3, 2, 4, 2, 3, 4, 2], 'c2': [2, 1, 4, 3, 1, 4, 1, 4, 1, 1], 'c3': [2, 4, 1, 4, 2, 4, 3, 2, 1, 4], 'c4': [1, 4, 4, 4, 4, 1, 4, 1, 1, 3], 'c5': [1, 2, 2, 1, 4, 4, 2, 1, 4, 4]} <class 'dict'>\n"
     ]
    }
   ],
   "source": [
    "# 데이터프레임 -> 배열, 리스트, 딕셔너리\n",
    "\n",
    "ar = df.values\n",
    "print(ar, type(ar), '\\n')\n",
    "\n",
    "li = df.values.tolist()\n",
    "print(li, type(li), '\\n')\n",
    "\n",
    "dic = df.to_dict('list') # 각 키에 대응하는 값들이 리스트 형태로 나와야하기 때문\n",
    "print(dic, type(dic))"
   ]
  },
  {
   "cell_type": "code",
   "execution_count": 23,
   "id": "d88e0333",
   "metadata": {},
   "outputs": [
    {
     "name": "stdout",
     "output_type": "stream",
     "text": [
      "[[4 3 5 2]\n",
      " [5 4 2 5]\n",
      " [5 3 4 3]\n",
      " [5 1 2 3]] <class 'numpy.ndarray'> \n",
      "\n",
      "     A  B  C  D\n",
      "1st  4  3  5  2\n",
      "2nd  5  4  2  5\n",
      "3rd  5  3  4  3\n",
      "4th  5  1  2  3 <class 'pandas.core.frame.DataFrame'> \n",
      "\n",
      "[[4 3 5 2]\n",
      " [5 4 2 5]\n",
      " [5 3 4 3]\n",
      " [5 1 2 3]] <class 'numpy.ndarray'> \n",
      "\n",
      "*\t*\t*\t*\t*\t*\t*\t*\t*\t*\t \n",
      "\n",
      "[[4, 3, 5, 2], [5, 4, 2, 5], [5, 3, 4, 3], [5, 1, 2, 3]] <class 'list'> \n",
      "\n",
      "     A  B  C  D\n",
      "1st  4  3  5  2\n",
      "2nd  5  4  2  5\n",
      "3rd  5  3  4  3\n",
      "4th  5  1  2  3 <class 'pandas.core.frame.DataFrame'> \n",
      "\n",
      "[[4, 3, 5, 2], [5, 4, 2, 5], [5, 3, 4, 3], [5, 1, 2, 3]] <class 'list'> \n",
      "\n",
      "*\t*\t*\t*\t*\t*\t*\t*\t*\t*\t \n",
      "\n",
      "{'D1': ['A', 'B', 'C', 'D'], 'D2': array([1, 2, 3, 4]), 'D3': ['V1', 'V2', 'V3', 'V4'], 'D4': nan} <class 'dict'> \n",
      "\n",
      "    D1  D2  D3  D4\n",
      "1st  A   1  V1 NaN\n",
      "2nd  B   2  V2 NaN\n",
      "3rd  C   3  V3 NaN\n",
      "4th  D   4  V4 NaN <class 'pandas.core.frame.DataFrame'> \n",
      "\n",
      "{'D1': ['A', 'B', 'C', 'D'], 'D2': [1, 2, 3, 4], 'D3': ['V1', 'V2', 'V3', 'V4'], 'D4': [nan, nan, nan, nan]} <class 'dict'>\n"
     ]
    }
   ],
   "source": [
    "# 연습문제 - 배열, 리스트, 딕셔너리로 데이터프레임을 생성한 후 다시 배열, 리스트, 딕셔너리로 변환하여 출력\n",
    "\n",
    "index = ['1st', '2nd', '3rd', '4th']\n",
    "col = ['A', 'B', 'C', 'D']\n",
    "num = np.arange(1, 5)\n",
    "\n",
    "arr = np.random.randint(1, 6, size=(4, 4))\n",
    "print(arr, type(arr), '\\n')\n",
    "df1 = pd.DataFrame(arr, index, columns=col)\n",
    "print(df1, type(df1), '\\n')\n",
    "arr_ = df1.values\n",
    "print(arr_, type(arr_), '\\n')\n",
    "\n",
    "print(\"*\\t\"*10, '\\n')\n",
    "\n",
    "li = arr.tolist()\n",
    "print(li, type(li), '\\n')\n",
    "df2 = pd.DataFrame(li, index, columns=col)\n",
    "print(df2, type(df2), '\\n')\n",
    "li_ = df2.values.tolist()\n",
    "print(li_, type(li_), '\\n')\n",
    "\n",
    "print(\"*\\t\"*10, '\\n')\n",
    "\n",
    "dic = {\n",
    "    'D1':col,\n",
    "    'D2':num,\n",
    "    'D3':['V1', 'V2', 'V3', 'V4'],\n",
    "    'D4':np.nan\n",
    "}\n",
    "print(dic, type(dic), '\\n')\n",
    "df3 = pd.DataFrame(dic, index)\n",
    "print(df3, type(df3), '\\n')\n",
    "dic_ = df3.to_dict('list')\n",
    "print(dic_, type(dic_))"
   ]
  },
  {
   "cell_type": "code",
   "execution_count": 24,
   "id": "3aabf393",
   "metadata": {},
   "outputs": [
    {
     "name": "stdout",
     "output_type": "stream",
     "text": [
      "      차림표\n",
      "메뉴1    냉면\n",
      "메뉴2   칼국수\n",
      "메뉴3  잔치국수\n",
      "메뉴4   수제비\n",
      "메뉴5    우동 \n",
      "\n",
      "[['냉면'], ['칼국수'], ['잔치국수'], ['수제비'], ['우동']] <class 'list'> \n",
      "\n",
      "      커피    쿠키   케이크\n",
      "가격  4000  3000  6500 \n",
      "\n",
      "{'커피': [4000], '쿠키': [3000], '케이크': [6500]} <class 'dict'> \n",
      "\n",
      "    달리기  줄다리기  무궁화\n",
      "1반    8     5    7\n",
      "2반    3     1    1\n",
      "3반    1     4    2 \n",
      "\n",
      "[[8 5 7]\n",
      " [3 1 1]\n",
      " [1 4 2]] <class 'numpy.ndarray'>\n"
     ]
    }
   ],
   "source": [
    "# 리스트\n",
    "li = ['냉면','칼국수','잔치국수','수제비','우동']\n",
    "df1 = pd.DataFrame(li,index=['메뉴1','메뉴2','메뉴3','메뉴4','메뉴5'], columns=['차림표'])\n",
    "print(df1,'\\n')\n",
    "print(df1.values.tolist(),type(df1.values.tolist()),'\\n')\n",
    "\n",
    "# 딕셔너리\n",
    "df2 = pd.DataFrame({\n",
    "    '커피':4000,\n",
    "    '쿠키':3000,\n",
    "    '케이크':6500\n",
    "},index=['가격'])\n",
    "print(df2,'\\n')\n",
    "print(df2.to_dict('list'),type(df2.to_dict('list')),'\\n')\n",
    "\n",
    "# 배열\n",
    "df3 = pd.DataFrame(np.random.randint(1,10,size=(3,3)),index=['1반','2반','3반'],\n",
    "                   columns=['달리기','줄다리기','무궁화'])\n",
    "print(df3,'\\n')\n",
    "print(df3.values, type(df3.values))"
   ]
  },
  {
   "cell_type": "code",
   "execution_count": 26,
   "id": "8927c8a2",
   "metadata": {},
   "outputs": [
    {
     "data": {
      "text/html": [
       "<div>\n",
       "<style scoped>\n",
       "    .dataframe tbody tr th:only-of-type {\n",
       "        vertical-align: middle;\n",
       "    }\n",
       "\n",
       "    .dataframe tbody tr th {\n",
       "        vertical-align: top;\n",
       "    }\n",
       "\n",
       "    .dataframe thead th {\n",
       "        text-align: right;\n",
       "    }\n",
       "</style>\n",
       "<table border=\"1\" class=\"dataframe\">\n",
       "  <thead>\n",
       "    <tr style=\"text-align: right;\">\n",
       "      <th></th>\n",
       "      <th>차림표</th>\n",
       "    </tr>\n",
       "  </thead>\n",
       "  <tbody>\n",
       "    <tr>\n",
       "      <th>0</th>\n",
       "      <td>냉면</td>\n",
       "    </tr>\n",
       "    <tr>\n",
       "      <th>1</th>\n",
       "      <td>칼국수</td>\n",
       "    </tr>\n",
       "    <tr>\n",
       "      <th>2</th>\n",
       "      <td>잔치국수</td>\n",
       "    </tr>\n",
       "    <tr>\n",
       "      <th>3</th>\n",
       "      <td>수제비</td>\n",
       "    </tr>\n",
       "    <tr>\n",
       "      <th>4</th>\n",
       "      <td>우동</td>\n",
       "    </tr>\n",
       "  </tbody>\n",
       "</table>\n",
       "</div>"
      ],
      "text/plain": [
       "    차림표\n",
       "0    냉면\n",
       "1   칼국수\n",
       "2  잔치국수\n",
       "3   수제비\n",
       "4    우동"
      ]
     },
     "execution_count": 26,
     "metadata": {},
     "output_type": "execute_result"
    }
   ],
   "source": [
    "# file 생성, 저장, 읽기\n",
    "\n",
    "li = ['냉면', '칼국수', '잔치국수', '수제비', '우동']\n",
    "df1 = pd.DataFrame(li, index=['메뉴1', '메뉴2', '메뉴3', '메뉴4', '메뉴5'], columns=['차림표']) # 데이터 생성\n",
    "df1.to_csv(\"./dataset/file_data.csv\", index=None) # 저장\n",
    "file_data = pd.read_csv(\"./dataset/file_data.csv\") # 읽기\n",
    "file_data"
   ]
  },
  {
   "cell_type": "code",
   "execution_count": 38,
   "id": "7542e78d",
   "metadata": {},
   "outputs": [
    {
     "data": {
      "text/html": [
       "<div>\n",
       "<style scoped>\n",
       "    .dataframe tbody tr th:only-of-type {\n",
       "        vertical-align: middle;\n",
       "    }\n",
       "\n",
       "    .dataframe tbody tr th {\n",
       "        vertical-align: top;\n",
       "    }\n",
       "\n",
       "    .dataframe thead th {\n",
       "        text-align: right;\n",
       "    }\n",
       "</style>\n",
       "<table border=\"1\" class=\"dataframe\">\n",
       "  <thead>\n",
       "    <tr style=\"text-align: right;\">\n",
       "      <th></th>\n",
       "      <th>커피</th>\n",
       "      <th>쿠키</th>\n",
       "      <th>케이크</th>\n",
       "    </tr>\n",
       "  </thead>\n",
       "  <tbody>\n",
       "    <tr>\n",
       "      <th>가격1</th>\n",
       "      <td>4000</td>\n",
       "      <td>3000</td>\n",
       "      <td>6500</td>\n",
       "    </tr>\n",
       "    <tr>\n",
       "      <th>가격2</th>\n",
       "      <td>4500</td>\n",
       "      <td>2000</td>\n",
       "      <td>5500</td>\n",
       "    </tr>\n",
       "    <tr>\n",
       "      <th>가격3</th>\n",
       "      <td>5000</td>\n",
       "      <td>1000</td>\n",
       "      <td>4500</td>\n",
       "    </tr>\n",
       "  </tbody>\n",
       "</table>\n",
       "</div>"
      ],
      "text/plain": [
       "       커피    쿠키   케이크\n",
       "가격1  4000  3000  6500\n",
       "가격2  4500  2000  5500\n",
       "가격3  5000  1000  4500"
      ]
     },
     "execution_count": 38,
     "metadata": {},
     "output_type": "execute_result"
    }
   ],
   "source": [
    "index=['가격1', '가격2', '가격3']\n",
    "\n",
    "lt=np.arange(4000, 5500, 500)\n",
    "# print(lt)\n",
    "\n",
    "df = pd.DataFrame({\n",
    "    '커피':lt,\n",
    "    '쿠키':[3000,2000,1000],\n",
    "    '케이크':[6500,5500,4500]\n",
    "}, index)\n",
    "df"
   ]
  }
 ],
 "metadata": {
  "kernelspec": {
   "display_name": "Python 3 (ipykernel)",
   "language": "python",
   "name": "python3"
  },
  "language_info": {
   "codemirror_mode": {
    "name": "ipython",
    "version": 3
   },
   "file_extension": ".py",
   "mimetype": "text/x-python",
   "name": "python",
   "nbconvert_exporter": "python",
   "pygments_lexer": "ipython3",
   "version": "3.8.12"
  }
 },
 "nbformat": 4,
 "nbformat_minor": 5
}
