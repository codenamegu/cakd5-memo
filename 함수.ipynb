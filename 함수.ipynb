{
 "cells": [
  {
   "cell_type": "code",
   "execution_count": 1,
   "id": "f72f885b",
   "metadata": {},
   "outputs": [
    {
     "name": "stdout",
     "output_type": "stream",
     "text": [
      "HI\n"
     ]
    }
   ],
   "source": [
    "# 입력값이 없고 결과값만 있는 함수\n",
    "\n",
    "def say():\n",
    "    return 'HI'\n",
    "    \n",
    "a = say()\n",
    "print(a)"
   ]
  },
  {
   "cell_type": "code",
   "execution_count": 2,
   "id": "9b04053b",
   "metadata": {},
   "outputs": [
    {
     "name": "stdout",
     "output_type": "stream",
     "text": [
      "3, 4의 합은 7입니다.\n"
     ]
    }
   ],
   "source": [
    "# 입력값은 있고 결과값이 없는 함수\n",
    "# 결과값은 오직 return 명령어로만 돌려받을 수 있음\n",
    "\n",
    "def add(a, b):\n",
    "    print(\"%d, %d의 합은 %d입니다.\" %(a, b, a+b))\n",
    "    \n",
    "add(3, 4)"
   ]
  },
  {
   "cell_type": "code",
   "execution_count": 3,
   "id": "468c0fea",
   "metadata": {},
   "outputs": [
    {
     "name": "stdout",
     "output_type": "stream",
     "text": [
      "HI\n"
     ]
    }
   ],
   "source": [
    "# 입력값도 결과값도 없는 함수\n",
    "\n",
    "def say():\n",
    "    print(\"HI\")\n",
    "    \n",
    "say()"
   ]
  },
  {
   "cell_type": "code",
   "execution_count": 4,
   "id": "e1d5e73a",
   "metadata": {},
   "outputs": [
    {
     "data": {
      "text/plain": [
       "55"
      ]
     },
     "execution_count": 4,
     "metadata": {},
     "output_type": "execute_result"
    }
   ],
   "source": [
    "# 입력값, 결과값이 모두 있는 함수\n",
    "\n",
    "def sigma(min, max):\n",
    "    sum=0\n",
    "    while min<=max:\n",
    "        sum+=min\n",
    "        min+=1\n",
    "    return sum\n",
    "\n",
    "sigma(1, 10)"
   ]
  },
  {
   "cell_type": "code",
   "execution_count": 5,
   "id": "e3b8f3b7",
   "metadata": {},
   "outputs": [
    {
     "data": {
      "text/plain": [
       "'5 bigger than 3'"
      ]
     },
     "execution_count": 5,
     "metadata": {},
     "output_type": "execute_result"
    }
   ],
   "source": [
    "def com(a,b):\n",
    "    if a>b:\n",
    "        return f'{a} bigger than {b}'\n",
    "    elif a<b:\n",
    "        return f'{a} smaller than {b}'\n",
    "    else:\n",
    "        return f'{a} equal {b}'\n",
    "    \n",
    "com(5, 3)"
   ]
  },
  {
   "cell_type": "code",
   "execution_count": 6,
   "id": "cd846af1",
   "metadata": {},
   "outputs": [
    {
     "data": {
      "text/plain": [
       "155"
      ]
     },
     "execution_count": 6,
     "metadata": {},
     "output_type": "execute_result"
    }
   ],
   "source": [
    "# 여러 개의 입력값을 받는 함수 만들기\n",
    "# *args처럼 입력 변수명 앞에 *를 붙이면 입력값들을 전부 모아서 튜플로 만들어 줌\n",
    "\n",
    "def add_many(*args):\n",
    "    add=0\n",
    "    for i in args:\n",
    "        add += i\n",
    "    return add\n",
    "\n",
    "add_many(1, 2, 3, 4, 5, 6, 7, 8, 9, 10, 100)"
   ]
  },
  {
   "cell_type": "code",
   "execution_count": 7,
   "id": "9991a61e",
   "metadata": {},
   "outputs": [
    {
     "name": "stdout",
     "output_type": "stream",
     "text": [
      "(7, 12)\n"
     ]
    }
   ],
   "source": [
    "# 함수의 반환값은 언제나 하나 - 결과값으로 튜플 값 하나를 갖게 됨 \n",
    "\n",
    "def add_and_mul(a, b):\n",
    "    return a+b, a*b # 리턴은 하나 > 오류 발생하지 않음\n",
    "\n",
    "result = add_and_mul(3,4)\n",
    "print(result) # 튜플 형태로 출력됨 (7, 12)"
   ]
  },
  {
   "cell_type": "code",
   "execution_count": 2,
   "id": "182360b6",
   "metadata": {},
   "outputs": [
    {
     "name": "stdout",
     "output_type": "stream",
     "text": [
      "120\n"
     ]
    }
   ],
   "source": [
    "# add_mul() 함수를 정의하여 1, 2, 3, 4, 5를 입력값으로 적용하고 덧셈, 곱셈 연산을 수행\n",
    "\n",
    "def add_mul(choice, *args):\n",
    "    if (choice=='add' or choice=='+'):\n",
    "        result = 0\n",
    "        for i in args:\n",
    "            result+=i\n",
    "        return result\n",
    "    elif (choice=='mul' or choice=='*'):\n",
    "        result = 1\n",
    "        for i in args:\n",
    "            result*=i\n",
    "        return result\n",
    "    else:\n",
    "        return \"연산자 오류\"\n",
    "\n",
    "print(add_mul('*', 1, 2, 3, 4, 5))"
   ]
  },
  {
   "cell_type": "code",
   "execution_count": 9,
   "id": "170f1c15",
   "metadata": {},
   "outputs": [
    {
     "name": "stdout",
     "output_type": "stream",
     "text": [
      "-26\n",
      "0.0010416666666666667\n",
      "연산자 오류\n",
      "약수에 0을 넣을 수는 없습니다.\n"
     ]
    }
   ],
   "source": [
    "# [과제] 뺄셈, 나눗셈 멀티 계산 함수를 작성\n",
    "# ('sub', 2, 4, 6, 8, 10)\n",
    "# ('div', 2, 4, 6, 8, 10)\n",
    "\n",
    "def sub_div(choice, *args):\n",
    "    if (choice=='sub' or choice=='-'):\n",
    "        result = args[0]\n",
    "        for i in range(1, len(args)):\n",
    "            result-=args[i]\n",
    "        return result\n",
    "    elif (choice=='div' or choice=='/'):\n",
    "        result = args[0]\n",
    "        for i in range(1, len(args)):\n",
    "            if(args[i]==0):\n",
    "                return \"약수에 0을 넣을 수는 없습니다.\"\n",
    "            else:\n",
    "                result/=args[i]\n",
    "        return result\n",
    "    else:\n",
    "        return \"연산자 오류\"\n",
    "\n",
    "print(sub_div('-', 2, 4, 6, 8, 10))\n",
    "print(sub_div('/', 2, 4, 6, 8, 10))\n",
    "print(sub_div('+', 2, 4, 6, 8, 10))\n",
    "print(sub_div('/', 2, 4, 6, 8, 0))"
   ]
  },
  {
   "cell_type": "code",
   "execution_count": 3,
   "id": "074af472",
   "metadata": {},
   "outputs": [
    {
     "name": "stdout",
     "output_type": "stream",
     "text": [
      "None\n",
      "1\n"
     ]
    }
   ],
   "source": [
    "# 함수 안에서 선언된 변수의 효력 범위\n",
    "\n",
    "a = 1\n",
    "\n",
    "def vartest(a):\n",
    "    a = a+1\n",
    "    \n",
    "print(vartest(a))\n",
    "\n",
    "print(a)"
   ]
  },
  {
   "cell_type": "code",
   "execution_count": 11,
   "id": "d6d6daed",
   "metadata": {},
   "outputs": [
    {
     "name": "stdout",
     "output_type": "stream",
     "text": [
      "2\n"
     ]
    }
   ],
   "source": [
    "# 함수 안에서 함수 밖의 변수를 변경하는 방법 - return\n",
    "\n",
    "a = 1\n",
    "\n",
    "def vartest(a):\n",
    "    a = a+1\n",
    "    return a\n",
    "\n",
    "a = vartest(a)\n",
    "print(a)"
   ]
  },
  {
   "cell_type": "code",
   "execution_count": 12,
   "id": "a87edcb8",
   "metadata": {},
   "outputs": [
    {
     "name": "stdout",
     "output_type": "stream",
     "text": [
      "2\n"
     ]
    }
   ],
   "source": [
    "# global 명령을 이용하는 방법\n",
    "\n",
    "a = 1\n",
    "\n",
    "def vartest():\n",
    "    global a\n",
    "    a = a+1\n",
    "    \n",
    "vartest()\n",
    "print(a)"
   ]
  },
  {
   "cell_type": "code",
   "execution_count": 13,
   "id": "7612b937",
   "metadata": {},
   "outputs": [
    {
     "data": {
      "text/plain": [
       "'C:\\\\CAKD5\\\\workspace\\\\m1_programming'"
      ]
     },
     "execution_count": 13,
     "metadata": {},
     "output_type": "execute_result"
    }
   ],
   "source": [
    "%pwd"
   ]
  },
  {
   "cell_type": "code",
   "execution_count": 14,
   "id": "d70ea2b0",
   "metadata": {},
   "outputs": [],
   "source": [
    "# 파일 읽고 쓰기\n",
    "\n",
    "f = open('test1.txt', 'w') # w-쓰기 / r-읽기 / a-추가\n",
    "f.close()"
   ]
  },
  {
   "cell_type": "code",
   "execution_count": 15,
   "id": "4d94390d",
   "metadata": {},
   "outputs": [],
   "source": [
    "f = open('test1.txt', 'w')\n",
    "for i in range(1,11):\n",
    "    data = '%d번째 줄입니다.\\n' %i\n",
    "    f.write(data)\n",
    "f.close()"
   ]
  },
  {
   "cell_type": "code",
   "execution_count": 16,
   "id": "90eca426",
   "metadata": {},
   "outputs": [
    {
     "name": "stdout",
     "output_type": "stream",
     "text": [
      "1번째 줄입니다.\n",
      "\n",
      "2번째 줄입니다.\n",
      "\n",
      "3번째 줄입니다.\n",
      "\n",
      "4번째 줄입니다.\n",
      "\n",
      "5번째 줄입니다.\n",
      "\n",
      "6번째 줄입니다.\n",
      "\n",
      "7번째 줄입니다.\n",
      "\n",
      "8번째 줄입니다.\n",
      "\n",
      "9번째 줄입니다.\n",
      "\n",
      "10번째 줄입니다.\n",
      "\n"
     ]
    }
   ],
   "source": [
    "f = open('test1.txt', 'r')\n",
    "\n",
    "for i in range (1,11):\n",
    "    line = f.readline()\n",
    "    print(line)\n",
    "f.close()"
   ]
  },
  {
   "cell_type": "code",
   "execution_count": 17,
   "id": "f98a684b",
   "metadata": {},
   "outputs": [
    {
     "name": "stdout",
     "output_type": "stream",
     "text": [
      "1번째 줄입니다.\n",
      "2번째 줄입니다.\n",
      "3번째 줄입니다.\n",
      "4번째 줄입니다.\n",
      "5번째 줄입니다.\n",
      "6번째 줄입니다.\n",
      "7번째 줄입니다.\n",
      "8번째 줄입니다.\n",
      "9번째 줄입니다.\n",
      "10번째 줄입니다.\n",
      "\n"
     ]
    }
   ],
   "source": [
    "# f.read()는 파일 내용 전체를 문자열로 반환\n",
    "\n",
    "f = open('test1.txt', 'r')\n",
    "data = f.read()\n",
    "print(data)\n",
    "f.close()"
   ]
  },
  {
   "cell_type": "code",
   "execution_count": 18,
   "id": "aabd42bb",
   "metadata": {},
   "outputs": [],
   "source": [
    "f = open('test1.txt', 'a')\n",
    "for i in range(11, 16):\n",
    "    data = '%d번째 줄입니다.\\n' %i\n",
    "    f.write(data)\n",
    "f.close()"
   ]
  },
  {
   "cell_type": "code",
   "execution_count": 19,
   "id": "9c117d4c",
   "metadata": {},
   "outputs": [
    {
     "name": "stdout",
     "output_type": "stream",
     "text": [
      "1번째 줄입니다.\n",
      "2번째 줄입니다.\n",
      "3번째 줄입니다.\n",
      "4번째 줄입니다.\n",
      "5번째 줄입니다.\n",
      "6번째 줄입니다.\n",
      "7번째 줄입니다.\n",
      "8번째 줄입니다.\n",
      "9번째 줄입니다.\n",
      "10번째 줄입니다.\n",
      "11번째 줄입니다.\n",
      "12번째 줄입니다.\n",
      "13번째 줄입니다.\n",
      "14번째 줄입니다.\n",
      "15번째 줄입니다.\n",
      "\n"
     ]
    }
   ],
   "source": [
    "f = open('test1.txt', 'r')\n",
    "data = f.read()\n",
    "print(data)\n",
    "f.close()"
   ]
  },
  {
   "cell_type": "code",
   "execution_count": 20,
   "id": "4aa059c4",
   "metadata": {},
   "outputs": [],
   "source": [
    "# with문과 같이 사용 \n",
    "\n",
    "with open('foo.txt', 'w') as f:\n",
    "    f.write('파이썬을 배웁시다.')"
   ]
  },
  {
   "cell_type": "code",
   "execution_count": 21,
   "id": "a7732324",
   "metadata": {},
   "outputs": [
    {
     "name": "stdout",
     "output_type": "stream",
     "text": [
      "파이썬을 배웁시다.\n"
     ]
    }
   ],
   "source": [
    "with open('foo.txt', 'r') as f:\n",
    "    data = f.read()\n",
    "    print(data)"
   ]
  },
  {
   "cell_type": "code",
   "execution_count": 22,
   "id": "92575c3a",
   "metadata": {},
   "outputs": [],
   "source": [
    "with open('test1.txt', 'w') as f:\n",
    "    for i in range(1, 11):\n",
    "        data = f'{i}번째 줄입니다.\\n'\n",
    "        f.write(data)"
   ]
  },
  {
   "cell_type": "code",
   "execution_count": 23,
   "id": "433954df",
   "metadata": {},
   "outputs": [],
   "source": [
    "with open('test1.txt', 'a') as f:\n",
    "    for i in range(11, 16):\n",
    "        data = f'{i}번째 줄입니다.\\n'\n",
    "        f.write(data)"
   ]
  },
  {
   "cell_type": "code",
   "execution_count": 24,
   "id": "a7bc238a",
   "metadata": {},
   "outputs": [
    {
     "name": "stdout",
     "output_type": "stream",
     "text": [
      "1번째 줄입니다.\n",
      "2번째 줄입니다.\n",
      "3번째 줄입니다.\n",
      "4번째 줄입니다.\n",
      "5번째 줄입니다.\n",
      "6번째 줄입니다.\n",
      "7번째 줄입니다.\n",
      "8번째 줄입니다.\n",
      "9번째 줄입니다.\n",
      "10번째 줄입니다.\n",
      "11번째 줄입니다.\n",
      "12번째 줄입니다.\n",
      "13번째 줄입니다.\n",
      "14번째 줄입니다.\n",
      "15번째 줄입니다.\n",
      "\n"
     ]
    }
   ],
   "source": [
    "with open('test1.txt', 'r') as f:\n",
    "    data = f.read()\n",
    "    print(data)"
   ]
  },
  {
   "cell_type": "code",
   "execution_count": 25,
   "id": "f946b2a3",
   "metadata": {},
   "outputs": [
    {
     "name": "stdout",
     "output_type": "stream",
     "text": [
      "3\n",
      "False\n",
      "True\n",
      "A\n"
     ]
    }
   ],
   "source": [
    "# 내장함수\n",
    "\n",
    "print(abs(-3)) # 절댓값\n",
    "print(all([1, 2, 3, 0])) # x가 모두 참이면 True, 거짓이 하나라도 있으면 False\n",
    "print(any([1, 2, 3, 0])) # x가 하나라도 참이면 True, 모두 거짓이면 False\n",
    "print(chr(65))"
   ]
  },
  {
   "cell_type": "code",
   "execution_count": 26,
   "id": "f2bd4edc",
   "metadata": {},
   "outputs": [
    {
     "data": {
      "text/plain": [
       "7"
      ]
     },
     "execution_count": 26,
     "metadata": {},
     "output_type": "execute_result"
    }
   ],
   "source": [
    "sum = lambda a, b: a+b\n",
    "sum(3, 4)"
   ]
  },
  {
   "cell_type": "code",
   "execution_count": 5,
   "id": "8431aec5",
   "metadata": {},
   "outputs": [
    {
     "name": "stdout",
     "output_type": "stream",
     "text": [
      "7\n",
      "[<function <lambda> at 0x0000029C472171F0>, <function <lambda> at 0x0000029C47217280>]\n"
     ]
    }
   ],
   "source": [
    "myList = [lambda a, b: a+b, lambda a,b: a*b]\n",
    "print(myList[0](3,4))\n",
    "print(myList[1](3,4))"
   ]
  },
  {
   "cell_type": "code",
   "execution_count": 28,
   "id": "e774bbbe",
   "metadata": {},
   "outputs": [
    {
     "name": "stdout",
     "output_type": "stream",
     "text": [
      "6\n",
      "3\n",
      "3\n"
     ]
    }
   ],
   "source": [
    "print(len('python'))\n",
    "print(len([1, 2, 3]))\n",
    "print(len([1, 2, 'a']))"
   ]
  },
  {
   "cell_type": "code",
   "execution_count": 7,
   "id": "a67b8de0",
   "metadata": {},
   "outputs": [
    {
     "name": "stdout",
     "output_type": "stream",
     "text": [
      "[0, 1, 2, 3, 4]\n",
      "[1, 2, 3, 4, 5]\n",
      "[1, 3, 5, 7, 9]\n",
      "[0, -1, -2, -3, -4, -5, -6, -7, -8, -9]\n"
     ]
    }
   ],
   "source": [
    "print(list(range(5)))\n",
    "print(list(range(1,6)))\n",
    "print(list(range(1, 10, 2))) # 1에서 10까지 2간격으로\n",
    "print(list(range(0, -10, -1))) # 0에서 -10까지 -1간격으로"
   ]
  },
  {
   "cell_type": "code",
   "execution_count": 30,
   "id": "ab0c2587",
   "metadata": {},
   "outputs": [
    {
     "name": "stdout",
     "output_type": "stream",
     "text": [
      "(2, 1)\n"
     ]
    }
   ],
   "source": [
    "print(divmod(7, 3)) # 몫과 나머지"
   ]
  },
  {
   "cell_type": "code",
   "execution_count": 31,
   "id": "6bf0a5c0",
   "metadata": {},
   "outputs": [
    {
     "name": "stdout",
     "output_type": "stream",
     "text": [
      "0 james\n",
      "1 tom\n",
      "2 susan\n"
     ]
    }
   ],
   "source": [
    "# 순서가 있는 자료형을 입력으로 받아 인덱스 값을 포함한 enumerate 객체를 리턴\n",
    "\n",
    "for i, name in enumerate(['james', 'tom', 'susan']):\n",
    "    print(i, name)"
   ]
  },
  {
   "cell_type": "code",
   "execution_count": 32,
   "id": "64ba64ce",
   "metadata": {},
   "outputs": [
    {
     "name": "stdout",
     "output_type": "stream",
     "text": [
      "3\n"
     ]
    }
   ],
   "source": [
    "# 실행 가능한 문자열 입력으로 받아 문자열을 실행한 결과값을 리턴 / 형변환 할때도 유용\n",
    "\n",
    "print(eval('1+2'))"
   ]
  },
  {
   "cell_type": "code",
   "execution_count": 33,
   "id": "c2636bbe",
   "metadata": {},
   "outputs": [
    {
     "data": {
      "text/plain": [
       "[5, 4, 3, 2, 1, 0]"
      ]
     },
     "execution_count": 33,
     "metadata": {},
     "output_type": "execute_result"
    }
   ],
   "source": [
    "li = [0, 1, 2, 3, 5, 4]\n",
    "li.sort(reverse=1) # 오름차순은 sort(), 내림차순일 경우 reverse=True 명기\n",
    "li"
   ]
  },
  {
   "cell_type": "code",
   "execution_count": 8,
   "id": "7f72490f",
   "metadata": {},
   "outputs": [
    {
     "name": "stdout",
     "output_type": "stream",
     "text": [
      "[0, 1, 2, 4, 5]\n",
      "[0, 2, 1, 5, 4]\n",
      "[0, 1, 2, 4, 5]\n"
     ]
    }
   ],
   "source": [
    "# 정렬된 결과를 반환하는 함수는 본체는 변형되지 않는다.\n",
    "\n",
    "li = [0, 2, 1, 5, 4]\n",
    "s = sorted(li)\n",
    "print(s)\n",
    "print(li)"
   ]
  },
  {
   "cell_type": "code",
   "execution_count": 35,
   "id": "2b40c988",
   "metadata": {},
   "outputs": [],
   "source": [
    "# 외장함수: 전 세계 파이썬 사용자들이 만든 유용한 프로그램을 모아 놓은 파이썬 라이브러리 / 파이썬을 설치할 때 자동으로 설치됨\n",
    "# pickle은 객체의 형태를 유지하면서 파일에 저장하고 불러올 수 있게 하는 모듈\n",
    "\n",
    "import pickle\n",
    "\n",
    "f = open('test.txt', 'wb')\n",
    "data = {1:'python', 2:'you need'}\n",
    "pickle.dump(data,f)\n",
    "f.close()"
   ]
  },
  {
   "cell_type": "code",
   "execution_count": 36,
   "id": "a2486db4",
   "metadata": {},
   "outputs": [
    {
     "name": "stdout",
     "output_type": "stream",
     "text": [
      "{1: 'python', 2: 'you need'}\n"
     ]
    }
   ],
   "source": [
    "import pickle\n",
    "f = open('test.txt', 'rb')\n",
    "data = pickle.load(f)\n",
    "print(data)\n",
    "f.close()"
   ]
  },
  {
   "cell_type": "code",
   "execution_count": 37,
   "id": "a211472d",
   "metadata": {},
   "outputs": [
    {
     "data": {
      "text/plain": [
       "'C:\\\\SW\\\\anaconda3\\\\envs\\\\cakd5;C:\\\\SW\\\\anaconda3\\\\envs\\\\cakd5\\\\Library\\\\mingw-w64\\\\bin;C:\\\\SW\\\\anaconda3\\\\envs\\\\cakd5\\\\Library\\\\usr\\\\bin;C:\\\\SW\\\\anaconda3\\\\envs\\\\cakd5\\\\Library\\\\bin;C:\\\\SW\\\\anaconda3\\\\envs\\\\cakd5\\\\Scripts;C:\\\\WINDOWS\\\\system32;C:\\\\WINDOWS;C:\\\\WINDOWS\\\\System32\\\\Wbem;C:\\\\WINDOWS\\\\System32\\\\WindowsPowerShell\\\\v1.0\\\\;C:\\\\WINDOWS\\\\System32\\\\OpenSSH\\\\;C:\\\\SW\\\\anaconda3;C:\\\\SW\\\\anaconda3\\\\Library\\\\mingw-w64\\\\bin;C:\\\\SW\\\\anaconda3\\\\Scripts;C:\\\\SW\\\\anaconda3\\\\Library\\\\bin;C:\\\\Users\\\\user\\\\AppData\\\\Local\\\\Microsoft\\\\WindowsApps;'"
      ]
     },
     "execution_count": 37,
     "metadata": {},
     "output_type": "execute_result"
    }
   ],
   "source": [
    "import os\n",
    "\n",
    "os.environ['PATH']"
   ]
  },
  {
   "cell_type": "code",
   "execution_count": 38,
   "id": "b6622fb0",
   "metadata": {},
   "outputs": [
    {
     "data": {
      "text/plain": [
       "'C:\\\\CAKD5\\\\workspace\\\\m1_programming'"
      ]
     },
     "execution_count": 38,
     "metadata": {},
     "output_type": "execute_result"
    }
   ],
   "source": [
    "%pwd"
   ]
  },
  {
   "cell_type": "code",
   "execution_count": 39,
   "id": "dc2b1138",
   "metadata": {},
   "outputs": [],
   "source": [
    "# 폴더 변경\n",
    "\n",
    "os.chdir('C:\\CAKD5\\workspace\\m1_programming')"
   ]
  },
  {
   "cell_type": "code",
   "execution_count": 40,
   "id": "44cff64e",
   "metadata": {},
   "outputs": [
    {
     "data": {
      "text/plain": [
       "'C:\\\\CAKD5\\\\workspace\\\\m1_programming'"
      ]
     },
     "execution_count": 40,
     "metadata": {},
     "output_type": "execute_result"
    }
   ],
   "source": [
    "os.getcwd()"
   ]
  },
  {
   "cell_type": "code",
   "execution_count": 41,
   "id": "aa65d069",
   "metadata": {},
   "outputs": [
    {
     "name": "stdout",
     "output_type": "stream",
     "text": [
      " C 드라이브의 볼륨에는 이름이 없습니다.\n",
      " 볼륨 일련 번호: 5EA5-0099\n",
      "\n",
      " C:\\CAKD5\\workspace\\m1_programming 디렉터리\n",
      "\n",
      "2021-12-31  오후 02:23    <DIR>          .\n",
      "2021-12-31  오후 02:23    <DIR>          ..\n",
      "2021-12-30  오후 05:07    <DIR>          .ipynb_checkpoints\n",
      "2021-12-31  오후 02:23                18 foo.txt\n",
      "2021-12-28  오후 05:45             2,885 Jupyter notebook 사용법.ipynb\n",
      "2021-12-31  오후 02:23                40 test.txt\n",
      "2021-12-31  오후 02:23               261 test1.txt\n",
      "2021-12-31  오후 12:23               351 test_new.txt\n",
      "2021-12-31  오전 10:31            75,472 기초.ipynb\n",
      "2021-12-28  오후 04:18            94,995 매직명령어.jpg\n",
      "2021-12-30  오후 05:09               547 연습.ipynb\n",
      "2021-12-31  오후 02:22            21,709 함수.ipynb\n",
      "               9개 파일             196,278 바이트\n",
      "               3개 디렉터리  939,835,564,032 바이트 남음\n"
     ]
    }
   ],
   "source": [
    "!dir"
   ]
  },
  {
   "cell_type": "code",
   "execution_count": 42,
   "id": "4f25b966",
   "metadata": {},
   "outputs": [
    {
     "ename": "FileExistsError",
     "evalue": "[WinError 183] 파일이 이미 있으므로 만들 수 없습니다: 'test1.txt' -> 'test_new.txt'",
     "output_type": "error",
     "traceback": [
      "\u001b[1;31m---------------------------------------------------------------------------\u001b[0m",
      "\u001b[1;31mFileExistsError\u001b[0m                           Traceback (most recent call last)",
      "\u001b[1;32m~\\AppData\\Local\\Temp/ipykernel_6536/1801842840.py\u001b[0m in \u001b[0;36m<module>\u001b[1;34m\u001b[0m\n\u001b[1;32m----> 1\u001b[1;33m \u001b[0mos\u001b[0m\u001b[1;33m.\u001b[0m\u001b[0mrename\u001b[0m\u001b[1;33m(\u001b[0m\u001b[1;34m'test1.txt'\u001b[0m\u001b[1;33m,\u001b[0m \u001b[1;34m'test_new.txt'\u001b[0m\u001b[1;33m)\u001b[0m\u001b[1;33m\u001b[0m\u001b[1;33m\u001b[0m\u001b[0m\n\u001b[0m",
      "\u001b[1;31mFileExistsError\u001b[0m: [WinError 183] 파일이 이미 있으므로 만들 수 없습니다: 'test1.txt' -> 'test_new.txt'"
     ]
    }
   ],
   "source": [
    "os.rename('test1.txt', 'test_new.txt')"
   ]
  },
  {
   "cell_type": "code",
   "execution_count": 43,
   "id": "5673909e",
   "metadata": {},
   "outputs": [
    {
     "data": {
      "text/plain": [
       "['C:\\\\CAKD5\\\\workspace\\\\m1_programming\\\\foo.txt',\n",
       " 'C:\\\\CAKD5\\\\workspace\\\\m1_programming\\\\test.txt',\n",
       " 'C:\\\\CAKD5\\\\workspace\\\\m1_programming\\\\test1.txt',\n",
       " 'C:\\\\CAKD5\\\\workspace\\\\m1_programming\\\\test_new.txt']"
      ]
     },
     "execution_count": 43,
     "metadata": {},
     "output_type": "execute_result"
    }
   ],
   "source": [
    "# glob() 함수는 인자로 받은 패턴과 이름이 일치하는 모든 파일과 디렉토리의 리스트를 반환\n",
    "\n",
    "import glob\n",
    "glob.glob('C:\\CAKD5\\workspace\\m1_programming/*.txt')"
   ]
  },
  {
   "cell_type": "code",
   "execution_count": 44,
   "id": "55029b8f",
   "metadata": {},
   "outputs": [
    {
     "data": {
      "text/plain": [
       "1640928216.7949765"
      ]
     },
     "execution_count": 44,
     "metadata": {},
     "output_type": "execute_result"
    }
   ],
   "source": [
    "import time\n",
    "\n",
    "time.time() # 1970.01.01부터 계산한 초"
   ]
  },
  {
   "cell_type": "code",
   "execution_count": 45,
   "id": "0413ac35",
   "metadata": {},
   "outputs": [
    {
     "data": {
      "text/plain": [
       "time.struct_time(tm_year=2021, tm_mon=12, tm_mday=31, tm_hour=14, tm_min=23, tm_sec=40, tm_wday=4, tm_yday=365, tm_isdst=0)"
      ]
     },
     "execution_count": 45,
     "metadata": {},
     "output_type": "execute_result"
    }
   ],
   "source": [
    "time.localtime(time.time())"
   ]
  },
  {
   "cell_type": "code",
   "execution_count": 46,
   "id": "54e5d87f",
   "metadata": {},
   "outputs": [
    {
     "data": {
      "text/plain": [
       "'Fri Dec 31 14:23:40 2021'"
      ]
     },
     "execution_count": 46,
     "metadata": {},
     "output_type": "execute_result"
    }
   ],
   "source": [
    "time.asctime(time.localtime(time.time()))"
   ]
  },
  {
   "cell_type": "code",
   "execution_count": 47,
   "id": "4e0fb4a8",
   "metadata": {},
   "outputs": [
    {
     "name": "stdout",
     "output_type": "stream",
     "text": [
      "1초 경과\n",
      "2초 경과\n",
      "3초 경과\n",
      "4초 경과\n",
      "5초 경과\n",
      "6초 경과\n",
      "7초 경과\n",
      "8초 경과\n",
      "9초 경과\n",
      "10초 경과\n"
     ]
    }
   ],
   "source": [
    "# time.sleep(): 일정한 시간 간격을 두고 루프를 실행할 수 있음\n",
    "\n",
    "import time\n",
    "for i in range(10):\n",
    "    print(str(i+1) + \"초 경과\")\n",
    "    time.sleep(1)"
   ]
  },
  {
   "cell_type": "code",
   "execution_count": 13,
   "id": "c2842936",
   "metadata": {},
   "outputs": [
    {
     "name": "stdout",
     "output_type": "stream",
     "text": [
      "    January 2022\n",
      "Mo Tu We Th Fr Sa Su\n",
      "                1  2\n",
      " 3  4  5  6  7  8  9\n",
      "10 11 12 13 14 15 16\n",
      "17 18 19 20 21 22 23\n",
      "24 25 26 27 28 29 30\n",
      "31\n"
     ]
    }
   ],
   "source": [
    "import calendar\n",
    "\n",
    "calendar.prmonth(2022, 1)"
   ]
  },
  {
   "cell_type": "code",
   "execution_count": 15,
   "id": "ab657a52",
   "metadata": {},
   "outputs": [
    {
     "name": "stdout",
     "output_type": "stream",
     "text": [
      "4\n"
     ]
    }
   ],
   "source": [
    "# 요일(0-월요일 ~6-일요일)\n",
    "\n",
    "print(calendar.weekday(2022, 1, 7))"
   ]
  },
  {
   "cell_type": "code",
   "execution_count": 17,
   "id": "27982f0c",
   "metadata": {},
   "outputs": [
    {
     "data": {
      "text/plain": [
       "(5, 31)"
      ]
     },
     "execution_count": 17,
     "metadata": {},
     "output_type": "execute_result"
    }
   ],
   "source": [
    "# 1일의 요일, 날 수\n",
    "\n",
    "calendar.monthrange(2022, 1)"
   ]
  },
  {
   "cell_type": "code",
   "execution_count": 18,
   "id": "6af64dde",
   "metadata": {},
   "outputs": [
    {
     "data": {
      "text/plain": [
       "True"
      ]
     },
     "execution_count": 18,
     "metadata": {},
     "output_type": "execute_result"
    }
   ],
   "source": [
    "import webbrowser\n",
    "\n",
    "webbrowser.open('http://google.com')"
   ]
  },
  {
   "cell_type": "code",
   "execution_count": 21,
   "id": "b8642bc7",
   "metadata": {},
   "outputs": [
    {
     "name": "stdout",
     "output_type": "stream",
     "text": [
      "[0, 1, 2, 3, 4, 5, 6]\n",
      "[0, 1, 3, 4, 5, 6]\n"
     ]
    }
   ],
   "source": [
    "# 연습문제 - 내장함수를 이용해 list = [0, 1, 2, 3, 4, 5, 6]에서 2를 삭제 후 출력\n",
    "\n",
    "lt = [0, 1, 2, 3, 4, 5, 6]\n",
    "print(lt)\n",
    "\n",
    "# del lt[2] # 인덱스 2를 삭제\n",
    "# lt.pop(2)\n",
    "lt.remove(2) # 일반적으로 많이 사용됨\n",
    "\n",
    "print(lt)"
   ]
  },
  {
   "cell_type": "code",
   "execution_count": 53,
   "id": "f8366927",
   "metadata": {},
   "outputs": [
    {
     "name": "stdout",
     "output_type": "stream",
     "text": [
      "[0, 1, 2, 3, 4, 5, 6]\n",
      "[]\n"
     ]
    }
   ],
   "source": [
    "# 연습문제 - 내장함수를 이용해 list = [0, 1, 2, 3, 4, 5, 6]에서 모든 원소를 삭제 후 출력\n",
    "\n",
    "lt = [0, 1, 2, 3, 4, 5, 6]\n",
    "\n",
    "print(lt)\n",
    "\n",
    "lt.clear()\n",
    "print(lt)"
   ]
  },
  {
   "cell_type": "code",
   "execution_count": 65,
   "id": "6f8a3567",
   "metadata": {},
   "outputs": [
    {
     "name": "stdout",
     "output_type": "stream",
     "text": [
      "[1, 2, 3, 4, 5] -> [1, 4, 9, 16, 25]\n",
      "[1, 2, 3, 4, 5] -> [1, 2]\n"
     ]
    }
   ],
   "source": [
    "# 연습문제 - 람다함수와 적합한 내장함수를 사용하여 아래와 같이 출력\n",
    "# [1, 2, 3, 4, 5] -> [1, 4, 9, 16, 25]\n",
    "# [1, 2, 3, 4, 5] -> [1, 2]\n",
    "\n",
    "lt = [1, 2, 3, 4, 5]\n",
    "\n",
    "print(f'{lt} -> {list(map(lambda x:x**2, lt))}')\n",
    "print(f'{lt} -> {list(filter(lambda a:a<=2, lt))}')"
   ]
  },
  {
   "cell_type": "code",
   "execution_count": 66,
   "id": "bab6da5b",
   "metadata": {},
   "outputs": [
    {
     "name": "stdout",
     "output_type": "stream",
     "text": [
      "[1, -3, 2, 0, -5, 6]\n",
      "내장 함수 > [1, 2, 6]\n",
      "사용자 함수 > [1, 2, 6]\n"
     ]
    }
   ],
   "source": [
    "# 연습문제 - [1, -3, 2, 0, -5, 6]에서 양수만 필터링하여 출력(내장함수, 사용자함수 각각 이용)\n",
    "\n",
    "def makePlusList(lt):\n",
    "    plus_list= []\n",
    "    for i in lt:\n",
    "        if(i>0):\n",
    "            plus_list.append(i)\n",
    "    return plus_list\n",
    "\n",
    "lt = [1, -3, 2, 0, -5, 6]\n",
    "print(lt)\n",
    "print(f'내장 함수 > {list(filter(lambda a: a>0, lt))}')\n",
    "print(f'사용자 함수 > {makePlusList(lt)}')"
   ]
  },
  {
   "cell_type": "code",
   "execution_count": 68,
   "id": "8a0488b0",
   "metadata": {},
   "outputs": [
    {
     "name": "stdout",
     "output_type": "stream",
     "text": [
      "[1, 2, 3], [4, 5, 6] -> [(1, 4), (2, 5), (3, 6)]\n",
      "[1, 2, 3], [4, 5, 6], [7, 8, 9] -> [(1, 4, 7), (2, 5, 8), (3, 6, 9)]\n",
      "('abc', 'def') -> [('a', 'd'), ('b', 'e'), ('c', 'f')]\n"
     ]
    }
   ],
   "source": [
    "# 연습문제 - 내장함수를 이용하여 동일한 개수로 이루어진 자료형을 각각 변환\n",
    "# [1, 2, 3], [4, 5, 6] -> [(1, 4), (2, 5), (3, 6)]\n",
    "# [1, 2, 3], [4, 5, 6], [7, 8, 9] -> [(1, 4, 7), (2, 5, 8), (3, 6, 9)]\n",
    "# ('abc', 'def') -> [('a', 'd'), ('b', 'e'), ('c', 'f')]\n",
    "\n",
    "nl1 = [1, 2, 3]\n",
    "nl2 = [4, 5, 6]\n",
    "nl3 = [7, 8, 9]\n",
    "cht = ('abc', 'def')\n",
    "\n",
    "print(f'{nl1}, {nl2} -> {list(zip(nl1, nl2))}')\n",
    "print(f'{nl1}, {nl2}, {nl3} -> {list(zip(nl1, nl2, nl3))}')\n",
    "print(f'{cht} -> {list(zip(cht[0], cht[1]))}')"
   ]
  },
  {
   "cell_type": "code",
   "execution_count": 69,
   "id": "f43ce11d",
   "metadata": {},
   "outputs": [
    {
     "name": "stdout",
     "output_type": "stream",
     "text": [
      "(1, 'a')\n",
      "(2, 'b')\n",
      "(3, 'c')\n"
     ]
    }
   ],
   "source": [
    "num = [1, 2, 3]\n",
    "lt = ['a', 'b', 'c']\n",
    "for pair in zip(num, lt):\n",
    "    print(pair)"
   ]
  },
  {
   "cell_type": "code",
   "execution_count": 98,
   "id": "97e03d33",
   "metadata": {
    "scrolled": true
   },
   "outputs": [
    {
     "name": "stdout",
     "output_type": "stream",
     "text": [
      "2.0\n"
     ]
    }
   ],
   "source": [
    "# 연습문제 - 입력으로 들어오는 모든 수의 평균 값을 계산해 주는 함수를 작성한 후 1, 2, 3을 입력한 결과를 출력\n",
    "\n",
    "def getAvr(*args):\n",
    "    sum = 0 \n",
    "    for i in args:\n",
    "        sum+=i\n",
    "    avr = float(sum/(len(args)))\n",
    "    return avr\n",
    "\n",
    "print(getAvr(1, 2, 3))"
   ]
  },
  {
   "cell_type": "code",
   "execution_count": 124,
   "id": "07a2b136",
   "metadata": {},
   "outputs": [
    {
     "name": "stdout",
     "output_type": "stream",
     "text": [
      "평균을 계산하는 프로그램입니다. 결괏값 출력을 원하시면 E를 입력해주세요.\n",
      "\n",
      "숫자 입력: 3\n",
      "\n",
      "숫자 입력: 5\n",
      "\n",
      "숫자 입력: 90\n",
      "\n",
      "숫자 입력: E\n",
      "입력을 종료합니다.\n",
      "\n",
      "입력한 값들의 평균값(소수점 아리 둘째자리까지) > 32.67\n",
      "프로그램을 종료합니다.\n"
     ]
    }
   ],
   "source": [
    "def getAvr(lt):\n",
    "    sum = 0 \n",
    "    for i in lt:\n",
    "        sum+=i\n",
    "    avr = float(sum/(len(lt)))\n",
    "    return avr\n",
    "\n",
    "lt=[]\n",
    "\n",
    "print(\"평균을 계산하는 프로그램입니다. 결괏값 출력을 원하시면 E를 입력해주세요.\")\n",
    "\n",
    "while 1:\n",
    "    print()\n",
    "    num = input(\"숫자 입력: \")\n",
    "    if(num =='E'):\n",
    "        print(\"입력을 종료합니다.\")\n",
    "        break\n",
    "    elif(num.isdecimal()==False):\n",
    "        print(\"숫자만 입력해주세요.\")\n",
    "        continue\n",
    "    lt.append(int(num))\n",
    "\n",
    "print()\n",
    "if(len(lt)==0):\n",
    "    print(\"아무런 값도 입력되지 않았습니다.\")\n",
    "else:\n",
    "    print(f'입력한 값들의 평균값(소수점 아리 둘째자리까지) > {getAvr(lt):0.2f}')\n",
    "print(\"프로그램을 종료합니다.\")"
   ]
  },
  {
   "cell_type": "code",
   "execution_count": 97,
   "id": "b5bd9c17",
   "metadata": {},
   "outputs": [
    {
     "name": "stdout",
     "output_type": "stream",
     "text": [
      "단어 목록 > ['a', 'ca', 'bar', 'aaaa', 'ababa']\n",
      "검색할 문자를 입력 > b\n",
      "\n",
      "결과 > ['ababa', 'bar']\n"
     ]
    }
   ],
   "source": [
    "# [과제] strings를 다양한 문자가 포함된 순서로 정렬\n",
    "\n",
    "def research(key, dic):\n",
    "    result=[]\n",
    "    for i in dic:\n",
    "        if key in i:\n",
    "            result.append(i)\n",
    "#     result.sort() # 사전식 정렬 여부\n",
    "    return result\n",
    "\n",
    "strings = ['a', 'ca', 'bar', 'aaaa', 'ababa']\n",
    "\n",
    "print(f'단어 목록 > {strings}')\n",
    "search = input(\"검색할 문자를 입력 > \")\n",
    "print()\n",
    "print(f'결과 > {research(search, strings)}')\n",
    "        "
   ]
  },
  {
   "cell_type": "code",
   "execution_count": 1,
   "id": "2289a5a6",
   "metadata": {},
   "outputs": [
    {
     "data": {
      "text/plain": [
       "['bar', 'ababa', 'ca', 'aaaa', 'a']"
      ]
     },
     "execution_count": 1,
     "metadata": {},
     "output_type": "execute_result"
    }
   ],
   "source": [
    "# [과제] strings를 다양한 문자가 포함된 순서로 정렬\n",
    "\n",
    "strings = ['a', 'ca', 'bar', 'aaaa', 'ababa']\n",
    "strings.sort(key=lambda x:len(set(x)))\n",
    "strings[::-1] # 처음부터 끝까지 출력하되 반대로 출력(-1)"
   ]
  },
  {
   "cell_type": "code",
   "execution_count": 8,
   "id": "11a9d216",
   "metadata": {},
   "outputs": [
    {
     "data": {
      "text/plain": [
       "['bar', 'ababa', 'ca', 'aaaa', 'a']"
      ]
     },
     "execution_count": 8,
     "metadata": {},
     "output_type": "execute_result"
    }
   ],
   "source": [
    "# [과제] strings를 다양한 문자가 포함된 순서로 정렬\n",
    "\n",
    "strings = ('a', 'ca', 'bar', 'aaaa', 'ababa')\n",
    "lists = list(strings)\n",
    "lists.sort(key=lambda x:len(set(x)))\n",
    "lists[::-1]"
   ]
  },
  {
   "cell_type": "code",
   "execution_count": 28,
   "id": "6d9822bd",
   "metadata": {},
   "outputs": [
    {
     "name": "stdout",
     "output_type": "stream",
     "text": [
      "gfedcba\n",
      "gfedcba\n",
      "gfedcba\n"
     ]
    }
   ],
   "source": [
    "s = 'abcdefg'\n",
    "\n",
    "s_list=list(s)\n",
    "s_list.reverse()\n",
    "print(''.join(s_list))\n",
    "\n",
    "s_list=list(s)\n",
    "for i in range (1, len(s_list)+1):\n",
    "    j = s_list[-i]\n",
    "    print(j, end='')\n",
    "print()\n",
    "\n",
    "reversed_str = s[::-1]\n",
    "print(reversed_str)"
   ]
  },
  {
   "cell_type": "code",
   "execution_count": 29,
   "id": "369616dd",
   "metadata": {},
   "outputs": [
    {
     "name": "stdout",
     "output_type": "stream",
     "text": [
      "dcb\n"
     ]
    }
   ],
   "source": [
    "# dcb만 출력\n",
    "\n",
    "s = 'abcdefg'\n",
    "\n",
    "print(s[3:0:-1])"
   ]
  },
  {
   "cell_type": "code",
   "execution_count": 30,
   "id": "7a899b17",
   "metadata": {},
   "outputs": [
    {
     "name": "stdout",
     "output_type": "stream",
     "text": [
      "gfedcba\n",
      "gfedcba\n"
     ]
    }
   ],
   "source": [
    "print(s[::-1])\n",
    "print(s[6::-1])"
   ]
  }
 ],
 "metadata": {
  "kernelspec": {
   "display_name": "Python 3 (ipykernel)",
   "language": "python",
   "name": "python3"
  },
  "language_info": {
   "codemirror_mode": {
    "name": "ipython",
    "version": 3
   },
   "file_extension": ".py",
   "mimetype": "text/x-python",
   "name": "python",
   "nbconvert_exporter": "python",
   "pygments_lexer": "ipython3",
   "version": "3.8.12"
  }
 },
 "nbformat": 4,
 "nbformat_minor": 5
}
