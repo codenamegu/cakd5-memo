{
 "cells": [
  {
   "cell_type": "code",
   "execution_count": 1,
   "id": "be38a715",
   "metadata": {
    "scrolled": true
   },
   "outputs": [
    {
     "name": "stdout",
     "output_type": "stream",
     "text": [
      "Hello Python\n"
     ]
    }
   ],
   "source": [
    "print('Hello Python')"
   ]
  },
  {
   "cell_type": "markdown",
   "id": "54cdb030",
   "metadata": {},
   "source": [
    "# 주피터 노트북 사용법\n",
    "## 주피터 노트북 사용법\n",
    "### 주피터 노트북 사용법\n",
    "#### 주피터 노트북 사용법\n",
    "- 주피터\n",
    "- 노트북\n",
    "\n",
    "#### 주피터 노트북 사용법\n",
    "1. 주피터\n",
    "2. 노트북"
   ]
  },
  {
   "cell_type": "markdown",
   "id": "6fb30458",
   "metadata": {},
   "source": [
    "단축키\n",
    "- ESC를 눌러 커맨드 모드로 진입하여 Enter를 통해 cell을 수정할 수 있다.\n",
    "- A: 바로 위에 새로운 cell 생성\n",
    "- B: 바로 아래에 새로운 cell 생성\n",
    "- X: 현재 cell 삭제\n",
    "- M: Markdown\n",
    "- Y: Code\n",
    "- Ctrl+Enter: 해당 cell 실행 / Shift+Enter: 해당 cell 실행 후 다음 cell로 이동(다음 cell이 없을 경우 생성) / Alt+Enter: 해당 cell 실행 후 다음 cell 생성, 이동"
   ]
  },
  {
   "cell_type": "markdown",
   "id": "c094c46b",
   "metadata": {},
   "source": [
    "매직 명령어: 맨 앞에 %를 붙이고 특정 명령을 수행할 수 있다. 파이썬 문법에는 포함되지 않는 Jupyter notebook만의 기능.\n",
    "<img src = '매직명령어.jpg' STYLE='width: 800px;'>"
   ]
  },
  {
   "cell_type": "code",
   "execution_count": 14,
   "id": "9e4b9287",
   "metadata": {},
   "outputs": [],
   "source": [
    "# 수식 문법\n",
    "# - markdown 셀을 이용\n",
    "# - $ 혹은 $$를 앞뒤로 감싸서 수식을 기술\n",
    "#  * $: 문장 안에 기술해야 하는 경우\n",
    "#  * $$: 전체 라인으로 표기하는 경우\n",
    "# - _와 ^기호를 이용해서 아래첨자와 위첨자를 사용: a_1, a_{ij}, b^2, b^{ij}, c_1^2"
   ]
  },
  {
   "cell_type": "markdown",
   "id": "2f6a6354",
   "metadata": {},
   "source": [
    "$a^2 + b^2 = c^2$\n",
    "\n",
    "$$ E = mc^2 $$"
   ]
  },
  {
   "cell_type": "markdown",
   "id": "49098d1f",
   "metadata": {},
   "source": [
    "https://www.youtube.com/channel/UCOlMZP-QJc0sWC2T0Rg2ZfA"
   ]
  }
 ],
 "metadata": {
  "kernelspec": {
   "display_name": "Python 3 (ipykernel)",
   "language": "python",
   "name": "python3"
  },
  "language_info": {
   "codemirror_mode": {
    "name": "ipython",
    "version": 3
   },
   "file_extension": ".py",
   "mimetype": "text/x-python",
   "name": "python",
   "nbconvert_exporter": "python",
   "pygments_lexer": "ipython3",
   "version": "3.8.12"
  }
 },
 "nbformat": 4,
 "nbformat_minor": 5
}
