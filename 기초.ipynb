{
 "cells": [
  {
   "cell_type": "markdown",
   "id": "1f579fce",
   "metadata": {},
   "source": [
    "## 파이썬 기초"
   ]
  },
  {
   "cell_type": "markdown",
   "id": "ec55bdfc",
   "metadata": {},
   "source": [
    "#### 파이썬이란\n",
    "- 1990년 암스텔담의 귀도 반 로섬(Guido Van Rossum)이 개발한 안티프리터 언어\n",
    "- 컴퓨터 프로그래밍 교육을 위해 많이 사용하지만, 기업의 실무를 위해서도 많이 사용하는 언어. 구글에서 만든 소프트웨어의 50% 이상이 파이썬으로 작성\n",
    "\n",
    "#### 파이썬의 특징\n",
    "- 파이썬은 인간다운 언어이다\n",
    "- 파이썬은 문법이 쉬워 빠르게 배울 수 있다\n",
    "- 파이썬은 무료이지만(오픈 소스) 강력하다\n",
    "- 파이썬은 간결하다\n",
    "- 파이썬은 프로그래밍을 즐기게 해준다\n",
    "- 파이썬은 개발 속도가 빠르다\n",
    "\n",
    "#### 파이썬으로 할 수 있는 일\n",
    "- 시스템 유틸리티 제작\n",
    "- GUI 프로그래밍\n",
    "- 웹 프로그래밍\n",
    "- 수치 연산 프로그래밍\n",
    "- 데이터베이스 프로그래밍\n",
    "- 데이터 분석(가장 많이 사용), 사물 인터넷\n",
    "\n",
    "#### 참조\n",
    "- 표현식: 어떠한 값을 만들어내는 간단한 코드 / 273, 10+20+30, \"Python Programming\"\n",
    "- 문장: 표현식이 하나 이상 모이면 문장 / print(\"Hello\")\n",
    "- 프로그램: 문장이 모여 프로그램을 이룬다\n",
    "- 식별자: 프로그래밍 언어에서 이름을 붙일 때 사용하는 단어로 주로 변수 또는 함수 이름 등으로 사용된다.\n",
    "- 주석: 프로그램을 설명하기 위해 사용, # 기호로 처리\n",
    "- 연산자: 스스로 값이 되는 것이 아니고 값과 값 사이에 무언가 기능을 적용할 때 사용\n",
    "- 자료: 리터럴이라고 하는데 숫자이든 문자이든 어떠한 값 자체를 의미 / 1, 10, \"Hello\"\n",
    "- 키워드: 파이썬이 만들어질 때 이미 사용하겠다고 예약해 놓는 것(예약어) / False, None, True, ...\n",
    "- 프로그래밍 언어에서 사용자가 이름을 정할 때 키워드는 사용할 수 없다"
   ]
  },
  {
   "cell_type": "code",
   "execution_count": 7,
   "id": "a4e55b75",
   "metadata": {},
   "outputs": [
    {
     "name": "stdout",
     "output_type": "stream",
     "text": [
      "Python 3.8.12\n"
     ]
    }
   ],
   "source": [
    "!python -V"
   ]
  },
  {
   "cell_type": "code",
   "execution_count": 8,
   "id": "177f367b",
   "metadata": {},
   "outputs": [
    {
     "name": "stdout",
     "output_type": "stream",
     "text": [
      "273\n",
      "60\n"
     ]
    },
    {
     "data": {
      "text/plain": [
       "'Python Programming'"
      ]
     },
     "execution_count": 8,
     "metadata": {},
     "output_type": "execute_result"
    }
   ],
   "source": [
    "# 표현식\n",
    "\n",
    "print(273)\n",
    "print(10+20+30)\n",
    "# print를 포함하지 않으면 가장 아래에 있는 것만 출력\n",
    "\"Python Programming\""
   ]
  },
  {
   "cell_type": "code",
   "execution_count": 9,
   "id": "b8679355",
   "metadata": {},
   "outputs": [
    {
     "name": "stdout",
     "output_type": "stream",
     "text": [
      "Hello Python\n",
      "52 Hello Python 8\n"
     ]
    }
   ],
   "source": [
    "# 표현식이 하나 이상씩 모이면 문장\n",
    "\n",
    "print(\"Hello Python\")\n",
    "print(52, 'Hello Python', 5+3)"
   ]
  },
  {
   "cell_type": "code",
   "execution_count": null,
   "id": "631222c5",
   "metadata": {},
   "outputs": [],
   "source": [
    "# 문장이 모여서 프로그램\n",
    "\n",
    "a=1; b=1; c=a+b"
   ]
  },
  {
   "cell_type": "code",
   "execution_count": 10,
   "id": "361d992a",
   "metadata": {},
   "outputs": [
    {
     "name": "stdout",
     "output_type": "stream",
     "text": [
      "['False', 'None', 'True', 'and', 'as', 'assert', 'async', 'await', 'break', 'class', 'continue', 'def', 'del', 'elif', 'else', 'except', 'finally', 'for', 'from', 'global', 'if', 'import', 'in', 'is', 'lambda', 'nonlocal', 'not', 'or', 'pass', 'raise', 'return', 'try', 'while', 'with', 'yield']\n",
      "\n",
      "35\n"
     ]
    }
   ],
   "source": [
    "# python keyword\n",
    "\n",
    "import keyword\n",
    "print(keyword.kwlist)\n",
    "print()\n",
    "# print('\\n')과 의미가 같다(한 줄 띄우기)\n",
    "print(len(keyword.kwlist))"
   ]
  },
  {
   "cell_type": "markdown",
   "id": "65b24b25",
   "metadata": {},
   "source": [
    "식별자 기본 규칙\n",
    "- 키워드를 사용하면 안 된다.\n",
    "- 특수문자는 언더 바(_)만 사용한다.\n",
    "- 숫자로 시작하면 안 된다.\n",
    "- 공백을 포함할 수 없다."
   ]
  },
  {
   "cell_type": "code",
   "execution_count": null,
   "id": "96944a6a",
   "metadata": {},
   "outputs": [],
   "source": [
    "alpha\n",
    "break #키워드\n",
    "alpha10\n",
    "_alpha\n",
    "273alpha #숫자\n",
    "AlpHa\n",
    "ALPHA\n",
    "has space #공백"
   ]
  },
  {
   "cell_type": "markdown",
   "id": "90cd8200",
   "metadata": {},
   "source": [
    "참고 > https://bibi6666667.tistory.com/277\n",
    "\n",
    "파이썬은 snake_case와 CamelCase를 모두 사용\n",
    "- itemlist item_list itemList\n",
    "- loginstatus login_status LoginStatus\n",
    "- 캐멀 케이스(대문자로 시작) 클래스\n",
    "- 스네이크 케이스(소문자로 시작) 뒤에 ()가 있다 = 함수\n",
    "- 스네이크 케이스(소문자로 시작) 뒤에 ()가 없다 = 변수"
   ]
  },
  {
   "cell_type": "code",
   "execution_count": 11,
   "id": "0ffe3df0",
   "metadata": {},
   "outputs": [
    {
     "name": "stdout",
     "output_type": "stream",
     "text": [
      "3이 있습니다.\n"
     ]
    }
   ],
   "source": [
    "# 사람이 생각하는 방식을 그대로 표현할 수 있는 언어\n",
    "\n",
    "if 3 in { 1, 2, 3, 4 }: print('3이 있습니다.')"
   ]
  },
  {
   "cell_type": "code",
   "execution_count": 12,
   "id": "1ce3d592",
   "metadata": {},
   "outputs": [
    {
     "name": "stdout",
     "output_type": "stream",
     "text": [
      "2 5 7 3 \n",
      "\n",
      "럭키 세븐\n"
     ]
    }
   ],
   "source": [
    "# 표현식 연습\n",
    "\n",
    "a=2; b=5; c=a+b; d=b-a\n",
    "\n",
    "print(a, b, c, d, '\\n')\n",
    "if 7 in {a, b, c, d}: print('럭키 세븐')"
   ]
  },
  {
   "cell_type": "code",
   "execution_count": 13,
   "id": "04a50c97",
   "metadata": {},
   "outputs": [
    {
     "name": "stdout",
     "output_type": "stream",
     "text": [
      "123\n",
      "-123\n",
      "0\n",
      "1.23\n",
      "127\n",
      "2748\n",
      "42\n"
     ]
    }
   ],
   "source": [
    "# 파이썬 자료형 - 숫자형(정수, 실수, 8진수, 16진수)\n",
    "\n",
    "a = 123\n",
    "b = -123\n",
    "c = 0\n",
    "d = 1.23\n",
    "e = 0o177 # 8진수 / 0o로 시작\n",
    "f = 0xABC # 16진수 / 0x로 시작\n",
    "g = 0b101010 # 2진수 / 0b로 시작\n",
    "\n",
    "print(a)\n",
    "print(b)\n",
    "print(c)\n",
    "print(d)\n",
    "print(e)\n",
    "print(f)\n",
    "print(g)"
   ]
  },
  {
   "cell_type": "code",
   "execution_count": 14,
   "id": "d9344bad",
   "metadata": {},
   "outputs": [
    {
     "name": "stdout",
     "output_type": "stream",
     "text": [
      "10\n",
      "2\n",
      "12\n",
      "20\n",
      "5.0\n",
      "0\n",
      "5\n",
      "8\n"
     ]
    }
   ],
   "source": [
    "# 사칙연산\n",
    "\n",
    "a = 10\n",
    "b = 2\n",
    "c = a+b\n",
    "d = a*b\n",
    "e = a/b\n",
    "f = a%b # 나머지\n",
    "g = a//b # 몫\n",
    "h = 2**3 # 제곱\n",
    "\n",
    "print(a)\n",
    "print(b)\n",
    "print(c)\n",
    "print(d)\n",
    "print(e)\n",
    "print(f)\n",
    "print(g)\n",
    "print(h)"
   ]
  },
  {
   "cell_type": "code",
   "execution_count": 15,
   "id": "7a8ba2ec",
   "metadata": {},
   "outputs": [
    {
     "name": "stdout",
     "output_type": "stream",
     "text": [
      "9 + 16 = 25\n"
     ]
    }
   ],
   "source": [
    "# 사칙연산 연습\n",
    "\n",
    "a=3; b=4; c=5\n",
    "\n",
    "print(a**2, '+', b**2, '=', c**2)"
   ]
  },
  {
   "cell_type": "code",
   "execution_count": 16,
   "id": "b582561c",
   "metadata": {},
   "outputs": [
    {
     "ename": "TypeError",
     "evalue": "can only concatenate str (not \"int\") to str",
     "output_type": "error",
     "traceback": [
      "\u001b[1;31m---------------------------------------------------------------------------\u001b[0m",
      "\u001b[1;31mTypeError\u001b[0m                                 Traceback (most recent call last)",
      "\u001b[1;32m~\\AppData\\Local\\Temp/ipykernel_3616/719277987.py\u001b[0m in \u001b[0;36m<module>\u001b[1;34m\u001b[0m\n\u001b[0;32m      3\u001b[0m \u001b[0mstring\u001b[0m \u001b[1;33m=\u001b[0m \u001b[1;34m\"문자열\"\u001b[0m\u001b[1;33m\u001b[0m\u001b[1;33m\u001b[0m\u001b[0m\n\u001b[0;32m      4\u001b[0m \u001b[0mnumber\u001b[0m \u001b[1;33m=\u001b[0m \u001b[1;36m273\u001b[0m\u001b[1;33m\u001b[0m\u001b[1;33m\u001b[0m\u001b[0m\n\u001b[1;32m----> 5\u001b[1;33m \u001b[0mstring\u001b[0m \u001b[1;33m+\u001b[0m \u001b[0mnumber\u001b[0m\u001b[1;33m\u001b[0m\u001b[1;33m\u001b[0m\u001b[0m\n\u001b[0m",
      "\u001b[1;31mTypeError\u001b[0m: can only concatenate str (not \"int\") to str"
     ]
    }
   ],
   "source": [
    "# 다른 타입간 연산은 안됨\n",
    "\n",
    "string = \"문자열\"\n",
    "number = 273\n",
    "string + number"
   ]
  },
  {
   "cell_type": "code",
   "execution_count": 17,
   "id": "a74ba076",
   "metadata": {},
   "outputs": [
    {
     "data": {
      "text/plain": [
       "str"
      ]
     },
     "execution_count": 17,
     "metadata": {},
     "output_type": "execute_result"
    }
   ],
   "source": [
    "a = 10\n",
    "a = \"문자\"\n",
    "# a = 100\n",
    "type(a)"
   ]
  },
  {
   "cell_type": "code",
   "execution_count": 18,
   "id": "9d4b6cb0",
   "metadata": {},
   "outputs": [
    {
     "data": {
      "text/plain": [
       "200"
      ]
     },
     "execution_count": 18,
     "metadata": {},
     "output_type": "execute_result"
    }
   ],
   "source": [
    "# 복합 대입 연산자\n",
    "\n",
    "num = 10\n",
    "num += 10\n",
    "num *= 10\n",
    "num"
   ]
  },
  {
   "cell_type": "code",
   "execution_count": 19,
   "id": "80fe03f8",
   "metadata": {},
   "outputs": [
    {
     "data": {
      "text/plain": [
       "10.0"
      ]
     },
     "execution_count": 19,
     "metadata": {},
     "output_type": "execute_result"
    }
   ],
   "source": [
    "# 복합 대입 연산자 연습\n",
    "\n",
    "num = 100\n",
    "num += 50\n",
    "num /= 15\n",
    "\n",
    "num"
   ]
  },
  {
   "cell_type": "code",
   "execution_count": 20,
   "id": "85e7c51d",
   "metadata": {},
   "outputs": [
    {
     "name": "stdout",
     "output_type": "stream",
     "text": [
      "인사말을 입력하세요: 안녕하세요\n"
     ]
    },
    {
     "data": {
      "text/plain": [
       "'안녕하세요'"
      ]
     },
     "execution_count": 20,
     "metadata": {},
     "output_type": "execute_result"
    }
   ],
   "source": [
    "# 사용자 입력\n",
    "\n",
    "input('인사말을 입력하세요: ')"
   ]
  },
  {
   "cell_type": "code",
   "execution_count": 21,
   "id": "3f445421",
   "metadata": {},
   "outputs": [
    {
     "name": "stdout",
     "output_type": "stream",
     "text": [
      "숫자를 입력하세요: 10\n",
      "10\n"
     ]
    },
    {
     "data": {
      "text/plain": [
       "str"
      ]
     },
     "execution_count": 21,
     "metadata": {},
     "output_type": "execute_result"
    }
   ],
   "source": [
    "num = input('숫자를 입력하세요: ')\n",
    "print(num)\n",
    "type(num)\n",
    "# input 함수는 기본적으로 입력받은 값을 문자열로 인식한다."
   ]
  },
  {
   "cell_type": "code",
   "execution_count": 22,
   "id": "22539fc0",
   "metadata": {},
   "outputs": [
    {
     "name": "stdout",
     "output_type": "stream",
     "text": [
      "숫자를 입력하세요: 5\n",
      "숫자를 입력하세요: 5\n",
      "55\n"
     ]
    }
   ],
   "source": [
    "num1 = input('숫자를 입력하세요: ')\n",
    "num2 = input('숫자를 입력하세요: ')\n",
    "\n",
    "print(num1+num2)"
   ]
  },
  {
   "cell_type": "code",
   "execution_count": 23,
   "id": "d6ab9600",
   "metadata": {},
   "outputs": [
    {
     "name": "stdout",
     "output_type": "stream",
     "text": [
      "숫자를 입력하세요: 5\n",
      "숫자를 입력하세요: 5\n",
      "10\n"
     ]
    }
   ],
   "source": [
    "# input() 함수 사용 후 숫자연산을 하기 위해서는 변환이 필요하다\n",
    "\n",
    "num1 = input('숫자를 입력하세요: ')\n",
    "num1_n = int(num1)\n",
    "num2 = input('숫자를 입력하세요: ')\n",
    "num2_n = int(num2)\n",
    "\n",
    "print(num1_n+num2_n)"
   ]
  },
  {
   "cell_type": "code",
   "execution_count": 24,
   "id": "11e78d3a",
   "metadata": {},
   "outputs": [
    {
     "name": "stdout",
     "output_type": "stream",
     "text": [
      "숫자를 입력하세요: 3\n",
      "숫자를 입력하세요: 3.3\n",
      "6.3\n"
     ]
    }
   ],
   "source": [
    "# 연습문제 - 3과 3.3을 입력하고 숫자 연산을 수행하여 6.3 출력\n",
    "\n",
    "num1 = input('숫자를 입력하세요: ')\n",
    "num1_n = int(num1)\n",
    "num2 = input('숫자를 입력하세요: ')\n",
    "num2_n = float(num2) # 실수형으로 변환\n",
    "\n",
    "print(num1_n+num2_n)"
   ]
  },
  {
   "cell_type": "code",
   "execution_count": 25,
   "id": "9f482695",
   "metadata": {},
   "outputs": [
    {
     "name": "stdout",
     "output_type": "stream",
     "text": [
      "5252.273\n"
     ]
    }
   ],
   "source": [
    "# 연습문제 - a=52. b=52.273일 때 a+b는 5252.273으로 출력되도록 a와 b를 문자열 자료형으로 변환\n",
    "\n",
    "a = 52\n",
    "b = 52.273\n",
    "\n",
    "print(str(a)+str(b))"
   ]
  },
  {
   "cell_type": "code",
   "execution_count": 26,
   "id": "0ca24c8e",
   "metadata": {},
   "outputs": [
    {
     "name": "stdout",
     "output_type": "stream",
     "text": [
      "python's value is great\n"
     ]
    }
   ],
   "source": [
    "# 문자열: \"\", '', \"\"\" \"\"\", ''' '''\n",
    "\n",
    "p1 = \"python's value is great\"\n",
    "# p2 = 'python's value is great' > 오류\n",
    "print(p1)"
   ]
  },
  {
   "cell_type": "code",
   "execution_count": 27,
   "id": "96365485",
   "metadata": {},
   "outputs": [
    {
     "data": {
      "text/plain": [
       "'\"python is valuable\" he says'"
      ]
     },
     "execution_count": 27,
     "metadata": {},
     "output_type": "execute_result"
    }
   ],
   "source": [
    "s1 = '\"python is valuable\" he says'\n",
    "s1\n",
    "# 문장 안에서 따옴표를 쓸 때, 문장을 감싸는 따옴표는 종류가 다른 것으로 한다.\n",
    "# 홑따옴표-겹따옴표 / 겹따옴표-홑따옴표 / 중복으로 사용 불가(오류)"
   ]
  },
  {
   "cell_type": "code",
   "execution_count": 28,
   "id": "3aaa0b9e",
   "metadata": {},
   "outputs": [
    {
     "data": {
      "text/plain": [
       "\"python's value is great\""
      ]
     },
     "execution_count": 28,
     "metadata": {},
     "output_type": "execute_result"
    }
   ],
   "source": [
    "s2 = 'python\\'s value is great'\n",
    "s2"
   ]
  },
  {
   "cell_type": "code",
   "execution_count": 29,
   "id": "cad97632",
   "metadata": {},
   "outputs": [
    {
     "name": "stdout",
     "output_type": "stream",
     "text": [
      "Once you study data analysis\n",
      "You need Python\n",
      "Once you study data analysis\n",
      "You need Python\n",
      "Once you study data analysis\n",
      "You need Python\n"
     ]
    }
   ],
   "source": [
    "y1 = \"Once you study data analysis\\nYou need Python\"\n",
    "print(y1)\n",
    "y2 = '''Once you study data analysis\n",
    "You need Python'''\n",
    "print(y2)\n",
    "y3 = \"\"\"Once you study data analysis\n",
    "You need Python\"\"\"\n",
    "print(y3)"
   ]
  },
  {
   "cell_type": "code",
   "execution_count": 30,
   "id": "8dc66608",
   "metadata": {},
   "outputs": [
    {
     "name": "stdout",
     "output_type": "stream",
     "text": [
      "Python is easy to learn\n",
      "PythonPythonPython\n",
      "====================\n"
     ]
    }
   ],
   "source": [
    "# 문자열 연산\n",
    "\n",
    "a1 = 'Python'\n",
    "a2 = ' is easy to learn'\n",
    "print(a1+a2)\n",
    "print(a1*3)\n",
    "print(\"=\"*20)"
   ]
  },
  {
   "cell_type": "code",
   "execution_count": 31,
   "id": "1e25dc28",
   "metadata": {
    "scrolled": true
   },
   "outputs": [
    {
     "name": "stdout",
     "output_type": "stream",
     "text": [
      "오늘은 12월 29일\n",
      "(Dec 29th)\n",
      "수요일 입니다.\n"
     ]
    }
   ],
   "source": [
    "# 문자열 개행, 연산 연습\n",
    "\n",
    "p1 = \"\"\"오늘은 12월 29일\n",
    "(Dec 29th)\"\"\"\n",
    "p2 = \"\\n수요일 입니다.\"\n",
    "\n",
    "print(p1 + p2)"
   ]
  },
  {
   "cell_type": "code",
   "execution_count": 30,
   "id": "4e5a0e43",
   "metadata": {},
   "outputs": [
    {
     "name": "stdout",
     "output_type": "stream",
     "text": [
      "[1, 'a', 'abc', [1, 2, 3, 4, 5], ['a', 'b', 'c']]\n"
     ]
    }
   ],
   "source": [
    "# 자료형 - List\n",
    "# 리스트는 []로 표시하며 [] 안의 요소를 콤마로 구분하여 순서있게 나열\n",
    "\n",
    "list1 = [1, 2, 3, 4, 5]\n",
    "list2 = ['a', 'b', 'c']\n",
    "list3 = [1, 'a', 'abc', [1, 2, 3, 4, 5], ['a', 'b', 'c']]\n",
    "\n",
    "print(list3)"
   ]
  },
  {
   "cell_type": "code",
   "execution_count": 31,
   "id": "0db14785",
   "metadata": {},
   "outputs": [
    {
     "data": {
      "text/plain": [
       "'b'"
      ]
     },
     "execution_count": 31,
     "metadata": {},
     "output_type": "execute_result"
    }
   ],
   "source": [
    "# 인덱싱 / 순서 0부터 시작\n",
    "\n",
    "list1 = [1, 2, 3, 4, 5]\n",
    "list1[:]\n",
    "list3[2]\n",
    "list3[3][4]\n",
    "list3[4][1]"
   ]
  },
  {
   "cell_type": "code",
   "execution_count": 34,
   "id": "9959bb49",
   "metadata": {},
   "outputs": [
    {
     "name": "stdout",
     "output_type": "stream",
     "text": [
      "[1, 1, 2, 3, 4, 5, 6, 7, 8, 9]\n",
      "['a', 'a', 'c']\n",
      "['a', 'c']\n"
     ]
    }
   ],
   "source": [
    "# 리스트 수정, 삭제\n",
    "\n",
    "a = [0, 1, 2, 3, 4, 5, 6, 7, 8, 9]\n",
    "b = ['a', 'b', 'c']\n",
    "\n",
    "a[0] = 1\n",
    "b[1] = 'a'\n",
    "\n",
    "print(a)\n",
    "print(b)\n",
    "\n",
    "del b[1]\n",
    "print(b)"
   ]
  },
  {
   "cell_type": "code",
   "execution_count": 35,
   "id": "e1c780cc",
   "metadata": {},
   "outputs": [
    {
     "name": "stdout",
     "output_type": "stream",
     "text": [
      "[1, 1, 2, 3, 4, 5, 6, 7, 8, 9, 'a', 'c']\n"
     ]
    },
    {
     "data": {
      "text/plain": [
       "[1, 1, 2, 3, 4, 5, 6, 7, 8, 9, 'a', 1]"
      ]
     },
     "execution_count": 35,
     "metadata": {},
     "output_type": "execute_result"
    }
   ],
   "source": [
    "c = a+b\n",
    "print(c)\n",
    "c[-1] = 1\n",
    "# 맨 마지막 인덱스 위치 지정 가능\n",
    "c"
   ]
  },
  {
   "cell_type": "code",
   "execution_count": 36,
   "id": "048dab56",
   "metadata": {},
   "outputs": [
    {
     "data": {
      "text/plain": [
       "[1, 1, 2, 3, 4, 5, 6, 7, 8, 9, 2, 1]"
      ]
     },
     "execution_count": 36,
     "metadata": {},
     "output_type": "execute_result"
    }
   ],
   "source": [
    "c[-2] = 2\n",
    "# 마지막 인덱스 보다 앞의 위치 지정 가능\n",
    "c"
   ]
  },
  {
   "cell_type": "code",
   "execution_count": 37,
   "id": "d9420a00",
   "metadata": {},
   "outputs": [
    {
     "name": "stdout",
     "output_type": "stream",
     "text": [
      "[1, 2, 3, 4]\n",
      "[4, 3, 2, 1]\n",
      "[4, 3, 2, 1]\n"
     ]
    }
   ],
   "source": [
    "# 정렬\n",
    "\n",
    "b = [2, 4, 3, 1]\n",
    "b.sort()\n",
    "print(b)\n",
    "\n",
    "# 내림차순\n",
    "\n",
    "b_d = sorted(b, reverse=True)\n",
    "print(b_d)\n",
    "\n",
    "b.reverse()\n",
    "print(b)"
   ]
  },
  {
   "cell_type": "code",
   "execution_count": 38,
   "id": "30497e07",
   "metadata": {},
   "outputs": [
    {
     "name": "stdout",
     "output_type": "stream",
     "text": [
      "[1, 1, 1, 2, 2, 3, 4, 5, 6, 7, 8, 9]\n",
      "[9, 8, 7, 6, 5, 4, 3, 2, 2, 1, 1, 1]\n",
      "[9, 8, 7, 6, 5, 4, 3, 2, 2, 1, 1, 1]\n"
     ]
    }
   ],
   "source": [
    "# 정렬, 내림차순 연습\n",
    "\n",
    "s = [1, 1, 2, 3, 4, 5, 6, 7, 8, 9, 2, 1]\n",
    "s.sort()\n",
    "print(s)\n",
    "\n",
    "s_d = sorted(s, reverse=True)\n",
    "print(s_d)\n",
    "\n",
    "s.reverse()\n",
    "print(s)"
   ]
  },
  {
   "cell_type": "code",
   "execution_count": 39,
   "id": "cd26914a",
   "metadata": {},
   "outputs": [
    {
     "name": "stdout",
     "output_type": "stream",
     "text": [
      "2\n"
     ]
    }
   ],
   "source": [
    "# 인덱스 위치 반환\n",
    "c = [1, 2, 3, 1, 5]\n",
    "print(c.index(3))"
   ]
  },
  {
   "cell_type": "code",
   "execution_count": 40,
   "id": "d838cadb",
   "metadata": {},
   "outputs": [
    {
     "name": "stdout",
     "output_type": "stream",
     "text": [
      "[11, 4, 84, 92, 4, 80, 30, 40, 1, 50, 60, 63, 9, 40, 5, 85, 33, 63, 63, 11, 67, 24, 48, 88, 16, 41, 50, 89, 21, 58, 62, 50, 32, 76, 25, 93, 65, 66, 19, 60, 20, 25, 6, 58, 36, 61, 14, 40, 36, 74, 28, 89, 62, 74, 2, 52, 41, 40, 74, 72, 80, 65, 86, 40, 22, 24, 77, 19, 16, 7, 90, 88, 62, 51, 62, 28, 83, 21, 32, 16, 83, 36, 10, 7, 21, 54, 2, 35, 6, 75, 45, 39, 55, 27, 6, 39, 94, 48, 34, 74]\n"
     ]
    },
    {
     "data": {
      "text/plain": [
       "36"
      ]
     },
     "execution_count": 40,
     "metadata": {},
     "output_type": "execute_result"
    }
   ],
   "source": [
    "import numpy as np\n",
    "c = np.random.randint(100, size=100).tolist()\n",
    "print(c)\n",
    "c.index(65)"
   ]
  },
  {
   "cell_type": "code",
   "execution_count": 41,
   "id": "6b34c132",
   "metadata": {},
   "outputs": [
    {
     "name": "stdout",
     "output_type": "stream",
     "text": [
      "2\n"
     ]
    }
   ],
   "source": [
    "# 개수 반환\n",
    "\n",
    "c = [1, 1, 3, 3, 3, 5, 5]\n",
    "print(c.count(5))"
   ]
  },
  {
   "cell_type": "code",
   "execution_count": 42,
   "id": "ad29dc09",
   "metadata": {},
   "outputs": [
    {
     "name": "stdout",
     "output_type": "stream",
     "text": [
      "[1, 2, 3, 4, 5]\n",
      "[1, 2, 3, 4, 5, 6]\n",
      "[5, 1, 2, 3, 4, 5, 6]\n",
      "[5, 1, 2, 3, 4, 5, 6, 7]\n"
     ]
    }
   ],
   "source": [
    "# 리스트 확장\n",
    "\n",
    "h = [1, 2, 3]\n",
    "h.extend([4, 5])\n",
    "print(h)\n",
    "\n",
    "# 추가\n",
    "\n",
    "h.append(6) # 마지막 인덱스에 값 추가\n",
    "print(h)\n",
    "h.insert(0, 5) # 특정 지점(인덱스)에 값 삽입 가능\n",
    "print(h)\n",
    "h.append(7)\n",
    "print(h)"
   ]
  },
  {
   "cell_type": "code",
   "execution_count": 43,
   "id": "afac544e",
   "metadata": {},
   "outputs": [
    {
     "data": {
      "text/plain": [
       "'b'"
      ]
     },
     "execution_count": 43,
     "metadata": {},
     "output_type": "execute_result"
    }
   ],
   "source": [
    "# 튜플 / ()로 선언\n",
    "\n",
    "tuple1 = (1, 2, 3, 4, 5)\n",
    "tuple2 = ('a', 'b', 'c')\n",
    "tuple3 = (1, 'a', 'abc', [1, 2, 3, 4, 5], ['a', 'b', 'c'])\n",
    "\n",
    "tuple1[:]\n",
    "tuple3[2]\n",
    "tuple3[3][4]\n",
    "tuple3[4][1]"
   ]
  },
  {
   "cell_type": "code",
   "execution_count": 44,
   "id": "6244969c",
   "metadata": {},
   "outputs": [
    {
     "name": "stdout",
     "output_type": "stream",
     "text": [
      "[1, 2, 3, 4, 5]\n",
      "[6, 2, 3, 4, 5]\n"
     ]
    }
   ],
   "source": [
    "print(list1)\n",
    "list1[0] = 6\n",
    "print(list1)"
   ]
  },
  {
   "cell_type": "code",
   "execution_count": 45,
   "id": "df007b30",
   "metadata": {},
   "outputs": [
    {
     "ename": "TypeError",
     "evalue": "'tuple' object does not support item assignment",
     "output_type": "error",
     "traceback": [
      "\u001b[1;31m---------------------------------------------------------------------------\u001b[0m",
      "\u001b[1;31mTypeError\u001b[0m                                 Traceback (most recent call last)",
      "\u001b[1;32m~\\AppData\\Local\\Temp/ipykernel_3616/3170823036.py\u001b[0m in \u001b[0;36m<module>\u001b[1;34m\u001b[0m\n\u001b[0;32m      2\u001b[0m \u001b[1;31m# 튜플의 요소 값은 변경할 수 없음 - 프로그램에서 그 값이 항상 변하지 않아야하는 경우 사용\u001b[0m\u001b[1;33m\u001b[0m\u001b[1;33m\u001b[0m\u001b[1;33m\u001b[0m\u001b[0m\n\u001b[0;32m      3\u001b[0m \u001b[1;33m\u001b[0m\u001b[0m\n\u001b[1;32m----> 4\u001b[1;33m \u001b[0mtuple1\u001b[0m\u001b[1;33m[\u001b[0m\u001b[1;36m0\u001b[0m\u001b[1;33m]\u001b[0m \u001b[1;33m=\u001b[0m \u001b[1;36m6\u001b[0m\u001b[1;33m\u001b[0m\u001b[1;33m\u001b[0m\u001b[0m\n\u001b[0m\u001b[0;32m      5\u001b[0m \u001b[0mprint\u001b[0m\u001b[1;33m(\u001b[0m\u001b[0mtuple1\u001b[0m\u001b[1;33m)\u001b[0m\u001b[1;33m\u001b[0m\u001b[1;33m\u001b[0m\u001b[0m\n",
      "\u001b[1;31mTypeError\u001b[0m: 'tuple' object does not support item assignment"
     ]
    }
   ],
   "source": [
    "# 자료형 - Tuple\n",
    "# 튜플의 요소 값은 변경할 수 없음 - 프로그램에서 그 값이 항상 변하지 않아야하는 경우 사용\n",
    "\n",
    "tuple1[0] = 6\n",
    "print(tuple1)"
   ]
  },
  {
   "cell_type": "code",
   "execution_count": 48,
   "id": "f58373d1",
   "metadata": {},
   "outputs": [
    {
     "ename": "SyntaxError",
     "evalue": "invalid syntax (Temp/ipykernel_3616/1312077554.py, line 4)",
     "output_type": "error",
     "traceback": [
      "\u001b[1;36m  File \u001b[1;32m\"C:\\Users\\user\\AppData\\Local\\Temp/ipykernel_3616/1312077554.py\"\u001b[1;36m, line \u001b[1;32m4\u001b[0m\n\u001b[1;33m    tuple[0] = 0 수정 불가\u001b[0m\n\u001b[1;37m                 ^\u001b[0m\n\u001b[1;31mSyntaxError\u001b[0m\u001b[1;31m:\u001b[0m invalid syntax\n"
     ]
    }
   ],
   "source": [
    "# 리스트-튜플 연습\n",
    "\n",
    "print(tuple1)\n",
    "# tuple[0] = 0 수정 불가\n",
    "# tuple.append(1) 추가 불가"
   ]
  },
  {
   "cell_type": "code",
   "execution_count": 49,
   "id": "e4adc832",
   "metadata": {},
   "outputs": [
    {
     "name": "stdout",
     "output_type": "stream",
     "text": [
      "(1,)\n",
      "(1, 2, 3)\n",
      "(1, 2, 3, 1, 2, 3, 1, 2, 3)\n",
      "(1, 1, 2, 3)\n",
      "1\n"
     ]
    },
    {
     "data": {
      "text/plain": [
       "int"
      ]
     },
     "execution_count": 49,
     "metadata": {},
     "output_type": "execute_result"
    }
   ],
   "source": [
    "t1 = (1,) # 튜플에서 1개의 요소만 가질 때는 요소 뒤에 콤마를 붙여야 함 / 아닐 시 int형으로 입력됨(튜플X)\n",
    "print(t1)\n",
    "\n",
    "t2 = 1, 2, 3 # 소괄호를 사용하지 않고 선언할 수 있다\n",
    "print(t2)\n",
    "print(t2*3)\n",
    "\n",
    "t3 = t1+t2\n",
    "print(t3)\n",
    "\n",
    "t4 = (1) # 튜플로 선언되지 않음(상단 주석 참조)\n",
    "print(t4)\n",
    "type(t4)"
   ]
  },
  {
   "cell_type": "code",
   "execution_count": 50,
   "id": "cd4803e0",
   "metadata": {},
   "outputs": [
    {
     "name": "stdout",
     "output_type": "stream",
     "text": [
      "1\n",
      "{'a': 1, 'b': 5, 'c': 3}\n"
     ]
    }
   ],
   "source": [
    "# 자료형 - 사전(키와 값을 하나의 요소로 하는 순서가 없는 집합) / {}로 선언\n",
    "\n",
    "d1 = {'a':1, 'b':2, 'c':3}\n",
    "print(d1['a'])\n",
    "d1['b']=5\n",
    "print(d1)"
   ]
  },
  {
   "cell_type": "code",
   "execution_count": 51,
   "id": "d421931b",
   "metadata": {},
   "outputs": [
    {
     "name": "stdout",
     "output_type": "stream",
     "text": [
      "dict_keys(['a', 'b', 'c'])\n",
      "dict_values([1, 5, 3])\n",
      "dict_items([('a', 1), ('b', 5), ('c', 3)])\n"
     ]
    }
   ],
   "source": [
    "print(d1.keys()) # 키 출력\n",
    "print(d1.values()) # 값 출력\n",
    "print(d1.items()) # 키, 값 모두 출력"
   ]
  },
  {
   "cell_type": "code",
   "execution_count": 52,
   "id": "116bcbd1",
   "metadata": {},
   "outputs": [
    {
     "name": "stdout",
     "output_type": "stream",
     "text": [
      "현재 사전에 있는 단어 목록\n",
      "dict_keys(['apple', 'book', 'cube'])\n",
      "\n",
      "뜻을 알고 싶은 영단어를 입력하세요: apple\n",
      "apple(은)는 사과입니다.\n"
     ]
    }
   ],
   "source": [
    "# 사전 연습\n",
    "\n",
    "dic = {'apple':'사과', 'book':'책', 'cube':'육면체'}\n",
    "\n",
    "print('현재 사전에 있는 단어 목록')\n",
    "print(dic.keys())\n",
    "search = input(\"\\n뜻을 알고 싶은 영단어를 입력하세요: \")\n",
    "print(search + '(은)는 ' + dic[search] + '입니다.')"
   ]
  },
  {
   "cell_type": "code",
   "execution_count": 53,
   "id": "5e71f1bc",
   "metadata": {},
   "outputs": [
    {
     "name": "stdout",
     "output_type": "stream",
     "text": [
      "{1, 2, 3, 4, 5}\n",
      "{'H', 'o', 'l', 'e'}\n"
     ]
    }
   ],
   "source": [
    "# 자료형 - 집합, set(중복을 허용하지 않으며 순서가 없음)\n",
    "\n",
    "s1 = set([1, 2, 5, 4, 3])\n",
    "s2 = set('Hello')\n",
    "\n",
    "print(s1)\n",
    "print(s2)"
   ]
  },
  {
   "cell_type": "code",
   "execution_count": 54,
   "id": "852424eb",
   "metadata": {},
   "outputs": [
    {
     "name": "stdout",
     "output_type": "stream",
     "text": [
      "2\n",
      "o\n"
     ]
    }
   ],
   "source": [
    "# 집합은 인덱싱으로 값을 얻을 수 없으며 필요시 리스트 또는 튜플로 변환 후 인덱싱\n",
    "\n",
    "l1 = list(s1)\n",
    "print(l1[1])\n",
    "\n",
    "l2 = list(s2)\n",
    "print(l2[1])"
   ]
  },
  {
   "cell_type": "code",
   "execution_count": 55,
   "id": "4285b537",
   "metadata": {},
   "outputs": [
    {
     "name": "stdout",
     "output_type": "stream",
     "text": [
      "[1, 2, 3, 4, 5, 6, 7, 8, 9]\n",
      "[4, 5, 6]\n"
     ]
    }
   ],
   "source": [
    "# 연습문제 - s1, s2의 합집합과 교집합을 각각 리스트로 출력\n",
    "# 합집합(s1|s2), 교집합(s1&s2)\n",
    "\n",
    "s1 = set([1, 2, 3, 4, 5, 6])\n",
    "s2 = set([4, 5, 6, 7, 8, 9])\n",
    "\n",
    "print(list(s1|s2))\n",
    "print(list(s1&s2))"
   ]
  },
  {
   "cell_type": "markdown",
   "id": "b7cd8bc8",
   "metadata": {},
   "source": [
    "#### 파이썬의 자료형 4가지\n",
    "- 리스트 / 가장 일반적으로 사용(인덱싱 사용 가능, 자료의 수정이 간편) / [] 선언\n",
    "- 튜플 / 리스트와 유사하나 자료의 수정이 불가(인덱싱 사용 가능, 값이 하나일때 ',' 필수) / () 선언\n",
    "- 딕셔너리 / 키-값 조합(한 쌍이 하나의 요소)으로 존재, 순서가 없음(인덱싱 불가, 키를 이용해 값을 찾을 수는 있다) / {} 선언\n",
    "- 세트 / 중복이 불가, 순서가 없음(인덱싱 불가) / set() 선언"
   ]
  },
  {
   "cell_type": "code",
   "execution_count": 56,
   "id": "eaf673bc",
   "metadata": {},
   "outputs": [
    {
     "name": "stdout",
     "output_type": "stream",
     "text": [
      "a가 li에 있습니다.\n"
     ]
    }
   ],
   "source": [
    "# 들여쓰기\n",
    "\n",
    "li = ['a', 'b', 'c']\n",
    "if 'a' in li:\n",
    "    print('a가 li에 있습니다.')\n",
    "    # 들여쓰지 않을 시 오류\n",
    "else:\n",
    "    print('a가 li에 없습니다.')"
   ]
  },
  {
   "cell_type": "code",
   "execution_count": 58,
   "id": "0833eb60",
   "metadata": {},
   "outputs": [
    {
     "data": {
      "text/plain": [
       "'나의 이름은 홍길순입니다. 나이는 20입니다.'"
      ]
     },
     "execution_count": 58,
     "metadata": {},
     "output_type": "execute_result"
    }
   ],
   "source": [
    "# 문자열 포맷\n",
    "\n",
    "name = '홍길순'\n",
    "age = 20\n",
    "# 포맷만 변경하는 것으로 변수값만 변경 가능\n",
    "\n",
    "f'나의 이름은 {name}입니다. 나이는 {age}입니다.'"
   ]
  },
  {
   "cell_type": "code",
   "execution_count": 59,
   "id": "38517f77",
   "metadata": {},
   "outputs": [
    {
     "data": {
      "text/plain": [
       "'나의 이름은 홍길동입니다. 나이는 30입니다.'"
      ]
     },
     "execution_count": 59,
     "metadata": {},
     "output_type": "execute_result"
    }
   ],
   "source": [
    "d = {'name':'홍길동', 'age':30}\n",
    "# 포맷을 딕셔너리로 선언할 수 있음\n",
    "\n",
    "f'나의 이름은 {d[\"name\"]}입니다. 나이는 {d[\"age\"]}입니다.'"
   ]
  },
  {
   "cell_type": "code",
   "execution_count": 60,
   "id": "e9e272ff",
   "metadata": {},
   "outputs": [
    {
     "data": {
      "text/plain": [
       "'3.4213'"
      ]
     },
     "execution_count": 60,
     "metadata": {},
     "output_type": "execute_result"
    }
   ],
   "source": [
    "y = 3.42134234\n",
    "f'{y:0.4f}' # 소수점 아래 4자리까지만 표현"
   ]
  },
  {
   "cell_type": "code",
   "execution_count": 61,
   "id": "5a3b2825",
   "metadata": {},
   "outputs": [
    {
     "data": {
      "text/plain": [
       "'    3.4213'"
      ]
     },
     "execution_count": 61,
     "metadata": {},
     "output_type": "execute_result"
    }
   ],
   "source": [
    "f'{y:10.4f}' # 소수점 아래 4자리까지만 표현하고 총 자리수를 10으로 맞춘다"
   ]
  },
  {
   "cell_type": "code",
   "execution_count": 62,
   "id": "f1e69c72",
   "metadata": {},
   "outputs": [
    {
     "name": "stdout",
     "output_type": "stream",
     "text": [
      "홍길동 선수가 1등입니다.\n",
      "홍길동 선수가 1등입니다.\n"
     ]
    }
   ],
   "source": [
    "# 포맷함수\n",
    "\n",
    "f1 = \"{} 선수가 {}등입니다.\".format('홍길동', 1)\n",
    "# f1 = \"{1} 선수가 {0}등입니다.\".format(1, '홍길동') / 순서 지정 가능\n",
    "\n",
    "print(f1)\n",
    "print(\"%s 선수가 %d등입니다.\" %(\"홍길동\", 1))"
   ]
  },
  {
   "cell_type": "code",
   "execution_count": 63,
   "id": "97018bcd",
   "metadata": {},
   "outputs": [
    {
     "name": "stdout",
     "output_type": "stream",
     "text": [
      "파이썬은 자바보다 2배 쉽습니다.\n",
      "파이썬은 자바보다 2배 쉽습니다.\n"
     ]
    }
   ],
   "source": [
    "# 포맷함수 연습\n",
    "\n",
    "fmt = \"{}은 {}보다 {}배 쉽습니다.\".format('파이썬', '자바', 2)\n",
    "print(fmt)\n",
    "\n",
    "print(\"%s은 %s보다 %d배 쉽습니다.\" %('파이썬', '자바', 2))"
   ]
  },
  {
   "cell_type": "code",
   "execution_count": 64,
   "id": "357cdf81",
   "metadata": {},
   "outputs": [
    {
     "name": "stdout",
     "output_type": "stream",
     "text": [
      "12345\n",
      "     12345\n",
      "12.345679\n",
      "              12.346\n"
     ]
    }
   ],
   "source": [
    "# [과제] 소수점 표현\n",
    "\n",
    "num1 = 12345\n",
    "num2 = 12.3456789\n",
    "\n",
    "print(f'{num1:5.0f}')\n",
    "print(f'{num1:10.0f}')\n",
    "print(f'{num2:0.6f}')\n",
    "print(f'{num2:20.3f}')"
   ]
  },
  {
   "cell_type": "code",
   "execution_count": 69,
   "id": "e0014b56",
   "metadata": {},
   "outputs": [
    {
     "name": "stdout",
     "output_type": "stream",
     "text": [
      "저축 증가\n"
     ]
    }
   ],
   "source": [
    "# 제어문 - if ~ elif ~ else\n",
    "# 수입과 지출금액을 비교해서 수입이 많으면 저축 증가, 반대이면 빚이 증가, 같으면 현상 유지\n",
    "\n",
    "i = 5,000,000\n",
    "e = 3,000,000\n",
    "\n",
    "if i>e:\n",
    "    print('저축 증가')\n",
    "elif i<e:\n",
    "    print('빚이 증가')\n",
    "else:\n",
    "    print('현상 유지')"
   ]
  },
  {
   "cell_type": "code",
   "execution_count": 66,
   "id": "a8855b6e",
   "metadata": {},
   "outputs": [
    {
     "name": "stdout",
     "output_type": "stream",
     "text": [
      "5 15 6 20 7 25 "
     ]
    }
   ],
   "source": [
    "# for 반복문\n",
    "\n",
    "numbers = [5, 15, 6, 20, 7, 25]\n",
    "for number in numbers:\n",
    "    print(number, end=' ')"
   ]
  },
  {
   "cell_type": "code",
   "execution_count": 103,
   "id": "c20c625e",
   "metadata": {},
   "outputs": [
    {
     "name": "stdout",
     "output_type": "stream",
     "text": [
      "1 2 3 4 5 "
     ]
    }
   ],
   "source": [
    "# for ~ continue ~ break\n",
    "# 1~10 범위의 정수에서 1부터 5까지만 출력\n",
    "\n",
    "for i in range(1, 11):\n",
    "    print(i, end=' ') # 변수 출력이 끝나면 ' '을 덧붙인다\n",
    "    if(i<5):\n",
    "        continue # 반복문을 계속 이어간다\n",
    "    else:\n",
    "        break # 반복문을 종료한다"
   ]
  },
  {
   "cell_type": "code",
   "execution_count": 116,
   "id": "bd923c31",
   "metadata": {},
   "outputs": [
    {
     "name": "stdout",
     "output_type": "stream",
     "text": [
      "15 20 25 "
     ]
    }
   ],
   "source": [
    "# numbers 리스트에서 15, 20, 25를 출력(1)\n",
    "\n",
    "numbers = [ 5, 15, 6, 20, 7, 25 ]\n",
    "for number in numbers:\n",
    "    if(number%5==0 and number>5):\n",
    "        print(number, end=' ')\n",
    "    else:\n",
    "        continue"
   ]
  },
  {
   "cell_type": "code",
   "execution_count": 123,
   "id": "aab37e3c",
   "metadata": {},
   "outputs": [
    {
     "name": "stdout",
     "output_type": "stream",
     "text": [
      "45\n",
      "1035\n"
     ]
    }
   ],
   "source": [
    "# while\n",
    "# 정수 1부터 n까지 더할 때 그 합이 1000보다 커지게 되는 n과 합\n",
    "\n",
    "i=1\n",
    "sum=0\n",
    "\n",
    "while 1: # while 1 = true / 무한반복\n",
    "    sum+=i\n",
    "    if sum>1000:\n",
    "        print(i)\n",
    "        print(sum)\n",
    "        break  \n",
    "    i+=1"
   ]
  },
  {
   "cell_type": "code",
   "execution_count": 129,
   "id": "6ba94c66",
   "metadata": {},
   "outputs": [
    {
     "name": "stdout",
     "output_type": "stream",
     "text": [
      "166833\n"
     ]
    }
   ],
   "source": [
    "# 연습문제 - while문을 사용해 1부터 1000까지 정수 중 3의 배수의 합\n",
    "\n",
    "i=0\n",
    "sum=0\n",
    "\n",
    "while i<1000:\n",
    "    i+=1\n",
    "    if i%3==0:\n",
    "        sum+=i\n",
    "print(sum)"
   ]
  },
  {
   "cell_type": "code",
   "execution_count": 6,
   "id": "1b2c70f3",
   "metadata": {},
   "outputs": [
    {
     "name": "stdout",
     "output_type": "stream",
     "text": [
      "4550\n"
     ]
    }
   ],
   "source": [
    "# [과제] 1부터 100까지의 정수 중 5에서 95까지의 합\n",
    "\n",
    "sum=0\n",
    "i=0\n",
    "\n",
    "while i <= 100:\n",
    "    if(i>=5 and i<=95):\n",
    "        sum+=i\n",
    "    i+=1\n",
    "\n",
    "print(sum)"
   ]
  },
  {
   "cell_type": "code",
   "execution_count": 76,
   "id": "8703605c",
   "metadata": {},
   "outputs": [
    {
     "name": "stdout",
     "output_type": "stream",
     "text": [
      "5 / 2 = 2 ... 1\n"
     ]
    }
   ],
   "source": [
    "# 연습문제 - 5를 2로 나누었을 때의 몫과 나머지\n",
    "\n",
    "print(\"5 / 2 = \" + str(5//2) + \" ... \" + str(5%2))"
   ]
  },
  {
   "cell_type": "code",
   "execution_count": 75,
   "id": "f4c60aa8",
   "metadata": {},
   "outputs": [
    {
     "name": "stdout",
     "output_type": "stream",
     "text": [
      "100^3 = 1000000\n"
     ]
    }
   ],
   "source": [
    "# 연습문제 - 101의 3승\n",
    "\n",
    "print(\"100^3 = \" + str(100**3))"
   ]
  },
  {
   "cell_type": "code",
   "execution_count": 78,
   "id": "4e00254b",
   "metadata": {},
   "outputs": [
    {
     "name": "stdout",
     "output_type": "stream",
     "text": [
      "Python 3.8.3\n"
     ]
    }
   ],
   "source": [
    "# 연습문제 - Python과 3.8.3을 합쳐서 Python 3.8.3 출력\n",
    "\n",
    "str1 = \"Python\"\n",
    "str2 = \"3.8.3\"\n",
    "\n",
    "print(str1 + \" \" + str2)"
   ]
  },
  {
   "cell_type": "code",
   "execution_count": 79,
   "id": "41ac3754",
   "metadata": {},
   "outputs": [
    {
     "data": {
      "text/plain": [
       "int"
      ]
     },
     "execution_count": 79,
     "metadata": {},
     "output_type": "execute_result"
    }
   ],
   "source": [
    "# 연습문제 - a=5; a='10'; a=15;일 때 a의 자료형\n",
    "\n",
    "a=5; a='10'; a=15\n",
    "type(a)"
   ]
  },
  {
   "cell_type": "code",
   "execution_count": 83,
   "id": "b8dfe8a3",
   "metadata": {},
   "outputs": [
    {
     "name": "stdout",
     "output_type": "stream",
     "text": [
      "2\n"
     ]
    }
   ],
   "source": [
    "# 연습문제 - 5의 3승을 3으로 나누었을 때의 나머지를 복합 대입 연산자로 연산\n",
    "\n",
    "tmp=5**3\n",
    "tmp%=3\n",
    "\n",
    "print(tmp)\n",
    "# print((5**3)%3)"
   ]
  },
  {
   "cell_type": "code",
   "execution_count": 95,
   "id": "f9868edb",
   "metadata": {},
   "outputs": [
    {
     "name": "stdout",
     "output_type": "stream",
     "text": [
      "이름이 무엇인가요? > 홍길동\n"
     ]
    },
    {
     "data": {
      "text/plain": [
       "'제 이름은 홍길동입니다.'"
      ]
     },
     "execution_count": 95,
     "metadata": {},
     "output_type": "execute_result"
    }
   ],
   "source": [
    "# 연습문제 - 이름을 물어보고 답하는 프로그램\n",
    "\n",
    "name = input(\"이름이 무엇인가요? > \")\n",
    "f'제 이름은 {name}입니다.'"
   ]
  },
  {
   "cell_type": "code",
   "execution_count": 97,
   "id": "e66e7176",
   "metadata": {},
   "outputs": [
    {
     "name": "stdout",
     "output_type": "stream",
     "text": [
      "첫 번째 숫자 입력: 3\n",
      "두 번째 숫자 입력: 5\n",
      "세 번째 숫자 입력: 7\n",
      "\n",
      "3 ^ 5 / 7 = 34\n"
     ]
    }
   ],
   "source": [
    "# 숫자 3개를 입력해서 첫 번째 숫자를 두 번째 숫자 승한 뒤에 세 번째 숫자로 나누었을 때의 몫 연산\n",
    "\n",
    "num1 = int(input(\"첫 번째 숫자 입력: \"))\n",
    "num2 = int(input(\"두 번째 숫자 입력: \"))\n",
    "num3 = int(input(\"세 번째 숫자 입력: \"))\n",
    "\n",
    "print(\"\\n%d ^ %d / %d = %d\" %(num1, num2, num3, (num1**num2)//num3))"
   ]
  },
  {
   "cell_type": "code",
   "execution_count": 131,
   "id": "35a1d970",
   "metadata": {},
   "outputs": [
    {
     "name": "stdout",
     "output_type": "stream",
     "text": [
      "33165\n"
     ]
    }
   ],
   "source": [
    "# [과제] while문을 사용하여 1부터 1000까지의 정수 중 3과 5의 공배수의 합을 구하는 프로그램\n",
    "\n",
    "i = 0\n",
    "sum = 0\n",
    "\n",
    "while i<1000:\n",
    "    i+=1\n",
    "    if(i%3==0 and i%5==0):\n",
    "        sum+=i\n",
    "    \n",
    "print(sum)"
   ]
  },
  {
   "cell_type": "code",
   "execution_count": 146,
   "id": "ad9037e3",
   "metadata": {},
   "outputs": [
    {
     "name": "stdout",
     "output_type": "stream",
     "text": [
      "[1] 숫자 입력: 1\n",
      "[2] 숫자 입력: 2\n",
      "[3] 숫자 입력: 3\n",
      "[4] 숫자 입력: 4\n",
      "[5] 숫자 입력: 5\n",
      "\n",
      "12345"
     ]
    }
   ],
   "source": [
    "# [과제] 1부터 5까지 입력하여 12345 출력\n",
    "\n",
    "i=0\n",
    "li=[0, 0, 0, 0, 0]\n",
    "while i<5:\n",
    "    li[i] = input(\"[%d] 숫자 입력: \" %(i+1))\n",
    "    i+=1\n",
    "\n",
    "print()\n",
    "for num in li:\n",
    "    print(num, end='')"
   ]
  },
  {
   "cell_type": "code",
   "execution_count": 9,
   "id": "f9ea2cbe",
   "metadata": {},
   "outputs": [
    {
     "name": "stdout",
     "output_type": "stream",
     "text": [
      "[0, 1, 2, 3, 4, 5, 6, 7, 8, 9, 'a', 'b', 'c']\n",
      "\n",
      "요소 삭제 후 리스트 재출력\n",
      "[0, 1, 2, 3, 4, 5, 6, 7, 8, 'b', 'c']\n"
     ]
    }
   ],
   "source": [
    "# [과제] [0, 1, 2, 3, 4, 5, 6, 7, 8, 9, 'a', 'b', 'c']에서 9와 'a'를 삭제 후 리스트로 출력\n",
    "\n",
    "li = [0, 1, 2, 3, 4, 5, 6, 7, 8, 9, 'a', 'b', 'c']\n",
    "print(li)\n",
    "\n",
    "print('\\n요소 삭제 후 리스트 재출력')\n",
    "# li.remove(9)\n",
    "# li.remove('a')\n",
    "\n",
    "# del li[9]\n",
    "# del li[9]\n",
    "\n",
    "del li[-3]\n",
    "del li[-3]\n",
    "\n",
    "print(li)"
   ]
  },
  {
   "cell_type": "code",
   "execution_count": 8,
   "id": "10f1e1fd",
   "metadata": {},
   "outputs": [
    {
     "name": "stdout",
     "output_type": "stream",
     "text": [
      "[0, 1, 2, 3, 4, 5, 6, 7, 8, 'b', 'c']\n",
      "\n",
      "요소 삭제 후 리스트 요소 출력\n",
      "[0, 1, 2, 3, 4, 5, 6, 7, 8, 'b']\n"
     ]
    }
   ],
   "source": [
    "# [과제] [0, 1, 2, 3, 4, 5, 6, 7, 8, 'b', 'c']에서 'c' 삭제 후 출력\n",
    "\n",
    "li = [0, 1, 2, 3, 4, 5, 6, 7, 8, 'b', 'c']\n",
    "print(li)\n",
    "\n",
    "print('\\n요소 삭제 후 리스트 요소 출력')\n",
    "li.remove('c')\n",
    "print(li)"
   ]
  },
  {
   "cell_type": "code",
   "execution_count": 158,
   "id": "6551fbca",
   "metadata": {},
   "outputs": [
    {
     "name": "stdout",
     "output_type": "stream",
     "text": [
      "[4, 8, 5, 4, 8, 4, 3, 9, 1, 9]\n",
      "\n",
      "내림차순 정렬\n",
      "[9, 9, 8, 8, 5, 4, 4, 4, 3, 1]\n"
     ]
    }
   ],
   "source": [
    "# [과제] [4, 8, 5, 4, 8, 4, 3, 9, 1, 9]를 내림차순으로 정렬\n",
    "\n",
    "li = [4, 8, 5, 4, 8, 4, 3, 9, 1, 9]\n",
    "print(li)\n",
    "\n",
    "li = sorted(li, reverse=True)\n",
    "print('\\n내림차순 정렬')\n",
    "print(li)"
   ]
  },
  {
   "cell_type": "code",
   "execution_count": 11,
   "id": "9605ff15",
   "metadata": {},
   "outputs": [
    {
     "name": "stdout",
     "output_type": "stream",
     "text": [
      "2022년 1월 7일 10시 9분 8초\n"
     ]
    }
   ],
   "source": [
    "# [과제] format 함수를 이용해서 다음과 같은 형식으로 현재 날짜/시간 출력\n",
    "# 2021년 12월 29일 15시 47분 30초\n",
    "\n",
    "from datetime import datetime\n",
    "\n",
    "now = datetime.now()\n",
    "\n",
    "print(f'{now.year}년 {now.month}월 {now.day}일 {now.hour}시 {now.minute}분 {now.second}초')\n",
    "\n",
    "# now = \"{}년 {}월 {}일 {}시 {}분 {}초\".format(now.year, now.month, now.day, now.hour, now.minute, now.second)\n",
    "# print(now)"
   ]
  },
  {
   "cell_type": "code",
   "execution_count": 12,
   "id": "2f2e65b2",
   "metadata": {},
   "outputs": [
    {
     "name": "stdout",
     "output_type": "stream",
     "text": [
      "현재 오전 10시입니다.\n"
     ]
    }
   ],
   "source": [
    "# [과제] 현재 시각을 오전과 오후로 구분하는 프로그램을 작성\n",
    "\n",
    "from datetime import datetime\n",
    "\n",
    "now = datetime.now()\n",
    "\n",
    "if now.hour<12:\n",
    "    print(f'현재 오전 {now.hour}시입니다.')\n",
    "else:\n",
    "    print(f'현재 오후 {now.hour-12}시입니다.')"
   ]
  },
  {
   "cell_type": "code",
   "execution_count": 166,
   "id": "91025fbf",
   "metadata": {},
   "outputs": [
    {
     "name": "stdout",
     "output_type": "stream",
     "text": [
      "정수를 입력해주세요: 123\n",
      "123는 홀수입니다.\n"
     ]
    }
   ],
   "source": [
    "# [과제] 정수를 입력하면 홀수 짝수를 판별하는 프로그램 작성\n",
    "\n",
    "num = int(input(\"정수를 입력해주세요: \"))\n",
    "\n",
    "if num%2!=0:\n",
    "    print(\"%d는 홀수입니다.\" %num)\n",
    "else:\n",
    "    print(\"%d는 짝수입니다.\" %num)"
   ]
  },
  {
   "cell_type": "code",
   "execution_count": 20,
   "id": "027b5e6c",
   "metadata": {},
   "outputs": [
    {
     "name": "stdout",
     "output_type": "stream",
     "text": [
      "태어난 년도를 입력해주세요: 1963\n",
      "\n",
      "1963년생 토끼띠입니다.\n"
     ]
    }
   ],
   "source": [
    "# [과제] 태어난 연도를 입력받아 띠를 출력하는 프로그램을 작성\n",
    "# 원숭이, 닭, 개, 돼지, 쥐, 소, 범, 토끼, 용, 뱀, 말, 양\n",
    "\n",
    "while 1:\n",
    "    try:\n",
    "        year = int(input('태어난 년도를 입력해주세요: '))\n",
    "        print()\n",
    "    except ValueError:\n",
    "        print('숫자만 입력해주세요.')\n",
    "        print()\n",
    "    except KeyboardInterrupt:\n",
    "        print(\"프로그램을 종료합니다.\")\n",
    "        break\n",
    "    else:\n",
    "        animal = ['원숭이', '닭', '개', '돼지', '쥐', '소', '범', '토끼', '용', '뱀', '말', '양']\n",
    "        index = year%12\n",
    "        print(str(year) + '년생 ' + animal[index] + \"띠입니다.\")\n",
    "        break"
   ]
  },
  {
   "cell_type": "code",
   "execution_count": 21,
   "id": "7acbf3ff",
   "metadata": {},
   "outputs": [
    {
     "name": "stdout",
     "output_type": "stream",
     "text": [
      "옷가지가 두꺼워지는 1월의 겨울입니다.\n"
     ]
    }
   ],
   "source": [
    "# [과제] 계절 구분 프로그램\n",
    "# 각 계절별 출력 멘트는 계절에 맞게 창작\n",
    "# if 조건문으로 datetime 모듈을 import해서 datetime.now 함수를 사용해서 작성 \n",
    "\n",
    "from datetime import datetime\n",
    "now = datetime.now()\n",
    "ss = int(now.month)\n",
    "\n",
    "if(ss>=3 and ss<6):\n",
    "    print(\"봄향기가 가득한 %d월 입니다.\" %ss)\n",
    "elif(ss>=6 and ss<9):\n",
    "    print(\"초록의 물결이 가득한 %d월 입니다.\" %ss)\n",
    "elif(ss>=9 and ss<12):\n",
    "    print(\"쌀쌀한 가을 공기가 느껴지는 %d월 입니다.\" %ss)\n",
    "else:\n",
    "    print(\"옷가지가 두꺼워지는 %d월의 겨울입니다.\" %ss)\n",
    "\n"
   ]
  },
  {
   "cell_type": "code",
   "execution_count": 25,
   "id": "494cf540",
   "metadata": {},
   "outputs": [
    {
     "name": "stdout",
     "output_type": "stream",
     "text": [
      "[1]숫자 입력: 2\n",
      "[2]숫자 입력: 5\n",
      "\n",
      "2의 5제곱을 구하는 식과 답을 출력합니다.\n",
      "2 ^ 5 = 32\n"
     ]
    }
   ],
   "source": [
    "# [과제] 람다 함수를 이용해서 a의 b제곱을 구하는 식을 만들고 a, b가 아래와 같이 주어졌을 때 각각의 값\n",
    "# a=2, b=5\n",
    "# a=5, b=2\n",
    "\n",
    "ex = lambda x, y: x**y\n",
    "a = int(input(\"[1]숫자 입력: \"))\n",
    "b = int(input(\"[2]숫자 입력: \"))\n",
    "\n",
    "print(\"\\n%d의 %d제곱을 구하는 식과 답을 출력합니다.\" %(a, b))\n",
    "print(\"%d ^ %d = %d\" %(a, b, ex(a, b)))\n",
    "\n",
    "# print(ex(a,b))\n",
    "# print(ex(a,2))"
   ]
  },
  {
   "cell_type": "code",
   "execution_count": 26,
   "id": "cf84540c",
   "metadata": {},
   "outputs": [
    {
     "name": "stdout",
     "output_type": "stream",
     "text": [
      "금액을 투입해주세요: 200\n",
      "잔액이 부족합니다.\n",
      "거스름돈 200원 반환\n",
      "\n",
      "금액을 투입해주세요: 500\n",
      "커피 1잔 구매\n",
      "거스름돈 200원 반환\n",
      "\n",
      "금액을 투입해주세요: 600\n",
      "몇 잔 구매하시나요? > 1\n",
      "커피 1잔 구매\n",
      "거스름돈 300원 반환\n",
      "\n",
      "금액을 투입해주세요: 700\n",
      "몇 잔 구매하시나요? > 2\n",
      "커피 2잔 구매\n",
      "거스름돈 100원 반환\n",
      "\n",
      "금액을 투입해주세요: 900\n",
      "몇 잔 구매하시나요? > 5\n",
      "잔액이 부족합니다. 금액을 모두 반환합니다.\n",
      "거스름돈 900원 반환\n",
      "\n",
      "금액을 투입해주세요: 9000\n",
      "몇 잔 구매하시나요? > 5\n",
      "재고가 부족합니다. 부족한 만큼의 금액을 반환합니다.\n",
      "커피 1잔 구매\n",
      "거스름돈 8700원 반환\n",
      "\n",
      "재고가 다 소진되었습니다.\n"
     ]
    }
   ],
   "source": [
    "# [과제] 커피 자판기 프로그램\n",
    "# 시나리오: 자판기 커피 재고 5잔, 커피 1잔 가격 300원, 재고 범위 내에서 300원 이상 돈을 넣으면 거스름돈과 커피를 주고 그렇지 않으면 반환하며 재고가 소진되면 안내멘트 출력\n",
    "# 각 case별 멘트 출력은 상황에 맞게 창작\n",
    "# while, if ~ elif ~ else 제어문을 사용하여 작성\n",
    "\n",
    "stock = 5\n",
    "fee = 300\n",
    "\n",
    "while 1:\n",
    "    if(stock==0):\n",
    "        print(\"재고가 다 소진되었습니다.\")\n",
    "        break\n",
    "    \n",
    "    money = int(input(\"금액을 투입해주세요: \"))\n",
    "    \n",
    "    if(money>=fee):\n",
    "        if(money>=(fee*2)):\n",
    "            sold = int(input(\"몇 잔 구매하시나요? > \"))\n",
    "            if(sold*fee>money):\n",
    "                print(\"잔액이 부족합니다. 금액을 모두 반환합니다.\")\n",
    "                charge=money\n",
    "                print(\"거스름돈 %d원 반환\" %charge)\n",
    "                print()\n",
    "                continue\n",
    "            charge = money-(sold*fee)\n",
    "        else:\n",
    "            sold = money//fee\n",
    "            charge = money%fee\n",
    "        \n",
    "        if(sold>stock):\n",
    "            print(\"재고가 부족합니다. 부족한 만큼의 금액을 반환합니다.\")\n",
    "            sold=stock\n",
    "            charge=money-(sold*fee)\n",
    "            \n",
    "        print(\"커피 %d잔 구매\" %sold)\n",
    "    \n",
    "        if(charge!=0):\n",
    "            print(\"거스름돈 %d원 반환\" %charge)\n",
    "        stock-=sold\n",
    "        \n",
    "    else:\n",
    "        print(\"잔액이 부족합니다.\")\n",
    "        charge=money\n",
    "        print(\"거스름돈 %d원 반환\" %charge)\n",
    "    \n",
    "    print()\n",
    "    "
   ]
  },
  {
   "cell_type": "markdown",
   "id": "c5ed3621",
   "metadata": {},
   "source": [
    "#### 내장함수, 외장함수\n",
    "\\> 임포트가 없음, 있음의 차이\n",
    "\n",
    "https://codedrive.tistory.com/91"
   ]
  },
  {
   "cell_type": "code",
   "execution_count": 36,
   "id": "b3bafe42",
   "metadata": {},
   "outputs": [
    {
     "name": "stdout",
     "output_type": "stream",
     "text": [
      "[1] 숫자 입력: 2\n",
      "[2] 숫자 입력: 5\n",
      "[2] 숫자 입력: 3\n",
      "\n",
      "2와 5를 더한 후 3로 나눈 나머지 값을 출력합니다.\n",
      "(2 + 5) % 3 = 1\n"
     ]
    }
   ],
   "source": [
    "# 2와 5를 더한 후 3으로 나눈 나머지 값을 사용자 함수를 이용하여 구하기\n",
    "\n",
    "def cal_abc(a, b, c):\n",
    "    return (a+b)%c\n",
    "    \n",
    "a = int(input('[1] 숫자 입력: '))\n",
    "b = int(input('[2] 숫자 입력: '))\n",
    "c = int(input('[2] 숫자 입력: '))\n",
    "\n",
    "print(f'\\n{a}와 {b}를 더한 후 {c}로 나눈 나머지 값을 출력합니다.')\n",
    "print(f'({a} + {b}) % {c} = {cal_abc(a, b, c)}')"
   ]
  },
  {
   "cell_type": "code",
   "execution_count": 38,
   "id": "9906c95c",
   "metadata": {},
   "outputs": [
    {
     "name": "stdout",
     "output_type": "stream",
     "text": [
      "It is true\n",
      "'Python is fit for data analysis'\n"
     ]
    }
   ],
   "source": [
    "# 문자열 앞의 공백을 제거하고 아래와 같이 출력\n",
    "\n",
    "input_a = \"\"\"\n",
    "                       It is true\n",
    "'Python is fit for data analysis'\n",
    "\"\"\"\n",
    "print(input_a.strip()) # 공백 제거"
   ]
  },
  {
   "cell_type": "code",
   "execution_count": 39,
   "id": "3f082de6",
   "metadata": {},
   "outputs": [
    {
     "data": {
      "text/plain": [
       "['10', '20', '30', '40', '50']"
      ]
     },
     "execution_count": 39,
     "metadata": {},
     "output_type": "execute_result"
    }
   ],
   "source": [
    "# \"10/20/30/40/50\"을 '/'를 기준으로 자르기\n",
    "\n",
    "a = \"10/20/30/40/50\"\n",
    "b = \"10,20,30,40,50\"\n",
    "a.split(\"/\") # / 기준으로 값 분리, 분리 후 리스트 형태로 저장\n",
    "b.split(\",\")"
   ]
  },
  {
   "cell_type": "code",
   "execution_count": 51,
   "id": "f6b0f167",
   "metadata": {},
   "outputs": [
    {
     "name": "stdout",
     "output_type": "stream",
     "text": [
      "[1] 숫자 입력: 6\n",
      "[2] 숫자 입력: 6\n",
      "\n",
      "6 * 6 = 36\n"
     ]
    }
   ],
   "source": [
    "# 짝수와 짝수를 입력하면 곱한 값을 출력하고 홀수와 홀수를 입력하면 덧셈 값을 출력하고 그 외는 다시 입력하라는 메시지를 출력\n",
    "\n",
    "while 1:\n",
    "    num1 = int(input(\"[1] 숫자 입력: \"))\n",
    "    num2 = int(input(\"[2] 숫자 입력: \"))\n",
    "    print()\n",
    "    \n",
    "    if(num1%2==0 and num2%2==0):\n",
    "        print(f'{num1} * {num2} = {num1*num2}')\n",
    "        break\n",
    "    elif(num1%2==1 and num2%2==1):\n",
    "        print(f'{num1} + {num2} = {num1+num2}')\n",
    "        break\n",
    "    print(\"숫자를 다시 입력해주세요.\")\n",
    "    print()\n",
    "        "
   ]
  },
  {
   "cell_type": "code",
   "execution_count": 54,
   "id": "0a4c795a",
   "metadata": {},
   "outputs": [
    {
     "name": "stdout",
     "output_type": "stream",
     "text": [
      "2500\n"
     ]
    }
   ],
   "source": [
    "# [과제] 1부터 100까지 아래와 같이 2개의 수를 곱해서 가장 큰 수 구하기\n",
    "# 1*99, 2*98 ... 99*1\n",
    "\n",
    "max=0\n",
    "\n",
    "for i in range(1, 100):\n",
    "    tmp=i*(100-i)\n",
    "    if(tmp>max): \n",
    "        max=tmp\n",
    "    \n",
    "print(max)"
   ]
  },
  {
   "cell_type": "code",
   "execution_count": 56,
   "id": "d11afd98",
   "metadata": {},
   "outputs": [
    {
     "name": "stdout",
     "output_type": "stream",
     "text": [
      "[[1, 4, 7], [2, 5, 8], [3, 6, 9]]\n"
     ]
    }
   ],
   "source": [
    "# [과제] [    ]을 채워서 아래와 같이 출력\n",
    "# 출력 : \n",
    "# [[1,4,7],[2,5,8],[3,6,9]]\n",
    "\n",
    "numbers = [1, 2, 3, 4, 5, 6, 7, 8, 9]\n",
    "output = [[], [], []]\n",
    "\n",
    "for number in numbers:\n",
    "    output[number%3-1].append(number)\n",
    "print(output)"
   ]
  },
  {
   "cell_type": "markdown",
   "id": "cded4da3",
   "metadata": {},
   "source": [
    "#### python random 모듈\n",
    "\n",
    "https://nittaku.tistory.com/443"
   ]
  },
  {
   "cell_type": "code",
   "execution_count": 79,
   "id": "6e5e21ed",
   "metadata": {},
   "outputs": [
    {
     "data": {
      "text/plain": [
       "array([12, 15,  0,  3,  3,  7,  9, 19, 18,  4,  6, 12,  1,  6,  7, 14, 17,\n",
       "        5, 13,  8])"
      ]
     },
     "execution_count": 79,
     "metadata": {},
     "output_type": "execute_result"
    }
   ],
   "source": [
    "import numpy as np # numpy의 별칭을 np로 지정\n",
    "\n",
    "np.random.seed(0)\n",
    "num = np.random.randint(20, size=20)\n",
    "num"
   ]
  },
  {
   "cell_type": "code",
   "execution_count": 3,
   "id": "67d5f884",
   "metadata": {},
   "outputs": [
    {
     "name": "stdout",
     "output_type": "stream",
     "text": [
      "게임 횟수 입력 > 3\n",
      "\n",
      "[34, 36, 40, 41, 8, 21, 22]\n",
      "[33, 37, 6, 13, 18, 20, 24]\n",
      "[37, 5, 38, 39, 20, 23, 25]\n"
     ]
    }
   ],
   "source": [
    "# [과제] 사용자가 입력한 게임 횟수만큼 로또 번호를 출력하는 프로그램\n",
    "\n",
    "import numpy as np\n",
    "\n",
    "game = int(input(\"게임 횟수 입력 > \"))\n",
    "print()\n",
    "\n",
    "i=0\n",
    "while i<game:\n",
    "    num = (np.random.randint(45, size=6))+1\n",
    "    tmp = set(num)\n",
    "    num = list(tmp)\n",
    "    if(len(num)==6):\n",
    "        print(num)\n",
    "        i+=1"
   ]
  },
  {
   "cell_type": "code",
   "execution_count": 29,
   "id": "cf38582b",
   "metadata": {},
   "outputs": [
    {
     "name": "stdout",
     "output_type": "stream",
     "text": [
      "로또 횟수 입력하세요 > 5\n",
      "\n",
      "로또 번호 1: [9, 21, 27, 31, 40, 41]\n",
      "로또 번호 2: [2, 6, 8, 23, 24, 30]\n",
      "로또 번호 3: [3, 17, 18, 28, 31, 35]\n",
      "로또 번호 4: [6, 10, 27, 37, 39, 44]\n",
      "로또 번호 5: [11, 12, 20, 28, 31, 36]\n"
     ]
    }
   ],
   "source": [
    "import random\n",
    "import time\n",
    "\n",
    "gnum = int(input(\"로또 횟수 입력하세요 > \"))\n",
    "print()\n",
    "\n",
    "for i in range(gnum):\n",
    "    lt = [x for x in range(1, 45)]\n",
    "    ret = []\n",
    "    for j in range(6):\n",
    "        random.shuffle(lt)\n",
    "        num = lt.pop()\n",
    "        ret.append(num)\n",
    "        ret.sort()\n",
    "    print(\"로또 번호 %d: \" %(i+1), end='')\n",
    "    print(ret)\n",
    "    time.sleep(1)"
   ]
  },
  {
   "cell_type": "code",
   "execution_count": 48,
   "id": "de537816",
   "metadata": {},
   "outputs": [
    {
     "name": "stdout",
     "output_type": "stream",
     "text": [
      "입력> 30\n"
     ]
    },
    {
     "ename": "KeyboardInterrupt",
     "evalue": "",
     "output_type": "error",
     "traceback": [
      "\u001b[1;31m---------------------------------------------------------------------------\u001b[0m",
      "\u001b[1;31mKeyboardInterrupt\u001b[0m                         Traceback (most recent call last)",
      "\u001b[1;32m~\\AppData\\Local\\Temp/ipykernel_4756/2761553328.py\u001b[0m in \u001b[0;36m<module>\u001b[1;34m\u001b[0m\n\u001b[0;32m     12\u001b[0m     \u001b[0mp\u001b[0m \u001b[1;33m=\u001b[0m \u001b[0mrandom\u001b[0m\u001b[1;33m.\u001b[0m\u001b[0mrandint\u001b[0m\u001b[1;33m(\u001b[0m\u001b[1;36m0\u001b[0m\u001b[1;33m,\u001b[0m\u001b[0mlen\u001b[0m\u001b[1;33m(\u001b[0m\u001b[0mname\u001b[0m\u001b[1;33m)\u001b[0m\u001b[1;33m-\u001b[0m\u001b[1;36m1\u001b[0m\u001b[1;33m)\u001b[0m\u001b[1;33m\u001b[0m\u001b[1;33m\u001b[0m\u001b[0m\n\u001b[0;32m     13\u001b[0m     \u001b[1;32mwhile\u001b[0m \u001b[0mp\u001b[0m \u001b[1;32min\u001b[0m \u001b[0mli\u001b[0m\u001b[1;33m:\u001b[0m\u001b[1;33m\u001b[0m\u001b[1;33m\u001b[0m\u001b[0m\n\u001b[1;32m---> 14\u001b[1;33m         \u001b[0mp\u001b[0m \u001b[1;33m=\u001b[0m \u001b[0mrandom\u001b[0m\u001b[1;33m.\u001b[0m\u001b[0mrandint\u001b[0m\u001b[1;33m(\u001b[0m\u001b[1;36m0\u001b[0m\u001b[1;33m,\u001b[0m\u001b[0mlen\u001b[0m\u001b[1;33m(\u001b[0m\u001b[0mname\u001b[0m\u001b[1;33m)\u001b[0m\u001b[1;33m-\u001b[0m\u001b[1;36m1\u001b[0m\u001b[1;33m)\u001b[0m\u001b[1;33m\u001b[0m\u001b[1;33m\u001b[0m\u001b[0m\n\u001b[0m\u001b[0;32m     15\u001b[0m     \u001b[0mli\u001b[0m\u001b[1;33m.\u001b[0m\u001b[0mappend\u001b[0m\u001b[1;33m(\u001b[0m\u001b[0mp\u001b[0m\u001b[1;33m)\u001b[0m\u001b[1;33m\u001b[0m\u001b[1;33m\u001b[0m\u001b[0m\n\u001b[0;32m     16\u001b[0m \u001b[1;33m\u001b[0m\u001b[0m\n",
      "\u001b[1;32mC:\\SW\\anaconda3\\envs\\cakd5\\lib\\random.py\u001b[0m in \u001b[0;36mrandint\u001b[1;34m(self, a, b)\u001b[0m\n\u001b[0;32m    246\u001b[0m         \"\"\"\n\u001b[0;32m    247\u001b[0m \u001b[1;33m\u001b[0m\u001b[0m\n\u001b[1;32m--> 248\u001b[1;33m         \u001b[1;32mreturn\u001b[0m \u001b[0mself\u001b[0m\u001b[1;33m.\u001b[0m\u001b[0mrandrange\u001b[0m\u001b[1;33m(\u001b[0m\u001b[0ma\u001b[0m\u001b[1;33m,\u001b[0m \u001b[0mb\u001b[0m\u001b[1;33m+\u001b[0m\u001b[1;36m1\u001b[0m\u001b[1;33m)\u001b[0m\u001b[1;33m\u001b[0m\u001b[1;33m\u001b[0m\u001b[0m\n\u001b[0m\u001b[0;32m    249\u001b[0m \u001b[1;33m\u001b[0m\u001b[0m\n\u001b[0;32m    250\u001b[0m     \u001b[1;32mdef\u001b[0m \u001b[0m_randbelow_with_getrandbits\u001b[0m\u001b[1;33m(\u001b[0m\u001b[0mself\u001b[0m\u001b[1;33m,\u001b[0m \u001b[0mn\u001b[0m\u001b[1;33m)\u001b[0m\u001b[1;33m:\u001b[0m\u001b[1;33m\u001b[0m\u001b[1;33m\u001b[0m\u001b[0m\n",
      "\u001b[1;32mC:\\SW\\anaconda3\\envs\\cakd5\\lib\\random.py\u001b[0m in \u001b[0;36mrandrange\u001b[1;34m(self, start, stop, step, _int)\u001b[0m\n\u001b[0;32m    222\u001b[0m         \u001b[0mwidth\u001b[0m \u001b[1;33m=\u001b[0m \u001b[0mistop\u001b[0m \u001b[1;33m-\u001b[0m \u001b[0mistart\u001b[0m\u001b[1;33m\u001b[0m\u001b[1;33m\u001b[0m\u001b[0m\n\u001b[0;32m    223\u001b[0m         \u001b[1;32mif\u001b[0m \u001b[0mstep\u001b[0m \u001b[1;33m==\u001b[0m \u001b[1;36m1\u001b[0m \u001b[1;32mand\u001b[0m \u001b[0mwidth\u001b[0m \u001b[1;33m>\u001b[0m \u001b[1;36m0\u001b[0m\u001b[1;33m:\u001b[0m\u001b[1;33m\u001b[0m\u001b[1;33m\u001b[0m\u001b[0m\n\u001b[1;32m--> 224\u001b[1;33m             \u001b[1;32mreturn\u001b[0m \u001b[0mistart\u001b[0m \u001b[1;33m+\u001b[0m \u001b[0mself\u001b[0m\u001b[1;33m.\u001b[0m\u001b[0m_randbelow\u001b[0m\u001b[1;33m(\u001b[0m\u001b[0mwidth\u001b[0m\u001b[1;33m)\u001b[0m\u001b[1;33m\u001b[0m\u001b[1;33m\u001b[0m\u001b[0m\n\u001b[0m\u001b[0;32m    225\u001b[0m         \u001b[1;32mif\u001b[0m \u001b[0mstep\u001b[0m \u001b[1;33m==\u001b[0m \u001b[1;36m1\u001b[0m\u001b[1;33m:\u001b[0m\u001b[1;33m\u001b[0m\u001b[1;33m\u001b[0m\u001b[0m\n\u001b[0;32m    226\u001b[0m             \u001b[1;32mraise\u001b[0m \u001b[0mValueError\u001b[0m\u001b[1;33m(\u001b[0m\u001b[1;34m\"empty range for randrange() (%d, %d, %d)\"\u001b[0m \u001b[1;33m%\u001b[0m \u001b[1;33m(\u001b[0m\u001b[0mistart\u001b[0m\u001b[1;33m,\u001b[0m \u001b[0mistop\u001b[0m\u001b[1;33m,\u001b[0m \u001b[0mwidth\u001b[0m\u001b[1;33m)\u001b[0m\u001b[1;33m)\u001b[0m\u001b[1;33m\u001b[0m\u001b[1;33m\u001b[0m\u001b[0m\n",
      "\u001b[1;31mKeyboardInterrupt\u001b[0m: "
     ]
    }
   ],
   "source": [
    "# 연습문제 - 발표할 인원을 입력하면 랜덤으로 발표자를 리스트로 출력해 주는 프로그램 (중복 허용하지 않음)\n",
    "\n",
    "import random\n",
    "\n",
    "name = ['권혁종','김기연','김기현','김민성','김영수','김재경','김정수','김태형','마경수','문성윤',\n",
    "        '박광민','박종석','손창효','어정호','예지우','오주완','용지영','이동연','이용준','이재우',\n",
    "        '이재호','이현정','임재곤','장종호','정현우','조경윤','조남현','최종원','최지원']\n",
    "\n",
    "num = int(input('입력> '))\n",
    "li = []\n",
    "for i in range(num):\n",
    "    p = random.randint(0,len(name)-1)\n",
    "    while p in li:\n",
    "        p = random.randint(0,len(name)-1)\n",
    "    li.append(p)\n",
    "\n",
    "alist = []\n",
    "\n",
    "for i in range(len(li)):\n",
    "    a = name[li[i]]\n",
    "    alist.append(a)\n",
    "print(alist)"
   ]
  },
  {
   "cell_type": "code",
   "execution_count": 13,
   "id": "6f5c9348",
   "metadata": {},
   "outputs": [
    {
     "name": "stdout",
     "output_type": "stream",
     "text": [
      "['1', '2', '3', '4', '5']\n",
      "['a', 'b', 'c', 'd', 'e']\n",
      "\n",
      "랜덤으로 파트너를 만듭니다.\n",
      "[1호 커플] 1 ♡ c\n",
      "[2호 커플] 5 ♡ b\n",
      "[3호 커플] 3 ♡ a\n",
      "[4호 커플] 2 ♡ e\n",
      "[5호 커플] 4 ♡ d\n"
     ]
    }
   ],
   "source": [
    "# [과제] 남녀 파트너 정해주기 프로그램(5개 커플)\n",
    "\n",
    "import random\n",
    "\n",
    "man = ['1', '2', '3', '4', '5']\n",
    "wom = ['a', 'b', 'c', 'd', 'e']\n",
    "\n",
    "print(man)\n",
    "print(wom)\n",
    "print(\"\\n랜덤으로 파트너를 만듭니다.\")\n",
    "\n",
    "random.shuffle(man)\n",
    "random.shuffle(wom)\n",
    "pair = zip(man,wom)\n",
    "\n",
    "# while i<5:\n",
    "#     pair[i].append(man[i])\n",
    "#     pair[i].append(wom[i])\n",
    "#     i+=1\n",
    "\n",
    "for i, pair in enumerate(pair):\n",
    "    print(\"[%d호 커플] %s ♡ %s\" %(i+1, pair[0], pair[1]))\n",
    "    "
   ]
  },
  {
   "cell_type": "code",
   "execution_count": 18,
   "id": "bc7817c6",
   "metadata": {},
   "outputs": [
    {
     "name": "stdout",
     "output_type": "stream",
     "text": [
      "문자열을 입력하세요: abcdefg\n",
      "bcdefga\n"
     ]
    }
   ],
   "source": [
    "# 입력받은 문자열의 각 문자를 그 다음 문자로 변경하여 출력\n",
    "# abcde -> bcdea\n",
    "\n",
    "text = input(\"문자열을 입력하세요: \")\n",
    "ret = ''\n",
    "\n",
    "for i in range(len(text)):\n",
    "    if i != len(text)-1:\n",
    "        ret += text[i+1]\n",
    "    else:\n",
    "        ret += text[0]\n",
    "print(ret)"
   ]
  },
  {
   "cell_type": "code",
   "execution_count": 22,
   "id": "6ae3d4ac",
   "metadata": {},
   "outputs": [
    {
     "name": "stdout",
     "output_type": "stream",
     "text": [
      "중앙 식당에 오신 것을 환영합니다\n",
      "\n",
      "========================================\n",
      "\n",
      "              - 메  뉴 -\n",
      "    1. 불고기 비빔밥: 12,000원\n",
      "    2. 야채 비빔밥 : 8,000원\n",
      "    3. 전주 비빔밥 : 10,000원\n",
      "\n",
      "    세트 주문시 : 3000원 추가\n",
      "    (세트는 밥과 반찬이 추가됩니다.)\n",
      "\n",
      "========================================\n",
      "\n",
      "메뉴 선정이 끝나면 e, 메뉴를 다시 고르고 싶으시다면 r을 눌러주세요.\n",
      "\n",
      "현재 선택- 불고기:0 야채:0 전주: 0 (세트상품:0)\n",
      "주문하실 메뉴의 번호를 입력하세요 > 1\n",
      "세트 주문을 하시겠습니까?(y/n) > y\n",
      "\n",
      "현재 선택- 불고기:1 야채:0 전주: 0 (세트상품:1)\n",
      "주문하실 메뉴의 번호를 입력하세요 > 3\n",
      "세트 주문을 하시겠습니까?(y/n) > n\n",
      "단일상품으로 주문됩니다.\n",
      "\n",
      "현재 선택- 불고기:1 야채:0 전주: 1 (세트상품:1)\n",
      "주문하실 메뉴의 번호를 입력하세요 > e\n",
      "메뉴 선정을 종료합니다.\n",
      "\n",
      "총 금액은 25000원입니다.\n"
     ]
    }
   ],
   "source": [
    "# [과제] 음식점의 음식 주문 가격 산출 프로그램 / 수정 보완\n",
    "\n",
    "a = 12000\n",
    "b = 8000\n",
    "c = 10000\n",
    "extra = 3000\n",
    "price = 0\n",
    "menu = {'1':0, '2':0, '3':0, 's':0}\n",
    "\n",
    "print('''중앙 식당에 오신 것을 환영합니다\n",
    "\n",
    "========================================\n",
    "\n",
    "              - 메  뉴 -\n",
    "    1. 불고기 비빔밥: 12,000원\n",
    "    2. 야채 비빔밥 : 8,000원\n",
    "    3. 전주 비빔밥 : 10,000원\n",
    "\n",
    "    세트 주문시 : 3000원 추가\n",
    "    (세트는 밥과 반찬이 추가됩니다.)\n",
    "\n",
    "========================================\n",
    "''')\n",
    "print(\"메뉴 선정이 끝나면 e, 메뉴를 다시 고르고 싶으시다면 r을 눌러주세요.\\n\")\n",
    "while 1:\n",
    "    print(\"현재 선택- 불고기:\" + str(menu['1']) + \" 야채:\" + str(menu['2']) + \" 전주: \" + str(menu['3'])\n",
    "          + \" (세트상품:\" + str(menu['s']) + \")\")\n",
    "    order=input(\"주문하실 메뉴의 번호를 입력하세요 > \")\n",
    "    if(order=='e'):\n",
    "        print(\"메뉴 선정을 종료합니다.\")\n",
    "        print()\n",
    "        break\n",
    "    elif(order=='r'):\n",
    "        print(\"선택한 메뉴를 전부 삭제합니다.\")\n",
    "        menu['1']=0\n",
    "        menu['2']=0\n",
    "        menu['3']=0\n",
    "        menu['s']=0\n",
    "    elif(order=='1'):\n",
    "        while 1:\n",
    "            select=input(\"세트 주문을 하시겠습니까?(y/n) > \")\n",
    "            if(select=='y'):\n",
    "                menu['s']+=1\n",
    "            elif(select=='n'):\n",
    "                print(\"단일상품으로 주문됩니다.\")\n",
    "            else:\n",
    "                print('[y] 또는 [n]만 입력해주세요.')\n",
    "                continue\n",
    "            menu[order]+=1\n",
    "            break\n",
    "    elif(order=='2'):\n",
    "        while 1:\n",
    "            select=input(\"세트 주문을 하시겠습니까?(y/n) > \")\n",
    "            if(select=='y'):\n",
    "                menu['s']+=1\n",
    "            elif(select=='n'):\n",
    "                print(\"단일상품으로 주문됩니다.\")\n",
    "            else:\n",
    "                print('[y] 또는 [n]만 입력해주세요.')\n",
    "                continue\n",
    "            menu[order]+=1\n",
    "            break\n",
    "    elif(order=='3'):\n",
    "        while 1:\n",
    "            select=input(\"세트 주문을 하시겠습니까?(y/n) > \")\n",
    "            if(select=='y'):\n",
    "                menu['s']+=1\n",
    "            elif(select=='n'):\n",
    "                print(\"단일상품으로 주문됩니다.\")\n",
    "            else:\n",
    "                print('[y] 또는 [n]만 입력해주세요.')\n",
    "                continue\n",
    "            menu[order]+=1\n",
    "            break\n",
    "    else:\n",
    "        print(f'{order}번 메뉴는 존재하지 않습니다. 다시 입력해주세요.')\n",
    "    print()\n",
    "        \n",
    "price = a*menu['1'] + b*menu['2'] + c*menu['3'] + extra*menu['s']\n",
    "print(f'총 금액은 {price}원입니다.')"
   ]
  },
  {
   "cell_type": "code",
   "execution_count": 24,
   "id": "67b546bb",
   "metadata": {},
   "outputs": [
    {
     "name": "stdout",
     "output_type": "stream",
     "text": [
      "가위 바위 보 게임입니다. 3승할 때까지 계속 진행됩니다!\n",
      "그 전에 게임을 종료하고 싶다면 E를 입력해주세요.\n",
      "\n",
      "무엇을 낼까요? (가위/바위/보) > 가위\n",
      "컴퓨터 > 보\n",
      "게임에서 이겼습니다. 축하합니다!\n",
      "\n",
      "무엇을 낼까요? (가위/바위/보) > 가위\n",
      "컴퓨터 > 가위\n",
      "비겼습니다. 다시 한 번 게임을 시작합니다!\n",
      "\n",
      "무엇을 낼까요? (가위/바위/보) > ㄱ\n",
      "[가위] [바위] [보] 중 하나를 내주세요!\n",
      "\n",
      "무엇을 낼까요? (가위/바위/보) > ㅠ\n",
      "[가위] [바위] [보] 중 하나를 내주세요!\n",
      "\n",
      "무엇을 낼까요? (가위/바위/보) > R\n",
      "[가위] [바위] [보] 중 하나를 내주세요!\n",
      "\n",
      "무엇을 낼까요? (가위/바위/보) > E\n",
      "게임을 종료합니다. 수고하셨습니다.\n"
     ]
    }
   ],
   "source": [
    "# [과제] Player가 3승할 때까지 계속 진행되는 가위바위보 게임 프로그램을 작성하세요.\n",
    "# 게임을 Player와 컴퓨터가 진행\n",
    "\n",
    "import numpy as np\n",
    "\n",
    "cnt = 0\n",
    "rsp = ['가위', '바위', '보']\n",
    "\n",
    "print(\"가위 바위 보 게임입니다. 3승할 때까지 계속 진행됩니다!\")\n",
    "print(\"그 전에 게임을 종료하고 싶다면 E를 입력해주세요.\")\n",
    "\n",
    "while cnt < 3:\n",
    "    print()\n",
    "    pl = input(\"무엇을 낼까요? (가위/바위/보) > \")\n",
    "    if(pl=='E'): break\n",
    "    elif(pl not in rsp):\n",
    "        print(\"[가위] [바위] [보] 중 하나를 내주세요!\")\n",
    "        continue\n",
    "    pc = rsp[np.random.randint(3)]\n",
    "    print(f'컴퓨터 > {pc}')\n",
    "    \n",
    "    if(pl=='가위'):\n",
    "        if(pc=='바위'):\n",
    "            print(\"졌습니다. 다시 한 번 게임을 시작합니다!\")\n",
    "            continue\n",
    "        elif(pc=='보'):\n",
    "            print(\"게임에서 이겼습니다. 축하합니다!\")\n",
    "            cnt+=1\n",
    "            continue\n",
    "            \n",
    "    elif(pl=='바위'):\n",
    "        if(pc=='보'):\n",
    "            print(\"졌습니다. 다시 한 번 게임을 시작합니다!\")\n",
    "            continue\n",
    "        elif(pc=='가위'):\n",
    "            print(\"게임에서 이겼습니다. 축하합니다!\")\n",
    "            cnt+=1\n",
    "            continue\n",
    "            \n",
    "    elif(pl=='보'):\n",
    "        if(pc=='가위'):\n",
    "            print(\"졌습니다. 다시 한 번 게임을 시작합니다!\")\n",
    "            continue\n",
    "        elif(pc=='바위'):\n",
    "            print(\"게임에서 이겼습니다. 축하합니다!\")\n",
    "            cnt+=1\n",
    "            continue\n",
    "            \n",
    "    print(\"비겼습니다. 다시 한 번 게임을 시작합니다!\")\n",
    "    \n",
    "print(\"게임을 종료합니다. 수고하셨습니다.\")"
   ]
  },
  {
   "cell_type": "code",
   "execution_count": 4,
   "id": "8e88101f",
   "metadata": {},
   "outputs": [
    {
     "name": "stdout",
     "output_type": "stream",
     "text": [
      "랜덤한 숫자 맞추기 게임입니다. 1과 100 사이의 수 중 임의의 숫자를 맞춥니다.\n",
      "\n",
      "게임을 하시겠습니까?(y/n) > 1.\n",
      "[y] 또는 [n]를 입력해주세요.\n",
      "게임을 하시겠습니까?(y/n) > ㅜ\n",
      "[y] 또는 [n]를 입력해주세요.\n",
      "게임을 하시겠습니까?(y/n) > n\n",
      "게임을 종료합니다.\n"
     ]
    }
   ],
   "source": [
    "# 컴퓨터가 랜덤하게 생성하는 숫자 맞추기 게임 프로그램 작성\n",
    "\n",
    "import numpy as np\n",
    "\n",
    "print(\"랜덤한 숫자 맞추기 게임입니다. 1과 100 사이의 수 중 임의의 숫자를 맞춥니다.\")\n",
    "print()\n",
    "while 1:\n",
    "    game_set = input(\"게임을 하시겠습니까?(y/n) > \")\n",
    "    correct = np.random.randint(100)+1\n",
    "    answer = ''\n",
    "    if(game_set == 'y'):\n",
    "        while (answer!=correct):\n",
    "            try:\n",
    "                answer = int(input(\"숫자 입력: \"))\n",
    "                if(answer<1 or answer>100):\n",
    "                    raise Exception\n",
    "                if(answer>correct):\n",
    "                    print(\"DOWN!\")\n",
    "                elif(answer<correct):\n",
    "                    print(\"UP!\")\n",
    "                else:\n",
    "                    print(\"정답입니다!\")\n",
    "            except ValueError:\n",
    "                print(\"숫자만 입력해주세요.\")\n",
    "            except KeyboardInterrupt:\n",
    "                print(\"다시 처음으로 돌아갑니다...\")\n",
    "                break\n",
    "            except:\n",
    "                print(\"[1]과 [100] 사이 수를 입력해주세요.\")\n",
    "    \n",
    "    elif(game_set=='n'):\n",
    "        print(\"게임을 종료합니다.\")\n",
    "        break\n",
    "    else:\n",
    "        print(\"[y] 또는 [n]를 입력해주세요.\")"
   ]
  }
 ],
 "metadata": {
  "kernelspec": {
   "display_name": "Python 3 (ipykernel)",
   "language": "python",
   "name": "python3"
  },
  "language_info": {
   "codemirror_mode": {
    "name": "ipython",
    "version": 3
   },
   "file_extension": ".py",
   "mimetype": "text/x-python",
   "name": "python",
   "nbconvert_exporter": "python",
   "pygments_lexer": "ipython3",
   "version": "3.8.12"
  }
 },
 "nbformat": 4,
 "nbformat_minor": 5
}
