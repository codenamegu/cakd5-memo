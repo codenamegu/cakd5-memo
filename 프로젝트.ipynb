{
 "cells": [
  {
   "cell_type": "code",
   "execution_count": 64,
   "id": "2df79d36",
   "metadata": {},
   "outputs": [],
   "source": [
    "# 관리자 계정 등록\n",
    "\n",
    "import cryptocode as cpt\n",
    "\n",
    "file = open('UserPW.txt', 'w')\n",
    "subdata={'pw':cpt.encrypt('admin','admin'), 'seculevel':5, 'pwhint':cpt.encrypt('admin','답'), 'name':'관리자', 'tel':'010-1234-5678'}\n",
    "data = {'admin':subdata}\n",
    "file.write(str(data)+'\\n')\n",
    "file.close()"
   ]
  },
  {
   "cell_type": "code",
   "execution_count": 65,
   "id": "5fa2a799",
   "metadata": {},
   "outputs": [],
   "source": [
    "import cryptocode as cpt\n",
    "\n",
    "file = open('UserPW.txt', 'a')\n",
    "subdata={'pw':cpt.encrypt('ygw','ygw'), 'seculevel':1, 'pwhint':cpt.encrypt('ygw','이름'), 'name':'예지우', 'tel':'010-9780-0979'}\n",
    "data = {'ygw':subdata}\n",
    "file.write(str(data)+'\\n')\n",
    "file.close()"
   ]
  },
  {
   "cell_type": "code",
   "execution_count": 66,
   "id": "00fbc16f",
   "metadata": {
    "scrolled": true
   },
   "outputs": [
    {
     "name": "stdout",
     "output_type": "stream",
     "text": [
      "{'admin': {'pw': 'dEbiKcw=*k6ksUqpDpn/Vk75RtU5vfw==*ce4Cpqrqda57xOSEaaRSpQ==*2sIkwJQKWxkD3nmCJ8hiaw==', 'seculevel': 5, 'pwhint': 'z3VMtkc=*83POp6+Cygr5CEupwuPqnw==*4EXhxVInDv7x0BzjNsWkwg==*CQj+WbPCm3EGPuqYETKuQg==', 'name': '관리자', 'tel': '010-1234-5678'}}\n",
      "{'ygw': {'pw': 'R0Nd*WLPzEfjYbTuesSQx7/Uhzw==*rCJO8Ks0bwBemKChW/etoQ==*16U/f67GerHVj4eqpKA81Q==', 'seculevel': 1, 'pwhint': 'n3TY*V8fY7the56iobJboo7irwQ==*m8q1F20erERefw3yCZ2XqA==*5dLYfr0TaDFaM4CMnB1N4A==', 'name': '예지우', 'tel': '010-9780-0979'}}\n",
      "\n"
     ]
    }
   ],
   "source": [
    "# 현재 암호 파일 확인\n",
    "\n",
    "file = open('UserPW.txt', 'r')\n",
    "data = file.read()\n",
    "print(data)\n",
    "file.close()"
   ]
  },
  {
   "cell_type": "code",
   "execution_count": 73,
   "id": "66109adb",
   "metadata": {},
   "outputs": [
    {
     "name": "stdout",
     "output_type": "stream",
     "text": [
      "로그인 페이지입니다.\n",
      "ID: admin\n",
      "PW: admin\n"
     ]
    },
    {
     "ename": "TypeError",
     "evalue": "list indices must be integers or slices, not str",
     "output_type": "error",
     "traceback": [
      "\u001b[1;31m---------------------------------------------------------------------------\u001b[0m",
      "\u001b[1;31mTypeError\u001b[0m                                 Traceback (most recent call last)",
      "\u001b[1;32m~\\AppData\\Local\\Temp/ipykernel_6088/163240549.py\u001b[0m in \u001b[0;36m<module>\u001b[1;34m\u001b[0m\n\u001b[0;32m     19\u001b[0m     \u001b[0mPW\u001b[0m \u001b[1;33m=\u001b[0m \u001b[0minput\u001b[0m\u001b[1;33m(\u001b[0m\u001b[1;34m\"PW: \"\u001b[0m\u001b[1;33m)\u001b[0m\u001b[1;33m\u001b[0m\u001b[1;33m\u001b[0m\u001b[0m\n\u001b[0;32m     20\u001b[0m \u001b[1;33m\u001b[0m\u001b[0m\n\u001b[1;32m---> 21\u001b[1;33m     \u001b[1;32mif\u001b[0m\u001b[1;33m(\u001b[0m\u001b[0mID\u001b[0m \u001b[1;32mnot\u001b[0m \u001b[1;32min\u001b[0m \u001b[0mdata\u001b[0m\u001b[1;33m[\u001b[0m\u001b[0mID\u001b[0m\u001b[1;33m]\u001b[0m\u001b[1;33m)\u001b[0m\u001b[1;33m:\u001b[0m\u001b[1;33m\u001b[0m\u001b[1;33m\u001b[0m\u001b[0m\n\u001b[0m\u001b[0;32m     22\u001b[0m         \u001b[0mprint\u001b[0m\u001b[1;33m(\u001b[0m\u001b[1;34m\"존재하지 않는 아이디입니다. 다시 한번 확인해주세요.\"\u001b[0m\u001b[1;33m)\u001b[0m\u001b[1;33m\u001b[0m\u001b[1;33m\u001b[0m\u001b[0m\n\u001b[0;32m     23\u001b[0m         \u001b[0mprint\u001b[0m\u001b[1;33m(\u001b[0m\u001b[1;33m)\u001b[0m\u001b[1;33m\u001b[0m\u001b[1;33m\u001b[0m\u001b[0m\n",
      "\u001b[1;31mTypeError\u001b[0m: list indices must be integers or slices, not str"
     ]
    }
   ],
   "source": [
    "# 아이디/비밀번호 입력 프로그램\n",
    "\n",
    "import cryptocode as cpt\n",
    "\n",
    "cnt = 0\n",
    "data=[]\n",
    "\n",
    "print(\"로그인 페이지입니다.\")\n",
    "file =  open('UserPW.txt', 'r')\n",
    "for line in file:\n",
    "    data.append(eval(line))\n",
    "\n",
    "while 1:\n",
    "    if(cnt==5):\n",
    "        print(\"ID/PW 입력을 5회 실패하셨습니다. 나중에 다시 시도해주세요.\")\n",
    "        break\n",
    "\n",
    "    ID = input(\"ID: \")\n",
    "    PW = input(\"PW: \")\n",
    "\n",
    "    if(ID not in data):\n",
    "        print(\"존재하지 않는 아이디입니다. 다시 한번 확인해주세요.\")\n",
    "        print()\n",
    "        continue\n",
    "    elif(PW != cpt.decrypt(data[ID]['pw'],ID)):\n",
    "        print(\"비밀번호 오류입니다. 다시 한번 확인해주세요.\")\n",
    "        print()\n",
    "        cnt+=1\n",
    "        continue\n",
    "\n",
    "    else:\n",
    "        print(f'{ID} 님 반갑습니다.')\n",
    "        print(f'현재 {ID}님이 열람할 수 있는 데이터는 아래와 같습니다.')\n",
    "        for line in file:\n",
    "            if (data[ID]['seculevel'] > data[data]['seculevel']):\n",
    "                print(data)\n",
    "        input(\"무엇을 하시겠습니까? > \")\n",
    "\n",
    "\n",
    "print(\"프로그램을 종료합니다.\")"
   ]
  },
  {
   "cell_type": "code",
   "execution_count": null,
   "id": "92c5ce34",
   "metadata": {},
   "outputs": [],
   "source": []
  }
 ],
 "metadata": {
  "kernelspec": {
   "display_name": "Python 3 (ipykernel)",
   "language": "python",
   "name": "python3"
  },
  "language_info": {
   "codemirror_mode": {
    "name": "ipython",
    "version": 3
   },
   "file_extension": ".py",
   "mimetype": "text/x-python",
   "name": "python",
   "nbconvert_exporter": "python",
   "pygments_lexer": "ipython3",
   "version": "3.8.12"
  }
 },
 "nbformat": 4,
 "nbformat_minor": 5
}
