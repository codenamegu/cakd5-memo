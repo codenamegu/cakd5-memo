{
 "cells": [
  {
   "cell_type": "markdown",
   "id": "27ff476e",
   "metadata": {},
   "source": [
    "## 정규표현식의 기초, 메타 문자\n",
    "\n",
    "- . ^ $ * + ? {} [] \\ | ()\n",
    "- [] 문자 클래스\n",
    "- \\d 숫자와매치, [0-9]와 동일한 표현식\n",
    "- \\D 숫자가 아닌 것과 매치, [^0-9]와 동일한 표현식\n",
    "- \\s whitespace 문자와 매치, [ \\t\\n\\r\\f\\v]와 동일한 표현식\n",
    "- \\S whitespace 문자가 아닌 것과 매치, [^ \\t\\n\\r\\f\\v]와 동일한 표현식\n",
    "- \\w 문자 + 숫자와 매치, [a-zA-Z0-9]와 동일한 표현식\n",
    "- \\W 문자 + 숫자가 아닌 문자와 매치, [^a-zA-Z0-9]와 동일한 표현식\n",
    "\n",
    "- **whitespce**\n",
    "  * 스페이스 바(아스키코드 32)\n",
    "  * \\b 뒤로 한 칸 이동(Backspace) (아스키코드 8)\n",
    "  * \\t 수평탭 간격 띄우기\n",
    "  * \\n 줄바꿈\n",
    "  * \\v 수직탭 간격 띄우기\n",
    "  * \\f 프린트 출력 용지를 한 페이지 넘김\n",
    "  * \\r 동일한 줄의 맨 앞에서 커서 이동\n",
    "\n",
    "- Dot(.) 메타 문자는 줄바꿈 문자인 \\n를 제외한 모든 문자와 매치됨을 의미\n",
    "- 반복 (\\*) 0부터 무한대로 반복하는 거 ca*t 있으면 별표앞에있는 a가 0부터 무한대로 반복\n",
    "caaaaaaaaaat , ct (a가 0 개여도 매치)\n",
    "- 반복 (+) ca+t 최소 1번 이상 반복\n",
    "- ca{m,n} a 반복횟수가 m부터 n까지인 것을 매치\n",
    "- ca{2}t는 c+a (2번 반복)+t의 의미\n",
    "- 반복 횟수가 {1,}은 1 이상, {0,}은 0 이상인 경우로 +, *와 동일하며, {,1}은 반복 횟수가 1 이하를 의미\n",
    "- ab?c b가 0-1번 사용되면 매치되는 것으로 ?은 앞에 b가 있어도 되고 없어도 됨\n",
    "\n",
    "re 모듈: 파이썬은 정규표현식을 지원하기 위해 기본으로 제공\n",
    "- re.compile의 결과로 리턴되는 객체를 이용하여 그 이후 작업 수행\n",
    "\n",
    "정규식을 이용한 문자열 검색\n",
    "- match(): 문자열의 처음부터 정규식과 매치되는지를 조사\n",
    "- search(): 문자열의 전체를 검색하여 정규식과 매치되는지 조사\n",
    "- findall(): 정규식과 매치되는 모든 문자열을 리스트로 리턴\n",
    "- finditer(): 정규식과 매치되는 모든 문자열을 **반복 가능한 객체**로 리턴"
   ]
  },
  {
   "cell_type": "code",
   "execution_count": 1,
   "id": "a22b2812",
   "metadata": {},
   "outputs": [
    {
     "name": "stdout",
     "output_type": "stream",
     "text": [
      "<re.Match object; span=(0, 7), match='python '>\n"
     ]
    }
   ],
   "source": [
    "import re\n",
    "\n",
    "p=re.compile('[a-z]+\\s')\n",
    "m=p.match('python python')\n",
    "print(m)"
   ]
  },
  {
   "cell_type": "code",
   "execution_count": 2,
   "id": "1eabb0de",
   "metadata": {},
   "outputs": [
    {
     "data": {
      "text/plain": [
       "<re.Match object; span=(0, 7), match='python '>"
      ]
     },
     "execution_count": 2,
     "metadata": {},
     "output_type": "execute_result"
    }
   ],
   "source": [
    "re.match('[a-z]+\\s', \"python python\")"
   ]
  },
  {
   "cell_type": "code",
   "execution_count": 3,
   "id": "b887a5e1",
   "metadata": {},
   "outputs": [
    {
     "data": {
      "text/plain": [
       "['python ']"
      ]
     },
     "execution_count": 3,
     "metadata": {},
     "output_type": "execute_result"
    }
   ],
   "source": [
    "p.findall('python python')"
   ]
  },
  {
   "cell_type": "code",
   "execution_count": 4,
   "id": "8cb7801b",
   "metadata": {},
   "outputs": [
    {
     "data": {
      "text/plain": [
       "['python ', 'python ']"
      ]
     },
     "execution_count": 4,
     "metadata": {},
     "output_type": "execute_result"
    }
   ],
   "source": [
    "p.findall('python python ')"
   ]
  },
  {
   "cell_type": "code",
   "execution_count": 5,
   "id": "9eb99dad",
   "metadata": {},
   "outputs": [
    {
     "name": "stdout",
     "output_type": "stream",
     "text": [
      "None\n"
     ]
    }
   ],
   "source": [
    "m=p.match('3python')\n",
    "print(m)"
   ]
  },
  {
   "cell_type": "code",
   "execution_count": 6,
   "id": "4cf0f193",
   "metadata": {},
   "outputs": [
    {
     "name": "stdout",
     "output_type": "stream",
     "text": [
      "<re.Match object; span=(1, 8), match='python '>\n"
     ]
    }
   ],
   "source": [
    "m=p.search('3python ')\n",
    "print(m)"
   ]
  },
  {
   "cell_type": "code",
   "execution_count": 7,
   "id": "cf12e2a9",
   "metadata": {},
   "outputs": [
    {
     "name": "stdout",
     "output_type": "stream",
     "text": [
      "<re.Match object; span=(1, 6), match='anker'>\n",
      "<re.Match object; span=(0, 6), match='banker'>\n"
     ]
    }
   ],
   "source": [
    "# 문자 클래스 : []\n",
    "pattern = re.compile('[a-z]+')\n",
    "p1 = pattern.search('Banker')\n",
    "p2 = pattern.search('banker')\n",
    "print(p1)\n",
    "print(p2)"
   ]
  },
  {
   "cell_type": "code",
   "execution_count": 8,
   "id": "13f0df17",
   "metadata": {},
   "outputs": [
    {
     "data": {
      "text/plain": [
       "'a'"
      ]
     },
     "execution_count": 8,
     "metadata": {},
     "output_type": "execute_result"
    }
   ],
   "source": [
    "# 연습문제 - '12345abc'에서 'a'만 출력\n",
    "\n",
    "import re\n",
    "\n",
    "pattern = re.compile('a')\n",
    "text = '12345abc'\n",
    "m = pattern.search(text)\n",
    "m.group() # 매치된 문자열 반환"
   ]
  },
  {
   "cell_type": "code",
   "execution_count": 9,
   "id": "47c8353c",
   "metadata": {},
   "outputs": [
    {
     "data": {
      "text/plain": [
       "'A'"
      ]
     },
     "execution_count": 9,
     "metadata": {},
     "output_type": "execute_result"
    }
   ],
   "source": [
    "# 연습문제 - '12345Abc'에서 'A'만 출력\n",
    "\n",
    "pattern = re.compile('A')\n",
    "text = '12345Abc'\n",
    "m = pattern.search(text)\n",
    "m.group() # 매치된 문자열 반환"
   ]
  },
  {
   "cell_type": "code",
   "execution_count": 26,
   "id": "20e11a9f",
   "metadata": {},
   "outputs": [
    {
     "ename": "AttributeError",
     "evalue": "'list' object has no attribute 'group'",
     "output_type": "error",
     "traceback": [
      "\u001b[1;31m---------------------------------------------------------------------------\u001b[0m",
      "\u001b[1;31mAttributeError\u001b[0m                            Traceback (most recent call last)",
      "\u001b[1;32m~\\AppData\\Local\\Temp/ipykernel_10396/94477606.py\u001b[0m in \u001b[0;36m<module>\u001b[1;34m\u001b[0m\n\u001b[0;32m      5\u001b[0m \u001b[0mm\u001b[0m \u001b[1;33m=\u001b[0m \u001b[0mpattern\u001b[0m\u001b[1;33m.\u001b[0m\u001b[0msearch\u001b[0m\u001b[1;33m(\u001b[0m\u001b[0mtext\u001b[0m\u001b[1;33m)\u001b[0m\u001b[1;33m\u001b[0m\u001b[1;33m\u001b[0m\u001b[0m\n\u001b[0;32m      6\u001b[0m \u001b[0mm\u001b[0m \u001b[1;33m=\u001b[0m \u001b[0mpattern\u001b[0m\u001b[1;33m.\u001b[0m\u001b[0mfindall\u001b[0m\u001b[1;33m(\u001b[0m\u001b[0mtext\u001b[0m\u001b[1;33m)\u001b[0m\u001b[1;33m\u001b[0m\u001b[1;33m\u001b[0m\u001b[0m\n\u001b[1;32m----> 7\u001b[1;33m \u001b[0mprint\u001b[0m\u001b[1;33m(\u001b[0m\u001b[0mm\u001b[0m\u001b[1;33m.\u001b[0m\u001b[0mgroup\u001b[0m\u001b[1;33m(\u001b[0m\u001b[1;33m)\u001b[0m\u001b[1;33m)\u001b[0m\u001b[1;33m\u001b[0m\u001b[1;33m\u001b[0m\u001b[0m\n\u001b[0m",
      "\u001b[1;31mAttributeError\u001b[0m: 'list' object has no attribute 'group'"
     ]
    }
   ],
   "source": [
    "# [과제] 'KOREA 대한민국'에서 '대'만 출력\n",
    "\n",
    "pattern = re.compile('대')\n",
    "text = 'KOREA 대한민국'\n",
    "m = pattern.search(text)\n",
    "print(m.group())"
   ]
  },
  {
   "cell_type": "code",
   "execution_count": 29,
   "id": "74ffc48e",
   "metadata": {},
   "outputs": [
    {
     "name": "stdout",
     "output_type": "stream",
     "text": [
      "['대', '한', '민', '국']\n"
     ]
    }
   ],
   "source": [
    "import re\n",
    "\n",
    "p = re.compile('[가-힣]') # 한글도 알파벳처럼 범위 지정 가능\n",
    "text = 'KOREA 대한민국'\n",
    "# m = p.search(text)\n",
    "m = p.findall(text)\n",
    "# print(m.group())\n",
    "print(m)"
   ]
  },
  {
   "cell_type": "code",
   "execution_count": 30,
   "id": "38cf7b1c",
   "metadata": {},
   "outputs": [
    {
     "name": "stdout",
     "output_type": "stream",
     "text": [
      "122333c\n"
     ]
    }
   ],
   "source": [
    "# 연습문제 '122333c'를 모두 출력\n",
    "\n",
    "p = re.compile('12{2}3{3}c')\n",
    "text = '122333c'\n",
    "m = p.search(text)\n",
    "print(m.group())"
   ]
  },
  {
   "cell_type": "code",
   "execution_count": 37,
   "id": "37db58d7",
   "metadata": {},
   "outputs": [
    {
     "name": "stdout",
     "output_type": "stream",
     "text": [
      "aaaaBBBcccDDDeee\n"
     ]
    }
   ],
   "source": [
    "# [과제] 'aaaaBBBcccDDDeee'를 모두 출력\n",
    "\n",
    "p = re.compile('\\w+')\n",
    "text = 'aaaaBBBcccDDDeee'\n",
    "m = p.search(text)\n",
    "print(m.group())"
   ]
  },
  {
   "cell_type": "code",
   "execution_count": 58,
   "id": "ef8ae822",
   "metadata": {},
   "outputs": [
    {
     "name": "stdout",
     "output_type": "stream",
     "text": [
      "C\n",
      "C\n",
      "C\n"
     ]
    }
   ],
   "source": [
    "# [과제] BC, CC, ABC 모두 C가 출력되는 정규 표현식 작성\n",
    "\n",
    "# pattern = re.compile('A?C')\n",
    "pattern = re.compile('[C]')\n",
    "text1 = 'BC'\n",
    "text2 = 'CC'\n",
    "text3 = 'ABC'\n",
    "p1 = pattern.search(text1)\n",
    "p2 = pattern.search(text2)\n",
    "p3 = pattern.search(text3)\n",
    "print(p1.group())\n",
    "print(p2.group())\n",
    "print(p3.group())"
   ]
  },
  {
   "cell_type": "code",
   "execution_count": 14,
   "id": "428faa97",
   "metadata": {},
   "outputs": [
    {
     "name": "stdout",
     "output_type": "stream",
     "text": [
      "['life', 'is', 'too', 'short']\n",
      "life\n",
      "life\n"
     ]
    }
   ],
   "source": [
    "p = re.compile('[a-z]+')\n",
    "result1 = p.findall('life is too short')\n",
    "result2 = p.match('life is too short')\n",
    "result3 = p.search('life is too short')\n",
    "print(result1)\n",
    "print(result2.group())\n",
    "print(result3.group())"
   ]
  },
  {
   "cell_type": "code",
   "execution_count": 15,
   "id": "7a7a8d99",
   "metadata": {
    "scrolled": true
   },
   "outputs": [
    {
     "name": "stdout",
     "output_type": "stream",
     "text": [
      "life\n",
      "is\n",
      "too\n",
      "short\n"
     ]
    }
   ],
   "source": [
    "# finditer는 findall과 동일하지만 그 결과로 반복 가능한 객체를 돌려준다\n",
    "\n",
    "result = p.finditer('life is too short')\n",
    "\n",
    "# list(result)\n",
    "for r in result: print(r.group())"
   ]
  },
  {
   "cell_type": "code",
   "execution_count": 47,
   "id": "1727a02d",
   "metadata": {},
   "outputs": [
    {
     "name": "stdout",
     "output_type": "stream",
     "text": [
      "032-232-3245"
     ]
    }
   ],
   "source": [
    "# [과제] 정규표현식을 사용하여 test에서 전화번호만 출력\n",
    "\n",
    "import re\n",
    "\n",
    "p = re.compile('[0-9]+-*')\n",
    "test = '문의사항이 있으면 032-232-3245로 연락주시기 바랍니다.'\n",
    "result = p.finditer(test)\n",
    "for r in result: print(r.group(), end='')"
   ]
  },
  {
   "cell_type": "code",
   "execution_count": 54,
   "id": "d8172019",
   "metadata": {},
   "outputs": [
    {
     "name": "stdout",
     "output_type": "stream",
     "text": [
      "032-232-3245\n",
      "032\n"
     ]
    }
   ],
   "source": [
    "# p = re.compile('[0-9]+-[0-9]+-[0-9]+')\n",
    "p = re.compile('(\\d+)-(\\d+)-(\\d+)')\n",
    "test = '문의사항이 있으면 032-232-3245로 연락주시기 바랍니다.'\n",
    "result = p.search(test)\n",
    "print(result.group())\n",
    "print(result.group(1))"
   ]
  },
  {
   "cell_type": "code",
   "execution_count": 17,
   "id": "208e8ea5",
   "metadata": {
    "scrolled": true
   },
   "outputs": [],
   "source": [
    "# finditer는 findall과 동일하지만 그 결과로 반복 가능한 객체를 돌려준다\n",
    "\n",
    "result = p.finditer('life is too short')\n",
    "\n",
    "# list(result)\n",
    "for r in result: print(r.group())"
   ]
  },
  {
   "cell_type": "code",
   "execution_count": 18,
   "id": "92b99393",
   "metadata": {},
   "outputs": [
    {
     "name": "stdout",
     "output_type": "stream",
     "text": [
      "['1', '2', '3', '4', '1', '2', '3', '4']\n",
      "['1', '2', '3', '4']\n"
     ]
    }
   ],
   "source": [
    "# 연습문제 - '1234a1234'에서 '1', '2', '3', '4'를 모두 출력\n",
    "\n",
    "import re\n",
    "\n",
    "p = re.compile('\\d')\n",
    "text = '1234a1234'\n",
    "m = p.findall(text)\n",
    "print(m)\n",
    "print(sorted(set(m))) # 중복 제거"
   ]
  },
  {
   "cell_type": "code",
   "execution_count": 20,
   "id": "231046d6",
   "metadata": {},
   "outputs": [
    {
     "data": {
      "text/plain": [
       "['Python', 'is', 'very', 'good', 'programming', 'language']"
      ]
     },
     "execution_count": 20,
     "metadata": {},
     "output_type": "execute_result"
    }
   ],
   "source": [
    "# ' Python3 is very good programming language!'에서 ['Python', 'is', 'very', 'good', 'programming', 'language']를 모두 출력\n",
    "\n",
    "import re\n",
    "\n",
    "p = re.compile('[a-zA-Z]+')\n",
    "text = ' Python3 is very good programming language!'\n",
    "p.findall(text)"
   ]
  },
  {
   "cell_type": "code",
   "execution_count": 21,
   "id": "7dab0e82",
   "metadata": {},
   "outputs": [
    {
     "name": "stdout",
     "output_type": "stream",
     "text": [
      "python\n",
      "0\n",
      "6\n",
      "(0, 6)\n"
     ]
    }
   ],
   "source": [
    "# match 객체의 메소드\n",
    "\n",
    "import re\n",
    "\n",
    "p = re.compile('[a-z]+')\n",
    "m = p.match('python')\n",
    "\n",
    "print(m.group()) \n",
    "print(m.start()) # 시작 인덱스\n",
    "print(m.end()) # 마지막 인덱스\n",
    "print(m.span()) # 인덱스 범위"
   ]
  },
  {
   "cell_type": "code",
   "execution_count": 22,
   "id": "1b3bbf19",
   "metadata": {},
   "outputs": [
    {
     "name": "stdout",
     "output_type": "stream",
     "text": [
      "python\n",
      "2\n",
      "8\n",
      "(2, 8)\n"
     ]
    }
   ],
   "source": [
    "m = p.search('3 python')\n",
    "\n",
    "print(m.group())\n",
    "print(m.start())\n",
    "print(m.end())\n",
    "print(m.span())"
   ]
  },
  {
   "cell_type": "code",
   "execution_count": 23,
   "id": "a1ffbc52",
   "metadata": {},
   "outputs": [
    {
     "name": "stdout",
     "output_type": "stream",
     "text": [
      "python\n"
     ]
    }
   ],
   "source": [
    "# 모듈 단위로 수행\n",
    "\n",
    "m = re.match('[a-z]+', \"python\")\n",
    "print(m.group())"
   ]
  },
  {
   "cell_type": "code",
   "execution_count": 24,
   "id": "3f405efa",
   "metadata": {},
   "outputs": [
    {
     "name": "stdout",
     "output_type": "stream",
     "text": [
      "None\n",
      "acb\n",
      "a12?~!@#HJs*3%^b\n"
     ]
    }
   ],
   "source": [
    "# Dot(.) 메타 문자\n",
    "\n",
    "import re\n",
    "\n",
    "p = re.compile('a.+b') # 개행을 제외한 모든 문자(.)가 하나 이상(+)\n",
    "m1 = p.match('a\\nb')\n",
    "m2 = p.match('acb')\n",
    "m3 = p.match('a12?~!@#HJs*3%^b')\n",
    "\n",
    "print(m1)\n",
    "print(m2.group())\n",
    "print(m3.group())"
   ]
  },
  {
   "cell_type": "code",
   "execution_count": 25,
   "id": "03967382",
   "metadata": {},
   "outputs": [
    {
     "data": {
      "text/plain": [
       "'a\\n\\nb'"
      ]
     },
     "execution_count": 25,
     "metadata": {},
     "output_type": "execute_result"
    }
   ],
   "source": [
    "p = re.compile('a.+b', re.DOTALL) # 개행 포함방법\n",
    "\n",
    "m = p.match('a\\n\\nb')\n",
    "m.group()"
   ]
  },
  {
   "cell_type": "code",
   "execution_count": 26,
   "id": "510c19bb",
   "metadata": {},
   "outputs": [
    {
     "name": "stdout",
     "output_type": "stream",
     "text": [
      "<re.Match object; span=(0, 6), match='python'>\n",
      "<re.Match object; span=(0, 6), match='Python'>\n",
      "<re.Match object; span=(0, 6), match='PYTHON'>\n"
     ]
    }
   ],
   "source": [
    "# re.IGNORANCE 또는 re.I 옵션은 대소문자 구분없이 매치를 수행시 사용\n",
    "\n",
    "p = re.compile('[a-z]+', re.I)\n",
    "print(p.match('python'))\n",
    "print(p.match('Python'))\n",
    "print(p.match('PYTHON'))"
   ]
  },
  {
   "cell_type": "code",
   "execution_count": 27,
   "id": "055635ef",
   "metadata": {},
   "outputs": [
    {
     "name": "stdout",
     "output_type": "stream",
     "text": [
      "<re.Match object; span=(2, 8), match='python'>\n",
      "<re.Match object; span=(2, 8), match='Python'>\n",
      "<re.Match object; span=(2, 8), match='PYTHON'>\n"
     ]
    }
   ],
   "source": [
    "print(p.search('3 python'))\n",
    "print(p.search('3 Python'))\n",
    "print(p.search('3 PYTHON'))"
   ]
  },
  {
   "cell_type": "code",
   "execution_count": 28,
   "id": "f44b7fdd",
   "metadata": {
    "scrolled": true
   },
   "outputs": [
    {
     "name": "stdout",
     "output_type": "stream",
     "text": [
      "['python one']\n"
     ]
    }
   ],
   "source": [
    "# ^: 문자열의 처음과 매치\n",
    "\n",
    "p = re.compile('^python\\s\\w+')\n",
    "\n",
    "data = '''python one\n",
    "life is too short\n",
    "python two\n",
    "you need python\n",
    "python three'''\n",
    "\n",
    "print(p.findall(data))"
   ]
  },
  {
   "cell_type": "code",
   "execution_count": 29,
   "id": "fd7beb37",
   "metadata": {},
   "outputs": [
    {
     "name": "stdout",
     "output_type": "stream",
     "text": [
      "['python three']\n"
     ]
    }
   ],
   "source": [
    "# $: 문자열의 끝과 매치\n",
    "\n",
    "p = re.compile('python\\s\\w+$') # 문자열 안의 $: 데이터 마지막 위치\n",
    "\n",
    "data = '''python one\n",
    "life is too short\n",
    "python two\n",
    "you need python\n",
    "python three'''\n",
    "\n",
    "print(p.findall(data))"
   ]
  },
  {
   "cell_type": "code",
   "execution_count": 30,
   "id": "1916c290",
   "metadata": {},
   "outputs": [
    {
     "name": "stdout",
     "output_type": "stream",
     "text": [
      "<re.Match object; span=(0, 4), match='Crow'>\n"
     ]
    }
   ],
   "source": [
    "# | or 와 동일한 의미\n",
    "p = re.compile('Crow|Servo')\n",
    "m = p.match('CrowHello')\n",
    "print(m)"
   ]
  },
  {
   "cell_type": "code",
   "execution_count": 31,
   "id": "25cabc3a",
   "metadata": {},
   "outputs": [
    {
     "name": "stdout",
     "output_type": "stream",
     "text": [
      "<re.Match object; span=(0, 8), match='\\\\section'>\n"
     ]
    },
    {
     "data": {
      "text/plain": [
       "['\\\\section', '\\\\section']"
      ]
     },
     "execution_count": 31,
     "metadata": {},
     "output_type": "execute_result"
    }
   ],
   "source": [
    "# Raw String 규칙\n",
    "\n",
    "p = re.compile(r'\\\\section')\n",
    "\n",
    "print(p.match('\\section'))\n",
    "p.findall('\\section\\section')"
   ]
  },
  {
   "cell_type": "code",
   "execution_count": 48,
   "id": "d3c162f5",
   "metadata": {},
   "outputs": [
    {
     "data": {
      "text/plain": [
       "'home'"
      ]
     },
     "execution_count": 48,
     "metadata": {},
     "output_type": "execute_result"
    }
   ],
   "source": [
    "# 연습문제 - 'we are going home'에서 home만 출력\n",
    "\n",
    "import re\n",
    "\n",
    "p=re.compile('home$')\n",
    "mo1 = p.search('we are going home')\n",
    "mo1.group()"
   ]
  },
  {
   "cell_type": "code",
   "execution_count": 49,
   "id": "d23da20f",
   "metadata": {},
   "outputs": [
    {
     "data": {
      "text/plain": [
       "'home'"
      ]
     },
     "execution_count": 49,
     "metadata": {},
     "output_type": "execute_result"
    }
   ],
   "source": [
    "# [과제] 'home sweet'에서 home만 출력\n",
    "\n",
    "import re\n",
    "\n",
    "p=re.compile('^home')\n",
    "mo2 = p.search('home sweet')\n",
    "mo2.group()"
   ]
  },
  {
   "cell_type": "code",
   "execution_count": 34,
   "id": "e400180b",
   "metadata": {},
   "outputs": [],
   "source": [
    "# [과제] '199305', '19234', 'a93247'에서 '199305'만 출력\n",
    "\n",
    "import re\n",
    "\n",
    "p=re.compile('')"
   ]
  },
  {
   "cell_type": "code",
   "execution_count": 3,
   "id": "56de8f82",
   "metadata": {
    "scrolled": true
   },
   "outputs": [
    {
     "name": "stdout",
     "output_type": "stream",
     "text": [
      "<re.Match object; span=(3, 9), match='ABCDEF'>\n",
      "ABCDEF\n",
      "ABCDEF\n",
      "AB\n",
      "CD\n",
      "EF\n"
     ]
    }
   ],
   "source": [
    "# 그룹핑: 매치된 문자열 중에서 특정 부분의 문자열만 뽑아내는 경우 ()을 만들어 줌\n",
    "# group(0): 매치된 전체 문자열 / group(1) 첫 번째 그룹 / group(2) 두 번째 그룹 … group(n) n 번째 그룹 출력\n",
    "\n",
    "p = re.compile('((AB)(CD)(EF))+')\n",
    "# p = re.compile('(AB(CD)EF)+')\n",
    "m = p.search('DEFABCDEFDEF OK?')\n",
    "\n",
    "print(m)\n",
    "print(m.group(0)) # 그룹과 상관 없이 전체 문자열 출력\n",
    "print(m.group(1)) # 첫 번째 그룹(첫 번째 괄호)\n",
    "print(m.group(2))\n",
    "print(m.group(3))\n",
    "print(m.group(4))"
   ]
  },
  {
   "cell_type": "code",
   "execution_count": 13,
   "id": "2dd0c77f",
   "metadata": {},
   "outputs": [
    {
     "name": "stdout",
     "output_type": "stream",
     "text": [
      "abcdefghi\n",
      "e\n"
     ]
    }
   ],
   "source": [
    "# [과제] 'abcdefghij'에 대하여 중첩을 적용한 서브그룹 5개로 컴파일하여 group() 함수로 'abcdefghi'와 'e'를 출력\n",
    "\n",
    "import re\n",
    "\n",
    "text = 'abcdefghij'\n",
    "\n",
    "# p=re.compile('((abc)(d(e)f)(ghi))')\n",
    "p = re.compile('a(b(c(d(e)f)g)h)i)j)')\n",
    "m = p.search(text)\n",
    "\n",
    "print(m.group(0))\n",
    "print(m.group(5))"
   ]
  },
  {
   "cell_type": "code",
   "execution_count": 10,
   "id": "3cf6e070",
   "metadata": {},
   "outputs": [
    {
     "name": "stdout",
     "output_type": "stream",
     "text": [
      "abcdefghi\n",
      "e\n"
     ]
    }
   ],
   "source": [
    "text = 'abcdefghij'\n",
    "p = re.compile('(\\w{4}(\\w)(\\w{2})(\\w{2}))(\\w)')\n",
    "a = p.search(text)\n",
    "print(a.group(1))\n",
    "print(a.group(2))"
   ]
  },
  {
   "cell_type": "code",
   "execution_count": null,
   "id": "13972883",
   "metadata": {},
   "outputs": [],
   "source": []
  },
  {
   "cell_type": "code",
   "execution_count": null,
   "id": "38c8b90b",
   "metadata": {},
   "outputs": [],
   "source": []
  },
  {
   "cell_type": "code",
   "execution_count": null,
   "id": "cde85a51",
   "metadata": {},
   "outputs": [],
   "source": []
  },
  {
   "cell_type": "code",
   "execution_count": null,
   "id": "68f402a6",
   "metadata": {},
   "outputs": [],
   "source": []
  }
 ],
 "metadata": {
  "kernelspec": {
   "display_name": "Python 3 (ipykernel)",
   "language": "python",
   "name": "python3"
  },
  "language_info": {
   "codemirror_mode": {
    "name": "ipython",
    "version": 3
   },
   "file_extension": ".py",
   "mimetype": "text/x-python",
   "name": "python",
   "nbconvert_exporter": "python",
   "pygments_lexer": "ipython3",
   "version": "3.8.12"
  }
 },
 "nbformat": 4,
 "nbformat_minor": 5
}
