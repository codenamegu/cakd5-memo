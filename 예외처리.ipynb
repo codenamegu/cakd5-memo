{
 "cells": [
  {
   "cell_type": "code",
   "execution_count": 1,
   "id": "8db31a70",
   "metadata": {},
   "outputs": [
    {
     "ename": "SyntaxError",
     "evalue": "EOL while scanning string literal (Temp/ipykernel_12032/4158865571.py, line 4)",
     "output_type": "error",
     "traceback": [
      "\u001b[1;36m  File \u001b[1;32m\"C:\\Users\\user\\AppData\\Local\\Temp/ipykernel_12032/4158865571.py\"\u001b[1;36m, line \u001b[1;32m4\u001b[0m\n\u001b[1;33m    print('구문 오류!)\u001b[0m\n\u001b[1;37m                  ^\u001b[0m\n\u001b[1;31mSyntaxError\u001b[0m\u001b[1;31m:\u001b[0m EOL while scanning string literal\n"
     ]
    }
   ],
   "source": [
    "# 구문 오류 : 프로그램 실행 전에 발생하는 오류\n",
    "# 예외 또는 런타임 오류 : 프로그램 실행 중에 발생하는 오류\n",
    "\n",
    "print('구문 오류!)"
   ]
  },
  {
   "cell_type": "code",
   "execution_count": 2,
   "id": "e1909a8f",
   "metadata": {},
   "outputs": [
    {
     "name": "stdout",
     "output_type": "stream",
     "text": [
      "정수 입력: r\n"
     ]
    },
    {
     "ename": "ValueError",
     "evalue": "invalid literal for int() with base 10: 'r'",
     "output_type": "error",
     "traceback": [
      "\u001b[1;31m---------------------------------------------------------------------------\u001b[0m",
      "\u001b[1;31mValueError\u001b[0m                                Traceback (most recent call last)",
      "\u001b[1;32m~\\AppData\\Local\\Temp/ipykernel_12032/442127669.py\u001b[0m in \u001b[0;36m<module>\u001b[1;34m\u001b[0m\n\u001b[0;32m      1\u001b[0m \u001b[1;31m# 정수를 입력하지 않은 경우 예외 발생\u001b[0m\u001b[1;33m\u001b[0m\u001b[1;33m\u001b[0m\u001b[1;33m\u001b[0m\u001b[0m\n\u001b[0;32m      2\u001b[0m \u001b[1;33m\u001b[0m\u001b[0m\n\u001b[1;32m----> 3\u001b[1;33m \u001b[0mnum_input\u001b[0m \u001b[1;33m=\u001b[0m \u001b[0mint\u001b[0m\u001b[1;33m(\u001b[0m\u001b[0minput\u001b[0m\u001b[1;33m(\u001b[0m\u001b[1;34m\"정수 입력: \"\u001b[0m\u001b[1;33m)\u001b[0m\u001b[1;33m)\u001b[0m\u001b[1;33m\u001b[0m\u001b[1;33m\u001b[0m\u001b[0m\n\u001b[0m\u001b[0;32m      4\u001b[0m \u001b[0mprint\u001b[0m\u001b[1;33m(\u001b[0m\u001b[1;34m'원의 반지름: '\u001b[0m\u001b[1;33m,\u001b[0m \u001b[0mnum_input\u001b[0m\u001b[1;33m)\u001b[0m\u001b[1;33m\u001b[0m\u001b[1;33m\u001b[0m\u001b[0m\n",
      "\u001b[1;31mValueError\u001b[0m: invalid literal for int() with base 10: 'r'"
     ]
    }
   ],
   "source": [
    "# 정수를 입력하지 않은 경우 예외 발생\n",
    "\n",
    "num_input = int(input(\"정수 입력: \"))\n",
    "print('원의 반지름: ', num_input)"
   ]
  },
  {
   "cell_type": "code",
   "execution_count": 3,
   "id": "7bb3bff5",
   "metadata": {},
   "outputs": [
    {
     "name": "stdout",
     "output_type": "stream",
     "text": [
      "정수 입력: r\n",
      "잘못 입력하셨습니다.\n"
     ]
    }
   ],
   "source": [
    "# 조건문으로 예외 처리\n",
    "\n",
    "num_input = input(\"정수 입력: \")\n",
    "if num_input.isdigit() == 1:\n",
    "    print(\"입력한 정수: \", num_input)\n",
    "else:\n",
    "    print(\"잘못 입력하셨습니다.\")"
   ]
  },
  {
   "cell_type": "code",
   "execution_count": 4,
   "id": "a18c267f",
   "metadata": {},
   "outputs": [
    {
     "name": "stdout",
     "output_type": "stream",
     "text": [
      "안녕하세요\n"
     ]
    },
    {
     "ename": "NameError",
     "evalue": "name 'param1' is not defined",
     "output_type": "error",
     "traceback": [
      "\u001b[1;31m---------------------------------------------------------------------------\u001b[0m",
      "\u001b[1;31mNameError\u001b[0m                                 Traceback (most recent call last)",
      "\u001b[1;32m~\\AppData\\Local\\Temp/ipykernel_12032/2855978258.py\u001b[0m in \u001b[0;36m<module>\u001b[1;34m\u001b[0m\n\u001b[0;32m      1\u001b[0m \u001b[1;31m# param = 1\u001b[0m\u001b[1;33m\u001b[0m\u001b[1;33m\u001b[0m\u001b[1;33m\u001b[0m\u001b[0m\n\u001b[0;32m      2\u001b[0m \u001b[0mprint\u001b[0m\u001b[1;33m(\u001b[0m\u001b[1;34m'안녕하세요'\u001b[0m\u001b[1;33m)\u001b[0m\u001b[1;33m\u001b[0m\u001b[1;33m\u001b[0m\u001b[0m\n\u001b[1;32m----> 3\u001b[1;33m \u001b[0mprint\u001b[0m\u001b[1;33m(\u001b[0m\u001b[0mparam1\u001b[0m\u001b[1;33m)\u001b[0m\u001b[1;33m\u001b[0m\u001b[1;33m\u001b[0m\u001b[0m\n\u001b[0m",
      "\u001b[1;31mNameError\u001b[0m: name 'param1' is not defined"
     ]
    }
   ],
   "source": [
    "# param = 1\n",
    "print('안녕하세요')\n",
    "print(param1)"
   ]
  },
  {
   "cell_type": "code",
   "execution_count": 5,
   "id": "00fbaccb",
   "metadata": {},
   "outputs": [
    {
     "name": "stdout",
     "output_type": "stream",
     "text": [
      "안녕하세요\n",
      "예외가 발생했습니다.\n"
     ]
    }
   ],
   "source": [
    "try:\n",
    "    print('안녕하세요')\n",
    "    print(param1)\n",
    "except:\n",
    "    print('예외가 발생했습니다.')"
   ]
  },
  {
   "cell_type": "code",
   "execution_count": 6,
   "id": "6a573cc6",
   "metadata": {},
   "outputs": [
    {
     "name": "stdout",
     "output_type": "stream",
     "text": [
      "안녕하세요\n",
      "예외가 발생했습니다.\n",
      "무조건 실행하는 코드\n"
     ]
    }
   ],
   "source": [
    "try:\n",
    "    print('안녕하세요')\n",
    "    print(param1)\n",
    "except:\n",
    "    print('예외가 발생했습니다.')\n",
    "finally:\n",
    "    print('무조건 실행하는 코드')"
   ]
  },
  {
   "cell_type": "code",
   "execution_count": 7,
   "id": "cc90439f",
   "metadata": {},
   "outputs": [
    {
     "name": "stdout",
     "output_type": "stream",
     "text": [
      "name 'param' is not defined\n"
     ]
    }
   ],
   "source": [
    "# 코드에서 예외 발생 내용을 확인하고자 하는 경우 처리 방법\n",
    "\n",
    "try:\n",
    "    print(param)\n",
    "except Exception as e:\n",
    "    print(e)"
   ]
  },
  {
   "cell_type": "code",
   "execution_count": 8,
   "id": "fb58a54c",
   "metadata": {},
   "outputs": [
    {
     "name": "stdout",
     "output_type": "stream",
     "text": [
      "1\n",
      "2\n",
      "3\n",
      "4\n",
      "5\n",
      "6\n",
      "7\n",
      "8\n",
      "사용자에 의해 프로그램이 중단되었습니다.\n"
     ]
    }
   ],
   "source": [
    "import time\n",
    "\n",
    "count=1\n",
    "try:\n",
    "    5\n",
    "    while 1:\n",
    "        print(count)\n",
    "        count+=1\n",
    "        time.sleep(0.5)\n",
    "except KeyboardInterrupt:\n",
    "    print('사용자에 의해 프로그램이 중단되었습니다.')"
   ]
  },
  {
   "cell_type": "code",
   "execution_count": 9,
   "id": "f13d817e",
   "metadata": {},
   "outputs": [
    {
     "name": "stdout",
     "output_type": "stream",
     "text": [
      "52 273 32 103 "
     ]
    }
   ],
   "source": [
    "# 연습문제 - 리스트 ['52', '273', '32', '문자', '103']에서 숫자 부분만 출력(예외처리 수행)\n",
    "\n",
    "lt = ['52', '273', '32', '문자', '103']\n",
    "\n",
    "for i in lt:\n",
    "    try:\n",
    "        print(int(i), end=' ')\n",
    "    except:\n",
    "        pass"
   ]
  },
  {
   "cell_type": "code",
   "execution_count": 10,
   "id": "8d7d1f6e",
   "metadata": {},
   "outputs": [
    {
     "name": "stdout",
     "output_type": "stream",
     "text": [
      "['52', '273', '32', '103']\n"
     ]
    }
   ],
   "source": [
    "list_input = ['52', '273', '32', '문자', '103']\n",
    "list_num = []\n",
    "\n",
    "for i in list_input:\n",
    "    try:\n",
    "        int(i)\n",
    "        list_num.append(i)\n",
    "    except:\n",
    "        pass\n",
    "    \n",
    "print(list_num)"
   ]
  },
  {
   "cell_type": "code",
   "execution_count": 11,
   "id": "373e5cf8",
   "metadata": {},
   "outputs": [
    {
     "name": "stdout",
     "output_type": "stream",
     "text": [
      "입력: e\n",
      "정수 아님\n"
     ]
    }
   ],
   "source": [
    "# 연습문제 - 정수를 입력하면 '정수', 정수가 아니면 '정수 아님' 출력\n",
    "\n",
    "try:\n",
    "    num = int(input(\"입력: \"))\n",
    "    print(\"정수\")\n",
    "except:\n",
    "    print(\"정수 아님\")"
   ]
  },
  {
   "cell_type": "code",
   "execution_count": 12,
   "id": "fa9c4a7b",
   "metadata": {},
   "outputs": [
    {
     "name": "stdout",
     "output_type": "stream",
     "text": [
      "입력: r\n",
      "입력 값 >  r\n",
      "정수 아님\n",
      "프로그램 종료\n"
     ]
    }
   ],
   "source": [
    "# 정수를 입력하면 '입력 정수' > '예외 발생하지 않음' > '프로그램 종료'\n",
    "# 정수가 아니면 '입력 값' > '정수 아님' > '프로그램 종료' 순서대로 출력\n",
    "\n",
    "try:\n",
    "    value = input(\"입력: \")\n",
    "    value = int(value)\n",
    "except:\n",
    "    print('입력 값 > ', value)\n",
    "    print(\"정수 아님\")\n",
    "else:\n",
    "    print('입력 정수 > ', value)\n",
    "    print(\"예외 발생하지 않음\")\n",
    "finally:\n",
    "    print(\"프로그램 종료\")"
   ]
  },
  {
   "cell_type": "code",
   "execution_count": 13,
   "id": "3919f866",
   "metadata": {},
   "outputs": [
    {
     "name": "stdout",
     "output_type": "stream",
     "text": [
      "프로그램이 시작되었습니다.\n",
      "try 구문이 시작되었습니다.\n",
      "프로그램이 종료되었습니다.\n"
     ]
    }
   ],
   "source": [
    "print('프로그램이 시작되었습니다.')\n",
    "while 1:\n",
    "    try:\n",
    "        print('try 구문이 시작되었습니다.')\n",
    "        break\n",
    "    except:\n",
    "        print('except 구문이 실행되었습니다.')\n",
    "        \n",
    "    print('finally 구문이 실행되었습니다.')\n",
    "    print('while 반복문의 마지막 줄입니다.')\n",
    "print('프로그램이 종료되었습니다.')"
   ]
  },
  {
   "cell_type": "code",
   "execution_count": 14,
   "id": "8758ca4a",
   "metadata": {},
   "outputs": [
    {
     "name": "stdout",
     "output_type": "stream",
     "text": [
      "프로그램이 시작되었습니다.\n",
      "try 구문이 시작되었습니다.\n",
      "except 구문이 실행되었습니다.\n",
      "finally 구문이 실행되었습니다.\n",
      "프로그램이 종료되었습니다.\n"
     ]
    }
   ],
   "source": [
    "# 위 코드에서 try ~ except ~ filnally를 사용하여 아래와 같이 출력\n",
    "# 프로그램이 시작되었습니다.\n",
    "# try 구문이 시작되었습니다.\n",
    "# except 구문이 실행되었습니다.\n",
    "# finally 구문이 실행되었습니다.\n",
    "# 프로그램이 종료되었습니다.\n",
    "\n",
    "print('프로그램이 시작되었습니다.')\n",
    "while 1:\n",
    "    try:\n",
    "        print('try 구문이 시작되었습니다.')\n",
    "        print(program)\n",
    "        break\n",
    "    except:\n",
    "        print('except 구문이 실행되었습니다.')\n",
    "        break\n",
    "    finally:    \n",
    "        print('finally 구문이 실행되었습니다.')\n",
    "    print('while 반복문의 마지막 줄입니다.')\n",
    "print('프로그램이 종료되었습니다.')"
   ]
  },
  {
   "cell_type": "code",
   "execution_count": 15,
   "id": "e45cae2f",
   "metadata": {},
   "outputs": [
    {
     "name": "stdout",
     "output_type": "stream",
     "text": [
      "정수 입력 > r\n",
      "입력값:  r   <class 'str'>\n"
     ]
    }
   ],
   "source": [
    "# [과제] 숫자 대신 문자를 입력 시 예외가 발생되는데 아래 코드를 수정하여 예외 객체의 자료형과 예외 객체 자체를 출력\n",
    "\n",
    "# num_input = int(input('정수 입력 > '))\n",
    "\n",
    "# print('원의 반지름: ', num_input)\n",
    "# print('원의 둘레: ', 2*3.14*num_input)\n",
    "\n",
    "\n",
    "try:\n",
    "    value = input('정수 입력 > ')\n",
    "    value = int(value)\n",
    "except ValueError:\n",
    "    print('입력값: ', value, ' ', type(value))\n",
    "else:\n",
    "    print('원의 반지름: ', value)\n",
    "    print('원의 둘레: ', 2*3.14*value)\n",
    "    print('원의 넓이: ', 3.14*value*value)"
   ]
  },
  {
   "cell_type": "code",
   "execution_count": 32,
   "id": "def74ddf",
   "metadata": {},
   "outputs": [
    {
     "name": "stdout",
     "output_type": "stream",
     "text": [
      "현재 리스트 =  [52, 273, 32, 72, 100]\n",
      "\n",
      "정수 입력 > 0\n",
      "1 이상의 수를 입력해주세요.\n",
      "\n",
      "모든 예외처리 완료, 프로그램을 종료합니다.\n"
     ]
    }
   ],
   "source": [
    "# [과제] 아래 코드를 보완하여 발생 가능한 모든 예외(정수, 인덱스, 미리 파악하지 못한 예외)를 처리한 후\n",
    "# 마지막에 '모든 예외처리 완료'를 출력\n",
    "\n",
    "# list_num = [52, 273, 32, 72, 100]\n",
    "\n",
    "# num_input = int(input('정수 입력 > '))\n",
    "# print('{}번째 요소 > {}'.format(num_input, list_num[num_input-1]))\n",
    "\n",
    "list_num = [52, 273, 32, 72, 100]\n",
    "\n",
    "print('현재 리스트 = ', list_num)\n",
    "print()\n",
    "\n",
    "try:\n",
    "    num_input = int(input('정수 입력 > ')) # ValueError\n",
    "    if(num_input<=0):\n",
    "        raise Exception\n",
    "except ValueError:\n",
    "    print(\"정수를 입력해주세요.\")\n",
    "except IndexError:\n",
    "    print(\"리스트의 크기가 {}보다 작습니다.\".format(num_input))\n",
    "except Exception:\n",
    "    print(\"1 이상의 수를 입력해주세요.\")\n",
    "else:\n",
    "    print('{}번째 요소 > {}'.format(num_input, list_num[num_input-1])) # IndexError\n",
    "finally:\n",
    "    print(\"\\n모든 예외처리 완료, 프로그램을 종료합니다.\")"
   ]
  },
  {
   "cell_type": "code",
   "execution_count": 4,
   "id": "bc52a228",
   "metadata": {},
   "outputs": [
    {
     "name": "stdout",
     "output_type": "stream",
     "text": [
      "회원 카드 발급을 위한 기본 정보 입력 프로그랩니다.\n",
      "\n",
      "\n",
      "▶성함을 입력해주세요: 홍길동\n",
      "\n",
      "▶생년월일을 입력해주세요[6자]: 111111\n",
      "\n",
      "▶주소를 입력해주세요: 서울\n",
      "\n",
      "\u001b[91m●입력한 정보를 확인합니다.\n",
      "================================\n",
      "\t 성함 \t 홍길동\n",
      "\t 생년 \t 111111\n",
      "\t 주소 \t 서울\n",
      "================================\n",
      "\u001b[0m\n",
      "\n",
      "수정해야 할 정보가 있으십니까? [y/n] > y\n",
      "정보를 처음부터 다시 입력합니다.\n",
      "\n",
      "▶성함을 입력해주세요: 홍길동\n",
      "\n",
      "▶생년월일을 입력해주세요[6자]: 123456\n",
      "\n",
      "▶주소를 입력해주세요: 서울\n",
      "\n",
      "\u001b[91m●입력한 정보를 확인합니다.\n",
      "================================\n",
      "\t 성함 \t 홍길동\n",
      "\t 생년 \t 123456\n",
      "\t 주소 \t 서울\n",
      "================================\n",
      "\u001b[0m\n",
      "\n",
      "수정해야 할 정보가 있으십니까? [y/n] > n\n",
      "사용자 등록이 완료되었습니다. 수고하셨습니다.\n"
     ]
    }
   ],
   "source": [
    "# [도전과제] 자유 주제로 프로그래밍을 수행 / 예외처리 3건 이상\n",
    " \n",
    "print(\"회원 카드 발급을 위한 기본 정보 입력 프로그랩니다.\")\n",
    "print()\n",
    "\n",
    "on = 1\n",
    "ID = [['성함', '-'], ['생년', '-'], ['주소', '-']]\n",
    "\n",
    "try:    \n",
    "    while on == 1 :\n",
    "        while 1:\n",
    "            try:\n",
    "                print()\n",
    "                name=input(\"▶성함을 입력해주세요: \")\n",
    "                if(len(name)>10 or len(name)<2):\n",
    "                    raise Exception\n",
    "                elif(name.isalpha()!=True):\n",
    "                    raise ValueError\n",
    "                else:\n",
    "                    ID[0][1]=name\n",
    "                    break\n",
    "            except ValueError:\n",
    "                print(\"한글 또는 영문을 입력해주세요.\")\n",
    "            except:\n",
    "                print(\"정보를 다시 입력합니다.\")\n",
    "\n",
    "        while 1:\n",
    "            try:\n",
    "                print()\n",
    "                birthday=input(\"▶생년월일을 입력해주세요[6자]: \")\n",
    "                tmp=int(birthday)\n",
    "                if(len(birthday)!=6):\n",
    "                    raise Exception\n",
    "            except ValueError:\n",
    "                print(\"숫자를 입력해주세요.\")\n",
    "            except Exception:\n",
    "                print(\"정보를 다시 입력합니다.\")\n",
    "            else:\n",
    "                ID[1][1]=birthday\n",
    "                break\n",
    "\n",
    "        while 1:\n",
    "            try:\n",
    "                print()\n",
    "                address=input(\"▶주소를 입력해주세요: \")\n",
    "                if(address.isdigit()==True):\n",
    "                    raise Exception\n",
    "            except Exception:\n",
    "                print(\"정보를 다시 입력합니다.\")\n",
    "            else:\n",
    "                ID[2][1]=address\n",
    "                break\n",
    "\n",
    "        print()\n",
    "        print(\"\\033[91m●입력한 정보를 확인합니다.\")\n",
    "        print('='*32)\n",
    "        for i in range(len(ID)):\n",
    "            print('\\t', ID[i][0], '\\t', ID[i][1])\n",
    "        print('='*32)\n",
    "        print(\"\\033[0m\\n\") \n",
    "\n",
    "        while 1:\n",
    "            choice = input(\"수정해야 할 정보가 있으십니까? [y/n] > \")\n",
    "            if(choice == 'y'):\n",
    "                print(\"정보를 처음부터 다시 입력합니다.\")\n",
    "                break\n",
    "            elif(choice == 'n'):\n",
    "                print(\"사용자 등록이 완료되었습니다. 수고하셨습니다.\")\n",
    "                on = 0\n",
    "                break\n",
    "            else:\n",
    "                print(\"[y] 또는 [n]를 입력해주세요.\")\n",
    "                continue   \n",
    "                \n",
    "except KeyboardInterrupt:\n",
    "        print(\"프로그램을 강제 종료합니다.\")"
   ]
  },
  {
   "cell_type": "code",
   "execution_count": null,
   "id": "a63f5022",
   "metadata": {},
   "outputs": [],
   "source": []
  }
 ],
 "metadata": {
  "kernelspec": {
   "display_name": "Python 3 (ipykernel)",
   "language": "python",
   "name": "python3"
  },
  "language_info": {
   "codemirror_mode": {
    "name": "ipython",
    "version": 3
   },
   "file_extension": ".py",
   "mimetype": "text/x-python",
   "name": "python",
   "nbconvert_exporter": "python",
   "pygments_lexer": "ipython3",
   "version": "3.8.12"
  }
 },
 "nbformat": 4,
 "nbformat_minor": 5
}
