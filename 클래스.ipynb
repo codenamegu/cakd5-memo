{
 "cells": [
  {
   "cell_type": "markdown",
   "id": "b9b68349",
   "metadata": {},
   "source": [
    "## 클래스\n",
    "클래스(class)란 똑같은 무엇인가를 계속해서 만들어 낼 수 있는 설계 도면이고(과자 틀), 객체(object)란 클래스로 만든 피조물(과자 틀을 사용해 만든 과자)을 뜻한다.\n",
    "과자 틀 → 클래스 (class)\n",
    "과자 틀에 의해서 만들어진 과자 → 객체 (object)\n",
    "\n",
    "- **class:** 함수 + 변수 모아놓은 것\n",
    "- **오브젝트(object):** 클래스를 써서 만든 것\n",
    "- ***오브젝트(object) == 인스턴스(instance)***\n",
    "- 클래스를 정의한 후, 그 클래스를 사용해서 데이터 객체(인스턴스)를 만들 수 있다.\n",
    "- 동일한 클래스에 의해 만들어진 각 객체들은 유사한 특징을 공유한다.\n",
    "- 모든 인스턴스에서 메소드(=코드)는 동일하지만, 속성(데이터)는 다르다.\n",
    " - **메소드:** 코드\n",
    " - **속성:** 데이터\n",
    " - **인스턴스:** 클래스에 의해 만들어진 데이터 객체\n",
    "\n",
    "***a = 클래스() 이렇게 만든 a는 객체이다. 그리고 a 객체는 클래스의 인스턴스이다. 즉 인스턴스라는 말은 특정 객체(a)가 어떤 클래스의 객체인지를 관계 위주로 설명할 때 사용***\n"
   ]
  },
  {
   "cell_type": "code",
   "execution_count": null,
   "id": "7c5fbbfb",
   "metadata": {},
   "outputs": [],
   "source": [
    "# [과제] 클래스의 정의 및 사용하는 방법 서술 "
   ]
  },
  {
   "cell_type": "code",
   "execution_count": 6,
   "id": "0f492d70",
   "metadata": {},
   "outputs": [
    {
     "name": "stdout",
     "output_type": "stream",
     "text": [
      "예지우\n",
      "24\n",
      "security\n"
     ]
    }
   ],
   "source": [
    "# 클래스 생성자(인자가 있는 경우)\n",
    "\n",
    "class Cakd:\n",
    "    def __init__(self, name, age, major):\n",
    "        self.name=name\n",
    "        self.age=age\n",
    "        self.major=major\n",
    "#         print(f'{self.name}은/는 {self.age}세이며 {self.major}을/를 전공했습니다.')\n",
    "    \n",
    "yjw=Cakd('예지우', 24, 'security')\n",
    "print(yjw.name)\n",
    "print(yjw.age)\n",
    "print(yjw.major)"
   ]
  },
  {
   "cell_type": "code",
   "execution_count": 11,
   "id": "6b795e98",
   "metadata": {},
   "outputs": [],
   "source": [
    "# 클래스 소멸자\n",
    "# 클래스 인스턴스 객체가 메모리에서 제거될 때 자동으로 호출되는 클래스 메소드 \n",
    "\n",
    "class Cakd:\n",
    "    def __del__(self):\n",
    "        print('Cakd 인스턴스 객체가 메모리에서 제거됩니다.')\n",
    "        \n",
    "obj=Cakd()\n",
    "# del obj"
   ]
  },
  {
   "cell_type": "markdown",
   "id": "7d29e791",
   "metadata": {},
   "source": [
    "## 클래스 멤버, 클래스 메소드\n",
    "- 클래스를 구성하는 주요 요소는 클래스 멤버(변수)와 클래스 매소드(함수)로 클래서 공간 내에서 정의\n",
    "- 클래스 멤버는 클래스 메소드 내에서 정의되는 지역변수나 인스턴스 멤버와는 다르다\n",
    "- 클래스 메소드는 첫 번째 인자가 반드시 self로 시작\n",
    "- self는 이 클래스의 인스턴스 객체를 가리키는 함수\n",
    "- 인스턴스 객체에서 클래스 메소드를 호출 시 첫 번째 인자인  self를 생략"
   ]
  },
  {
   "cell_type": "code",
   "execution_count": 16,
   "id": "cf2a5998",
   "metadata": {},
   "outputs": [
    {
     "name": "stdout",
     "output_type": "stream",
     "text": [
      "안녕하세요\n",
      "안녕하세요\n"
     ]
    }
   ],
   "source": [
    "class MyClass:\n",
    "    var = '안녕하세요' # 클래스 멤버/클래스 변수\n",
    "    def sayHello(self): # 클래스 메소드 \n",
    "        return self.var\n",
    "    \n",
    "obj = MyClass()\n",
    "print(obj.var)\n",
    "print(obj.sayHello())"
   ]
  },
  {
   "cell_type": "code",
   "execution_count": 19,
   "id": "1c458837",
   "metadata": {},
   "outputs": [
    {
     "name": "stdout",
     "output_type": "stream",
     "text": [
      "안녕하세요\n",
      "안녕\n",
      "안녕하세요\n"
     ]
    }
   ],
   "source": [
    "# 클래스 멤버와 인스턴스 멤버\n",
    "# 클래스 멤버는 클래스 메소드 바깥에서 선언되고 인스턴스 멤버는 클래스 메소드 안에서 self와 함께 선언\n",
    "\n",
    "class MyClass:\n",
    "    var = '안녕하세요' # 클래스 멤버 \n",
    "    def sayHello(self): # 클래스 메소드\n",
    "        param1 = '안녕' # 지역변수\n",
    "        self.param2 = '하이' # 인스턴스 멤버\n",
    "        print(param1)\n",
    "        print(self.var)\n",
    "        \n",
    "obj = MyClass()\n",
    "print(obj.var)\n",
    "obj.sayHello()"
   ]
  },
  {
   "cell_type": "code",
   "execution_count": 20,
   "id": "657df1d0",
   "metadata": {},
   "outputs": [
    {
     "name": "stdout",
     "output_type": "stream",
     "text": [
      "안녕하세요\n",
      "kevin! 다음에 보자\n"
     ]
    }
   ],
   "source": [
    "# 클래스 메소드\n",
    "# 클래스내에서 정의되는 클래스 메소드는 첫 번재 인자가 반드시 self여야 한다.\n",
    "\n",
    "class MyClass:\n",
    "    def sayHello(self):\n",
    "        print('안녕하세요')\n",
    "    def sayBye(self, name):\n",
    "        print(f'{name}! 다음에 보자')\n",
    "        \n",
    "obj = MyClass()\n",
    "obj.sayHello()\n",
    "obj.sayBye('kevin')"
   ]
  },
  {
   "cell_type": "markdown",
   "id": "dbc3cc4c",
   "metadata": {},
   "source": [
    "## 객체 지향 프로그래밍(Object-Oriented Programming)\n",
    "- 클래스 인스턴스는 객체(Object)라고도 하며 이렇게 클래스를 정의하고 객체를 만드는 패턴을 객체 지향 프로그래밍이라고 함\n",
    "- 인스턴스를 불러온다는 것은 클래스를 가져와 객체로 바꿔준다는 것인데 type() 함수를 사용하는 것은 그 반대\n",
    "- 객체의 type을 확인해 보면 해당 객체가 어떤 클래스의 인스턴스인지를 확인\n",
    "- 파이썬에서 main은 '현재 실행중인 파일'을 의미"
   ]
  },
  {
   "cell_type": "code",
   "execution_count": 21,
   "id": "22825213",
   "metadata": {},
   "outputs": [
    {
     "name": "stdout",
     "output_type": "stream",
     "text": [
      "<class '__main__.Test'>\n"
     ]
    }
   ],
   "source": [
    "# 임의의 클래스를 작성한 후 인스턴스를 생성하고 그것의 타입 확인\n",
    "\n",
    "class Test:\n",
    "    pass\n",
    "\n",
    "test = Test()\n",
    "print(type(test))"
   ]
  },
  {
   "cell_type": "markdown",
   "id": "61f5808c",
   "metadata": {},
   "source": [
    "## 클래스 상속\n",
    "- 어떤 클래스가 가지고 있는 모든 멤버나 메소드를 상속받는 클래스가 모두 사용할 수 있도록 해주는 것 \n",
    "- 상속을 해주는 클래스가 부모클래스(슈퍼), 상속을 받는 클래스가 자식클래스(서브)라 함.\n",
    "- 자식 클래스는 여러 부모클래스로 부터 상속받을 수 있으며, 다중상속이라고 함. class 자식클래스명(부모클래스1, 부모클래스2...)"
   ]
  },
  {
   "cell_type": "code",
   "execution_count": 27,
   "id": "54d37b2e",
   "metadata": {},
   "outputs": [
    {
     "name": "stdout",
     "output_type": "stream",
     "text": [
      "3\n",
      "6\n",
      "2\n"
     ]
    }
   ],
   "source": [
    "class Sum:\n",
    "    def sum(self, n1, n2):\n",
    "        return n1 + n2\n",
    "    \n",
    "class Mul:\n",
    "    def mul(self, n1, n2):\n",
    "        return n1 * n2\n",
    "    \n",
    "class Cal(Sum, Mul):\n",
    "    def sub(self, n1, n2):\n",
    "        return n1 - n2\n",
    "    \n",
    "obj = Cal()\n",
    "print(obj.sum(1, 2))\n",
    "print(obj.mul(3, 2))\n",
    "print(obj.sub(5, 3))"
   ]
  },
  {
   "cell_type": "code",
   "execution_count": 32,
   "id": "02037527",
   "metadata": {},
   "outputs": [
    {
     "name": "stdout",
     "output_type": "stream",
     "text": [
      "지우, 안녕하세요.\n",
      "지우, 다음에 보자!\n"
     ]
    }
   ],
   "source": [
    "# 연습문제 - 크래스 MyClass를 작성하고 객체를 생성하여 아래와 같이 출력\n",
    "# Kevin, 안녕하세요\n",
    "# Kevin, 다음에 보자\n",
    "\n",
    "class MyClass():\n",
    "    def __init__(self, name): # 생성자\n",
    "        self.name=name\n",
    "        \n",
    "    def sayHello(self):\n",
    "        print(f'{self.name}, 안녕하세요.')\n",
    "    def sayBye(self):\n",
    "        print(f'{self.name}, 다음에 보자!')\n",
    "        \n",
    "obj=MyClass('지우')\n",
    "obj.sayHello()\n",
    "obj.sayBye()"
   ]
  },
  {
   "cell_type": "code",
   "execution_count": 5,
   "id": "1289f997",
   "metadata": {},
   "outputs": [
    {
     "name": "stdout",
     "output_type": "stream",
     "text": [
      "추가 가격을 입력해주세요: 500\n",
      "총 1500원 입니다.\n",
      "총 2500원 입니다.\n"
     ]
    }
   ],
   "source": [
    "# [과제] 사용자 함수를 작성하여 기본가격 1000에 입력 받은 값을 추가한 가격 산출(지역변수, 전역변수 두 가지 방법)\n",
    "\n",
    "base_=2000\n",
    "\n",
    "class Price():\n",
    "    # 지역변수\n",
    "    def addCart(price, money):\n",
    "        base=1000 # 함수 안에서 선언한 변수\n",
    "        total=base+money\n",
    "        print(f'총 {total}원 입니다.')\n",
    "    # 전역변수\n",
    "    def addCart_(price, money):\n",
    "        global base_ # 클래스 밖에서 선언한 변수\n",
    "        total=base_+money\n",
    "        print(f'총 {total}원 입니다.')\n",
    "        \n",
    "obj = Price()\n",
    "p = int(input(\"추가 가격을 입력해주세요: \"))\n",
    "obj.addCart(p)\n",
    "obj.addCart_(p)"
   ]
  },
  {
   "cell_type": "code",
   "execution_count": 15,
   "id": "75c23782",
   "metadata": {},
   "outputs": [
    {
     "name": "stdout",
     "output_type": "stream",
     "text": [
      "첫 번째 숫자 입력: 0\n",
      "두 번째 숫자 입력: 0\n",
      "0이 아닌 수를 입력해주세요.\n",
      "\n",
      "첫 번째 숫자 입력: 0\n",
      "두 번째 숫자 입력: 0\n",
      "0이 아닌 수를 입력해주세요.\n",
      "\n",
      "첫 번째 숫자 입력: 100\n",
      "두 번째 숫자 입력: 10\n",
      "\n",
      "100 + 10 = 110\n",
      "100 - 10 = 90\n",
      "100 * 10 = 1000\n",
      "100 / 10 = 10.0\n"
     ]
    }
   ],
   "source": [
    "# [과제] 사칙연산 기능을 포함한 Cal 클래스(생성자 이용) 작성\n",
    "# 이 클래스를 이용하여 Cal 계산기 객체를 만든 후 적절한 수를 적용하여 사칙연산 수행결과 출력\n",
    "\n",
    "class Cal():\n",
    "    def __init__(cal, x, y):\n",
    "        cal.x=x\n",
    "        cal.y=y\n",
    "        \n",
    "    def getSum(cal):\n",
    "        print(f'{cal.x} + {cal.y} = {cal.x+cal.y}')\n",
    "    def getSub(cal):\n",
    "        print(f'{cal.x} - {cal.y} = {cal.x-cal.y}')\n",
    "    def getMul(cal):\n",
    "        print(f'{cal.x} * {cal.y} = {cal.x*cal.y}')\n",
    "    def getDiv(cal):\n",
    "        print(f'{cal.x} / {cal.y} = {cal.x/cal.y}')\n",
    "            \n",
    "    def getAll(cal):\n",
    "        cal.getSum()\n",
    "        cal.getSub()\n",
    "        cal.getMul()\n",
    "        cal.getDiv()       \n",
    "\n",
    "while 1:\n",
    "    try:         \n",
    "        x=int(input(\"첫 번째 숫자 입력: \"))\n",
    "        y=int(input(\"두 번째 숫자 입력: \"))\n",
    "        if x==0 or y==0:\n",
    "            print(\"0이 아닌 수를 입력해주세요.\")\n",
    "            print()\n",
    "            continue\n",
    "    except ValueError:\n",
    "        print(\"숫자를 입력해주세요.\")\n",
    "        print()\n",
    "    else:\n",
    "        print()\n",
    "        cal=Cal(x, y)\n",
    "        cal.getAll()\n",
    "        break"
   ]
  },
  {
   "cell_type": "code",
   "execution_count": 16,
   "id": "5e0a45b3",
   "metadata": {},
   "outputs": [
    {
     "name": "stdout",
     "output_type": "stream",
     "text": [
      "NUMBER_OF_PROCESSORS=12\n"
     ]
    }
   ],
   "source": [
    "# [과제] 관심 주제에 대하여 100 ~ 200라인 정도의 프로그램을 구조지향적으로 작성 후\n",
    "# 클래스를 이용한 객체지향 프로그램으로 수정(필요시 상속 이용)\n",
    "\n"
   ]
  },
  {
   "cell_type": "code",
   "execution_count": 17,
   "id": "4c81d06b",
   "metadata": {},
   "outputs": [
    {
     "name": "stdout",
     "output_type": "stream",
     "text": [
      "2000\n",
      "3000\n",
      "4000\n"
     ]
    }
   ],
   "source": [
    "# 연습문제 - 기본가격 1000원인 3개의 상품에 대하여 임의의 추가 가격을 인수로 대입시 더한 가격을 산출(클래스 이용)\n",
    "\n",
    "class Order:\n",
    "    def __init__(self):\n",
    "        self.base = 1000\n",
    "    \n",
    "    def order(self, price):\n",
    "        self.base += price\n",
    "        return self.base\n",
    "        \n",
    "        \n",
    "    \n",
    "pd1 = Order()\n",
    "pd2 = Order()\n",
    "pd3 = Order()\n",
    "\n",
    "print(pd1.order(1000))\n",
    "print(pd2.order(2000))\n",
    "print(pd3.order(3000))"
   ]
  },
  {
   "cell_type": "code",
   "execution_count": 25,
   "id": "59a6e853",
   "metadata": {},
   "outputs": [
    {
     "name": "stdout",
     "output_type": "stream",
     "text": [
      "2000\n",
      "1800\n"
     ]
    }
   ],
   "source": [
    "# 연습문제 - 기본가격 1000원인 2개의 상품에 대하여 임의의 추가 가격을 입력 시 아래 두 개의 방식으로 산출(클래스 이용)\n",
    "# price1 : 기본가격 + 추가가격\n",
    "# price2 : (기본가격 + 추가가격) * 90%\n",
    "\n",
    "class Order:\n",
    "    def __init__(self):\n",
    "        self.base = 1000\n",
    "    \n",
    "    def order(self, price):\n",
    "        self.base += price\n",
    "        return self.base\n",
    "    def dis10(self, price):\n",
    "        self.base += price\n",
    "        return round(self.base*0.9)\n",
    "    \n",
    "pd1 = Order()\n",
    "pd2 = Order()\n",
    "\n",
    "print(pd1.order(1000))\n",
    "print(pd2.dis10(1000))"
   ]
  },
  {
   "cell_type": "code",
   "execution_count": 113,
   "id": "1ad3305b",
   "metadata": {},
   "outputs": [
    {
     "name": "stdout",
     "output_type": "stream",
     "text": [
      "안녕하세요, Jake 님.\n",
      "==============================\n",
      "병원 진료\t\t :: 4시\n",
      "업무 미팅\t\t :: 2시\n",
      "친구약속\t\t :: 5시\n"
     ]
    }
   ],
   "source": [
    "# [과제] 업무미팅이 2시임을 알려주는 자동 이메일 클래스 AutoEmail을 작성하여 아래와 같이 출력\n",
    "# 안녕하세요, Kevin 님. 업무미팅은 2시입니다.\n",
    "\n",
    "class AutoEmail:\n",
    "    def __init__(self, name):\n",
    "        self.name=name\n",
    "        self.work_name=[]\n",
    "        self.time=[]\n",
    "    \n",
    "    def setTime(self, work_name, time):\n",
    "        self.work_name.append(work_name)\n",
    "        self.time.append(time)\n",
    "    def getTime(self):\n",
    "        print(f'안녕하세요, {self.name} 님.')\n",
    "        print('='*30)\n",
    "        for i in range(len(self.work_name)):\n",
    "            print(f'{self.work_name[i]}\\t\\t :: {self.time[i]}시')\n",
    "\n",
    "alarm = AutoEmail('Jake')\n",
    "\n",
    "alarm.setTime('업무 미팅', 2)\n",
    "alarm.setTime('병원 진료', 4)\n",
    "alarm.setTime('친구약속', 5)\n",
    "\n",
    "alarm.getTime()"
   ]
  },
  {
   "cell_type": "code",
   "execution_count": 145,
   "id": "df8db68d",
   "metadata": {},
   "outputs": [
    {
     "name": "stdout",
     "output_type": "stream",
     "text": [
      "안녕하세요, Jake 님.\n",
      "==============================\n",
      "   업무 미팅   \t\t2시\n",
      "   병원   \t\t4시\n",
      "   친구 약속   \t\t5시\n"
     ]
    }
   ],
   "source": [
    "# [과제] 업무미팅이 2시임을 알려주는 자동 이메일 클래스 AutoEmail을 작성하여 아래와 같이 출력\n",
    "# 안녕하세요, Kevin 님. 업무미팅은 2시입니다.\n",
    "\n",
    "def getValue(dic):\n",
    "    lt = list(dic.values())\n",
    "    return lt\n",
    "\n",
    "class AutoEmail:\n",
    "    work=[]\n",
    "    def __init__(self, name):\n",
    "        self.name=name\n",
    "    \n",
    "    def setTime(self, work_name, time):\n",
    "        data={'name':work_name, 'time':time}\n",
    "        self.work.append(data)\n",
    "        self.work = sorted(self.work, key=lambda x:x['time'])\n",
    "    def getTime(self):\n",
    "        print(f'안녕하세요, {self.name} 님.')\n",
    "        print('='*30)\n",
    "        for i in range(len(self.work)):\n",
    "            data=getValue(self.work[i])\n",
    "            print(f'   {data[0]}   \\t\\t{data[1]}시')\n",
    "\n",
    "alarm = AutoEmail('Jake')\n",
    "\n",
    "alarm.setTime('병원', 4)\n",
    "alarm.setTime('업무 미팅', 2)\n",
    "alarm.setTime('친구 약속', 5)\n",
    "\n",
    "alarm.getTime()"
   ]
  },
  {
   "cell_type": "code",
   "execution_count": 74,
   "id": "da03be72",
   "metadata": {},
   "outputs": [
    {
     "name": "stdout",
     "output_type": "stream",
     "text": [
      "1000\n",
      "1000원\n"
     ]
    }
   ],
   "source": [
    "# 오버라이딩\n",
    "# Order 클래스를 상속받아 extraOrder 클래스에서 메소드 오버라이딩하여 출력가격에 원이 추가되도록 출력\n",
    "\n",
    "class Order:\n",
    "    def __init__(self, name):\n",
    "        self.customer = 0\n",
    "        self.name = name\n",
    "    def order(self, price):\n",
    "        self.customer += price\n",
    "        return self.customer\n",
    "    \n",
    "class ExtraOrder(Order):\n",
    "    def order(self, price):\n",
    "        self.customer += price\n",
    "        return str(self.customer)+'원'\n",
    "    \n",
    "order = Order('Kevin')\n",
    "print(order.order(1000))\n",
    "\n",
    "extraCustomer = ExtraOrder('Kevin')\n",
    "print(extraCustomer.order(1000))"
   ]
  },
  {
   "cell_type": "code",
   "execution_count": 84,
   "id": "cf3bc12e",
   "metadata": {},
   "outputs": [
    {
     "data": {
      "text/plain": [
       "2"
      ]
     },
     "execution_count": 84,
     "metadata": {},
     "output_type": "execute_result"
    }
   ],
   "source": [
    "# 인터프리터에서 마지막 실행결과 값을 가지는 변수로 사용\n",
    "1+1\n",
    "_"
   ]
  },
  {
   "cell_type": "code",
   "execution_count": 85,
   "id": "e38da083",
   "metadata": {},
   "outputs": [
    {
     "name": "stdout",
     "output_type": "stream",
     "text": [
      "hello world!\n",
      "hello world!\n",
      "hello world!\n",
      "hello world!\n",
      "hello world!\n",
      "\n",
      "0\n",
      "1\n",
      "2\n",
      "\n",
      "1 2\n"
     ]
    }
   ],
   "source": [
    "# 변수 값을 굳이 사용할 필요가 없는 경우\n",
    "\n",
    "for _ in range(5):\n",
    "    print('hello world!')\n",
    "print()\n",
    "for _ in range(3):\n",
    "    print(_)\n",
    "print()\n",
    "def values():\n",
    "    return (1, 2, 3, 4) # 튜플을 반환\n",
    "\n",
    "a, b, _, _ = values() # 반환된 튜플 값 중 2개만 필요\n",
    "print(a, b)"
   ]
  },
  {
   "cell_type": "code",
   "execution_count": 92,
   "id": "fb38dead",
   "metadata": {},
   "outputs": [
    {
     "name": "stdout",
     "output_type": "stream",
     "text": [
      "<class '__main__.Order'>\n"
     ]
    }
   ],
   "source": [
    "# 예약어를 변수명으로 사용할 수 없는 경우\n",
    "\n",
    "class Order:\n",
    "    def __init__(self):\n",
    "        self.coffee = 'Americano'\n",
    "        self.price = 3000\n",
    "        \n",
    "def printClassName(class_): # 예약어 class 사용을 피하기 위해 _ 추가\n",
    "    print(class_)\n",
    "        \n",
    "order = Order()\n",
    "printClassName(order.__class__)"
   ]
  },
  {
   "cell_type": "markdown",
   "id": "da96410f",
   "metadata": {},
   "source": [
    "언더스코어 관련 참조 자료 > https://ebbnflow.tistory.com/255"
   ]
  },
  {
   "cell_type": "code",
   "execution_count": 93,
   "id": "1bd24892",
   "metadata": {},
   "outputs": [
    {
     "name": "stdout",
     "output_type": "stream",
     "text": [
      "abc\n"
     ]
    }
   ],
   "source": [
    "# 클래스 변수 : 인스턴스 변수와 달리 모든 인스턴스 사이에 공유된 값을 가진 변수\n",
    "\n",
    "class MyClass:\n",
    "    value = 'abc' # 클래스 변수를 선언\n",
    "    \n",
    "if __name__ == \"__main__\":\n",
    "    print(MyClass.value)"
   ]
  },
  {
   "cell_type": "code",
   "execution_count": 97,
   "id": "2fc88ea4",
   "metadata": {},
   "outputs": [
    {
     "name": "stdout",
     "output_type": "stream",
     "text": [
      "1\n",
      "2\n",
      "3\n"
     ]
    }
   ],
   "source": [
    "# 인스턴스를 생성할 때마다 클래스 변수 value를 +1\n",
    "class MyClass:\n",
    "    value = 0\n",
    "    def __init__(self):\n",
    "        MyClass.value += 1\n",
    "        \n",
    "if __name__ == '__main__':\n",
    "    a = MyClass() # 인스턴스 a 생성\n",
    "    print(MyClass.value)\n",
    "    b = MyClass() # 인스턴스 b 생성\n",
    "    print(MyClass.value)\n",
    "    c = MyClass() # 인스턴스 c 생성\n",
    "    print(MyClass.value)"
   ]
  },
  {
   "cell_type": "code",
   "execution_count": 111,
   "id": "5d6a7ca9",
   "metadata": {},
   "outputs": [
    {
     "name": "stdout",
     "output_type": "stream",
     "text": [
      "1 honux\n",
      "2 crong\n"
     ]
    }
   ],
   "source": [
    "# 인스턴스 변수\n",
    "class User:\n",
    "    num_users = 0 # 클래스 변수\n",
    "    def __init__(self, name):\n",
    "        self.name = name # 인스턴스 변수\n",
    "        User.num_users += 1\n",
    "        \n",
    "u = User('honux')\n",
    "print(User.num_users, u.name)\n",
    "\n",
    "u2 = User('crong')\n",
    "print(User.num_users, u2.name)"
   ]
  },
  {
   "cell_type": "code",
   "execution_count": 99,
   "id": "8df196bf",
   "metadata": {},
   "outputs": [
    {
     "name": "stdout",
     "output_type": "stream",
     "text": [
      "I am a Rockstar!\n"
     ]
    }
   ],
   "source": [
    "# 메소드 : 클래스 안에서 정의된 함수, 첫번째 인수를 항상 self로 지정\n",
    "\n",
    "class Musician:\n",
    "    title = 'Rockstar'\n",
    "    def explanation(self):\n",
    "        print(f'I am a {self.title}!')\n",
    "        \n",
    "drummer = Musician()\n",
    "drummer.explanation()"
   ]
  },
  {
   "cell_type": "code",
   "execution_count": 106,
   "id": "b592b48d",
   "metadata": {},
   "outputs": [
    {
     "name": "stdout",
     "output_type": "stream",
     "text": [
      "113.04\n",
      "1017.36\n"
     ]
    }
   ],
   "source": [
    "# 다른 인수가 있는 메소드\n",
    "\n",
    "class Circle():\n",
    "    pi = 3.14\n",
    "    def area(self, radius):\n",
    "        return self.pi*radius**2\n",
    "\n",
    "circle = Circle()\n",
    "pizza_area = circle.area(6)\n",
    "table_area = circle.area(18)\n",
    "print(pizza_area)\n",
    "print(table_area)"
   ]
  },
  {
   "cell_type": "code",
   "execution_count": 112,
   "id": "43b77f10",
   "metadata": {},
   "outputs": [
    {
     "name": "stdout",
     "output_type": "stream",
     "text": [
      "Hello?!\n"
     ]
    }
   ],
   "source": [
    "# 생성자(Constructor)\n",
    "# 클래스를 호출할 때 자동으로 어떤 함수를 실행하거나 값을 호출하고 싶은 경우, __init__을 사용\n",
    "# Shouter라는 클래스를 객체로 불러올 때마다 \"Hello?!\"라는 문자열을 출력\n",
    "\n",
    "class Shouter:\n",
    "    def __init__(self):\n",
    "        print(\"Hello?!\")\n",
    "\n",
    "shout = Shouter()"
   ]
  }
 ],
 "metadata": {
  "kernelspec": {
   "display_name": "Python 3 (ipykernel)",
   "language": "python",
   "name": "python3"
  },
  "language_info": {
   "codemirror_mode": {
    "name": "ipython",
    "version": 3
   },
   "file_extension": ".py",
   "mimetype": "text/x-python",
   "name": "python",
   "nbconvert_exporter": "python",
   "pygments_lexer": "ipython3",
   "version": "3.8.12"
  }
 },
 "nbformat": 4,
 "nbformat_minor": 5
}
