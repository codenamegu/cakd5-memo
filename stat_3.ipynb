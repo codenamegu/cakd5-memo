{
 "cells": [
  {
   "cell_type": "markdown",
   "id": "2ecba9a7",
   "metadata": {},
   "source": [
    "#### 이산형 확률분포"
   ]
  },
  {
   "cell_type": "code",
   "execution_count": 122,
   "id": "6ba40e13",
   "metadata": {},
   "outputs": [],
   "source": [
    "import numpy as np\n",
    "import matplotlib.pyplot as plt\n",
    "\n",
    "x_set = np.array([1, 2, 3, 4, 5, 6])\n",
    "\n",
    "def f(x):\n",
    "    if x in x_set:\n",
    "        return x / 21\n",
    "    else:\n",
    "        return 0 \n",
    "X = [x_set, f]"
   ]
  },
  {
   "cell_type": "code",
   "execution_count": 123,
   "id": "120ce44e",
   "metadata": {},
   "outputs": [
    {
     "name": "stdout",
     "output_type": "stream",
     "text": [
      "[0.04761905 0.0952381  0.14285714 0.19047619 0.23809524 0.28571429] \n",
      "\n"
     ]
    },
    {
     "data": {
      "text/plain": [
       "{1: 0.047619047619047616,\n",
       " 2: 0.09523809523809523,\n",
       " 3: 0.14285714285714285,\n",
       " 4: 0.19047619047619047,\n",
       " 5: 0.23809523809523808,\n",
       " 6: 0.2857142857142857}"
      ]
     },
     "execution_count": 123,
     "metadata": {},
     "output_type": "execute_result"
    }
   ],
   "source": [
    "prob = np.array([f(x_k) for x_k in x_set]) # 전체 확률...\n",
    "print(prob, '\\n')\n",
    "dict(zip(x_set, prob))"
   ]
  },
  {
   "cell_type": "code",
   "execution_count": 124,
   "id": "e037d106",
   "metadata": {},
   "outputs": [
    {
     "data": {
      "image/png": "[encoded data removed]",
      "text/plain": [
       "<Figure size 432x288 with 1 Axes>"
      ]
     },
     "metadata": {
      "needs_background": "light"
     },
     "output_type": "display_data"
    }
   ],
   "source": [
    "import seaborn as sns\n",
    "import warnings\n",
    "warnings.filterwarnings('ignore')\n",
    "\n",
    "fig = plt.figure(figsize=(6,4))\n",
    "ax=fig.add_subplot(111)\n",
    "ax.bar(x_set, prob)\n",
    "ax.set_xlabel('value')\n",
    "ax.set_ylabel('probability')\n",
    "\n",
    "plt.show()"
   ]
  },
  {
   "cell_type": "code",
   "execution_count": 125,
   "id": "14334ae7",
   "metadata": {},
   "outputs": [
    {
     "data": {
      "image/png": "[encoded data removed]",
      "text/plain": [
       "<Figure size 504x360 with 1 Axes>"
      ]
     },
     "metadata": {
      "needs_background": "light"
     },
     "output_type": "display_data"
    }
   ],
   "source": [
    "plt.figure(figsize=(7,5))\n",
    "plt.bar(x_set, prob, color= 'cornflowerblue')\n",
    "plt.xlabel('X')\n",
    "plt.ylabel('Probability')\n",
    "plt.show()"
   ]
  },
  {
   "cell_type": "code",
   "execution_count": 126,
   "id": "7e33fa90",
   "metadata": {},
   "outputs": [
    {
     "data": {
      "image/png": "[encoded data removed]",
      "text/plain": [
       "<Figure size 432x288 with 1 Axes>"
      ]
     },
     "metadata": {
      "needs_background": "light"
     },
     "output_type": "display_data"
    }
   ],
   "source": [
    "sns.barplot(x_set, prob)\n",
    "plt.xlabel('X')\n",
    "plt.ylabel('Probability')\n",
    "plt.show()"
   ]
  },
  {
   "cell_type": "code",
   "execution_count": 127,
   "id": "f6464566",
   "metadata": {},
   "outputs": [
    {
     "data": {
      "text/plain": [
       "True"
      ]
     },
     "execution_count": 127,
     "metadata": {},
     "output_type": "execute_result"
    }
   ],
   "source": [
    "np.all(prob>=0) # 실제 확률(당연히 양수임)"
   ]
  },
  {
   "cell_type": "code",
   "execution_count": 128,
   "id": "16ca12af",
   "metadata": {},
   "outputs": [
    {
     "data": {
      "text/plain": [
       "0.9999999999999999"
      ]
     },
     "execution_count": 128,
     "metadata": {},
     "output_type": "execute_result"
    }
   ],
   "source": [
    "np.sum(prob)\n",
    "# 확률의 총합은 1이 될 수밖에 없다!"
   ]
  },
  {
   "cell_type": "code",
   "execution_count": 129,
   "id": "01bfb908",
   "metadata": {},
   "outputs": [],
   "source": [
    "# 누적분포함수\n",
    "\n",
    "def F(x):\n",
    "    return np.sum([f(x_k) for x_k in x_set if x_k<=x]) \n",
    "# n번째것까지 일단 더한값... 줌.(끝에는 1이 됨 당연함)"
   ]
  },
  {
   "cell_type": "code",
   "execution_count": 130,
   "id": "906f9b1d",
   "metadata": {},
   "outputs": [
    {
     "data": {
      "text/plain": [
       "0.9999999999999999"
      ]
     },
     "execution_count": 130,
     "metadata": {},
     "output_type": "execute_result"
    }
   ],
   "source": [
    "F(6)"
   ]
  },
  {
   "cell_type": "code",
   "execution_count": 131,
   "id": "3a58ad7a",
   "metadata": {},
   "outputs": [
    {
     "data": {
      "text/plain": [
       "{5: 0.047619047619047616,\n",
       " 7: 0.09523809523809523,\n",
       " 9: 0.14285714285714285,\n",
       " 11: 0.19047619047619047,\n",
       " 13: 0.23809523809523808,\n",
       " 15: 0.2857142857142857}"
      ]
     },
     "execution_count": 131,
     "metadata": {},
     "output_type": "execute_result"
    }
   ],
   "source": [
    "# 확률변수의 변환: 확률변수 X에 2를 곱하고 3을 더한 것 2x +3도 확률변수가 된다(차피 전부??? 계산될거니까??)\n",
    "\n",
    "y_set = np.array([2 * x_k + 3 for x_k in x_set])\n",
    "prob = np.array([f(x_k) for x_k in x_set])\n",
    "dict(zip(y_set, prob))"
   ]
  },
  {
   "cell_type": "code",
   "execution_count": 132,
   "id": "b339e336",
   "metadata": {},
   "outputs": [
    {
     "data": {
      "text/plain": [
       "4.333333333333333"
      ]
     },
     "execution_count": 132,
     "metadata": {},
     "output_type": "execute_result"
    }
   ],
   "source": [
    "# 1차원 이산형 확률변수의 지표\n",
    "# 평균: 확률변수의 평균은 확률변수의 중심을 나타내는 지표가 되어 기댓값이라고도 부른다.\n",
    "\n",
    "np.sum([x_k * f(x_k) for x_k in x_set]) # 확률*누적확률의 합 < 이거왜구하는거?"
   ]
  },
  {
   "cell_type": "code",
   "execution_count": 133,
   "id": "dc307218",
   "metadata": {},
   "outputs": [
    {
     "data": {
      "text/plain": [
       "4.333224"
      ]
     },
     "execution_count": 133,
     "metadata": {},
     "output_type": "execute_result"
    }
   ],
   "source": [
    "# 획률변수의 기댓값은 확률변수를 무제한 시행하여 얻은 실현값의 평균\n",
    "# 나온 값의 평균값이 그렇다는건가? 별걸다구해\n",
    "\n",
    "sample = np.random.choice(x_set, int(1e6), p=prob)\n",
    "np.mean(sample)"
   ]
  },
  {
   "cell_type": "code",
   "execution_count": 134,
   "id": "b507a9f0",
   "metadata": {},
   "outputs": [],
   "source": [
    "# 일반화\n",
    "\n",
    "def E(X, g=lambda x:x):\n",
    "    x_set, f=X\n",
    "    return np.sum([g(x_k)*f(x_k) for x_k in x_set])"
   ]
  },
  {
   "cell_type": "code",
   "execution_count": 135,
   "id": "2844caca",
   "metadata": {},
   "outputs": [
    {
     "data": {
      "text/plain": [
       "4.333333333333333"
      ]
     },
     "execution_count": 135,
     "metadata": {},
     "output_type": "execute_result"
    }
   ],
   "source": [
    "E(X)"
   ]
  },
  {
   "cell_type": "code",
   "execution_count": 136,
   "id": "bd2cf718",
   "metadata": {},
   "outputs": [
    {
     "data": {
      "text/plain": [
       "11.666666666666664"
      ]
     },
     "execution_count": 136,
     "metadata": {},
     "output_type": "execute_result"
    }
   ],
   "source": [
    "E(X, g=lambda x:2*x+3)"
   ]
  },
  {
   "cell_type": "code",
   "execution_count": 137,
   "id": "a52737d7",
   "metadata": {},
   "outputs": [
    {
     "data": {
      "text/plain": [
       "11.666666666666666"
      ]
     },
     "execution_count": 137,
     "metadata": {},
     "output_type": "execute_result"
    }
   ],
   "source": [
    "# 기댓값의 선형성\n",
    "2*E(X)+3\n",
    "#동일한 값을 가지게 됨"
   ]
  },
  {
   "cell_type": "code",
   "execution_count": 138,
   "id": "763c9f98",
   "metadata": {},
   "outputs": [
    {
     "data": {
      "text/plain": [
       "2.2222222222222223"
      ]
     },
     "execution_count": 138,
     "metadata": {},
     "output_type": "execute_result"
    }
   ],
   "source": [
    "# 분산\n",
    "\n",
    "mean = E(X)\n",
    "np.sum([(x_k-mean)**2 *f(x_k) for x_k in x_set])\n",
    "# 편차 제곱에 누적확률값 곱함?"
   ]
  },
  {
   "cell_type": "code",
   "execution_count": 139,
   "id": "e45cebfc",
   "metadata": {},
   "outputs": [],
   "source": [
    "# 일반화\n",
    "\n",
    "def V(X, g=lambda x:x):\n",
    "    x_set, f = X\n",
    "    mean = E(X, g)\n",
    "    return np.sum([(g(i)-mean)**2*f(i) for i in x_set])"
   ]
  },
  {
   "cell_type": "code",
   "execution_count": 140,
   "id": "5109d9ca",
   "metadata": {},
   "outputs": [
    {
     "data": {
      "text/plain": [
       "2.2222222222222223"
      ]
     },
     "execution_count": 140,
     "metadata": {},
     "output_type": "execute_result"
    }
   ],
   "source": [
    "V(X)"
   ]
  },
  {
   "cell_type": "code",
   "execution_count": 141,
   "id": "2b3d3e04",
   "metadata": {},
   "outputs": [
    {
     "data": {
      "text/plain": [
       "8.88888888888889"
      ]
     },
     "execution_count": 141,
     "metadata": {},
     "output_type": "execute_result"
    }
   ],
   "source": [
    "V(X, lambda x:2*x+3)"
   ]
  },
  {
   "cell_type": "code",
   "execution_count": 142,
   "id": "88020f7c",
   "metadata": {},
   "outputs": [
    {
     "data": {
      "text/plain": [
       "8.88888888888889"
      ]
     },
     "execution_count": 142,
     "metadata": {},
     "output_type": "execute_result"
    }
   ],
   "source": [
    "# 분산의 공식\n",
    "\n",
    "2**2*V(X)"
   ]
  },
  {
   "cell_type": "code",
   "execution_count": 151,
   "id": "e353ab17",
   "metadata": {},
   "outputs": [],
   "source": [
    "# 2차원 이산형 확률분포\n",
    "\n",
    "x_set = np.arange(2, 13)\n",
    "y_set = np.arange(1, 7)"
   ]
  },
  {
   "cell_type": "code",
   "execution_count": 152,
   "id": "76bd6bea",
   "metadata": {},
   "outputs": [],
   "source": [
    "def f_XY(x,y):\n",
    "    if 1 <= y <= 6 and 1 <= x-y <= 6:\n",
    "        return y * (x-y) / 441\n",
    "    else:\n",
    "        return 0"
   ]
  },
  {
   "cell_type": "code",
   "execution_count": 153,
   "id": "7279a08f",
   "metadata": {},
   "outputs": [],
   "source": [
    "XY = [x_set, y_set, f_XY]"
   ]
  },
  {
   "cell_type": "code",
   "execution_count": 154,
   "id": "3e9095db",
   "metadata": {},
   "outputs": [
    {
     "data": {
      "text/plain": [
       "<matplotlib.colorbar.Colorbar at 0x1b0270d37f0>"
      ]
     },
     "execution_count": 154,
     "metadata": {},
     "output_type": "execute_result"
    },
    {
     "data": {
      "image/png": "[encoded data removed]",
      "text/plain": [
       "<Figure size 720x576 with 2 Axes>"
      ]
     },
     "metadata": {
      "needs_background": "light"
     },
     "output_type": "display_data"
    }
   ],
   "source": [
    "prob = np.array([[f_XY(x_i,y_j) for y_j in y_set] for x_i in x_set])\n",
    "fig = plt.figure(figsize=(10,8))\n",
    "ax = fig.add_subplot(111)\n",
    "\n",
    "c = ax.pcolor(prob)\n",
    "ax.set_xticks(np.arange(prob.shape[1]) + 0.5, minor=False)\n",
    "ax.set_yticks(np.arange(prob.shape[0]) + 0.5, minor=False)\n",
    "ax.set_xticklabels(np.arange(1,7),minor=False)\n",
    "ax.set_yticklabels(np.arange(2,13),minor=False)\n",
    "# Y축을 내림차순의 숫자가 되게 하여 위아래를 역전시킨다.\n",
    "ax.invert_yaxis()\n",
    "# X축 눈금을 그래프 위쪽에 표시\n",
    "ax.xaxis.tick_top()\n",
    "fig.colorbar(c,ax=ax)     "
   ]
  },
  {
   "cell_type": "code",
   "execution_count": 155,
   "id": "78e8f612",
   "metadata": {},
   "outputs": [
    {
     "data": {
      "text/plain": [
       "True"
      ]
     },
     "execution_count": 155,
     "metadata": {},
     "output_type": "execute_result"
    }
   ],
   "source": [
    "np.all(prob>=0)"
   ]
  },
  {
   "cell_type": "code",
   "execution_count": 156,
   "id": "5652c9b3",
   "metadata": {},
   "outputs": [
    {
     "data": {
      "text/plain": [
       "1.0"
      ]
     },
     "execution_count": 156,
     "metadata": {},
     "output_type": "execute_result"
    }
   ],
   "source": [
    "np.sum(prob)"
   ]
  },
  {
   "cell_type": "code",
   "execution_count": 28,
   "id": "c1e09441",
   "metadata": {},
   "outputs": [],
   "source": [
    "# 주변확률분포: 확률변수 (X, Y)는 결합확률분포에 의해 동시에 정의되지만 개별 확률변수에만 흥미가 있을 수 있다.\n",
    "# 확률변수 X만의 움직임, 즉 확률변수 X의 확률변수를 알고 싶은 상황"
   ]
  },
  {
   "cell_type": "code",
   "execution_count": 157,
   "id": "cf62ccc1",
   "metadata": {},
   "outputs": [],
   "source": [
    "def f_X(x):\n",
    "    return np.sum([f_XY(x, y_k) for y_k in y_set])"
   ]
  },
  {
   "cell_type": "code",
   "execution_count": 158,
   "id": "0831f298",
   "metadata": {},
   "outputs": [],
   "source": [
    "def f_Y(y):\n",
    "    return np.sum([f_XY(x_k, y) for x_k in x_set])"
   ]
  },
  {
   "cell_type": "code",
   "execution_count": 159,
   "id": "3e1e17d6",
   "metadata": {},
   "outputs": [],
   "source": [
    "X = [x_set, f_X]\n",
    "Y = [y_set, f_Y]"
   ]
  },
  {
   "cell_type": "code",
   "execution_count": 162,
   "id": "98b0b959",
   "metadata": {},
   "outputs": [
    {
     "name": "stdout",
     "output_type": "stream",
     "text": [
      "[array([ 2,  3,  4,  5,  6,  7,  8,  9, 10, 11, 12]), <function f_X at 0x000001B028A8CE50>]\n",
      "[array([1, 2, 3, 4, 5, 6]), <function f_Y at 0x000001B028A8C790>]\n"
     ]
    }
   ],
   "source": [
    "print(X)\n",
    "print(Y)"
   ]
  },
  {
   "cell_type": "code",
   "execution_count": 165,
   "id": "5a02160c",
   "metadata": {},
   "outputs": [
    {
     "data": {
      "image/png": "[encoded data removed]",
      "text/plain": [
       "<Figure size 864x288 with 2 Axes>"
      ]
     },
     "metadata": {
      "needs_background": "light"
     },
     "output_type": "display_data"
    }
   ],
   "source": [
    "prob_x = np.array([f_X(x_k) for x_k in x_set])\n",
    "prob_y = np.array([f_Y(y_k) for y_k in y_set])\n",
    "\n",
    "fig = plt.figure(figsize=(12, 4))\n",
    "ax1 = fig.add_subplot(121)\n",
    "ax2 = fig.add_subplot(122)\n",
    "\n",
    "ax1.bar(x_set, prob_x)\n",
    "ax1.set_title('X_marginal probability distribution')\n",
    "ax1.set_xlabel('X_value')\n",
    "ax1.set_ylabel('probability')\n",
    "# ax1.set_xticks(x_set)\n",
    "\n",
    "ax2.bar(y_set, prob_y)\n",
    "ax2.set_title('Y_marginal probability distribution')\n",
    "ax2.set_xlabel('Y_value')\n",
    "ax2.set_ylabel('probability')\n",
    "# ax2.set_xticks(y_set)\n",
    "\n",
    "plt.show()"
   ]
  },
  {
   "cell_type": "code",
   "execution_count": 166,
   "id": "4395f71a",
   "metadata": {},
   "outputs": [
    {
     "data": {
      "text/plain": [
       "8.666666666666666"
      ]
     },
     "execution_count": 166,
     "metadata": {},
     "output_type": "execute_result"
    }
   ],
   "source": [
    "# 2차원 이산형 확률분표의 지표\n",
    "# 기댓값\n",
    "np.sum([x_i * f_XY(x_i, y_j) for x_i in x_set\n",
    "        for y_j in y_set])"
   ]
  },
  {
   "cell_type": "code",
   "execution_count": 167,
   "id": "04aca78d",
   "metadata": {},
   "outputs": [
    {
     "name": "stdout",
     "output_type": "stream",
     "text": [
      "8.666666666666666\n"
     ]
    }
   ],
   "source": [
    "# 다중 for문\n",
    "\n",
    "sum=0\n",
    "for y_j in y_set:\n",
    "    for x_i in x_set:\n",
    "        sum += x_i * f_XY(x_i, y_j)\n",
    "print(sum)"
   ]
  },
  {
   "cell_type": "code",
   "execution_count": 168,
   "id": "25b1d96f",
   "metadata": {},
   "outputs": [],
   "source": [
    "def E(XY, g):\n",
    "    x_set, y_set, f_XY = XY\n",
    "    return np.sum([g(x_i, y_j) * f_XY(x_i, y_j) for x_i in x_set\n",
    "                   for y_j in y_set])"
   ]
  },
  {
   "cell_type": "code",
   "execution_count": 169,
   "id": "15b7a4aa",
   "metadata": {},
   "outputs": [
    {
     "data": {
      "text/plain": [
       "8.666666666666666"
      ]
     },
     "execution_count": 169,
     "metadata": {},
     "output_type": "execute_result"
    }
   ],
   "source": [
    "mean_X = E(XY, lambda x, y: x)\n",
    "mean_X"
   ]
  },
  {
   "cell_type": "code",
   "execution_count": 170,
   "id": "ba08ee8c",
   "metadata": {},
   "outputs": [
    {
     "data": {
      "text/plain": [
       "4.333333333333333"
      ]
     },
     "execution_count": 170,
     "metadata": {},
     "output_type": "execute_result"
    }
   ],
   "source": [
    "mean_Y = E(XY, lambda x, y: y)\n",
    "mean_Y"
   ]
  },
  {
   "cell_type": "code",
   "execution_count": 171,
   "id": "66438e3d",
   "metadata": {},
   "outputs": [],
   "source": [
    "a, b = 2, 3"
   ]
  },
  {
   "cell_type": "code",
   "execution_count": 172,
   "id": "1d5cb044",
   "metadata": {},
   "outputs": [
    {
     "data": {
      "text/plain": [
       "30.333333333333332"
      ]
     },
     "execution_count": 172,
     "metadata": {},
     "output_type": "execute_result"
    }
   ],
   "source": [
    "# 기대값의 선형성\n",
    "\n",
    "E(XY, lambda x, y: a*x+b*y)"
   ]
  },
  {
   "cell_type": "code",
   "execution_count": 173,
   "id": "be5df607",
   "metadata": {},
   "outputs": [
    {
     "data": {
      "text/plain": [
       "4.444444444444444"
      ]
     },
     "execution_count": 173,
     "metadata": {},
     "output_type": "execute_result"
    }
   ],
   "source": [
    "# 분산: X의 분산이라면 X에 관하여 편차 제고븨 기댓값으로 구할 수 있다.\n",
    "\n",
    "np.sum([(x_i-mean_X)**2 * f_XY(x_i, y_j) for x_i in x_set\n",
    "       for y_j in y_set])"
   ]
  },
  {
   "cell_type": "code",
   "execution_count": 178,
   "id": "0068ef07",
   "metadata": {},
   "outputs": [],
   "source": [
    "# 분산의 함수\n",
    "\n",
    "def V(XY, g):\n",
    "    x_set, y_set, f_XY = XY\n",
    "    mean=E(XY, g)\n",
    "    return np.sum([(g(x_i, y_j)-mean)**2 * f_XY(x_i, y_j) for x_i in x_set\n",
    "                 for y_j in y_set])"
   ]
  },
  {
   "cell_type": "code",
   "execution_count": 179,
   "id": "4b56146c",
   "metadata": {},
   "outputs": [
    {
     "data": {
      "text/plain": [
       "4.444444444444444"
      ]
     },
     "execution_count": 179,
     "metadata": {},
     "output_type": "execute_result"
    }
   ],
   "source": [
    "var_X = V(XY,lambda x, y: x)\n",
    "var_X"
   ]
  },
  {
   "cell_type": "code",
   "execution_count": 181,
   "id": "3d7e9639",
   "metadata": {},
   "outputs": [
    {
     "data": {
      "text/plain": [
       "2.2222222222222223"
      ]
     },
     "execution_count": 181,
     "metadata": {},
     "output_type": "execute_result"
    }
   ],
   "source": [
    "var_Y = V(XY, lambda x, y: y)\n",
    "var_Y"
   ]
  },
  {
   "cell_type": "code",
   "execution_count": 182,
   "id": "f1531806",
   "metadata": {},
   "outputs": [],
   "source": [
    "# 공분산\n",
    "\n",
    "def Cov(XY):\n",
    "    x_set, y_set, f_XY = XY\n",
    "    mean_X = E(XY, lambda x, y: x)\n",
    "    mean_Y = E(XY, lambda x, y: y)\n",
    "    return np.sum([(x_i-mean_X)*(y_j-mean_Y)*f_XY(x_i, y_j)\n",
    "                  for x_i in x_set for y_j in y_set])"
   ]
  },
  {
   "cell_type": "code",
   "execution_count": 183,
   "id": "d5cc839c",
   "metadata": {},
   "outputs": [
    {
     "data": {
      "text/plain": [
       "2.222222222222222"
      ]
     },
     "execution_count": 183,
     "metadata": {},
     "output_type": "execute_result"
    }
   ],
   "source": [
    "cov_xy = Cov(XY)\n",
    "cov_xy"
   ]
  },
  {
   "cell_type": "code",
   "execution_count": 184,
   "id": "4dfb59c1",
   "metadata": {},
   "outputs": [
    {
     "data": {
      "text/plain": [
       "64.44444444444444"
      ]
     },
     "execution_count": 184,
     "metadata": {},
     "output_type": "execute_result"
    }
   ],
   "source": [
    "V(XY, lambda x, y: a*x+b*y)"
   ]
  },
  {
   "cell_type": "code",
   "execution_count": 185,
   "id": "fb6cfb94",
   "metadata": {},
   "outputs": [
    {
     "data": {
      "text/plain": [
       "64.44444444444443"
      ]
     },
     "execution_count": 185,
     "metadata": {},
     "output_type": "execute_result"
    }
   ],
   "source": [
    "# 분산과 공분산의 공식\n",
    "\n",
    "a**2 * var_X + b**2 * var_Y + 2*a*b * cov_xy"
   ]
  },
  {
   "cell_type": "code",
   "execution_count": 186,
   "id": "8a39781d",
   "metadata": {},
   "outputs": [
    {
     "data": {
      "text/plain": [
       "0.7071067811865474"
      ]
     },
     "execution_count": 186,
     "metadata": {},
     "output_type": "execute_result"
    }
   ],
   "source": [
    "# 확률변수의 상관계수: 공분산을 각각의 표준편차로 나누어 산출\n",
    "cov_xy/np.sqrt(var_X*var_Y)"
   ]
  },
  {
   "cell_type": "markdown",
   "id": "0d5a9141",
   "metadata": {},
   "source": [
    "#### 대표적인 이산형 확률분포"
   ]
  },
  {
   "cell_type": "code",
   "execution_count": 197,
   "id": "6f48e531",
   "metadata": {
    "scrolled": true
   },
   "outputs": [],
   "source": [
    "# 그래프를 위한 사용자 함수\n",
    "import numpy as np\n",
    "import matplotlib.pyplot as plt\n",
    "from scipy import stats\n",
    "\n",
    "linstyles = ['-', '--', ':']\n",
    "\n",
    "def E(X, g=lambda x: x):\n",
    "    x_set, f = X\n",
    "    return np.sum([g(x_k)*f(x_k) for x_k in x_set])\n",
    "\n",
    "def V(X, g=lambda x: x):\n",
    "    x_set, f = X\n",
    "    mean = E(X, g)\n",
    "    return np.sum([(g(x_k)-mean)**2 * f(x_k) for x_k in x_set])\n",
    "\n",
    "\n",
    "def check_prob(X): # 확률분포를 인수로 가지면 기댓값과 분산 계열 결과를 반환\n",
    "    x_set, f = X\n",
    "    prob=np.array([f(x_k) for x_k in x_set])\n",
    "    assert np.all(prob>=0), 'minus probability'\n",
    "    prob_sum = np.round(np.sum(prob), 6)\n",
    "    assert prob_sum==1, f'sum of probability {prob_sum}'\n",
    "    print(f'expected value {E(X): 0.4}')\n",
    "    print(f'variance {V(X): 0.4}')\n",
    "# arssert: 원하는 조건의 변수 값을 보증받을 때까지 테스트\n",
    "    \n",
    "def plot_prob(X): # 확률분포를 인수로 가지며 그 확률변수의 확률함수와 기댓값을 그리기 위한 함수\n",
    "    x_set, f = X\n",
    "    prob = np.array([f(x_k) for x_k in x_set])\n",
    "    fig = plt.figure(figsize=(6, 4))\n",
    "    ax = fig.add_subplot(111)\n",
    "    ax.bar(x_set, prob, label='prob', color='pink')\n",
    "    ax.vlines(E(X), 0, 1, label='mean', color='crimson')\n",
    "    ax.set_xticks(np.append(x_set, E(X)))\n",
    "    ax.set_ylim(0, prob.max()*1.2)\n",
    "    ax.legend()"
   ]
  },
  {
   "cell_type": "markdown",
   "id": "0a418333",
   "metadata": {},
   "source": [
    "#### 베르누이 분포\n",
    "- 가장 기본적인 이산형 확률분포로 확률변수가 취할 수 있는 값이 0과 1밖에 없는 분포\n",
    "- 베르누이 분포를 따르는 확률변수의 시행을 베르누이 시행이라 하며 1이 나오면 성공, 0이 나오면 실패\n",
    "- 동전을 던져 앞면이 나올 확률, 주사위를 한 번 굴려 6이 나오지 않을 확률"
   ]
  },
  {
   "cell_type": "code",
   "execution_count": 187,
   "id": "ae53d7be",
   "metadata": {},
   "outputs": [],
   "source": [
    "def Bern(p):\n",
    "    x_set = np.array([0, 1])\n",
    "    def f(x):\n",
    "        if x in x_set:\n",
    "            return p**x * (1-p)**(1-x)\n",
    "        else:\n",
    "            return 0\n",
    "    return x_set, f"
   ]
  },
  {
   "cell_type": "code",
   "execution_count": 188,
   "id": "6a244d7d",
   "metadata": {},
   "outputs": [],
   "source": [
    "p=0.3\n",
    "X=Bern(p)"
   ]
  },
  {
   "cell_type": "code",
   "execution_count": 192,
   "id": "4bd3ec6b",
   "metadata": {
    "scrolled": true
   },
   "outputs": [
    {
     "name": "stdout",
     "output_type": "stream",
     "text": [
      "expected value  0.3\n",
      "variance  0.21\n"
     ]
    }
   ],
   "source": [
    "check_prob(X)"
   ]
  },
  {
   "cell_type": "code",
   "execution_count": 198,
   "id": "c9a716ed",
   "metadata": {},
   "outputs": [
    {
     "data": {
      "image/png": "[encoded data removed]",
      "text/plain": [
       "<Figure size 432x288 with 1 Axes>"
      ]
     },
     "metadata": {
      "needs_background": "light"
     },
     "output_type": "display_data"
    }
   ],
   "source": [
    "plot_prob(X)"
   ]
  },
  {
   "cell_type": "code",
   "execution_count": 199,
   "id": "8dc67d73",
   "metadata": {},
   "outputs": [],
   "source": [
    "rv = stats.bernoulli(p)"
   ]
  },
  {
   "cell_type": "code",
   "execution_count": 200,
   "id": "fe189217",
   "metadata": {},
   "outputs": [
    {
     "data": {
      "text/plain": [
       "(0.7, 0.3)"
      ]
     },
     "execution_count": 200,
     "metadata": {},
     "output_type": "execute_result"
    }
   ],
   "source": [
    "rv.pmf(0), rv.pmf(1) # Probability Mass Function\n",
    "# 확률 질량함수"
   ]
  },
  {
   "cell_type": "code",
   "execution_count": 201,
   "id": "ce96c22b",
   "metadata": {},
   "outputs": [
    {
     "data": {
      "text/plain": [
       "array([0.7, 0.3])"
      ]
     },
     "execution_count": 201,
     "metadata": {},
     "output_type": "execute_result"
    }
   ],
   "source": [
    "rv.pmf([0, 1])"
   ]
  },
  {
   "cell_type": "code",
   "execution_count": 202,
   "id": "34e7a5c1",
   "metadata": {},
   "outputs": [
    {
     "data": {
      "text/plain": [
       "array([0.7, 1. ])"
      ]
     },
     "execution_count": 202,
     "metadata": {},
     "output_type": "execute_result"
    }
   ],
   "source": [
    "rv.cdf([0, 1]) # Cumulative Mass Function\n",
    "# 확률 누적함수 / 끝으로 갈수록 1에 가까워짐"
   ]
  },
  {
   "cell_type": "code",
   "execution_count": 109,
   "id": "7de8edcc",
   "metadata": {},
   "outputs": [
    {
     "data": {
      "text/plain": [
       "(0.3, 0.21)"
      ]
     },
     "execution_count": 109,
     "metadata": {},
     "output_type": "execute_result"
    }
   ],
   "source": [
    "rv.mean(), rv.var()"
   ]
  },
  {
   "cell_type": "markdown",
   "id": "b5386f23",
   "metadata": {},
   "source": [
    "#### 이항분포\n",
    "- 성공확률이 p인 베르누이 시행을 n번 했을 때의 성공 횟수가 따르는 분포\n",
    "\n",
    "f(x) = $_{n}\\mathrm{C}_{x}p^{x}(1-p)^{(n-x)}$ $(x \\in \\{0, 1, ..., n\\}$)\n",
    "\n",
    "      0                (otherwise)"
   ]
  },
  {
   "cell_type": "code",
   "execution_count": 110,
   "id": "c06b2046",
   "metadata": {},
   "outputs": [],
   "source": [
    "# [과제] 사용자 함수\n",
    "\n",
    "from scipy.special import comb\n",
    "\n",
    "def Bin(n, p):\n",
    "    x_set = np.arange(n+1)\n",
    "    def f(x):\n",
    "        if x in x_set:\n",
    "            return comb(n, x) * p**x * (1-p)**(n-x)\n",
    "        else:\n",
    "            return 0\n",
    "    return x_set, f"
   ]
  },
  {
   "cell_type": "code",
   "execution_count": null,
   "id": "0a527188",
   "metadata": {},
   "outputs": [],
   "source": [
    "# [과제] 동전을 10번 던져 앞면이 3번 나오는 확률의 이항분포 기대값과 분산"
   ]
  },
  {
   "cell_type": "code",
   "execution_count": null,
   "id": "bd1a119a",
   "metadata": {},
   "outputs": [],
   "source": [
    "# [과제] 상기 이항분포의 확률함수와 기댓값을 시각화"
   ]
  },
  {
   "cell_type": "code",
   "execution_count": null,
   "id": "cda77b91",
   "metadata": {},
   "outputs": [],
   "source": [
    "# [과제] 확률이 0.3, 0.5, 0.7로 변할 때 확률함수가 변하는 모습을 시각화"
   ]
  },
  {
   "cell_type": "markdown",
   "id": "e141006c",
   "metadata": {},
   "source": [
    "#### 기하분포\n",
    "- 베르누이 시행에서 처음 성공할 때까지 반복한 시행 횟수가 따르는 분포\n",
    "- 기하분포의 파라미터는 베르누이 시행의 성공 확률 파라미터 p가 되며 파라미터 p의 기하분포를 Ge(p)로 표기\n",
    "\n",
    "f(x) = $(1-p)^{x-1}p$ $(x \\in \\{1, 2, 3, ...\\})$\n",
    "\n",
    "      0          (otherwise)\n",
    "- 기하분포의 기댓값과 분산: $E(X) = 1/p$, $V(X) = (1-p)/p^2$"
   ]
  },
  {
   "cell_type": "code",
   "execution_count": null,
   "id": "9b4e7bb9",
   "metadata": {},
   "outputs": [],
   "source": [
    "# [과제] 사용자 함수 구하기(단, 확률변수를 1 이상 29 이하인 정수로 설정)\n",
    "\n",
    "def Ge(p):\n",
    "    "
   ]
  },
  {
   "cell_type": "code",
   "execution_count": null,
   "id": "940b390c",
   "metadata": {},
   "outputs": [],
   "source": [
    "# [과제] 성공확률이 0.5일 때 기하분포의 기댓값과 분산"
   ]
  },
  {
   "cell_type": "code",
   "execution_count": null,
   "id": "bdd1abbe",
   "metadata": {},
   "outputs": [],
   "source": [
    "# [과제] 상기 기하분포의 확률함수와 기댓값 시각화"
   ]
  },
  {
   "cell_type": "code",
   "execution_count": null,
   "id": "bbeaf081",
   "metadata": {},
   "outputs": [],
   "source": [
    "# [과제] 성공확률이 0.2, 0.5, 0.8로 변할 때 확률함수가 변하는 모습을 시각화"
   ]
  },
  {
   "cell_type": "markdown",
   "id": "616f160d",
   "metadata": {},
   "source": [
    "#### 포아송 분포\n",
    "- 임의의 사건이 단위 시간당 발생하는 건수가 따르는 확률분포이며 포아송 분포의 파라미터는 $\\lambda$로 나타낸다.\n",
    "- 하루에 평균 2건의 교통사고가 발생하는 지역에서 하루 교통사고 발생건수는 Poi(2)를 따른다.\n",
    "\n",
    "$P(X=0) = 2^0/0! * e^{-2} = 0.135$\n",
    "- 포아송 분포의 기댓값과 분산은 모두 $\\lambda$가 된다.\n",
    "\n",
    "$f(x) = \\lambda^x/x! * e^{-\\lambda}$ $(x \\in \\{0, 1, 2, ...\\})$\n",
    "\n",
    "          0        (otherwise)"
   ]
  },
  {
   "cell_type": "code",
   "execution_count": null,
   "id": "f6c7cf3f",
   "metadata": {},
   "outputs": [],
   "source": [
    "# [과제] 사용자 함수 구하기(단, 확률변수를 1 이상 19 이하인 정수로 설정)\n",
    "\n",
    "def Poi(lam):\n",
    "    "
   ]
  },
  {
   "cell_type": "code",
   "execution_count": null,
   "id": "4b98b2ac",
   "metadata": {},
   "outputs": [],
   "source": [
    "# [과제] 𝜆가 0.3일 때 포아송분포의 기댓값과 분산"
   ]
  },
  {
   "cell_type": "code",
   "execution_count": null,
   "id": "c7d08fd7",
   "metadata": {},
   "outputs": [],
   "source": [
    "# [과제] 상기 포아송분포의 확률함수와 기댓값을 시각화"
   ]
  },
  {
   "cell_type": "code",
   "execution_count": null,
   "id": "1d27c16f",
   "metadata": {},
   "outputs": [],
   "source": [
    "# [과제] 𝜆가 3, 5, 8로 변할 때 확률함수가 변하는 모습을 시각화"
   ]
  },
  {
   "cell_type": "code",
   "execution_count": null,
   "id": "daf2df1c",
   "metadata": {},
   "outputs": [],
   "source": [
    "# [과제] 베르누이, 이항, 기하, 포아송분포의 사례를 각각 2개씩 제시"
   ]
  },
  {
   "cell_type": "code",
   "execution_count": null,
   "id": "3bf41ac6",
   "metadata": {},
   "outputs": [],
   "source": []
  },
  {
   "cell_type": "code",
   "execution_count": null,
   "id": "462cb4c5",
   "metadata": {},
   "outputs": [],
   "source": []
  },
  {
   "cell_type": "code",
   "execution_count": null,
   "id": "66a135e0",
   "metadata": {},
   "outputs": [],
   "source": []
  },
  {
   "cell_type": "code",
   "execution_count": null,
   "id": "78b582d4",
   "metadata": {},
   "outputs": [],
   "source": []
  }
 ],
 "metadata": {
  "kernelspec": {
   "display_name": "Python 3 (ipykernel)",
   "language": "python",
   "name": "python3"
  },
  "language_info": {
   "codemirror_mode": {
    "name": "ipython",
    "version": 3
   },
   "file_extension": ".py",
   "mimetype": "text/x-python",
   "name": "python",
   "nbconvert_exporter": "python",
   "pygments_lexer": "ipython3",
   "version": "3.8.12"
  }
 },
 "nbformat": 4,
 "nbformat_minor": 5
}
